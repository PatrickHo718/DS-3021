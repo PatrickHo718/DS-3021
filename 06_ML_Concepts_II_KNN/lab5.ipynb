{
 "cells": [
  {
   "cell_type": "markdown",
   "metadata": {},
   "source": [
    "# Lab 5 - Grad Lab"
   ]
  },
  {
   "cell_type": "markdown",
   "metadata": {},
   "source": [
    "## Question: How does a KNN model predict if a college can predict college completion for students? "
   ]
  },
  {
   "cell_type": "markdown",
   "metadata": {},
   "source": [
    "### Cleaning Data"
   ]
  },
  {
   "cell_type": "markdown",
   "metadata": {},
   "source": [
    "#### Import Data"
   ]
  },
  {
   "cell_type": "code",
   "execution_count": 62,
   "metadata": {},
   "outputs": [
    {
     "name": "stdout",
     "output_type": "stream",
     "text": [
      "<class 'pandas.core.frame.DataFrame'>\n",
      "RangeIndex: 3798 entries, 0 to 3797\n",
      "Data columns (total 62 columns):\n",
      " #   Column                                Non-Null Count  Dtype  \n",
      "---  ------                                --------------  -----  \n",
      " 0   unitid                                3798 non-null   int64  \n",
      " 1   chronname                             3798 non-null   object \n",
      " 2   city                                  3798 non-null   object \n",
      " 3   state                                 3798 non-null   object \n",
      " 4   level                                 3798 non-null   object \n",
      " 5   control                               3798 non-null   object \n",
      " 6   basic                                 3798 non-null   object \n",
      " 7   hbcu                                  94 non-null     object \n",
      " 8   flagship                              50 non-null     object \n",
      " 9   long_x                                3798 non-null   float64\n",
      " 10  lat_y                                 3798 non-null   float64\n",
      " 11  site                                  3779 non-null   object \n",
      " 12  student_count                         3798 non-null   int64  \n",
      " 13  awards_per_value                      3798 non-null   float64\n",
      " 14  awards_per_state_value                3798 non-null   float64\n",
      " 15  awards_per_natl_value                 3798 non-null   float64\n",
      " 16  exp_award_value                       3798 non-null   int64  \n",
      " 17  exp_award_state_value                 3798 non-null   int64  \n",
      " 18  exp_award_natl_value                  3798 non-null   int64  \n",
      " 19  exp_award_percentile                  3798 non-null   int64  \n",
      " 20  ft_pct                                3794 non-null   float64\n",
      " 21  fte_value                             3798 non-null   int64  \n",
      " 22  fte_percentile                        3798 non-null   int64  \n",
      " 23  med_sat_value                         1337 non-null   float64\n",
      " 24  med_sat_percentile                    1337 non-null   float64\n",
      " 25  aid_value                             3797 non-null   float64\n",
      " 26  aid_percentile                        3797 non-null   float64\n",
      " 27  endow_value                           2323 non-null   float64\n",
      " 28  endow_percentile                      2323 non-null   float64\n",
      " 29  grad_100_value                        3467 non-null   float64\n",
      " 30  grad_100_percentile                   3467 non-null   float64\n",
      " 31  grad_150_value                        3467 non-null   float64\n",
      " 32  grad_150_percentile                   3467 non-null   float64\n",
      " 33  pell_value                            3797 non-null   float64\n",
      " 34  pell_percentile                       3797 non-null   float64\n",
      " 35  retain_value                          3535 non-null   float64\n",
      " 36  retain_percentile                     3535 non-null   float64\n",
      " 37  ft_fac_value                          3785 non-null   float64\n",
      " 38  ft_fac_percentile                     3785 non-null   float64\n",
      " 39  vsa_year                              279 non-null    float64\n",
      " 40  vsa_grad_after4_first                 279 non-null    float64\n",
      " 41  vsa_grad_elsewhere_after4_first       279 non-null    float64\n",
      " 42  vsa_enroll_after4_first               279 non-null    float64\n",
      " 43  vsa_enroll_elsewhere_after4_first     279 non-null    float64\n",
      " 44  vsa_grad_after6_first                 279 non-null    float64\n",
      " 45  vsa_grad_elsewhere_after6_first       279 non-null    float64\n",
      " 46  vsa_enroll_after6_first               279 non-null    float64\n",
      " 47  vsa_enroll_elsewhere_after6_first     279 non-null    float64\n",
      " 48  vsa_grad_after4_transfer              270 non-null    float64\n",
      " 49  vsa_grad_elsewhere_after4_transfer    270 non-null    float64\n",
      " 50  vsa_enroll_after4_transfer            270 non-null    float64\n",
      " 51  vsa_enroll_elsewhere_after4_transfer  270 non-null    float64\n",
      " 52  vsa_grad_after6_transfer              270 non-null    float64\n",
      " 53  vsa_grad_elsewhere_after6_transfer    270 non-null    float64\n",
      " 54  vsa_enroll_after6_transfer            270 non-null    float64\n",
      " 55  vsa_enroll_elsewhere_after6_transfer  270 non-null    float64\n",
      " 56  similar                               3579 non-null   object \n",
      " 57  state_sector_ct                       3798 non-null   int64  \n",
      " 58  carnegie_ct                           3798 non-null   int64  \n",
      " 59  counted_pct                           3372 non-null   object \n",
      " 60  nicknames                             310 non-null    object \n",
      " 61  cohort_size                           3467 non-null   float64\n",
      "dtypes: float64(40), int64(10), object(12)\n",
      "memory usage: 1.8+ MB\n"
     ]
    }
   ],
   "source": [
    "import pandas as pd\n",
    "\n",
    "grad_data = pd.read_csv('https://query.data.world/s/qpi2ltkz23yp2fcaz4jmlrskjx5qnp', encoding=\"cp1252\")\n",
    "grad_data.info()"
   ]
  },
  {
   "cell_type": "markdown",
   "metadata": {},
   "source": [
    "#### Dropping Variables "
   ]
  },
  {
   "cell_type": "code",
   "execution_count": 63,
   "metadata": {},
   "outputs": [
    {
     "name": "stdout",
     "output_type": "stream",
     "text": [
      "                             chronname   level                 control hbcu  \\\n",
      "0               Alabama A&M University  4-year                  Public    X   \n",
      "1  University of Alabama at Birmingham  4-year                  Public  NaN   \n",
      "2                   Amridge University  4-year  Private not-for-profit  NaN   \n",
      "3  University of Alabama at Huntsville  4-year                  Public  NaN   \n",
      "4             Alabama State University  4-year                  Public    X   \n",
      "\n",
      "   student_count  awards_per_value  exp_award_value  exp_award_percentile  \\\n",
      "0           4051              14.2           105331                    90   \n",
      "1          11502              20.9           136546                    97   \n",
      "2            322              29.9            58414                    30   \n",
      "3           5696              20.9            64418                    61   \n",
      "4           5356              11.6           132407                    96   \n",
      "\n",
      "   ft_pct  fte_percentile  med_sat_value  aid_value  grad_100_value  \\\n",
      "0    93.8              33          823.0     7142.0            10.0   \n",
      "1    72.7              67         1146.0     6088.0            29.4   \n",
      "2    62.7              12            NaN     2540.0             0.0   \n",
      "3    74.4              40         1180.0     6647.0            16.5   \n",
      "4    91.0              41          830.0     7256.0             8.8   \n",
      "\n",
      "   grad_100_percentile  grad_150_value  grad_150_percentile  pell_value  \\\n",
      "0                 15.0            29.1                 14.0        71.2   \n",
      "1                 67.0            53.5                 66.0        35.1   \n",
      "2                  0.0            66.7                 72.0        68.4   \n",
      "3                 34.0            48.4                 54.0        32.8   \n",
      "4                 11.0            25.2                  9.0        82.7   \n",
      "\n",
      "   retain_value  ft_fac_value  cohort_size  \n",
      "0          63.1          82.8        882.0  \n",
      "1          80.2          92.4       1376.0  \n",
      "2          37.5          67.2          3.0  \n",
      "3          81.0          65.5        759.0  \n",
      "4          62.2          67.0       1351.0  \n"
     ]
    }
   ],
   "source": [
    "# variables that don't look predictive \n",
    "to_drop = list(range(39, 56))\n",
    "to_drop.extend([27, 9, 10, 11, 28, 36, 60, 56])\n",
    "grad_data1 = grad_data.drop(grad_data.columns[to_drop], axis=1)\n",
    "drop_more = [0,2,3,6,8,11,12,14,15,18,21,23,29,32,33,34,35]\n",
    "grad_data2 = grad_data1.drop(grad_data1.columns[drop_more], axis=1)\n",
    "print(grad_data2.head())"
   ]
  },
  {
   "cell_type": "markdown",
   "metadata": {},
   "source": [
    "#### Variables to Factors "
   ]
  },
  {
   "cell_type": "code",
   "execution_count": 64,
   "metadata": {},
   "outputs": [
    {
     "name": "stdout",
     "output_type": "stream",
     "text": [
      "<class 'pandas.core.frame.DataFrame'>\n",
      "RangeIndex: 3798 entries, 0 to 3797\n",
      "Data columns (total 20 columns):\n",
      " #   Column                Non-Null Count  Dtype   \n",
      "---  ------                --------------  -----   \n",
      " 0   chronname             3798 non-null   object  \n",
      " 1   level                 3798 non-null   category\n",
      " 2   control               3798 non-null   category\n",
      " 3   hbcu                  3798 non-null   category\n",
      " 4   student_count         3798 non-null   int64   \n",
      " 5   awards_per_value      3798 non-null   float64 \n",
      " 6   exp_award_value       3798 non-null   int64   \n",
      " 7   exp_award_percentile  3798 non-null   int64   \n",
      " 8   ft_pct                3794 non-null   float64 \n",
      " 9   fte_percentile        3798 non-null   int64   \n",
      " 10  med_sat_value         1337 non-null   float64 \n",
      " 11  aid_value             3797 non-null   float64 \n",
      " 12  grad_100_value        3467 non-null   float64 \n",
      " 13  grad_100_percentile   3467 non-null   float64 \n",
      " 14  grad_150_value        3467 non-null   float64 \n",
      " 15  grad_150_percentile   3467 non-null   float64 \n",
      " 16  pell_value            3797 non-null   float64 \n",
      " 17  retain_value          3535 non-null   float64 \n",
      " 18  ft_fac_value          3785 non-null   float64 \n",
      " 19  cohort_size           3467 non-null   float64 \n",
      "dtypes: category(3), float64(12), int64(4), object(1)\n",
      "memory usage: 516.0+ KB\n"
     ]
    }
   ],
   "source": [
    "import numpy as np\n",
    "grad_data2.replace('NULL', np.nan, inplace=True)\n",
    "grad_data2['hbcu'] = [1 if grad_data2['hbcu'][i]=='X' else 0 for i in range(len(grad_data2['hbcu']))]\n",
    "grad_data2['hbcu'].value_counts()\n",
    "grad_data2['hbcu'] = grad_data2.hbcu.astype('category')\n",
    "grad_data2[['level', 'control']] = grad_data2[['level', 'control']].astype('category')\n",
    "grad_data2.info()"
   ]
  },
  {
   "cell_type": "markdown",
   "metadata": {},
   "source": [
    "#### Graphing Missing Values "
   ]
  },
  {
   "cell_type": "code",
   "execution_count": 65,
   "metadata": {},
   "outputs": [
    {
     "data": {
      "text/plain": [
       "<seaborn.axisgrid.FacetGrid at 0x7f8879103410>"
      ]
     },
     "execution_count": 65,
     "metadata": {},
     "output_type": "execute_result"
    },
    {
     "data": {
      "image/png": "[encoded data removed]",
      "text/plain": [
       "<Figure size 709.875x500 with 1 Axes>"
      ]
     },
     "metadata": {},
     "output_type": "display_data"
    }
   ],
   "source": [
    "import seaborn as sns\n",
    "\n",
    "sns.displot(\n",
    "    data=grad_data2.isna().melt(value_name=\"missing\"),\n",
    "    y=\"variable\",\n",
    "    hue=\"missing\",\n",
    "    multiple=\"fill\",\n",
    "    aspect=1.25\n",
    ")"
   ]
  },
  {
   "cell_type": "markdown",
   "metadata": {},
   "source": [
    "#### Dropping Med_Sat_Value and Missing Values"
   ]
  },
  {
   "cell_type": "code",
   "execution_count": 66,
   "metadata": {},
   "outputs": [
    {
     "data": {
      "text/plain": [
       "<seaborn.axisgrid.FacetGrid at 0x7f887471caa0>"
      ]
     },
     "execution_count": 66,
     "metadata": {},
     "output_type": "execute_result"
    },
    {
     "data": {
      "image/png": "[encoded data removed]",
      "text/plain": [
       "<Figure size 709.875x500 with 1 Axes>"
      ]
     },
     "metadata": {},
     "output_type": "display_data"
    }
   ],
   "source": [
    "grad_data2 = grad_data2.drop(columns=['med_sat_value', 'chronname']) # drop object \n",
    "grad_data2.dropna(axis = 0, how = 'any', inplace = True)\n",
    "sns.displot(\n",
    "    data=grad_data2.isna().melt(value_name=\"missing\"),\n",
    "    y=\"variable\",\n",
    "    hue=\"missing\",\n",
    "    multiple=\"fill\",\n",
    "    aspect=1.25\n",
    ")"
   ]
  },
  {
   "cell_type": "markdown",
   "metadata": {},
   "source": [
    "### 2. Build a kNN model to predict your target variable using 3 nearest neighbors. Make sure it is a classification problem, meaning if needed changed the target variable."
   ]
  },
  {
   "cell_type": "markdown",
   "metadata": {},
   "source": [
    "#### Target Variable "
   ]
  },
  {
   "cell_type": "code",
   "execution_count": 67,
   "metadata": {},
   "outputs": [],
   "source": [
    "median_grad = grad_data2[\"grad_150_value\"].median()\n",
    "higher_threshold = median_grad * 1.10\n",
    "grad_data2[\"grad_150_class\"] = (grad_data2[\"grad_150_value\"] >= higher_threshold).astype('category')\n",
    "grad_data2.drop(columns=['grad_150_value'], inplace=True)"
   ]
  },
  {
   "cell_type": "markdown",
   "metadata": {},
   "source": [
    "#### Normalize Numeric Values "
   ]
  },
  {
   "cell_type": "code",
   "execution_count": 68,
   "metadata": {},
   "outputs": [
    {
     "data": {
      "application/vnd.microsoft.datawrangler.viewer.v0+json": {
       "columns": [
        {
         "name": "index",
         "rawType": "object",
         "type": "string"
        },
        {
         "name": "student_count",
         "rawType": "float64",
         "type": "float"
        },
        {
         "name": "awards_per_value",
         "rawType": "float64",
         "type": "float"
        },
        {
         "name": "exp_award_value",
         "rawType": "float64",
         "type": "float"
        },
        {
         "name": "exp_award_percentile",
         "rawType": "float64",
         "type": "float"
        },
        {
         "name": "ft_pct",
         "rawType": "float64",
         "type": "float"
        },
        {
         "name": "fte_percentile",
         "rawType": "float64",
         "type": "float"
        },
        {
         "name": "aid_value",
         "rawType": "float64",
         "type": "float"
        },
        {
         "name": "grad_100_value",
         "rawType": "float64",
         "type": "float"
        },
        {
         "name": "grad_100_percentile",
         "rawType": "float64",
         "type": "float"
        },
        {
         "name": "grad_150_percentile",
         "rawType": "float64",
         "type": "float"
        },
        {
         "name": "pell_value",
         "rawType": "float64",
         "type": "float"
        },
        {
         "name": "retain_value",
         "rawType": "float64",
         "type": "float"
        },
        {
         "name": "ft_fac_value",
         "rawType": "float64",
         "type": "float"
        },
        {
         "name": "cohort_size",
         "rawType": "float64",
         "type": "float"
        }
       ],
       "conversionMethod": "pd.DataFrame",
       "ref": "de224016-d0ef-45c1-92d1-aac3fb24c31d",
       "rows": [
        [
         "count",
         "3083.0",
         "3083.0",
         "3083.0",
         "3083.0",
         "3083.0",
         "3083.0",
         "3083.0",
         "3083.0",
         "3083.0",
         "3083.0",
         "3083.0",
         "3083.0",
         "3083.0",
         "3083.0"
        ],
        [
         "mean",
         "0.028537641397111863",
         "0.16841280966263147",
         "0.0129888504229472",
         "0.5213947453778787",
         "0.7039917109654377",
         "0.5165877392150502",
         "0.19733600740098156",
         "0.28683457671099577",
         "0.4747129419396691",
         "0.49432371067142394",
         "0.4528121959130717",
         "0.6678696075251378",
         "0.4723175478430101",
         "0.04246455652108284"
        ],
        [
         "std",
         "0.044812414268716405",
         "0.07490676477905098",
         "0.022193322963627197",
         "0.2862570344030951",
         "0.2591930537204233",
         "0.28851726781522247",
         "0.1628574212369514",
         "0.23157444890187237",
         "0.30249354198737477",
         "0.2920613401169329",
         "0.19214791939320128",
         "0.1587876681306362",
         "0.24140062191259243",
         "0.06044072238225096"
        ],
        [
         "min",
         "0.0",
         "0.0",
         "0.0",
         "0.0",
         "0.006237006237006237",
         "0.0",
         "0.0",
         "0.0",
         "0.0",
         "0.0",
         "0.0",
         "0.0",
         "0.0",
         "0.0"
        ],
        [
         "25%",
         "0.004593789126562858",
         "0.12633996937212866",
         "0.006494298190396045",
         "0.28",
         "0.47661122661122657",
         "0.27",
         "0.09222254517269778",
         "0.094",
         "0.21",
         "0.24",
         "0.315",
         "0.5645",
         "0.281",
         "0.009613014542765589"
        ],
        [
         "50%",
         "0.012326520535383639",
         "0.15696784073506892",
         "0.01004431007015209",
         "0.53",
         "0.7765072765072765",
         "0.53",
         "0.12730707745967157",
         "0.231",
         "0.47000000000000003",
         "0.49",
         "0.42700000000000005",
         "0.672",
         "0.444",
         "0.023169829923588858"
        ],
        [
         "75%",
         "0.033902340099105935",
         "0.1891271056661562",
         "0.015248305833196866",
         "0.77",
         "0.9376299376299376",
         "0.77",
         "0.25434772077701884",
         "0.438",
         "0.74",
         "0.75",
         "0.5750000000000001",
         "0.7809999999999999",
         "0.6459999999999999",
         "0.05062238106975597"
        ],
        [
         "max",
         "1.0",
         "1.0",
         "1.0",
         "1.0",
         "0.9999999999999999",
         "1.0",
         "1.0",
         "1.0",
         "1.0",
         "1.0",
         "1.0",
         "1.0",
         "1.0",
         "1.0"
        ]
       ],
       "shape": {
        "columns": 14,
        "rows": 8
       }
      },
      "text/html": [
       "<div>\n",
       "<style scoped>\n",
       "    .dataframe tbody tr th:only-of-type {\n",
       "        vertical-align: middle;\n",
       "    }\n",
       "\n",
       "    .dataframe tbody tr th {\n",
       "        vertical-align: top;\n",
       "    }\n",
       "\n",
       "    .dataframe thead th {\n",
       "        text-align: right;\n",
       "    }\n",
       "</style>\n",
       "<table border=\"1\" class=\"dataframe\">\n",
       "  <thead>\n",
       "    <tr style=\"text-align: right;\">\n",
       "      <th></th>\n",
       "      <th>student_count</th>\n",
       "      <th>awards_per_value</th>\n",
       "      <th>exp_award_value</th>\n",
       "      <th>exp_award_percentile</th>\n",
       "      <th>ft_pct</th>\n",
       "      <th>fte_percentile</th>\n",
       "      <th>aid_value</th>\n",
       "      <th>grad_100_value</th>\n",
       "      <th>grad_100_percentile</th>\n",
       "      <th>grad_150_percentile</th>\n",
       "      <th>pell_value</th>\n",
       "      <th>retain_value</th>\n",
       "      <th>ft_fac_value</th>\n",
       "      <th>cohort_size</th>\n",
       "    </tr>\n",
       "  </thead>\n",
       "  <tbody>\n",
       "    <tr>\n",
       "      <th>count</th>\n",
       "      <td>3083.000000</td>\n",
       "      <td>3083.000000</td>\n",
       "      <td>3083.000000</td>\n",
       "      <td>3083.000000</td>\n",
       "      <td>3083.000000</td>\n",
       "      <td>3083.000000</td>\n",
       "      <td>3083.000000</td>\n",
       "      <td>3083.000000</td>\n",
       "      <td>3083.000000</td>\n",
       "      <td>3083.000000</td>\n",
       "      <td>3083.000000</td>\n",
       "      <td>3083.000000</td>\n",
       "      <td>3083.000000</td>\n",
       "      <td>3083.000000</td>\n",
       "    </tr>\n",
       "    <tr>\n",
       "      <th>mean</th>\n",
       "      <td>0.028538</td>\n",
       "      <td>0.168413</td>\n",
       "      <td>0.012989</td>\n",
       "      <td>0.521395</td>\n",
       "      <td>0.703992</td>\n",
       "      <td>0.516588</td>\n",
       "      <td>0.197336</td>\n",
       "      <td>0.286835</td>\n",
       "      <td>0.474713</td>\n",
       "      <td>0.494324</td>\n",
       "      <td>0.452812</td>\n",
       "      <td>0.667870</td>\n",
       "      <td>0.472318</td>\n",
       "      <td>0.042465</td>\n",
       "    </tr>\n",
       "    <tr>\n",
       "      <th>std</th>\n",
       "      <td>0.044812</td>\n",
       "      <td>0.074907</td>\n",
       "      <td>0.022193</td>\n",
       "      <td>0.286257</td>\n",
       "      <td>0.259193</td>\n",
       "      <td>0.288517</td>\n",
       "      <td>0.162857</td>\n",
       "      <td>0.231574</td>\n",
       "      <td>0.302494</td>\n",
       "      <td>0.292061</td>\n",
       "      <td>0.192148</td>\n",
       "      <td>0.158788</td>\n",
       "      <td>0.241401</td>\n",
       "      <td>0.060441</td>\n",
       "    </tr>\n",
       "    <tr>\n",
       "      <th>min</th>\n",
       "      <td>0.000000</td>\n",
       "      <td>0.000000</td>\n",
       "      <td>0.000000</td>\n",
       "      <td>0.000000</td>\n",
       "      <td>0.006237</td>\n",
       "      <td>0.000000</td>\n",
       "      <td>0.000000</td>\n",
       "      <td>0.000000</td>\n",
       "      <td>0.000000</td>\n",
       "      <td>0.000000</td>\n",
       "      <td>0.000000</td>\n",
       "      <td>0.000000</td>\n",
       "      <td>0.000000</td>\n",
       "      <td>0.000000</td>\n",
       "    </tr>\n",
       "    <tr>\n",
       "      <th>25%</th>\n",
       "      <td>0.004594</td>\n",
       "      <td>0.126340</td>\n",
       "      <td>0.006494</td>\n",
       "      <td>0.280000</td>\n",
       "      <td>0.476611</td>\n",
       "      <td>0.270000</td>\n",
       "      <td>0.092223</td>\n",
       "      <td>0.094000</td>\n",
       "      <td>0.210000</td>\n",
       "      <td>0.240000</td>\n",
       "      <td>0.315000</td>\n",
       "      <td>0.564500</td>\n",
       "      <td>0.281000</td>\n",
       "      <td>0.009613</td>\n",
       "    </tr>\n",
       "    <tr>\n",
       "      <th>50%</th>\n",
       "      <td>0.012327</td>\n",
       "      <td>0.156968</td>\n",
       "      <td>0.010044</td>\n",
       "      <td>0.530000</td>\n",
       "      <td>0.776507</td>\n",
       "      <td>0.530000</td>\n",
       "      <td>0.127307</td>\n",
       "      <td>0.231000</td>\n",
       "      <td>0.470000</td>\n",
       "      <td>0.490000</td>\n",
       "      <td>0.427000</td>\n",
       "      <td>0.672000</td>\n",
       "      <td>0.444000</td>\n",
       "      <td>0.023170</td>\n",
       "    </tr>\n",
       "    <tr>\n",
       "      <th>75%</th>\n",
       "      <td>0.033902</td>\n",
       "      <td>0.189127</td>\n",
       "      <td>0.015248</td>\n",
       "      <td>0.770000</td>\n",
       "      <td>0.937630</td>\n",
       "      <td>0.770000</td>\n",
       "      <td>0.254348</td>\n",
       "      <td>0.438000</td>\n",
       "      <td>0.740000</td>\n",
       "      <td>0.750000</td>\n",
       "      <td>0.575000</td>\n",
       "      <td>0.781000</td>\n",
       "      <td>0.646000</td>\n",
       "      <td>0.050622</td>\n",
       "    </tr>\n",
       "    <tr>\n",
       "      <th>max</th>\n",
       "      <td>1.000000</td>\n",
       "      <td>1.000000</td>\n",
       "      <td>1.000000</td>\n",
       "      <td>1.000000</td>\n",
       "      <td>1.000000</td>\n",
       "      <td>1.000000</td>\n",
       "      <td>1.000000</td>\n",
       "      <td>1.000000</td>\n",
       "      <td>1.000000</td>\n",
       "      <td>1.000000</td>\n",
       "      <td>1.000000</td>\n",
       "      <td>1.000000</td>\n",
       "      <td>1.000000</td>\n",
       "      <td>1.000000</td>\n",
       "    </tr>\n",
       "  </tbody>\n",
       "</table>\n",
       "</div>"
      ],
      "text/plain": [
       "       student_count  awards_per_value  exp_award_value  exp_award_percentile  \\\n",
       "count    3083.000000       3083.000000      3083.000000           3083.000000   \n",
       "mean        0.028538          0.168413         0.012989              0.521395   \n",
       "std         0.044812          0.074907         0.022193              0.286257   \n",
       "min         0.000000          0.000000         0.000000              0.000000   \n",
       "25%         0.004594          0.126340         0.006494              0.280000   \n",
       "50%         0.012327          0.156968         0.010044              0.530000   \n",
       "75%         0.033902          0.189127         0.015248              0.770000   \n",
       "max         1.000000          1.000000         1.000000              1.000000   \n",
       "\n",
       "            ft_pct  fte_percentile    aid_value  grad_100_value  \\\n",
       "count  3083.000000     3083.000000  3083.000000     3083.000000   \n",
       "mean      0.703992        0.516588     0.197336        0.286835   \n",
       "std       0.259193        0.288517     0.162857        0.231574   \n",
       "min       0.006237        0.000000     0.000000        0.000000   \n",
       "25%       0.476611        0.270000     0.092223        0.094000   \n",
       "50%       0.776507        0.530000     0.127307        0.231000   \n",
       "75%       0.937630        0.770000     0.254348        0.438000   \n",
       "max       1.000000        1.000000     1.000000        1.000000   \n",
       "\n",
       "       grad_100_percentile  grad_150_percentile   pell_value  retain_value  \\\n",
       "count          3083.000000          3083.000000  3083.000000   3083.000000   \n",
       "mean              0.474713             0.494324     0.452812      0.667870   \n",
       "std               0.302494             0.292061     0.192148      0.158788   \n",
       "min               0.000000             0.000000     0.000000      0.000000   \n",
       "25%               0.210000             0.240000     0.315000      0.564500   \n",
       "50%               0.470000             0.490000     0.427000      0.672000   \n",
       "75%               0.740000             0.750000     0.575000      0.781000   \n",
       "max               1.000000             1.000000     1.000000      1.000000   \n",
       "\n",
       "       ft_fac_value  cohort_size  \n",
       "count   3083.000000  3083.000000  \n",
       "mean       0.472318     0.042465  \n",
       "std        0.241401     0.060441  \n",
       "min        0.000000     0.000000  \n",
       "25%        0.281000     0.009613  \n",
       "50%        0.444000     0.023170  \n",
       "75%        0.646000     0.050622  \n",
       "max        1.000000     1.000000  "
      ]
     },
     "execution_count": 68,
     "metadata": {},
     "output_type": "execute_result"
    }
   ],
   "source": [
    "from sklearn import preprocessing\n",
    "\n",
    "numeric_cols = grad_data2.select_dtypes(include=['int64', 'float64']).columns\n",
    "\n",
    "scaler = preprocessing.MinMaxScaler()\n",
    "d = scaler.fit_transform(grad_data2[numeric_cols])   # conduct data transformation\n",
    "scaled_df = pd.DataFrame(d, columns=numeric_cols)  \n",
    "grad_data2[numeric_cols] = scaled_df  \n",
    "grad_data2.describe()"
   ]
  },
  {
   "cell_type": "markdown",
   "metadata": {},
   "source": [
    "#### Onehot Encode "
   ]
  },
  {
   "cell_type": "code",
   "execution_count": 69,
   "metadata": {},
   "outputs": [
    {
     "data": {
      "application/vnd.microsoft.datawrangler.viewer.v0+json": {
       "columns": [
        {
         "name": "index",
         "rawType": "int64",
         "type": "integer"
        },
        {
         "name": "level_2-year",
         "rawType": "bool",
         "type": "boolean"
        },
        {
         "name": "level_4-year",
         "rawType": "bool",
         "type": "boolean"
        },
        {
         "name": "control_Private for-profit",
         "rawType": "bool",
         "type": "boolean"
        },
        {
         "name": "control_Private not-for-profit",
         "rawType": "bool",
         "type": "boolean"
        },
        {
         "name": "control_Public",
         "rawType": "bool",
         "type": "boolean"
        },
        {
         "name": "hbcu_0",
         "rawType": "bool",
         "type": "boolean"
        },
        {
         "name": "hbcu_1",
         "rawType": "bool",
         "type": "boolean"
        },
        {
         "name": "grad_150_class_False",
         "rawType": "bool",
         "type": "boolean"
        },
        {
         "name": "grad_150_class_True",
         "rawType": "bool",
         "type": "boolean"
        }
       ],
       "conversionMethod": "pd.DataFrame",
       "ref": "fee18a2f-c51d-45fa-bc48-bc8ee8694c66",
       "rows": [
        [
         "0",
         "False",
         "True",
         "False",
         "False",
         "True",
         "False",
         "True",
         "True",
         "False"
        ],
        [
         "1",
         "False",
         "True",
         "False",
         "False",
         "True",
         "True",
         "False",
         "False",
         "True"
        ],
        [
         "2",
         "False",
         "True",
         "False",
         "True",
         "False",
         "True",
         "False",
         "False",
         "True"
        ],
        [
         "3",
         "False",
         "True",
         "False",
         "False",
         "True",
         "True",
         "False",
         "False",
         "True"
        ],
        [
         "4",
         "False",
         "True",
         "False",
         "False",
         "True",
         "False",
         "True",
         "True",
         "False"
        ]
       ],
       "shape": {
        "columns": 9,
        "rows": 5
       }
      },
      "text/html": [
       "<div>\n",
       "<style scoped>\n",
       "    .dataframe tbody tr th:only-of-type {\n",
       "        vertical-align: middle;\n",
       "    }\n",
       "\n",
       "    .dataframe tbody tr th {\n",
       "        vertical-align: top;\n",
       "    }\n",
       "\n",
       "    .dataframe thead th {\n",
       "        text-align: right;\n",
       "    }\n",
       "</style>\n",
       "<table border=\"1\" class=\"dataframe\">\n",
       "  <thead>\n",
       "    <tr style=\"text-align: right;\">\n",
       "      <th></th>\n",
       "      <th>level_2-year</th>\n",
       "      <th>level_4-year</th>\n",
       "      <th>control_Private for-profit</th>\n",
       "      <th>control_Private not-for-profit</th>\n",
       "      <th>control_Public</th>\n",
       "      <th>hbcu_0</th>\n",
       "      <th>hbcu_1</th>\n",
       "      <th>grad_150_class_False</th>\n",
       "      <th>grad_150_class_True</th>\n",
       "    </tr>\n",
       "  </thead>\n",
       "  <tbody>\n",
       "    <tr>\n",
       "      <th>0</th>\n",
       "      <td>False</td>\n",
       "      <td>True</td>\n",
       "      <td>False</td>\n",
       "      <td>False</td>\n",
       "      <td>True</td>\n",
       "      <td>False</td>\n",
       "      <td>True</td>\n",
       "      <td>True</td>\n",
       "      <td>False</td>\n",
       "    </tr>\n",
       "    <tr>\n",
       "      <th>1</th>\n",
       "      <td>False</td>\n",
       "      <td>True</td>\n",
       "      <td>False</td>\n",
       "      <td>False</td>\n",
       "      <td>True</td>\n",
       "      <td>True</td>\n",
       "      <td>False</td>\n",
       "      <td>False</td>\n",
       "      <td>True</td>\n",
       "    </tr>\n",
       "    <tr>\n",
       "      <th>2</th>\n",
       "      <td>False</td>\n",
       "      <td>True</td>\n",
       "      <td>False</td>\n",
       "      <td>True</td>\n",
       "      <td>False</td>\n",
       "      <td>True</td>\n",
       "      <td>False</td>\n",
       "      <td>False</td>\n",
       "      <td>True</td>\n",
       "    </tr>\n",
       "    <tr>\n",
       "      <th>3</th>\n",
       "      <td>False</td>\n",
       "      <td>True</td>\n",
       "      <td>False</td>\n",
       "      <td>False</td>\n",
       "      <td>True</td>\n",
       "      <td>True</td>\n",
       "      <td>False</td>\n",
       "      <td>False</td>\n",
       "      <td>True</td>\n",
       "    </tr>\n",
       "    <tr>\n",
       "      <th>4</th>\n",
       "      <td>False</td>\n",
       "      <td>True</td>\n",
       "      <td>False</td>\n",
       "      <td>False</td>\n",
       "      <td>True</td>\n",
       "      <td>False</td>\n",
       "      <td>True</td>\n",
       "      <td>True</td>\n",
       "      <td>False</td>\n",
       "    </tr>\n",
       "  </tbody>\n",
       "</table>\n",
       "</div>"
      ],
      "text/plain": [
       "   level_2-year  level_4-year  control_Private for-profit  \\\n",
       "0         False          True                       False   \n",
       "1         False          True                       False   \n",
       "2         False          True                       False   \n",
       "3         False          True                       False   \n",
       "4         False          True                       False   \n",
       "\n",
       "   control_Private not-for-profit  control_Public  hbcu_0  hbcu_1  \\\n",
       "0                           False            True   False    True   \n",
       "1                           False            True    True   False   \n",
       "2                            True           False    True   False   \n",
       "3                           False            True    True   False   \n",
       "4                           False            True   False    True   \n",
       "\n",
       "   grad_150_class_False  grad_150_class_True  \n",
       "0                  True                False  \n",
       "1                 False                 True  \n",
       "2                 False                 True  \n",
       "3                 False                 True  \n",
       "4                  True                False  "
      ]
     },
     "execution_count": 69,
     "metadata": {},
     "output_type": "execute_result"
    }
   ],
   "source": [
    "cat_cols = grad_data2.select_dtypes(include='category').columns\n",
    "\n",
    "encoded = pd.get_dummies(grad_data2[cat_cols])\n",
    "encoded.head()  "
   ]
  },
  {
   "cell_type": "markdown",
   "metadata": {},
   "source": [
    "#### Drop Categorical and Join Encoded Variables "
   ]
  },
  {
   "cell_type": "code",
   "execution_count": 70,
   "metadata": {},
   "outputs": [],
   "source": [
    "grad_data2 = grad_data2.drop(cat_cols, axis=1)\n",
    "grad_data2 = grad_data2.join(encoded)"
   ]
  },
  {
   "cell_type": "code",
   "execution_count": 71,
   "metadata": {},
   "outputs": [
    {
     "name": "stdout",
     "output_type": "stream",
     "text": [
      "<class 'pandas.core.frame.DataFrame'>\n",
      "Index: 3083 entries, 0 to 3369\n",
      "Data columns (total 23 columns):\n",
      " #   Column                          Non-Null Count  Dtype  \n",
      "---  ------                          --------------  -----  \n",
      " 0   student_count                   3083 non-null   float64\n",
      " 1   awards_per_value                3083 non-null   float64\n",
      " 2   exp_award_value                 3083 non-null   float64\n",
      " 3   exp_award_percentile            3083 non-null   float64\n",
      " 4   ft_pct                          3083 non-null   float64\n",
      " 5   fte_percentile                  3083 non-null   float64\n",
      " 6   aid_value                       3083 non-null   float64\n",
      " 7   grad_100_value                  3083 non-null   float64\n",
      " 8   grad_100_percentile             3083 non-null   float64\n",
      " 9   grad_150_percentile             3083 non-null   float64\n",
      " 10  pell_value                      3083 non-null   float64\n",
      " 11  retain_value                    3083 non-null   float64\n",
      " 12  ft_fac_value                    3083 non-null   float64\n",
      " 13  cohort_size                     3083 non-null   float64\n",
      " 14  level_2-year                    3083 non-null   bool   \n",
      " 15  level_4-year                    3083 non-null   bool   \n",
      " 16  control_Private for-profit      3083 non-null   bool   \n",
      " 17  control_Private not-for-profit  3083 non-null   bool   \n",
      " 18  control_Public                  3083 non-null   bool   \n",
      " 19  hbcu_0                          3083 non-null   bool   \n",
      " 20  hbcu_1                          3083 non-null   bool   \n",
      " 21  grad_150_class_False            3083 non-null   bool   \n",
      " 22  grad_150_class_True             3083 non-null   bool   \n",
      "dtypes: bool(9), float64(14)\n",
      "memory usage: 388.4 KB\n",
      "None\n"
     ]
    }
   ],
   "source": [
    "grad_data2.dropna(axis = 0, how = 'any', inplace = True)\n",
    "print(grad_data2.info())"
   ]
  },
  {
   "cell_type": "markdown",
   "metadata": {},
   "source": [
    "#### Prevalence of Public College"
   ]
  },
  {
   "cell_type": "code",
   "execution_count": 72,
   "metadata": {},
   "outputs": [
    {
     "name": "stdout",
     "output_type": "stream",
     "text": [
      "0.43723645799545896\n"
     ]
    },
    {
     "name": "stderr",
     "output_type": "stream",
     "text": [
      "/tmp/ipykernel_890/110911375.py:1: FutureWarning: Series.__getitem__ treating keys as positions is deprecated. In a future version, integer keys will always be treated as labels (consistent with DataFrame behavior). To access a value by position, use `ser.iloc[pos]`\n",
      "  print(grad_data2['grad_150_class_True'].value_counts()[1] / grad_data2['grad_150_class_True'].count())\n"
     ]
    }
   ],
   "source": [
    "print(grad_data2['grad_150_class_True'].value_counts()[1] / grad_data2['grad_150_class_True'].count())\n",
    "# we have 43% chance of predicting the right control"
   ]
  },
  {
   "cell_type": "markdown",
   "metadata": {},
   "source": [
    "#### Train/Test Split"
   ]
  },
  {
   "cell_type": "code",
   "execution_count": 73,
   "metadata": {},
   "outputs": [],
   "source": [
    "from sklearn.model_selection import train_test_split\n",
    "\n",
    "train, test = train_test_split(grad_data2, test_size=0.4, stratify=grad_data2['grad_150_class_True'], random_state=99)\n",
    "test, val = train_test_split(test, test_size=0.4, stratify=test['grad_150_class_True'], random_state=99)"
   ]
  },
  {
   "cell_type": "markdown",
   "metadata": {},
   "source": [
    "#### Training Classifier "
   ]
  },
  {
   "cell_type": "code",
   "execution_count": 74,
   "metadata": {},
   "outputs": [
    {
     "data": {
      "text/html": [
       "<style>#sk-container-id-4 {\n",
       "  /* Definition of color scheme common for light and dark mode */\n",
       "  --sklearn-color-text: #000;\n",
       "  --sklearn-color-text-muted: #666;\n",
       "  --sklearn-color-line: gray;\n",
       "  /* Definition of color scheme for unfitted estimators */\n",
       "  --sklearn-color-unfitted-level-0: #fff5e6;\n",
       "  --sklearn-color-unfitted-level-1: #f6e4d2;\n",
       "  --sklearn-color-unfitted-level-2: #ffe0b3;\n",
       "  --sklearn-color-unfitted-level-3: chocolate;\n",
       "  /* Definition of color scheme for fitted estimators */\n",
       "  --sklearn-color-fitted-level-0: #f0f8ff;\n",
       "  --sklearn-color-fitted-level-1: #d4ebff;\n",
       "  --sklearn-color-fitted-level-2: #b3dbfd;\n",
       "  --sklearn-color-fitted-level-3: cornflowerblue;\n",
       "\n",
       "  /* Specific color for light theme */\n",
       "  --sklearn-color-text-on-default-background: var(--sg-text-color, var(--theme-code-foreground, var(--jp-content-font-color1, black)));\n",
       "  --sklearn-color-background: var(--sg-background-color, var(--theme-background, var(--jp-layout-color0, white)));\n",
       "  --sklearn-color-border-box: var(--sg-text-color, var(--theme-code-foreground, var(--jp-content-font-color1, black)));\n",
       "  --sklearn-color-icon: #696969;\n",
       "\n",
       "  @media (prefers-color-scheme: dark) {\n",
       "    /* Redefinition of color scheme for dark theme */\n",
       "    --sklearn-color-text-on-default-background: var(--sg-text-color, var(--theme-code-foreground, var(--jp-content-font-color1, white)));\n",
       "    --sklearn-color-background: var(--sg-background-color, var(--theme-background, var(--jp-layout-color0, #111)));\n",
       "    --sklearn-color-border-box: var(--sg-text-color, var(--theme-code-foreground, var(--jp-content-font-color1, white)));\n",
       "    --sklearn-color-icon: #878787;\n",
       "  }\n",
       "}\n",
       "\n",
       "#sk-container-id-4 {\n",
       "  color: var(--sklearn-color-text);\n",
       "}\n",
       "\n",
       "#sk-container-id-4 pre {\n",
       "  padding: 0;\n",
       "}\n",
       "\n",
       "#sk-container-id-4 input.sk-hidden--visually {\n",
       "  border: 0;\n",
       "  clip: rect(1px 1px 1px 1px);\n",
       "  clip: rect(1px, 1px, 1px, 1px);\n",
       "  height: 1px;\n",
       "  margin: -1px;\n",
       "  overflow: hidden;\n",
       "  padding: 0;\n",
       "  position: absolute;\n",
       "  width: 1px;\n",
       "}\n",
       "\n",
       "#sk-container-id-4 div.sk-dashed-wrapped {\n",
       "  border: 1px dashed var(--sklearn-color-line);\n",
       "  margin: 0 0.4em 0.5em 0.4em;\n",
       "  box-sizing: border-box;\n",
       "  padding-bottom: 0.4em;\n",
       "  background-color: var(--sklearn-color-background);\n",
       "}\n",
       "\n",
       "#sk-container-id-4 div.sk-container {\n",
       "  /* jupyter's `normalize.less` sets `[hidden] { display: none; }`\n",
       "     but bootstrap.min.css set `[hidden] { display: none !important; }`\n",
       "     so we also need the `!important` here to be able to override the\n",
       "     default hidden behavior on the sphinx rendered scikit-learn.org.\n",
       "     See: https://github.com/scikit-learn/scikit-learn/issues/21755 */\n",
       "  display: inline-block !important;\n",
       "  position: relative;\n",
       "}\n",
       "\n",
       "#sk-container-id-4 div.sk-text-repr-fallback {\n",
       "  display: none;\n",
       "}\n",
       "\n",
       "div.sk-parallel-item,\n",
       "div.sk-serial,\n",
       "div.sk-item {\n",
       "  /* draw centered vertical line to link estimators */\n",
       "  background-image: linear-gradient(var(--sklearn-color-text-on-default-background), var(--sklearn-color-text-on-default-background));\n",
       "  background-size: 2px 100%;\n",
       "  background-repeat: no-repeat;\n",
       "  background-position: center center;\n",
       "}\n",
       "\n",
       "/* Parallel-specific style estimator block */\n",
       "\n",
       "#sk-container-id-4 div.sk-parallel-item::after {\n",
       "  content: \"\";\n",
       "  width: 100%;\n",
       "  border-bottom: 2px solid var(--sklearn-color-text-on-default-background);\n",
       "  flex-grow: 1;\n",
       "}\n",
       "\n",
       "#sk-container-id-4 div.sk-parallel {\n",
       "  display: flex;\n",
       "  align-items: stretch;\n",
       "  justify-content: center;\n",
       "  background-color: var(--sklearn-color-background);\n",
       "  position: relative;\n",
       "}\n",
       "\n",
       "#sk-container-id-4 div.sk-parallel-item {\n",
       "  display: flex;\n",
       "  flex-direction: column;\n",
       "}\n",
       "\n",
       "#sk-container-id-4 div.sk-parallel-item:first-child::after {\n",
       "  align-self: flex-end;\n",
       "  width: 50%;\n",
       "}\n",
       "\n",
       "#sk-container-id-4 div.sk-parallel-item:last-child::after {\n",
       "  align-self: flex-start;\n",
       "  width: 50%;\n",
       "}\n",
       "\n",
       "#sk-container-id-4 div.sk-parallel-item:only-child::after {\n",
       "  width: 0;\n",
       "}\n",
       "\n",
       "/* Serial-specific style estimator block */\n",
       "\n",
       "#sk-container-id-4 div.sk-serial {\n",
       "  display: flex;\n",
       "  flex-direction: column;\n",
       "  align-items: center;\n",
       "  background-color: var(--sklearn-color-background);\n",
       "  padding-right: 1em;\n",
       "  padding-left: 1em;\n",
       "}\n",
       "\n",
       "\n",
       "/* Toggleable style: style used for estimator/Pipeline/ColumnTransformer box that is\n",
       "clickable and can be expanded/collapsed.\n",
       "- Pipeline and ColumnTransformer use this feature and define the default style\n",
       "- Estimators will overwrite some part of the style using the `sk-estimator` class\n",
       "*/\n",
       "\n",
       "/* Pipeline and ColumnTransformer style (default) */\n",
       "\n",
       "#sk-container-id-4 div.sk-toggleable {\n",
       "  /* Default theme specific background. It is overwritten whether we have a\n",
       "  specific estimator or a Pipeline/ColumnTransformer */\n",
       "  background-color: var(--sklearn-color-background);\n",
       "}\n",
       "\n",
       "/* Toggleable label */\n",
       "#sk-container-id-4 label.sk-toggleable__label {\n",
       "  cursor: pointer;\n",
       "  display: flex;\n",
       "  width: 100%;\n",
       "  margin-bottom: 0;\n",
       "  padding: 0.5em;\n",
       "  box-sizing: border-box;\n",
       "  text-align: center;\n",
       "  align-items: start;\n",
       "  justify-content: space-between;\n",
       "  gap: 0.5em;\n",
       "}\n",
       "\n",
       "#sk-container-id-4 label.sk-toggleable__label .caption {\n",
       "  font-size: 0.6rem;\n",
       "  font-weight: lighter;\n",
       "  color: var(--sklearn-color-text-muted);\n",
       "}\n",
       "\n",
       "#sk-container-id-4 label.sk-toggleable__label-arrow:before {\n",
       "  /* Arrow on the left of the label */\n",
       "  content: \"▸\";\n",
       "  float: left;\n",
       "  margin-right: 0.25em;\n",
       "  color: var(--sklearn-color-icon);\n",
       "}\n",
       "\n",
       "#sk-container-id-4 label.sk-toggleable__label-arrow:hover:before {\n",
       "  color: var(--sklearn-color-text);\n",
       "}\n",
       "\n",
       "/* Toggleable content - dropdown */\n",
       "\n",
       "#sk-container-id-4 div.sk-toggleable__content {\n",
       "  max-height: 0;\n",
       "  max-width: 0;\n",
       "  overflow: hidden;\n",
       "  text-align: left;\n",
       "  /* unfitted */\n",
       "  background-color: var(--sklearn-color-unfitted-level-0);\n",
       "}\n",
       "\n",
       "#sk-container-id-4 div.sk-toggleable__content.fitted {\n",
       "  /* fitted */\n",
       "  background-color: var(--sklearn-color-fitted-level-0);\n",
       "}\n",
       "\n",
       "#sk-container-id-4 div.sk-toggleable__content pre {\n",
       "  margin: 0.2em;\n",
       "  border-radius: 0.25em;\n",
       "  color: var(--sklearn-color-text);\n",
       "  /* unfitted */\n",
       "  background-color: var(--sklearn-color-unfitted-level-0);\n",
       "}\n",
       "\n",
       "#sk-container-id-4 div.sk-toggleable__content.fitted pre {\n",
       "  /* unfitted */\n",
       "  background-color: var(--sklearn-color-fitted-level-0);\n",
       "}\n",
       "\n",
       "#sk-container-id-4 input.sk-toggleable__control:checked~div.sk-toggleable__content {\n",
       "  /* Expand drop-down */\n",
       "  max-height: 200px;\n",
       "  max-width: 100%;\n",
       "  overflow: auto;\n",
       "}\n",
       "\n",
       "#sk-container-id-4 input.sk-toggleable__control:checked~label.sk-toggleable__label-arrow:before {\n",
       "  content: \"▾\";\n",
       "}\n",
       "\n",
       "/* Pipeline/ColumnTransformer-specific style */\n",
       "\n",
       "#sk-container-id-4 div.sk-label input.sk-toggleable__control:checked~label.sk-toggleable__label {\n",
       "  color: var(--sklearn-color-text);\n",
       "  background-color: var(--sklearn-color-unfitted-level-2);\n",
       "}\n",
       "\n",
       "#sk-container-id-4 div.sk-label.fitted input.sk-toggleable__control:checked~label.sk-toggleable__label {\n",
       "  background-color: var(--sklearn-color-fitted-level-2);\n",
       "}\n",
       "\n",
       "/* Estimator-specific style */\n",
       "\n",
       "/* Colorize estimator box */\n",
       "#sk-container-id-4 div.sk-estimator input.sk-toggleable__control:checked~label.sk-toggleable__label {\n",
       "  /* unfitted */\n",
       "  background-color: var(--sklearn-color-unfitted-level-2);\n",
       "}\n",
       "\n",
       "#sk-container-id-4 div.sk-estimator.fitted input.sk-toggleable__control:checked~label.sk-toggleable__label {\n",
       "  /* fitted */\n",
       "  background-color: var(--sklearn-color-fitted-level-2);\n",
       "}\n",
       "\n",
       "#sk-container-id-4 div.sk-label label.sk-toggleable__label,\n",
       "#sk-container-id-4 div.sk-label label {\n",
       "  /* The background is the default theme color */\n",
       "  color: var(--sklearn-color-text-on-default-background);\n",
       "}\n",
       "\n",
       "/* On hover, darken the color of the background */\n",
       "#sk-container-id-4 div.sk-label:hover label.sk-toggleable__label {\n",
       "  color: var(--sklearn-color-text);\n",
       "  background-color: var(--sklearn-color-unfitted-level-2);\n",
       "}\n",
       "\n",
       "/* Label box, darken color on hover, fitted */\n",
       "#sk-container-id-4 div.sk-label.fitted:hover label.sk-toggleable__label.fitted {\n",
       "  color: var(--sklearn-color-text);\n",
       "  background-color: var(--sklearn-color-fitted-level-2);\n",
       "}\n",
       "\n",
       "/* Estimator label */\n",
       "\n",
       "#sk-container-id-4 div.sk-label label {\n",
       "  font-family: monospace;\n",
       "  font-weight: bold;\n",
       "  display: inline-block;\n",
       "  line-height: 1.2em;\n",
       "}\n",
       "\n",
       "#sk-container-id-4 div.sk-label-container {\n",
       "  text-align: center;\n",
       "}\n",
       "\n",
       "/* Estimator-specific */\n",
       "#sk-container-id-4 div.sk-estimator {\n",
       "  font-family: monospace;\n",
       "  border: 1px dotted var(--sklearn-color-border-box);\n",
       "  border-radius: 0.25em;\n",
       "  box-sizing: border-box;\n",
       "  margin-bottom: 0.5em;\n",
       "  /* unfitted */\n",
       "  background-color: var(--sklearn-color-unfitted-level-0);\n",
       "}\n",
       "\n",
       "#sk-container-id-4 div.sk-estimator.fitted {\n",
       "  /* fitted */\n",
       "  background-color: var(--sklearn-color-fitted-level-0);\n",
       "}\n",
       "\n",
       "/* on hover */\n",
       "#sk-container-id-4 div.sk-estimator:hover {\n",
       "  /* unfitted */\n",
       "  background-color: var(--sklearn-color-unfitted-level-2);\n",
       "}\n",
       "\n",
       "#sk-container-id-4 div.sk-estimator.fitted:hover {\n",
       "  /* fitted */\n",
       "  background-color: var(--sklearn-color-fitted-level-2);\n",
       "}\n",
       "\n",
       "/* Specification for estimator info (e.g. \"i\" and \"?\") */\n",
       "\n",
       "/* Common style for \"i\" and \"?\" */\n",
       "\n",
       ".sk-estimator-doc-link,\n",
       "a:link.sk-estimator-doc-link,\n",
       "a:visited.sk-estimator-doc-link {\n",
       "  float: right;\n",
       "  font-size: smaller;\n",
       "  line-height: 1em;\n",
       "  font-family: monospace;\n",
       "  background-color: var(--sklearn-color-background);\n",
       "  border-radius: 1em;\n",
       "  height: 1em;\n",
       "  width: 1em;\n",
       "  text-decoration: none !important;\n",
       "  margin-left: 0.5em;\n",
       "  text-align: center;\n",
       "  /* unfitted */\n",
       "  border: var(--sklearn-color-unfitted-level-1) 1pt solid;\n",
       "  color: var(--sklearn-color-unfitted-level-1);\n",
       "}\n",
       "\n",
       ".sk-estimator-doc-link.fitted,\n",
       "a:link.sk-estimator-doc-link.fitted,\n",
       "a:visited.sk-estimator-doc-link.fitted {\n",
       "  /* fitted */\n",
       "  border: var(--sklearn-color-fitted-level-1) 1pt solid;\n",
       "  color: var(--sklearn-color-fitted-level-1);\n",
       "}\n",
       "\n",
       "/* On hover */\n",
       "div.sk-estimator:hover .sk-estimator-doc-link:hover,\n",
       ".sk-estimator-doc-link:hover,\n",
       "div.sk-label-container:hover .sk-estimator-doc-link:hover,\n",
       ".sk-estimator-doc-link:hover {\n",
       "  /* unfitted */\n",
       "  background-color: var(--sklearn-color-unfitted-level-3);\n",
       "  color: var(--sklearn-color-background);\n",
       "  text-decoration: none;\n",
       "}\n",
       "\n",
       "div.sk-estimator.fitted:hover .sk-estimator-doc-link.fitted:hover,\n",
       ".sk-estimator-doc-link.fitted:hover,\n",
       "div.sk-label-container:hover .sk-estimator-doc-link.fitted:hover,\n",
       ".sk-estimator-doc-link.fitted:hover {\n",
       "  /* fitted */\n",
       "  background-color: var(--sklearn-color-fitted-level-3);\n",
       "  color: var(--sklearn-color-background);\n",
       "  text-decoration: none;\n",
       "}\n",
       "\n",
       "/* Span, style for the box shown on hovering the info icon */\n",
       ".sk-estimator-doc-link span {\n",
       "  display: none;\n",
       "  z-index: 9999;\n",
       "  position: relative;\n",
       "  font-weight: normal;\n",
       "  right: .2ex;\n",
       "  padding: .5ex;\n",
       "  margin: .5ex;\n",
       "  width: min-content;\n",
       "  min-width: 20ex;\n",
       "  max-width: 50ex;\n",
       "  color: var(--sklearn-color-text);\n",
       "  box-shadow: 2pt 2pt 4pt #999;\n",
       "  /* unfitted */\n",
       "  background: var(--sklearn-color-unfitted-level-0);\n",
       "  border: .5pt solid var(--sklearn-color-unfitted-level-3);\n",
       "}\n",
       "\n",
       ".sk-estimator-doc-link.fitted span {\n",
       "  /* fitted */\n",
       "  background: var(--sklearn-color-fitted-level-0);\n",
       "  border: var(--sklearn-color-fitted-level-3);\n",
       "}\n",
       "\n",
       ".sk-estimator-doc-link:hover span {\n",
       "  display: block;\n",
       "}\n",
       "\n",
       "/* \"?\"-specific style due to the `<a>` HTML tag */\n",
       "\n",
       "#sk-container-id-4 a.estimator_doc_link {\n",
       "  float: right;\n",
       "  font-size: 1rem;\n",
       "  line-height: 1em;\n",
       "  font-family: monospace;\n",
       "  background-color: var(--sklearn-color-background);\n",
       "  border-radius: 1rem;\n",
       "  height: 1rem;\n",
       "  width: 1rem;\n",
       "  text-decoration: none;\n",
       "  /* unfitted */\n",
       "  color: var(--sklearn-color-unfitted-level-1);\n",
       "  border: var(--sklearn-color-unfitted-level-1) 1pt solid;\n",
       "}\n",
       "\n",
       "#sk-container-id-4 a.estimator_doc_link.fitted {\n",
       "  /* fitted */\n",
       "  border: var(--sklearn-color-fitted-level-1) 1pt solid;\n",
       "  color: var(--sklearn-color-fitted-level-1);\n",
       "}\n",
       "\n",
       "/* On hover */\n",
       "#sk-container-id-4 a.estimator_doc_link:hover {\n",
       "  /* unfitted */\n",
       "  background-color: var(--sklearn-color-unfitted-level-3);\n",
       "  color: var(--sklearn-color-background);\n",
       "  text-decoration: none;\n",
       "}\n",
       "\n",
       "#sk-container-id-4 a.estimator_doc_link.fitted:hover {\n",
       "  /* fitted */\n",
       "  background-color: var(--sklearn-color-fitted-level-3);\n",
       "}\n",
       "</style><div id=\"sk-container-id-4\" class=\"sk-top-container\"><div class=\"sk-text-repr-fallback\"><pre>KNeighborsClassifier(n_neighbors=3)</pre><b>In a Jupyter environment, please rerun this cell to show the HTML representation or trust the notebook. <br />On GitHub, the HTML representation is unable to render, please try loading this page with nbviewer.org.</b></div><div class=\"sk-container\" hidden><div class=\"sk-item\"><div class=\"sk-estimator fitted sk-toggleable\"><input class=\"sk-toggleable__control sk-hidden--visually\" id=\"sk-estimator-id-4\" type=\"checkbox\" checked><label for=\"sk-estimator-id-4\" class=\"sk-toggleable__label fitted sk-toggleable__label-arrow\"><div><div>KNeighborsClassifier</div></div><div><a class=\"sk-estimator-doc-link fitted\" rel=\"noreferrer\" target=\"_blank\" href=\"https://scikit-learn.org/1.6/modules/generated/sklearn.neighbors.KNeighborsClassifier.html\">?<span>Documentation for KNeighborsClassifier</span></a><span class=\"sk-estimator-doc-link fitted\">i<span>Fitted</span></span></div></label><div class=\"sk-toggleable__content fitted\"><pre>KNeighborsClassifier(n_neighbors=3)</pre></div> </div></div></div></div>"
      ],
      "text/plain": [
       "KNeighborsClassifier(n_neighbors=3)"
      ]
     },
     "execution_count": 74,
     "metadata": {},
     "output_type": "execute_result"
    }
   ],
   "source": [
    "import random\n",
    "from sklearn.neighbors import KNeighborsClassifier\n",
    "random.seed(99)  \n",
    "\n",
    "X_train = train.drop(['grad_150_class_True'], axis=1).values\n",
    "y_train = train['grad_150_class_True'].values\n",
    "\n",
    "neigh = KNeighborsClassifier(n_neighbors=3)\n",
    "neigh.fit(X_train, y_train)"
   ]
  },
  {
   "cell_type": "markdown",
   "metadata": {},
   "source": [
    "#### Evaluate Test Data Accuracy "
   ]
  },
  {
   "cell_type": "code",
   "execution_count": 75,
   "metadata": {},
   "outputs": [
    {
     "name": "stdout",
     "output_type": "stream",
     "text": [
      "0.9986486486486487\n"
     ]
    }
   ],
   "source": [
    "X_test = test.drop(['grad_150_class_True'], axis=1).values\n",
    "y_test = test['grad_150_class_True'].values\n",
    "\n",
    "print(neigh.score(X_test, y_test))"
   ]
  },
  {
   "cell_type": "markdown",
   "metadata": {},
   "source": [
    "### 3. Create a dataframe that includes the test target values, test predicted values, and test probabilities of the positive class."
   ]
  },
  {
   "cell_type": "markdown",
   "metadata": {},
   "source": [
    "#### Dataframe"
   ]
  },
  {
   "cell_type": "code",
   "execution_count": 76,
   "metadata": {},
   "outputs": [
    {
     "data": {
      "application/vnd.microsoft.datawrangler.viewer.v0+json": {
       "columns": [
        {
         "name": "index",
         "rawType": "int64",
         "type": "integer"
        },
        {
         "name": "actual_class",
         "rawType": "bool",
         "type": "boolean"
        },
        {
         "name": "pred_class",
         "rawType": "bool",
         "type": "boolean"
        },
        {
         "name": "pred_prob",
         "rawType": "float64",
         "type": "float"
        }
       ],
       "conversionMethod": "pd.DataFrame",
       "ref": "667ca200-961d-4b25-ac65-1986a9ab4e0c",
       "rows": [
        [
         "0",
         "True",
         "True",
         "1.0"
        ],
        [
         "1",
         "False",
         "False",
         "0.0"
        ],
        [
         "2",
         "True",
         "True",
         "1.0"
        ],
        [
         "3",
         "True",
         "True",
         "1.0"
        ],
        [
         "4",
         "True",
         "True",
         "1.0"
        ]
       ],
       "shape": {
        "columns": 3,
        "rows": 5
       }
      },
      "text/html": [
       "<div>\n",
       "<style scoped>\n",
       "    .dataframe tbody tr th:only-of-type {\n",
       "        vertical-align: middle;\n",
       "    }\n",
       "\n",
       "    .dataframe tbody tr th {\n",
       "        vertical-align: top;\n",
       "    }\n",
       "\n",
       "    .dataframe thead th {\n",
       "        text-align: right;\n",
       "    }\n",
       "</style>\n",
       "<table border=\"1\" class=\"dataframe\">\n",
       "  <thead>\n",
       "    <tr style=\"text-align: right;\">\n",
       "      <th></th>\n",
       "      <th>actual_class</th>\n",
       "      <th>pred_class</th>\n",
       "      <th>pred_prob</th>\n",
       "    </tr>\n",
       "  </thead>\n",
       "  <tbody>\n",
       "    <tr>\n",
       "      <th>0</th>\n",
       "      <td>True</td>\n",
       "      <td>True</td>\n",
       "      <td>1.0</td>\n",
       "    </tr>\n",
       "    <tr>\n",
       "      <th>1</th>\n",
       "      <td>False</td>\n",
       "      <td>False</td>\n",
       "      <td>0.0</td>\n",
       "    </tr>\n",
       "    <tr>\n",
       "      <th>2</th>\n",
       "      <td>True</td>\n",
       "      <td>True</td>\n",
       "      <td>1.0</td>\n",
       "    </tr>\n",
       "    <tr>\n",
       "      <th>3</th>\n",
       "      <td>True</td>\n",
       "      <td>True</td>\n",
       "      <td>1.0</td>\n",
       "    </tr>\n",
       "    <tr>\n",
       "      <th>4</th>\n",
       "      <td>True</td>\n",
       "      <td>True</td>\n",
       "      <td>1.0</td>\n",
       "    </tr>\n",
       "  </tbody>\n",
       "</table>\n",
       "</div>"
      ],
      "text/plain": [
       "   actual_class  pred_class  pred_prob\n",
       "0          True        True        1.0\n",
       "1         False       False        0.0\n",
       "2          True        True        1.0\n",
       "3          True        True        1.0\n",
       "4          True        True        1.0"
      ]
     },
     "execution_count": 76,
     "metadata": {},
     "output_type": "execute_result"
    }
   ],
   "source": [
    "from sklearn.metrics import accuracy_score\n",
    "\n",
    "test_probs = neigh.predict_proba(X_test)\n",
    "test_preds = neigh.predict(X_test)\n",
    "test_probabilities = pd.DataFrame(test_probs, columns = ['grad_150_class_False','grad_150_class_True'])\n",
    "final_model = pd.DataFrame({'actual_class': y_test.tolist(),\n",
    "                           'pred_class': test_preds.tolist(),\n",
    "                           'pred_prob': test_probabilities['grad_150_class_True']})\n",
    "final_model.head()"
   ]
  },
  {
   "cell_type": "markdown",
   "metadata": {},
   "source": [
    "### 4. If you adjusted the k hyperparameter what do you think would happen to the threshold function? Would the confusion look the same at the same threshold levels or not? Why or why not?"
   ]
  },
  {
   "cell_type": "markdown",
   "metadata": {},
   "source": [
    "If you increase k, the model is less sensitive to noise and fluctuation as it averages out across the neighbors. What you will then see is a smoother decision boundary, where the threshold function is also less sensitive to noise. If you decrease k, the threshold function is more sensitive to the small fluctuations in the data. There is more likeliness of over-fitting where the k is trying to capture all the small details of the data. For confusion matrix, it would not look the same at the same threshold levels as a higher k will produce less false positives as it will try to make safer predictions, but the likeliness of more false negatives may increase. A lower k may produce more false positives and less false negatives. "
   ]
  },
  {
   "cell_type": "markdown",
   "metadata": {},
   "source": [
    "### 5. Evaluate the results using the confusion matrix. Then \"walk\" through your question, summarize what concerns or positive elements do you have about the model as it relates to your question? "
   ]
  },
  {
   "cell_type": "markdown",
   "metadata": {},
   "source": [
    "#### Confusion Matrix for Final Model "
   ]
  },
  {
   "cell_type": "code",
   "execution_count": 77,
   "metadata": {},
   "outputs": [
    {
     "data": {
      "text/plain": [
       "<sklearn.metrics._plot.confusion_matrix.ConfusionMatrixDisplay at 0x7f8875a20380>"
      ]
     },
     "execution_count": 77,
     "metadata": {},
     "output_type": "execute_result"
    },
    {
     "data": {
      "image/png": "[encoded data removed]",
      "text/plain": [
       "<Figure size 640x480 with 2 Axes>"
      ]
     },
     "metadata": {},
     "output_type": "display_data"
    }
   ],
   "source": [
    "from sklearn.metrics import confusion_matrix, ConfusionMatrixDisplay\n",
    "\n",
    "final_model.actual_class = final_model.actual_class.astype('category')\n",
    "final_model.pred_class = final_model.pred_class.astype('category')\n",
    "\n",
    "def adjust_thres(x, y, z): # Adjusting Threshold Function\n",
    "    thres = pd.DataFrame({'new_preds': [1 if i > y else 0 for i in x]})\n",
    "    thres.new_preds = thres.new_preds.astype('category')\n",
    "    con_mat = confusion_matrix(z, thres)  \n",
    "    print(con_mat)\n",
    "\n",
    "cm = confusion_matrix(final_model.actual_class, final_model.pred_class) \n",
    "disp=ConfusionMatrixDisplay(confusion_matrix=cm, display_labels=neigh.classes_)  \n",
    "disp.plot()"
   ]
  },
  {
   "cell_type": "markdown",
   "metadata": {},
   "source": [
    "#### Probability Distribution Graph"
   ]
  },
  {
   "cell_type": "code",
   "execution_count": 78,
   "metadata": {},
   "outputs": [
    {
     "data": {
      "text/plain": [
       "<seaborn.axisgrid.FacetGrid at 0x7f887a061df0>"
      ]
     },
     "execution_count": 78,
     "metadata": {},
     "output_type": "execute_result"
    },
    {
     "data": {
      "image/png": "[encoded data removed]",
      "text/plain": [
       "<Figure size 500x500 with 1 Axes>"
      ]
     },
     "metadata": {},
     "output_type": "display_data"
    }
   ],
   "source": [
    "sns.displot(final_model, x=\"pred_prob\", kind=\"kde\")"
   ]
  },
  {
   "cell_type": "markdown",
   "metadata": {},
   "source": [
    "#### Adjusting Threshold"
   ]
  },
  {
   "cell_type": "code",
   "execution_count": 79,
   "metadata": {},
   "outputs": [
    {
     "name": "stdout",
     "output_type": "stream",
     "text": [
      "[[416   0]\n",
      " [  1 323]]\n"
     ]
    }
   ],
   "source": [
    "adjust_thres(final_model.pred_prob, .90, final_model.actual_class)"
   ]
  },
  {
   "cell_type": "code",
   "execution_count": 80,
   "metadata": {},
   "outputs": [
    {
     "name": "stdout",
     "output_type": "stream",
     "text": [
      "[[416   0]\n",
      " [  1 323]]\n"
     ]
    }
   ],
   "source": [
    "adjust_thres(final_model.pred_prob, .1, final_model.actual_class)"
   ]
  },
  {
   "cell_type": "markdown",
   "metadata": {},
   "source": [
    "#### Confusion Matrix Evaluation "
   ]
  },
  {
   "cell_type": "markdown",
   "metadata": {},
   "source": [
    "The confusion matrix shows only one False positive even after adjusting the thresholds. The model performs well with high accuracy and precision. The sensitivity and specificity are high considering the true positives and true negatives. "
   ]
  },
  {
   "cell_type": "markdown",
   "metadata": {},
   "source": [
    "#### Walk Through Question"
   ]
  },
  {
   "cell_type": "markdown",
   "metadata": {},
   "source": [
    "Based on the question, we are trying to predict college completion for students. By classifying it with higher completion and lower completion, the confusion matrix shows that it is able to make the predictions for the right class with the ratio of true positive and true negatives to false positive and false negatives. This indicates the K neighbors have consistently deliver results of high accuracy. "
   ]
  },
  {
   "cell_type": "markdown",
   "metadata": {},
   "source": [
    "#### Positive Elements/Concerns"
   ]
  },
  {
   "cell_type": "markdown",
   "metadata": {},
   "source": [
    "The positive element about this model is the high accuracy. From observing the confusion matrix, it seems to predict everything correctly with only one False Positive. However, this high accuracy is concerning as well. The graph is over-fitting if it produces results that are basically perfect. This means the model is essentially memorizing the data for the college completion, instead of making real predictions. From observing the probability distribution model, we can see two distinct tall peaks for positive and negative class, meaning the model is predicting two classes with high confidence. The model is unable to generalize the dataset as there are two defined clusters within the dataset. The model is also over-fitting with the peaks having low variation, which means that it is very concentrated as certain values. "
   ]
  },
  {
   "cell_type": "markdown",
   "metadata": {},
   "source": [
    "### 6. Create Two Functions"
   ]
  },
  {
   "cell_type": "markdown",
   "metadata": {},
   "source": [
    "#### Cleans and Split Data"
   ]
  },
  {
   "cell_type": "code",
   "execution_count": 81,
   "metadata": {},
   "outputs": [],
   "source": [
    "def clean_and_split_data(df, target, test_size=0.4, random_state=99):\n",
    "    #filtering \n",
    "    df = df[['level', 'control','hbcu','student_count','awards_per_value','exp_award_value','exp_award_percentile','ft_pct','fte_percentile','aid_value','pell_value', 'retain_value', 'ft_fac_value', 'cohort_size']]\n",
    "    df.replace('NULL', np.nan, inplace=True)\n",
    "    df['hbcu'] = [1 if df['hbcu'][i]=='X' else 0 for i in range(len(df['hbcu']))]\n",
    "    df['hbcu'].value_counts()\n",
    "    df['hbcu'] = df.hbcu.astype('category')\n",
    "    df[['level', 'control']] = df[['level', 'control']].astype('category')\n",
    "\n",
    "    # Onehot encode and normalize\n",
    "    cat_cols = grad_data2.select_dtypes(include='category').columns\n",
    "    cat_cols = ['level', 'control', target]  \n",
    "    df[cat_cols] = df[cat_cols].astype('category') \n",
    "    numeric_cols = df.select_dtypes(include=['int64', 'float64']).columns\n",
    "    scaler = preprocessing.MinMaxScaler()\n",
    "    df[numeric_cols] = scaler.fit_transform(df[numeric_cols])\n",
    "    encoded = pd.get_dummies(df[cat_cols]) \n",
    "    df = df.drop(cat_cols, axis=1).join(encoded)\n",
    "    train, test = train_test_split(df, test_size=test_size, stratify=df[f'{target}_1'], random_state=random_state)     \n",
    "    return train, test, val"
   ]
  },
  {
   "cell_type": "markdown",
   "metadata": {},
   "source": [
    "#### Train and Test model"
   ]
  },
  {
   "cell_type": "code",
   "execution_count": null,
   "metadata": {},
   "outputs": [],
   "source": []
  }
 ],
 "metadata": {
  "kernelspec": {
   "display_name": "Python 3",
   "language": "python",
   "name": "python3"
  },
  "language_info": {
   "codemirror_mode": {
    "name": "ipython",
    "version": 3
   },
   "file_extension": ".py",
   "mimetype": "text/x-python",
   "name": "python",
   "nbconvert_exporter": "python",
   "pygments_lexer": "ipython3",
   "version": "3.12.7"
  }
 },
 "nbformat": 4,
 "nbformat_minor": 2
}
