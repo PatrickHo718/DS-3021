{
 "cells": [
  {
   "cell_type": "markdown",
   "metadata": {},
   "source": [
    "\n",
    "Congrats....again! Based off the amazing work you did on the classification model, you've been promoted to chief of all data scientists in Hollywood, your a total celebrity....among data scientists :).  \n",
    "\n",
    "Your boss, head of the studio, has now asked you to build a model to predict gross revenue in order to help them decide which movies to invest in.\n",
    "\n",
    "Once again, you would like to be able to explain the model to mere mortals but need a fairly robust and flexible approach so you've chosen to use decision trees to get started. \n",
    "\n",
    "In doing so...you leverage work you've done in the past to get the job done....you're a data scientist after all! "
   ]
  },
  {
   "cell_type": "code",
   "execution_count": 1,
   "metadata": {},
   "outputs": [],
   "source": [
    "import pandas as pd\n",
    "import numpy as np\n",
    "import matplotlib.pyplot as plt\n",
    "import seaborn as sns\n",
    "import graphviz\n",
    "from sklearn.model_selection import train_test_split,GridSearchCV, RepeatedKFold\n",
    "from sklearn import metrics\n",
    "from sklearn.tree import DecisionTreeRegressor, export_graphviz \n",
    "from sklearn.metrics import accuracy_score, classification_report, confusion_matrix, ConfusionMatrixDisplay\n",
    "from sklearn.preprocessing import OrdinalEncoder\n",
    "# from sklearn.tree import DecisionTreeClassifier, export_graphviz \n",
    "from sklearn.tree import plot_tree"
   ]
  },
  {
   "cell_type": "code",
   "execution_count": 2,
   "metadata": {},
   "outputs": [
    {
     "data": {
      "application/vnd.microsoft.datawrangler.viewer.v0+json": {
       "columns": [
        {
         "name": "index",
         "rawType": "int64",
         "type": "integer"
        },
        {
         "name": "color",
         "rawType": "object",
         "type": "unknown"
        },
        {
         "name": "director_name",
         "rawType": "object",
         "type": "string"
        },
        {
         "name": "num_critic_for_reviews",
         "rawType": "float64",
         "type": "float"
        },
        {
         "name": "duration",
         "rawType": "float64",
         "type": "float"
        },
        {
         "name": "director_facebook_likes",
         "rawType": "float64",
         "type": "float"
        },
        {
         "name": "actor_3_facebook_likes",
         "rawType": "float64",
         "type": "float"
        },
        {
         "name": "actor_2_name",
         "rawType": "object",
         "type": "string"
        },
        {
         "name": "actor_1_facebook_likes",
         "rawType": "float64",
         "type": "float"
        },
        {
         "name": "gross",
         "rawType": "float64",
         "type": "float"
        },
        {
         "name": "genres",
         "rawType": "object",
         "type": "string"
        },
        {
         "name": "actor_1_name",
         "rawType": "object",
         "type": "string"
        },
        {
         "name": "movie_title",
         "rawType": "object",
         "type": "string"
        },
        {
         "name": "num_voted_users",
         "rawType": "int64",
         "type": "integer"
        },
        {
         "name": "cast_total_facebook_likes",
         "rawType": "int64",
         "type": "integer"
        },
        {
         "name": "actor_3_name",
         "rawType": "object",
         "type": "unknown"
        },
        {
         "name": "facenumber_in_poster",
         "rawType": "float64",
         "type": "float"
        },
        {
         "name": "plot_keywords",
         "rawType": "object",
         "type": "unknown"
        },
        {
         "name": "movie_imdb_link",
         "rawType": "object",
         "type": "string"
        },
        {
         "name": "num_user_for_reviews",
         "rawType": "float64",
         "type": "float"
        },
        {
         "name": "language",
         "rawType": "object",
         "type": "unknown"
        },
        {
         "name": "country",
         "rawType": "object",
         "type": "unknown"
        },
        {
         "name": "content_rating",
         "rawType": "object",
         "type": "unknown"
        },
        {
         "name": "budget",
         "rawType": "float64",
         "type": "float"
        },
        {
         "name": "title_year",
         "rawType": "float64",
         "type": "float"
        },
        {
         "name": "actor_2_facebook_likes",
         "rawType": "float64",
         "type": "float"
        },
        {
         "name": "imdb_score",
         "rawType": "float64",
         "type": "float"
        },
        {
         "name": "aspect_ratio",
         "rawType": "float64",
         "type": "float"
        },
        {
         "name": "movie_facebook_likes",
         "rawType": "int64",
         "type": "integer"
        }
       ],
       "conversionMethod": "pd.DataFrame",
       "ref": "8b917e77-41f7-434e-95ed-ec7f669cd827",
       "rows": [
        [
         "0",
         "Color",
         "James Cameron",
         "723.0",
         "178.0",
         "0.0",
         "855.0",
         "Joel David Moore",
         "1000.0",
         "760505847.0",
         "Action|Adventure|Fantasy|Sci-Fi",
         "CCH Pounder",
         "Avatar ",
         "886204",
         "4834",
         "Wes Studi",
         "0.0",
         "avatar|future|marine|native|paraplegic",
         "http://www.imdb.com/title/tt0499549/?ref_=fn_tt_tt_1",
         "3054.0",
         "English",
         "USA",
         "PG-13",
         "237000000.0",
         "2009.0",
         "936.0",
         "7.9",
         "1.78",
         "33000"
        ],
        [
         "1",
         "Color",
         "Gore Verbinski",
         "302.0",
         "169.0",
         "563.0",
         "1000.0",
         "Orlando Bloom",
         "40000.0",
         "309404152.0",
         "Action|Adventure|Fantasy",
         "Johnny Depp",
         "Pirates of the Caribbean: At World's End ",
         "471220",
         "48350",
         "Jack Davenport",
         "0.0",
         "goddess|marriage ceremony|marriage proposal|pirate|singapore",
         "http://www.imdb.com/title/tt0449088/?ref_=fn_tt_tt_1",
         "1238.0",
         "English",
         "USA",
         "PG-13",
         "300000000.0",
         "2007.0",
         "5000.0",
         "7.1",
         "2.35",
         "0"
        ],
        [
         "2",
         "Color",
         "Sam Mendes",
         "602.0",
         "148.0",
         "0.0",
         "161.0",
         "Rory Kinnear",
         "11000.0",
         "200074175.0",
         "Action|Adventure|Thriller",
         "Christoph Waltz",
         "Spectre ",
         "275868",
         "11700",
         "Stephanie Sigman",
         "1.0",
         "bomb|espionage|sequel|spy|terrorist",
         "http://www.imdb.com/title/tt2379713/?ref_=fn_tt_tt_1",
         "994.0",
         "English",
         "UK",
         "PG-13",
         "245000000.0",
         "2015.0",
         "393.0",
         "6.8",
         "2.35",
         "85000"
        ],
        [
         "3",
         "Color",
         "Christopher Nolan",
         "813.0",
         "164.0",
         "22000.0",
         "23000.0",
         "Christian Bale",
         "27000.0",
         "448130642.0",
         "Action|Thriller",
         "Tom Hardy",
         "The Dark Knight Rises ",
         "1144337",
         "106759",
         "Joseph Gordon-Levitt",
         "0.0",
         "deception|imprisonment|lawlessness|police officer|terrorist plot",
         "http://www.imdb.com/title/tt1345836/?ref_=fn_tt_tt_1",
         "2701.0",
         "English",
         "USA",
         "PG-13",
         "250000000.0",
         "2012.0",
         "23000.0",
         "8.5",
         "2.35",
         "164000"
        ],
        [
         "4",
         null,
         "Doug Walker",
         null,
         null,
         "131.0",
         null,
         "Rob Walker",
         "131.0",
         null,
         "Documentary",
         "Doug Walker",
         "Star Wars: Episode VII - The Force Awakens             ",
         "8",
         "143",
         null,
         "0.0",
         null,
         "http://www.imdb.com/title/tt5289954/?ref_=fn_tt_tt_1",
         null,
         null,
         null,
         null,
         null,
         null,
         "12.0",
         "7.1",
         null,
         "0"
        ]
       ],
       "shape": {
        "columns": 28,
        "rows": 5
       }
      },
      "text/html": [
       "<div>\n",
       "<style scoped>\n",
       "    .dataframe tbody tr th:only-of-type {\n",
       "        vertical-align: middle;\n",
       "    }\n",
       "\n",
       "    .dataframe tbody tr th {\n",
       "        vertical-align: top;\n",
       "    }\n",
       "\n",
       "    .dataframe thead th {\n",
       "        text-align: right;\n",
       "    }\n",
       "</style>\n",
       "<table border=\"1\" class=\"dataframe\">\n",
       "  <thead>\n",
       "    <tr style=\"text-align: right;\">\n",
       "      <th></th>\n",
       "      <th>color</th>\n",
       "      <th>director_name</th>\n",
       "      <th>num_critic_for_reviews</th>\n",
       "      <th>duration</th>\n",
       "      <th>director_facebook_likes</th>\n",
       "      <th>actor_3_facebook_likes</th>\n",
       "      <th>actor_2_name</th>\n",
       "      <th>actor_1_facebook_likes</th>\n",
       "      <th>gross</th>\n",
       "      <th>genres</th>\n",
       "      <th>...</th>\n",
       "      <th>num_user_for_reviews</th>\n",
       "      <th>language</th>\n",
       "      <th>country</th>\n",
       "      <th>content_rating</th>\n",
       "      <th>budget</th>\n",
       "      <th>title_year</th>\n",
       "      <th>actor_2_facebook_likes</th>\n",
       "      <th>imdb_score</th>\n",
       "      <th>aspect_ratio</th>\n",
       "      <th>movie_facebook_likes</th>\n",
       "    </tr>\n",
       "  </thead>\n",
       "  <tbody>\n",
       "    <tr>\n",
       "      <th>0</th>\n",
       "      <td>Color</td>\n",
       "      <td>James Cameron</td>\n",
       "      <td>723.0</td>\n",
       "      <td>178.0</td>\n",
       "      <td>0.0</td>\n",
       "      <td>855.0</td>\n",
       "      <td>Joel David Moore</td>\n",
       "      <td>1000.0</td>\n",
       "      <td>760505847.0</td>\n",
       "      <td>Action|Adventure|Fantasy|Sci-Fi</td>\n",
       "      <td>...</td>\n",
       "      <td>3054.0</td>\n",
       "      <td>English</td>\n",
       "      <td>USA</td>\n",
       "      <td>PG-13</td>\n",
       "      <td>237000000.0</td>\n",
       "      <td>2009.0</td>\n",
       "      <td>936.0</td>\n",
       "      <td>7.9</td>\n",
       "      <td>1.78</td>\n",
       "      <td>33000</td>\n",
       "    </tr>\n",
       "    <tr>\n",
       "      <th>1</th>\n",
       "      <td>Color</td>\n",
       "      <td>Gore Verbinski</td>\n",
       "      <td>302.0</td>\n",
       "      <td>169.0</td>\n",
       "      <td>563.0</td>\n",
       "      <td>1000.0</td>\n",
       "      <td>Orlando Bloom</td>\n",
       "      <td>40000.0</td>\n",
       "      <td>309404152.0</td>\n",
       "      <td>Action|Adventure|Fantasy</td>\n",
       "      <td>...</td>\n",
       "      <td>1238.0</td>\n",
       "      <td>English</td>\n",
       "      <td>USA</td>\n",
       "      <td>PG-13</td>\n",
       "      <td>300000000.0</td>\n",
       "      <td>2007.0</td>\n",
       "      <td>5000.0</td>\n",
       "      <td>7.1</td>\n",
       "      <td>2.35</td>\n",
       "      <td>0</td>\n",
       "    </tr>\n",
       "    <tr>\n",
       "      <th>2</th>\n",
       "      <td>Color</td>\n",
       "      <td>Sam Mendes</td>\n",
       "      <td>602.0</td>\n",
       "      <td>148.0</td>\n",
       "      <td>0.0</td>\n",
       "      <td>161.0</td>\n",
       "      <td>Rory Kinnear</td>\n",
       "      <td>11000.0</td>\n",
       "      <td>200074175.0</td>\n",
       "      <td>Action|Adventure|Thriller</td>\n",
       "      <td>...</td>\n",
       "      <td>994.0</td>\n",
       "      <td>English</td>\n",
       "      <td>UK</td>\n",
       "      <td>PG-13</td>\n",
       "      <td>245000000.0</td>\n",
       "      <td>2015.0</td>\n",
       "      <td>393.0</td>\n",
       "      <td>6.8</td>\n",
       "      <td>2.35</td>\n",
       "      <td>85000</td>\n",
       "    </tr>\n",
       "    <tr>\n",
       "      <th>3</th>\n",
       "      <td>Color</td>\n",
       "      <td>Christopher Nolan</td>\n",
       "      <td>813.0</td>\n",
       "      <td>164.0</td>\n",
       "      <td>22000.0</td>\n",
       "      <td>23000.0</td>\n",
       "      <td>Christian Bale</td>\n",
       "      <td>27000.0</td>\n",
       "      <td>448130642.0</td>\n",
       "      <td>Action|Thriller</td>\n",
       "      <td>...</td>\n",
       "      <td>2701.0</td>\n",
       "      <td>English</td>\n",
       "      <td>USA</td>\n",
       "      <td>PG-13</td>\n",
       "      <td>250000000.0</td>\n",
       "      <td>2012.0</td>\n",
       "      <td>23000.0</td>\n",
       "      <td>8.5</td>\n",
       "      <td>2.35</td>\n",
       "      <td>164000</td>\n",
       "    </tr>\n",
       "    <tr>\n",
       "      <th>4</th>\n",
       "      <td>NaN</td>\n",
       "      <td>Doug Walker</td>\n",
       "      <td>NaN</td>\n",
       "      <td>NaN</td>\n",
       "      <td>131.0</td>\n",
       "      <td>NaN</td>\n",
       "      <td>Rob Walker</td>\n",
       "      <td>131.0</td>\n",
       "      <td>NaN</td>\n",
       "      <td>Documentary</td>\n",
       "      <td>...</td>\n",
       "      <td>NaN</td>\n",
       "      <td>NaN</td>\n",
       "      <td>NaN</td>\n",
       "      <td>NaN</td>\n",
       "      <td>NaN</td>\n",
       "      <td>NaN</td>\n",
       "      <td>12.0</td>\n",
       "      <td>7.1</td>\n",
       "      <td>NaN</td>\n",
       "      <td>0</td>\n",
       "    </tr>\n",
       "  </tbody>\n",
       "</table>\n",
       "<p>5 rows × 28 columns</p>\n",
       "</div>"
      ],
      "text/plain": [
       "   color      director_name  num_critic_for_reviews  duration  \\\n",
       "0  Color      James Cameron                   723.0     178.0   \n",
       "1  Color     Gore Verbinski                   302.0     169.0   \n",
       "2  Color         Sam Mendes                   602.0     148.0   \n",
       "3  Color  Christopher Nolan                   813.0     164.0   \n",
       "4    NaN        Doug Walker                     NaN       NaN   \n",
       "\n",
       "   director_facebook_likes  actor_3_facebook_likes      actor_2_name  \\\n",
       "0                      0.0                   855.0  Joel David Moore   \n",
       "1                    563.0                  1000.0     Orlando Bloom   \n",
       "2                      0.0                   161.0      Rory Kinnear   \n",
       "3                  22000.0                 23000.0    Christian Bale   \n",
       "4                    131.0                     NaN        Rob Walker   \n",
       "\n",
       "   actor_1_facebook_likes        gross                           genres  ...  \\\n",
       "0                  1000.0  760505847.0  Action|Adventure|Fantasy|Sci-Fi  ...   \n",
       "1                 40000.0  309404152.0         Action|Adventure|Fantasy  ...   \n",
       "2                 11000.0  200074175.0        Action|Adventure|Thriller  ...   \n",
       "3                 27000.0  448130642.0                  Action|Thriller  ...   \n",
       "4                   131.0          NaN                      Documentary  ...   \n",
       "\n",
       "  num_user_for_reviews language  country  content_rating       budget  \\\n",
       "0               3054.0  English      USA           PG-13  237000000.0   \n",
       "1               1238.0  English      USA           PG-13  300000000.0   \n",
       "2                994.0  English       UK           PG-13  245000000.0   \n",
       "3               2701.0  English      USA           PG-13  250000000.0   \n",
       "4                  NaN      NaN      NaN             NaN          NaN   \n",
       "\n",
       "   title_year actor_2_facebook_likes imdb_score  aspect_ratio  \\\n",
       "0      2009.0                  936.0        7.9          1.78   \n",
       "1      2007.0                 5000.0        7.1          2.35   \n",
       "2      2015.0                  393.0        6.8          2.35   \n",
       "3      2012.0                23000.0        8.5          2.35   \n",
       "4         NaN                   12.0        7.1           NaN   \n",
       "\n",
       "  movie_facebook_likes  \n",
       "0                33000  \n",
       "1                    0  \n",
       "2                85000  \n",
       "3               164000  \n",
       "4                    0  \n",
       "\n",
       "[5 rows x 28 columns]"
      ]
     },
     "execution_count": 2,
     "metadata": {},
     "output_type": "execute_result"
    }
   ],
   "source": [
    "#1. Load the data\n",
    "#Sometimes need to set the working directory back out of a folder that we create a file in\n",
    "\n",
    "#import os\n",
    "#os.listdir()\n",
    "#print(os.getcwd())\n",
    "#os.chdir('c:\\\\Users\\\\Brian Wright\\\\Documents\\\\3001Python\\\\DS-3001')\n",
    "\n",
    "movie_metadata=pd.read_csv(\"../data/movie_metadata.csv\")\n",
    "movie_metadata.head()\n",
    "\n"
   ]
  },
  {
   "cell_type": "markdown",
   "metadata": {},
   "source": [
    "#2 Ensure all the variables are classified correctly and collapse factor variables as needed."
   ]
  },
  {
   "cell_type": "code",
   "execution_count": 3,
   "metadata": {},
   "outputs": [],
   "source": [
    "def preprocess(df):\n",
    "    # Drop Columns with too many unique values\n",
    "    # Keeping gross revenue as the target variable\n",
    "    df = df.drop(columns=['actor_1_name','actor_2_name','color','content_rating','actor_3_name','plot_keywords','movie_imdb_link'])\n",
    "\n",
    "    # Collapse imdb score (target variable) into two classes \n",
    "    # name for new target variable is imdb_score_cat\n",
    "    df['imdb_score_cat'] = pd.cut(df['imdb_score'], bins=[0, 7, 10], labels=[0, 1]).astype(int)\n",
    "    df = df.drop(columns=['imdb_score'])\n",
    "\n",
    "    # Classify director names mentioned more than 10 times with 1 and 0\n",
    "    director_counts = df['director_name'].value_counts()\n",
    "    df['director_name'] = df['director_name'].apply(lambda x: 1 if director_counts.get(x, 0) > 10 else 0)\n",
    "\n",
    "    # Classify country mentioned more than 10 times with 1 and 0\n",
    "    df['country'] = df['country'].apply(lambda x: 1 if director_counts.get(x, 0) > 10 else 0)\n",
    "\n",
    "    # Classify language mentioned more than 10 times with 1 and 0\n",
    "    df['language'] = df['language'].apply(lambda x: 1 if director_counts.get(x, 0) > 10 else 0)\n",
    "\n",
    "    # Separate genres into different columns and encode them with 1 and 0\n",
    "    genre_dummies = df['genres'].str.get_dummies(sep='|')\n",
    "    df = df.join(genre_dummies)\n",
    "    df.drop(columns=['genres'], inplace=True)\n",
    "    \n",
    "    return df\n",
    "\n",
    "movie_metadata2 = preprocess(movie_metadata)"
   ]
  },
  {
   "cell_type": "markdown",
   "metadata": {},
   "source": [
    "#3 Check for missing variables and correct as needed."
   ]
  },
  {
   "cell_type": "code",
   "execution_count": 4,
   "metadata": {},
   "outputs": [],
   "source": [
    "def fix_missing(df):\n",
    "    # Drop Columns with too many missing values \n",
    "    df = df.dropna(thresh = int((1 - 0.4) * len(movie_metadata)), axis=1)\n",
    "    \n",
    "    # Drop missing values\n",
    "    df = df.dropna()\n",
    "    \n",
    "    return df\n",
    "\n",
    "movie_metadata3 = fix_missing(movie_metadata2)"
   ]
  },
  {
   "cell_type": "markdown",
   "metadata": {},
   "source": [
    "#4 Guess what, you don't need to scale the data, because DTs don't require this to be done, they make local greedy decisions...keeps getting easier, go to the next step."
   ]
  },
  {
   "cell_type": "markdown",
   "metadata": {},
   "source": [
    "#5 Determine the variance of the target variable, is it normally distributed? If not, you may want to transform the target variable. Why might this be important?"
   ]
  },
  {
   "cell_type": "code",
   "execution_count": 5,
   "metadata": {},
   "outputs": [
    {
     "data": {
      "image/png": "[encoded data removed]",
      "text/plain": [
       "<Figure size 640x480 with 1 Axes>"
      ]
     },
     "metadata": {},
     "output_type": "display_data"
    }
   ],
   "source": [
    "# Check the distribution of the target variable\n",
    "sns.kdeplot(movie_metadata3, x ='gross', fill=True, common_norm=False)\n",
    "plt.title('Distribution of Gross Revenue')\n",
    "plt.xlabel('Gross Revenue')\n",
    "plt.ylabel('Frequency')\n",
    "plt.show()\n"
   ]
  },
  {
   "cell_type": "code",
   "execution_count": 6,
   "metadata": {},
   "outputs": [
    {
     "data": {
      "image/png": "[encoded data removed]",
      "text/plain": [
       "<Figure size 1000x600 with 1 Axes>"
      ]
     },
     "metadata": {},
     "output_type": "display_data"
    },
    {
     "name": "stdout",
     "output_type": "stream",
     "text": [
      "Number of outliers:  295\n"
     ]
    }
   ],
   "source": [
    "# check for outliers\n",
    "plt.figure(figsize=(10, 6))\n",
    "sns.boxplot(x=movie_metadata3['gross'])\n",
    "plt.title('Boxplot of Gross Revenue')\n",
    "plt.xlabel('Gross Revenue')\n",
    "plt.xlim(0, 2e8)\n",
    "plt.show()\n",
    "\n",
    "# count the number of outliers\n",
    "outliers = movie_metadata3[(movie_metadata3['gross'] > 1.5e8)]\n",
    "print(\"Number of outliers: \", len(outliers))\n"
   ]
  },
  {
   "cell_type": "code",
   "execution_count": 7,
   "metadata": {},
   "outputs": [],
   "source": [
    "# Drop outliers\n",
    "movie_metadata4 = movie_metadata3[movie_metadata3['gross'] <= 1.5e8]"
   ]
  },
  {
   "cell_type": "code",
   "execution_count": 8,
   "metadata": {},
   "outputs": [
    {
     "name": "stderr",
     "output_type": "stream",
     "text": [
      "/tmp/ipykernel_1103/2536537550.py:1: SettingWithCopyWarning: \n",
      "A value is trying to be set on a copy of a slice from a DataFrame.\n",
      "Try using .loc[row_indexer,col_indexer] = value instead\n",
      "\n",
      "See the caveats in the documentation: https://pandas.pydata.org/pandas-docs/stable/user_guide/indexing.html#returning-a-view-versus-a-copy\n",
      "  movie_metadata4['Log_Gross'] = np.log(movie_metadata4['gross'])\n"
     ]
    },
    {
     "data": {
      "image/png": "[encoded data removed]",
      "text/plain": [
       "<Figure size 640x480 with 1 Axes>"
      ]
     },
     "metadata": {},
     "output_type": "display_data"
    }
   ],
   "source": [
    "movie_metadata4['Log_Gross'] = np.log(movie_metadata4['gross'])\n",
    "# Drop gross revenue column\n",
    "movie_metadata4 = movie_metadata4.drop(columns=['gross'])\n",
    "# Check the distribution of the target variable\n",
    "sns.kdeplot(movie_metadata4, x ='Log_Gross', fill=True, common_norm=False)\n",
    "plt.title('Distribution of Log(Gross Revenue)')\n",
    "plt.xlabel('Log(Gross Revenue)')\n",
    "plt.ylabel('Frequency')\n",
    "plt.xlim(0, 20)\n",
    "plt.show()"
   ]
  },
  {
   "cell_type": "markdown",
   "metadata": {},
   "source": [
    "#6 Split your data into test, tune, and train. (80/10/10)"
   ]
  },
  {
   "cell_type": "code",
   "execution_count": 9,
   "metadata": {},
   "outputs": [],
   "source": [
    "def split_data(df, target, train_size=0.80, tune_size=0.50, random_state=21):\n",
    "    # Split independent and dependent variables\n",
    "    # Drop the target variable from the features\n",
    "    X = df.drop(columns=target)\n",
    "    y = df[target]\n",
    "    \n",
    "    # Split data into training and testing sets\n",
    "    X_train, X_temp, y_train, y_temp = train_test_split(X, y, train_size = train_size, random_state = random_state)\n",
    "    \n",
    "    # Split the temporary set into tuning and testing sets\n",
    "    X_tune, X_test, y_tune, y_test = train_test_split(X_temp,y_temp, train_size = tune_size, random_state = random_state)\n",
    "    \n",
    "    return X_train, X_tune, X_test, y_train, y_tune, y_test\n",
    "\n",
    "X_train, X_tune, X_test, y_train, y_tune, y_test = split_data(movie_metadata4, 'Log_Gross')\n",
    "\n",
    "# Drop 'movie_title' column from X_train, X_tune, X_test\n",
    "X_train2 = X_train.drop(columns=['movie_title']).copy()\n",
    "X_tune2 = X_tune.drop(columns=['movie_title']).copy()\n",
    "X_test2 = X_test.drop(columns=['movie_title']).copy()"
   ]
  },
  {
   "cell_type": "markdown",
   "metadata": {},
   "source": [
    "#7 Create the kfold object for cross validation."
   ]
  },
  {
   "cell_type": "code",
   "execution_count": 10,
   "metadata": {},
   "outputs": [],
   "source": [
    "kf = RepeatedKFold(n_splits=10,n_repeats =5, random_state=42) # Define the cross-validation method"
   ]
  },
  {
   "cell_type": "markdown",
   "metadata": {},
   "source": [
    "#8 Create the scoring metric (several measures) you will use to evaluate your model and choose a hyperparamater to optimize."
   ]
  },
  {
   "cell_type": "code",
   "execution_count": 23,
   "metadata": {},
   "outputs": [],
   "source": [
    "scoring = ['neg_mean_squared_error','r2','neg_mean_absolute_error']\n",
    "\n",
    "param={\n",
    "    \"max_depth\" : [1,2,3,4,5,6,7,8,9,10,11,12,13,14,15,16,17,18,19,20]\n",
    "        }\n"
   ]
  },
  {
   "cell_type": "markdown",
   "metadata": {},
   "source": [
    "#9 Build the regression tree object. "
   ]
  },
  {
   "cell_type": "code",
   "execution_count": 24,
   "metadata": {},
   "outputs": [],
   "source": [
    "reg=DecisionTreeRegressor(random_state=30)\n",
    "search = GridSearchCV(reg, param, scoring=scoring, n_jobs=-1, cv=kf,refit='r2')"
   ]
  },
  {
   "cell_type": "markdown",
   "metadata": {},
   "source": [
    "#10 Fit the model to the training data."
   ]
  },
  {
   "cell_type": "code",
   "execution_count": 25,
   "metadata": {},
   "outputs": [],
   "source": [
    "model = search.fit(X_train2, y_train)"
   ]
  },
  {
   "cell_type": "markdown",
   "metadata": {},
   "source": [
    "#11 Explore the results of the model. Print the output of the grid search. What is the best parameter and score?"
   ]
  },
  {
   "cell_type": "markdown",
   "metadata": {},
   "source": [
    "Results of the Model"
   ]
  },
  {
   "cell_type": "code",
   "execution_count": 28,
   "metadata": {},
   "outputs": [
    {
     "name": "stdout",
     "output_type": "stream",
     "text": [
      "dict_keys(['mean_fit_time', 'std_fit_time', 'mean_score_time', 'std_score_time', 'param_max_depth', 'params', 'split0_test_neg_mean_squared_error', 'split1_test_neg_mean_squared_error', 'split2_test_neg_mean_squared_error', 'split3_test_neg_mean_squared_error', 'split4_test_neg_mean_squared_error', 'split5_test_neg_mean_squared_error', 'split6_test_neg_mean_squared_error', 'split7_test_neg_mean_squared_error', 'split8_test_neg_mean_squared_error', 'split9_test_neg_mean_squared_error', 'split10_test_neg_mean_squared_error', 'split11_test_neg_mean_squared_error', 'split12_test_neg_mean_squared_error', 'split13_test_neg_mean_squared_error', 'split14_test_neg_mean_squared_error', 'split15_test_neg_mean_squared_error', 'split16_test_neg_mean_squared_error', 'split17_test_neg_mean_squared_error', 'split18_test_neg_mean_squared_error', 'split19_test_neg_mean_squared_error', 'split20_test_neg_mean_squared_error', 'split21_test_neg_mean_squared_error', 'split22_test_neg_mean_squared_error', 'split23_test_neg_mean_squared_error', 'split24_test_neg_mean_squared_error', 'split25_test_neg_mean_squared_error', 'split26_test_neg_mean_squared_error', 'split27_test_neg_mean_squared_error', 'split28_test_neg_mean_squared_error', 'split29_test_neg_mean_squared_error', 'split30_test_neg_mean_squared_error', 'split31_test_neg_mean_squared_error', 'split32_test_neg_mean_squared_error', 'split33_test_neg_mean_squared_error', 'split34_test_neg_mean_squared_error', 'split35_test_neg_mean_squared_error', 'split36_test_neg_mean_squared_error', 'split37_test_neg_mean_squared_error', 'split38_test_neg_mean_squared_error', 'split39_test_neg_mean_squared_error', 'split40_test_neg_mean_squared_error', 'split41_test_neg_mean_squared_error', 'split42_test_neg_mean_squared_error', 'split43_test_neg_mean_squared_error', 'split44_test_neg_mean_squared_error', 'split45_test_neg_mean_squared_error', 'split46_test_neg_mean_squared_error', 'split47_test_neg_mean_squared_error', 'split48_test_neg_mean_squared_error', 'split49_test_neg_mean_squared_error', 'mean_test_neg_mean_squared_error', 'std_test_neg_mean_squared_error', 'rank_test_neg_mean_squared_error', 'split0_test_r2', 'split1_test_r2', 'split2_test_r2', 'split3_test_r2', 'split4_test_r2', 'split5_test_r2', 'split6_test_r2', 'split7_test_r2', 'split8_test_r2', 'split9_test_r2', 'split10_test_r2', 'split11_test_r2', 'split12_test_r2', 'split13_test_r2', 'split14_test_r2', 'split15_test_r2', 'split16_test_r2', 'split17_test_r2', 'split18_test_r2', 'split19_test_r2', 'split20_test_r2', 'split21_test_r2', 'split22_test_r2', 'split23_test_r2', 'split24_test_r2', 'split25_test_r2', 'split26_test_r2', 'split27_test_r2', 'split28_test_r2', 'split29_test_r2', 'split30_test_r2', 'split31_test_r2', 'split32_test_r2', 'split33_test_r2', 'split34_test_r2', 'split35_test_r2', 'split36_test_r2', 'split37_test_r2', 'split38_test_r2', 'split39_test_r2', 'split40_test_r2', 'split41_test_r2', 'split42_test_r2', 'split43_test_r2', 'split44_test_r2', 'split45_test_r2', 'split46_test_r2', 'split47_test_r2', 'split48_test_r2', 'split49_test_r2', 'mean_test_r2', 'std_test_r2', 'rank_test_r2', 'split0_test_neg_mean_absolute_error', 'split1_test_neg_mean_absolute_error', 'split2_test_neg_mean_absolute_error', 'split3_test_neg_mean_absolute_error', 'split4_test_neg_mean_absolute_error', 'split5_test_neg_mean_absolute_error', 'split6_test_neg_mean_absolute_error', 'split7_test_neg_mean_absolute_error', 'split8_test_neg_mean_absolute_error', 'split9_test_neg_mean_absolute_error', 'split10_test_neg_mean_absolute_error', 'split11_test_neg_mean_absolute_error', 'split12_test_neg_mean_absolute_error', 'split13_test_neg_mean_absolute_error', 'split14_test_neg_mean_absolute_error', 'split15_test_neg_mean_absolute_error', 'split16_test_neg_mean_absolute_error', 'split17_test_neg_mean_absolute_error', 'split18_test_neg_mean_absolute_error', 'split19_test_neg_mean_absolute_error', 'split20_test_neg_mean_absolute_error', 'split21_test_neg_mean_absolute_error', 'split22_test_neg_mean_absolute_error', 'split23_test_neg_mean_absolute_error', 'split24_test_neg_mean_absolute_error', 'split25_test_neg_mean_absolute_error', 'split26_test_neg_mean_absolute_error', 'split27_test_neg_mean_absolute_error', 'split28_test_neg_mean_absolute_error', 'split29_test_neg_mean_absolute_error', 'split30_test_neg_mean_absolute_error', 'split31_test_neg_mean_absolute_error', 'split32_test_neg_mean_absolute_error', 'split33_test_neg_mean_absolute_error', 'split34_test_neg_mean_absolute_error', 'split35_test_neg_mean_absolute_error', 'split36_test_neg_mean_absolute_error', 'split37_test_neg_mean_absolute_error', 'split38_test_neg_mean_absolute_error', 'split39_test_neg_mean_absolute_error', 'split40_test_neg_mean_absolute_error', 'split41_test_neg_mean_absolute_error', 'split42_test_neg_mean_absolute_error', 'split43_test_neg_mean_absolute_error', 'split44_test_neg_mean_absolute_error', 'split45_test_neg_mean_absolute_error', 'split46_test_neg_mean_absolute_error', 'split47_test_neg_mean_absolute_error', 'split48_test_neg_mean_absolute_error', 'split49_test_neg_mean_absolute_error', 'mean_test_neg_mean_absolute_error', 'std_test_neg_mean_absolute_error', 'rank_test_neg_mean_absolute_error'])\n"
     ]
    }
   ],
   "source": [
    "print(model.cv_results_.keys()) # to see the keys in the cv_results_ dictionary"
   ]
  },
  {
   "cell_type": "code",
   "execution_count": 26,
   "metadata": {},
   "outputs": [
    {
     "name": "stdout",
     "output_type": "stream",
     "text": [
      "   depth      rmse        r2       mae    rmseSD      r2SD     maeSD\n",
      "0      1  1.807148  0.252332  1.312992  0.381621  0.061990  0.058081\n",
      "1      2  1.686460  0.348645  1.204164  0.350314  0.061330  0.062499\n",
      "2      3  1.618245  0.399978  1.128683  0.347790  0.066689  0.063880\n",
      "3      4  1.578910  0.428557  1.082294  0.351582  0.069928  0.063555\n",
      "4      5  1.570901  0.434061  1.062711  0.348893  0.072554  0.061622\n",
      "5      6  1.596247  0.415380  1.059736  0.388395  0.084439  0.065123\n",
      "6      7  1.645793  0.377764  1.067681  0.390147  0.089619  0.063117\n",
      "7      8  1.694464  0.338334  1.080389  0.363496  0.099625  0.056687\n",
      "8      9  1.757182  0.287855  1.116767  0.434625  0.120303  0.065962\n",
      "9     10  1.800134  0.253572  1.145449  0.456870  0.120250  0.073779\n"
     ]
    }
   ],
   "source": [
    "# Accuracy metrics\n",
    "mean_sq_err = np.sqrt(abs(model.cv_results_['mean_test_neg_mean_squared_error']))\n",
    "r2= model.cv_results_['mean_test_r2']\n",
    "mae= abs(model.cv_results_['mean_test_neg_mean_absolute_error'])\n",
    "\n",
    "#Standard Deviation:\n",
    "SDmse =  model.cv_results_['std_test_neg_mean_squared_error']\n",
    "SDr2= model.cv_results_['std_test_r2']\n",
    "SDmae= model.cv_results_['std_test_neg_mean_absolute_error']\n",
    "\n",
    "#Parameter:\n",
    "depth= np.unique(model.cv_results_['param_max_depth']).data\n",
    "\n",
    "#Build DataFrame:\n",
    "final_model = pd.DataFrame(list(zip(depth, mean_sq_err, r2,mae, SDmse,SDr2,SDmae)),\n",
    "               columns =['depth','rmse','r2','mae',\"rmseSD\",'r2SD','maeSD'])\n",
    "\n",
    "print(final_model.head(10))"
   ]
  },
  {
   "cell_type": "markdown",
   "metadata": {},
   "source": [
    "Best Parameter"
   ]
  },
  {
   "cell_type": "code",
   "execution_count": null,
   "metadata": {},
   "outputs": [
    {
     "name": "stdout",
     "output_type": "stream",
     "text": [
      "{'max_depth': 5}\n"
     ]
    }
   ],
   "source": [
    "print(model.best_params_) # Print the best parameters"
   ]
  },
  {
   "cell_type": "markdown",
   "metadata": {},
   "source": [
    "#12 Which variables appear to be contributing the most (variable importance)"
   ]
  },
  {
   "cell_type": "code",
   "execution_count": 15,
   "metadata": {},
   "outputs": [
    {
     "name": "stdout",
     "output_type": "stream",
     "text": [
      "                           importance\n",
      "num_voted_users              0.613073\n",
      "budget                       0.212115\n",
      "title_year                   0.043017\n",
      "actor_3_facebook_likes       0.032551\n",
      "cast_total_facebook_likes    0.019597\n",
      "num_user_for_reviews         0.016457\n",
      "actor_2_facebook_likes       0.012948\n",
      "Family                       0.010209\n",
      "Crime                        0.008268\n",
      "War                          0.008247\n",
      "facenumber_in_poster         0.007916\n",
      "Horror                       0.007160\n",
      "aspect_ratio                 0.005805\n",
      "duration                     0.002636\n",
      "country                      0.000000\n",
      "language                     0.000000\n",
      "num_critic_for_reviews       0.000000\n",
      "director_name                0.000000\n",
      "actor_1_facebook_likes       0.000000\n",
      "director_facebook_likes      0.000000\n",
      "Adventure                    0.000000\n",
      "Action                       0.000000\n",
      "Biography                    0.000000\n",
      "Animation                    0.000000\n",
      "Comedy                       0.000000\n",
      "Documentary                  0.000000\n",
      "movie_facebook_likes         0.000000\n",
      "imdb_score_cat               0.000000\n",
      "Fantasy                      0.000000\n",
      "Drama                        0.000000\n",
      "Game-Show                    0.000000\n",
      "Film-Noir                    0.000000\n",
      "Music                        0.000000\n",
      "Musical                      0.000000\n",
      "Mystery                      0.000000\n",
      "History                      0.000000\n",
      "News                         0.000000\n",
      "Reality-TV                   0.000000\n",
      "Sci-Fi                       0.000000\n",
      "Romance                      0.000000\n",
      "Short                        0.000000\n",
      "Sport                        0.000000\n",
      "Thriller                     0.000000\n",
      "Western                      0.000000\n"
     ]
    }
   ],
   "source": [
    "varimp=pd.DataFrame(best.feature_importances_,index = X_train2.columns,columns=['importance']).sort_values('importance', ascending=False)\n",
    "print(varimp)"
   ]
  },
  {
   "cell_type": "markdown",
   "metadata": {},
   "source": [
    "#13 Create a model object using the best model hyperparameter value from the trained regression tree."
   ]
  },
  {
   "cell_type": "code",
   "execution_count": 29,
   "metadata": {},
   "outputs": [
    {
     "name": "stdout",
     "output_type": "stream",
     "text": [
      "DecisionTreeRegressor(max_depth=5, random_state=30)\n"
     ]
    }
   ],
   "source": [
    "best= model.best_estimator_\n",
    "print(best)"
   ]
  },
  {
   "cell_type": "markdown",
   "metadata": {},
   "source": [
    "#14 Using the best model predict on the tune data and print out the results."
   ]
  },
  {
   "cell_type": "code",
   "execution_count": 31,
   "metadata": {},
   "outputs": [
    {
     "name": "stdout",
     "output_type": "stream",
     "text": [
      "[16.70906651 16.69695624 17.6047666  15.87645003 16.70906651 16.70906651\n",
      " 16.69695624 17.21087348 17.68911816 16.69695624]\n"
     ]
    }
   ],
   "source": [
    "pred=best.predict(X_tune2)\n",
    "print(pred[:10])"
   ]
  },
  {
   "cell_type": "markdown",
   "metadata": {},
   "source": [
    "#15 How does the model perform on the tune data as compared to the training data?"
   ]
  },
  {
   "cell_type": "code",
   "execution_count": 35,
   "metadata": {},
   "outputs": [
    {
     "name": "stdout",
     "output_type": "stream",
     "text": [
      "0.3070416977359204\n"
     ]
    }
   ],
   "source": [
    "print(best.score(X_tune2, y_tune))"
   ]
  },
  {
   "cell_type": "code",
   "execution_count": 32,
   "metadata": {},
   "outputs": [
    {
     "name": "stdout",
     "output_type": "stream",
     "text": [
      "0.575833272373597\n"
     ]
    }
   ],
   "source": [
    "print(best.score(X_train2, y_train))"
   ]
  },
  {
   "cell_type": "markdown",
   "metadata": {},
   "source": [
    "#16 What five movies are predicted to have the lowest gross revenue from the tune set?"
   ]
  },
  {
   "cell_type": "code",
   "execution_count": null,
   "metadata": {},
   "outputs": [
    {
     "name": "stdout",
     "output_type": "stream",
     "text": [
      "             movie_title  predicted_gross\n",
      "172      Neal 'N' Nikki          8.686485\n",
      "239          Open Water         10.463711\n",
      "192  The Last Sin Eater         10.835175\n",
      "168      Kiss the Bride         10.835175\n",
      "300        Frozen River         10.951661\n"
     ]
    }
   ],
   "source": [
    "movie_titles = X_tune['movie_title'].values # retrieve movie titles from the original DataFrame\n",
    "predictions = pd.DataFrame({'movie_title': movie_titles, 'predicted_gross': pred}) # create a DataFrame with movie titles and predicted gross revenue\n",
    "predictions = predictions.sort_values(by='predicted_gross', ascending=True) # reorder the DataFrame by predicted gross revenue\n",
    "print(predictions.head(5)) # display 5 movies with lowest gross revenue"
   ]
  },
  {
   "cell_type": "markdown",
   "metadata": {},
   "source": [
    "#17 As a data scientist you are always looking to improve your results. What are some ideas you have to improve the model? Have you ask...WHAT IF?!"
   ]
  },
  {
   "cell_type": "markdown",
   "metadata": {},
   "source": [
    "#18 Experiment using your what if ideas (two is fine). Did the model improve? If so, how much? If not, what did you learn? (You don't need to include all the \"what if\" code just speak to what you tried and what you learned)."
   ]
  },
  {
   "cell_type": "markdown",
   "metadata": {},
   "source": [
    "#19 Use the best model to predict on the test data and print out the evaluation results."
   ]
  },
  {
   "cell_type": "markdown",
   "metadata": {},
   "source": [
    "#20 Does the model perform well on the test data when compared to the training and tune data? Why or why not?"
   ]
  },
  {
   "cell_type": "markdown",
   "metadata": {},
   "source": [
    "#21 Where are the errors occurring in your predictions? Are they systematic or random? In either case, what are the implications of this?"
   ]
  },
  {
   "cell_type": "markdown",
   "metadata": {},
   "source": [
    "#22 Summarize what you learned along the way and make recommendations on how this could be used moving forward, being careful not to over promise."
   ]
  }
 ],
 "metadata": {
  "kernelspec": {
   "display_name": "Python 3",
   "language": "python",
   "name": "python3"
  },
  "language_info": {
   "codemirror_mode": {
    "name": "ipython",
    "version": 3
   },
   "file_extension": ".py",
   "mimetype": "text/x-python",
   "name": "python",
   "nbconvert_exporter": "python",
   "pygments_lexer": "ipython3",
   "version": "3.12.7"
  }
 },
 "nbformat": 4,
 "nbformat_minor": 2
}
