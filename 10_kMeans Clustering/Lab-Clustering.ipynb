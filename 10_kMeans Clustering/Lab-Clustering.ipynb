{
 "cells": [
  {
   "cell_type": "markdown",
   "metadata": {},
   "source": [
    "# Clustering Lab"
   ]
  },
  {
   "cell_type": "markdown",
   "metadata": {},
   "source": [
    " \n",
    "Based of the amazing work you did in the Movie Industry you've been recruited to the NBA! You are working as the VP of Analytics that helps support a head scout, Mr. Rooney, for the worst team in the NBA probably the Wizards. Mr. Rooney just heard about Data Science and thinks it can solve all the team's problems!!! He wants you to figure out a way to find players that are high performing but maybe not highly paid that you can steal to get the team to the playoffs! \n",
    "\n",
    "In this document you will work through a similar process that we did in class with the NBA data (NBA_Perf_22 and nba_salaries_22), merging them together.\n",
    "\n",
    "Details: \n",
    "\n",
    "- Determine a way to use clustering to estimate based on performance if \n",
    "players are under or over paid, generally. \n",
    "\n",
    "- Then select players you believe would be best for your team and explain why. Do so in three categories: \n",
    "    * Examples that are not good choices (3 or 4) \n",
    "    * Several options that are good choices (3 or 4)\n",
    "    * Several options that could work, assuming you can't get the players in the good category (3 or 4)\n",
    "\n",
    "- You will decide the cutoffs for each category, so you should be able to explain why you chose them.\n",
    "\n",
    "- Provide a well commented and clean report of your findings in a separate notebook that can be presented to Mr. Rooney, keeping in mind he doesn't understand...anything. Include a rationale for variables you included in the model, details on your approach and a overview of the results with supporting visualizations. \n",
    "\n",
    "\n",
    "Hints:\n",
    "\n",
    "- Salary is the variable you are trying to understand \n",
    "- When interpreting you might want to use graphs that include variables that are the most correlated with Salary\n",
    "- You'll need to scale the variables before performing the clustering\n",
    "- Be specific about why you selected the players that you did, more detail is better\n",
    "- Use good coding practices, comment heavily, indent, don't use for loops unless totally necessary and create modular sections that align with some outcome. If necessary create more than one script,list/load libraries at the top and don't include libraries that aren't used. \n",
    "- Be careful for non-traditional characters in the players names, certain graphs won't work when these characters are included.\n"
   ]
  },
  {
   "cell_type": "code",
   "execution_count": 47,
   "metadata": {},
   "outputs": [],
   "source": [
    "import pandas as pd\n",
    "import numpy as np\n",
    "import plotly.express as px\n",
    "import plotly.graph_objects as go\n",
    "from sklearn.cluster import KMeans\n",
    "from sklearn.model_selection import train_test_split\n",
    "from sklearn.tree import DecisionTreeClassifier\n",
    "from sklearn.metrics import silhouette_score\n",
    "from sklearn.preprocessing import StandardScaler"
   ]
  },
  {
   "cell_type": "code",
   "execution_count": 74,
   "metadata": {},
   "outputs": [],
   "source": [
    "# Load the datasets\n",
    "NBA_perf = pd.read_csv('NBA_PlayerStats2324.csv', encoding=\"latin1\")\n",
    "NBA_salary = pd.read_csv('NBA_salary.csv', encoding=\"latin1\")"
   ]
  },
  {
   "cell_type": "code",
   "execution_count": 75,
   "metadata": {},
   "outputs": [
    {
     "data": {
      "application/vnd.microsoft.datawrangler.viewer.v0+json": {
       "columns": [
        {
         "name": "index",
         "rawType": "int64",
         "type": "integer"
        },
        {
         "name": "Rk_x",
         "rawType": "float64",
         "type": "float"
        },
        {
         "name": "Player",
         "rawType": "object",
         "type": "string"
        },
        {
         "name": "Age",
         "rawType": "float64",
         "type": "float"
        },
        {
         "name": "Team",
         "rawType": "object",
         "type": "string"
        },
        {
         "name": "Pos",
         "rawType": "object",
         "type": "string"
        },
        {
         "name": "G",
         "rawType": "float64",
         "type": "float"
        },
        {
         "name": "GS",
         "rawType": "float64",
         "type": "float"
        },
        {
         "name": "MP",
         "rawType": "float64",
         "type": "float"
        },
        {
         "name": "FG",
         "rawType": "float64",
         "type": "float"
        },
        {
         "name": "FGA",
         "rawType": "float64",
         "type": "float"
        },
        {
         "name": "FG%",
         "rawType": "float64",
         "type": "float"
        },
        {
         "name": "3P",
         "rawType": "float64",
         "type": "float"
        },
        {
         "name": "3PA",
         "rawType": "float64",
         "type": "float"
        },
        {
         "name": "3P%",
         "rawType": "float64",
         "type": "float"
        },
        {
         "name": "2P",
         "rawType": "float64",
         "type": "float"
        },
        {
         "name": "2PA",
         "rawType": "float64",
         "type": "float"
        },
        {
         "name": "2P%",
         "rawType": "float64",
         "type": "float"
        },
        {
         "name": "eFG%",
         "rawType": "float64",
         "type": "float"
        },
        {
         "name": "FT",
         "rawType": "float64",
         "type": "float"
        },
        {
         "name": "FTA",
         "rawType": "float64",
         "type": "float"
        },
        {
         "name": "FT%",
         "rawType": "float64",
         "type": "float"
        },
        {
         "name": "ORB",
         "rawType": "float64",
         "type": "float"
        },
        {
         "name": "DRB",
         "rawType": "float64",
         "type": "float"
        },
        {
         "name": "TRB",
         "rawType": "float64",
         "type": "float"
        },
        {
         "name": "AST",
         "rawType": "float64",
         "type": "float"
        },
        {
         "name": "STL",
         "rawType": "float64",
         "type": "float"
        },
        {
         "name": "BLK",
         "rawType": "float64",
         "type": "float"
        },
        {
         "name": "TOV",
         "rawType": "float64",
         "type": "float"
        },
        {
         "name": "PF",
         "rawType": "float64",
         "type": "float"
        },
        {
         "name": "PTS",
         "rawType": "float64",
         "type": "float"
        },
        {
         "name": "Trp-Dbl",
         "rawType": "float64",
         "type": "float"
        },
        {
         "name": "Awards",
         "rawType": "object",
         "type": "string"
        },
        {
         "name": "Player-additional",
         "rawType": "object",
         "type": "string"
        },
        {
         "name": "Rk_y",
         "rawType": "int64",
         "type": "integer"
        },
        {
         "name": "Tm",
         "rawType": "object",
         "type": "string"
        },
        {
         "name": "2024-25",
         "rawType": "object",
         "type": "string"
        },
        {
         "name": "2025-26",
         "rawType": "object",
         "type": "string"
        },
        {
         "name": "2026-27",
         "rawType": "object",
         "type": "string"
        },
        {
         "name": "2027-28",
         "rawType": "object",
         "type": "unknown"
        },
        {
         "name": "2028-29",
         "rawType": "object",
         "type": "unknown"
        },
        {
         "name": "2029-30",
         "rawType": "object",
         "type": "unknown"
        },
        {
         "name": "Guaranteed",
         "rawType": "object",
         "type": "string"
        },
        {
         "name": "-9999",
         "rawType": "object",
         "type": "string"
        },
        {
         "name": "Salary",
         "rawType": "float64",
         "type": "float"
        }
       ],
       "conversionMethod": "pd.DataFrame",
       "ref": "9ac0dbe1-4142-4b6b-89ef-0db13f5cff87",
       "rows": [
        [
         "0",
         "1.0",
         "Luka DonÄiÄ",
         "24.0",
         "DAL",
         "PG",
         "70.0",
         "70.0",
         "2624.0",
         "804.0",
         "1652.0",
         "0.487",
         "284.0",
         "744.0",
         "0.382",
         "520.0",
         "908.0",
         "0.573",
         "0.573",
         "478.0",
         "608.0",
         "0.786",
         "59.0",
         "588.0",
         "647.0",
         "686.0",
         "99.0",
         "38.0",
         "282.0",
         "149.0",
         "2370.0",
         "21.0",
         "MVP-3CPOY-6ASNBA1",
         "doncilu01",
         "18",
         "LAL",
         "$43031940",
         "$45999660",
         "$48967380",
         null,
         null,
         null,
         "$89031600",
         "doncilu01",
         "43031940.0"
        ],
        [
         "1",
         "2.0",
         "Shai Gilgeous-Alexander",
         "25.0",
         "OKC",
         "PG",
         "75.0",
         "75.0",
         "2553.0",
         "796.0",
         "1487.0",
         "0.535",
         "95.0",
         "269.0",
         "0.353",
         "701.0",
         "1218.0",
         "0.576",
         "0.567",
         "567.0",
         "649.0",
         "0.874",
         "65.0",
         "350.0",
         "415.0",
         "465.0",
         "150.0",
         "67.0",
         "162.0",
         "184.0",
         "2254.0",
         "0.0",
         "MVP-2DPOY-7CPOY-3ASNBA1",
         "gilgesh01",
         "34",
         "OKC",
         "$35859950",
         "$38333050",
         "$40806150",
         null,
         null,
         null,
         "$114999150",
         "gilgesh01",
         "35859950.0"
        ],
        [
         "2",
         "3.0",
         "Giannis Antetokounmpo",
         "29.0",
         "MIL",
         "PF",
         "73.0",
         "73.0",
         "2567.0",
         "837.0",
         "1369.0",
         "0.611",
         "34.0",
         "124.0",
         "0.274",
         "803.0",
         "1245.0",
         "0.645",
         "0.624",
         "514.0",
         "782.0",
         "0.657",
         "196.0",
         "645.0",
         "841.0",
         "476.0",
         "87.0",
         "79.0",
         "250.0",
         "210.0",
         "2222.0",
         "10.0",
         "MVP-4DPOY-9CPOY-12ASNBA1",
         "antetgi01",
         "12",
         "MIL",
         "$48787676",
         "$54126450",
         "$58456566",
         "$62786682",
         null,
         null,
         "$161370692",
         "antetgi01",
         "48787676.0"
        ],
        [
         "3",
         "4.0",
         "Jalen Brunson",
         "27.0",
         "NYK",
         "PG",
         "77.0",
         "77.0",
         "2726.0",
         "790.0",
         "1648.0",
         "0.479",
         "211.0",
         "526.0",
         "0.401",
         "579.0",
         "1122.0",
         "0.516",
         "0.543",
         "421.0",
         "497.0",
         "0.847",
         "43.0",
         "235.0",
         "278.0",
         "519.0",
         "70.0",
         "13.0",
         "186.0",
         "144.0",
         "2212.0",
         "0.0",
         "MVP-5CPOY-5ASNBA2",
         "brunsja01",
         "66",
         "NYK",
         "$24960001",
         "$34944001",
         "$37739521",
         "$40535041",
         "$43330561",
         null,
         "$138178564",
         "brunsja01",
         "24960001.0"
        ],
        [
         "4",
         "5.0",
         "Nikola JokiÄ",
         "28.0",
         "DEN",
         "C",
         "79.0",
         "79.0",
         "2737.0",
         "822.0",
         "1411.0",
         "0.583",
         "83.0",
         "231.0",
         "0.359",
         "739.0",
         "1180.0",
         "0.626",
         "0.612",
         "358.0",
         "438.0",
         "0.817",
         "223.0",
         "753.0",
         "976.0",
         "708.0",
         "108.0",
         "68.0",
         "237.0",
         "194.0",
         "2085.0",
         "25.0",
         "MVP-1CPOY-4ASNBA1",
         "jokicni01",
         "3",
         "DEN",
         "$51415938",
         "$55224526",
         "$59033114",
         "$62841702",
         null,
         null,
         "$165673578",
         "jokicni01",
         "51415938.0"
        ]
       ],
       "shape": {
        "columns": 44,
        "rows": 5
       }
      },
      "text/html": [
       "<div>\n",
       "<style scoped>\n",
       "    .dataframe tbody tr th:only-of-type {\n",
       "        vertical-align: middle;\n",
       "    }\n",
       "\n",
       "    .dataframe tbody tr th {\n",
       "        vertical-align: top;\n",
       "    }\n",
       "\n",
       "    .dataframe thead th {\n",
       "        text-align: right;\n",
       "    }\n",
       "</style>\n",
       "<table border=\"1\" class=\"dataframe\">\n",
       "  <thead>\n",
       "    <tr style=\"text-align: right;\">\n",
       "      <th></th>\n",
       "      <th>Rk_x</th>\n",
       "      <th>Player</th>\n",
       "      <th>Age</th>\n",
       "      <th>Team</th>\n",
       "      <th>Pos</th>\n",
       "      <th>G</th>\n",
       "      <th>GS</th>\n",
       "      <th>MP</th>\n",
       "      <th>FG</th>\n",
       "      <th>FGA</th>\n",
       "      <th>...</th>\n",
       "      <th>Tm</th>\n",
       "      <th>2024-25</th>\n",
       "      <th>2025-26</th>\n",
       "      <th>2026-27</th>\n",
       "      <th>2027-28</th>\n",
       "      <th>2028-29</th>\n",
       "      <th>2029-30</th>\n",
       "      <th>Guaranteed</th>\n",
       "      <th>-9999</th>\n",
       "      <th>Salary</th>\n",
       "    </tr>\n",
       "  </thead>\n",
       "  <tbody>\n",
       "    <tr>\n",
       "      <th>0</th>\n",
       "      <td>1.0</td>\n",
       "      <td>Luka DonÄiÄ</td>\n",
       "      <td>24.0</td>\n",
       "      <td>DAL</td>\n",
       "      <td>PG</td>\n",
       "      <td>70.0</td>\n",
       "      <td>70.0</td>\n",
       "      <td>2624.0</td>\n",
       "      <td>804.0</td>\n",
       "      <td>1652.0</td>\n",
       "      <td>...</td>\n",
       "      <td>LAL</td>\n",
       "      <td>$43031940</td>\n",
       "      <td>$45999660</td>\n",
       "      <td>$48967380</td>\n",
       "      <td>NaN</td>\n",
       "      <td>NaN</td>\n",
       "      <td>NaN</td>\n",
       "      <td>$89031600</td>\n",
       "      <td>doncilu01</td>\n",
       "      <td>43031940.0</td>\n",
       "    </tr>\n",
       "    <tr>\n",
       "      <th>1</th>\n",
       "      <td>2.0</td>\n",
       "      <td>Shai Gilgeous-Alexander</td>\n",
       "      <td>25.0</td>\n",
       "      <td>OKC</td>\n",
       "      <td>PG</td>\n",
       "      <td>75.0</td>\n",
       "      <td>75.0</td>\n",
       "      <td>2553.0</td>\n",
       "      <td>796.0</td>\n",
       "      <td>1487.0</td>\n",
       "      <td>...</td>\n",
       "      <td>OKC</td>\n",
       "      <td>$35859950</td>\n",
       "      <td>$38333050</td>\n",
       "      <td>$40806150</td>\n",
       "      <td>NaN</td>\n",
       "      <td>NaN</td>\n",
       "      <td>NaN</td>\n",
       "      <td>$114999150</td>\n",
       "      <td>gilgesh01</td>\n",
       "      <td>35859950.0</td>\n",
       "    </tr>\n",
       "    <tr>\n",
       "      <th>2</th>\n",
       "      <td>3.0</td>\n",
       "      <td>Giannis Antetokounmpo</td>\n",
       "      <td>29.0</td>\n",
       "      <td>MIL</td>\n",
       "      <td>PF</td>\n",
       "      <td>73.0</td>\n",
       "      <td>73.0</td>\n",
       "      <td>2567.0</td>\n",
       "      <td>837.0</td>\n",
       "      <td>1369.0</td>\n",
       "      <td>...</td>\n",
       "      <td>MIL</td>\n",
       "      <td>$48787676</td>\n",
       "      <td>$54126450</td>\n",
       "      <td>$58456566</td>\n",
       "      <td>$62786682</td>\n",
       "      <td>NaN</td>\n",
       "      <td>NaN</td>\n",
       "      <td>$161370692</td>\n",
       "      <td>antetgi01</td>\n",
       "      <td>48787676.0</td>\n",
       "    </tr>\n",
       "    <tr>\n",
       "      <th>3</th>\n",
       "      <td>4.0</td>\n",
       "      <td>Jalen Brunson</td>\n",
       "      <td>27.0</td>\n",
       "      <td>NYK</td>\n",
       "      <td>PG</td>\n",
       "      <td>77.0</td>\n",
       "      <td>77.0</td>\n",
       "      <td>2726.0</td>\n",
       "      <td>790.0</td>\n",
       "      <td>1648.0</td>\n",
       "      <td>...</td>\n",
       "      <td>NYK</td>\n",
       "      <td>$24960001</td>\n",
       "      <td>$34944001</td>\n",
       "      <td>$37739521</td>\n",
       "      <td>$40535041</td>\n",
       "      <td>$43330561</td>\n",
       "      <td>NaN</td>\n",
       "      <td>$138178564</td>\n",
       "      <td>brunsja01</td>\n",
       "      <td>24960001.0</td>\n",
       "    </tr>\n",
       "    <tr>\n",
       "      <th>4</th>\n",
       "      <td>5.0</td>\n",
       "      <td>Nikola JokiÄ</td>\n",
       "      <td>28.0</td>\n",
       "      <td>DEN</td>\n",
       "      <td>C</td>\n",
       "      <td>79.0</td>\n",
       "      <td>79.0</td>\n",
       "      <td>2737.0</td>\n",
       "      <td>822.0</td>\n",
       "      <td>1411.0</td>\n",
       "      <td>...</td>\n",
       "      <td>DEN</td>\n",
       "      <td>$51415938</td>\n",
       "      <td>$55224526</td>\n",
       "      <td>$59033114</td>\n",
       "      <td>$62841702</td>\n",
       "      <td>NaN</td>\n",
       "      <td>NaN</td>\n",
       "      <td>$165673578</td>\n",
       "      <td>jokicni01</td>\n",
       "      <td>51415938.0</td>\n",
       "    </tr>\n",
       "  </tbody>\n",
       "</table>\n",
       "<p>5 rows × 44 columns</p>\n",
       "</div>"
      ],
      "text/plain": [
       "   Rk_x                   Player   Age Team Pos     G    GS      MP     FG  \\\n",
       "0   1.0            Luka DonÄiÄ  24.0  DAL  PG  70.0  70.0  2624.0  804.0   \n",
       "1   2.0  Shai Gilgeous-Alexander  25.0  OKC  PG  75.0  75.0  2553.0  796.0   \n",
       "2   3.0    Giannis Antetokounmpo  29.0  MIL  PF  73.0  73.0  2567.0  837.0   \n",
       "3   4.0            Jalen Brunson  27.0  NYK  PG  77.0  77.0  2726.0  790.0   \n",
       "4   5.0            Nikola JokiÄ  28.0  DEN   C  79.0  79.0  2737.0  822.0   \n",
       "\n",
       "      FGA  ...   Tm    2024-25    2025-26    2026-27    2027-28    2028-29  \\\n",
       "0  1652.0  ...  LAL  $43031940  $45999660  $48967380        NaN        NaN   \n",
       "1  1487.0  ...  OKC  $35859950  $38333050  $40806150        NaN        NaN   \n",
       "2  1369.0  ...  MIL  $48787676  $54126450  $58456566  $62786682        NaN   \n",
       "3  1648.0  ...  NYK  $24960001  $34944001  $37739521  $40535041  $43330561   \n",
       "4  1411.0  ...  DEN  $51415938  $55224526  $59033114  $62841702        NaN   \n",
       "\n",
       "   2029-30  Guaranteed      -9999      Salary  \n",
       "0      NaN   $89031600  doncilu01  43031940.0  \n",
       "1      NaN  $114999150  gilgesh01  35859950.0  \n",
       "2      NaN  $161370692  antetgi01  48787676.0  \n",
       "3      NaN  $138178564  brunsja01  24960001.0  \n",
       "4      NaN  $165673578  jokicni01  51415938.0  \n",
       "\n",
       "[5 rows x 44 columns]"
      ]
     },
     "execution_count": 75,
     "metadata": {},
     "output_type": "execute_result"
    }
   ],
   "source": [
    "# Merging the two datasets\n",
    "NBA = pd.merge(NBA_perf, NBA_salary, how='inner', left_on='Player', right_on='Player')\n",
    "NBA['Salary'] = NBA['2024-25'].str.replace('$', '').str.replace(',', '').astype(float)\n",
    "NBA.head()"
   ]
  },
  {
   "cell_type": "code",
   "execution_count": 76,
   "metadata": {},
   "outputs": [],
   "source": [
    "#Drop variables that will not be needed or are duplicates\n",
    "def drop_columns(df):\n",
    "     # Dropping all repetitive columns\n",
    "     df = df.drop(columns=['Rk_x','GS', 'FGA', 'FG%', '3PA', '3P%',\n",
    "          '2PA', '2P%', 'FTA', 'FT%', 'ORB', 'DRB', 'Awards', 'Player-additional', \n",
    "          '2024-25', '2025-26', '2026-27', '2027-28', '2028-29', '2029-30',\n",
    "          'Tm', 'Guaranteed', '-9999', 'Rk_y'], axis=1)  \n",
    "     df = df.dropna()\n",
    "\n",
    "     # Dropping duplicates\n",
    "     df = df.drop_duplicates(subset = ['Player'], keep = 'last')\n",
    "     return df\n",
    "\n",
    "NBA = drop_columns(NBA)"
   ]
  },
  {
   "cell_type": "code",
   "execution_count": 77,
   "metadata": {},
   "outputs": [],
   "source": [
    "# Scale the data\n",
    "\n",
    "columns_for_scaling = ['FG','3P', '2P', 'PTS', 'AST', 'TRB', 'STL', 'BLK', 'TOV']\n",
    "scaler = StandardScaler()\n",
    "NBA[columns_for_scaling] = scaler.fit_transform(NBA[columns_for_scaling])\n"
   ]
  },
  {
   "cell_type": "code",
   "execution_count": 78,
   "metadata": {},
   "outputs": [],
   "source": [
    "#Run the clustering algo with your best guess for K\n",
    "clust_data1 = NBA[[\"FG\", \"AST\", \"TRB\"]]\n",
    "kmeans_obj1 = KMeans(n_clusters=2, random_state=1).fit(clust_data1)"
   ]
  },
  {
   "cell_type": "code",
   "execution_count": 79,
   "metadata": {},
   "outputs": [
    {
     "name": "stdout",
     "output_type": "stream",
     "text": [
      "Results:\n",
      "[[ 1.11653579  0.9969124   0.93640791]\n",
      " [-0.59408131 -0.53043264 -0.49823968]]\n",
      "[0 0 0 0 0 0 0 0 0 0 0 0 0 0 0 0 0 0 0 0 0 0 0 0 0 0 0 0 0 0 0 0 0 0 0 0 0\n",
      " 0 0 0 0 0 0 0 0 0 0 0 0 0 0 0 0 0 0 0 0 0 0 0 0 0 0 1 0 0 0 0 0 0 1 1 0 0\n",
      " 0 0 1 0 0 0 0 0 0 0 0 1 0 0 0 0 0 0 0 1 0 1 0 0 0 0 1 0 0 0 0 0 1 0 0 1 0\n",
      " 1 0 1 1 0 1 0 1 0 0 0 1 0 0 1 0 1 0 0 1 0 0 0 0 0 0 0 1 1 0 0 0 0 1 0 1 0\n",
      " 1 1 1 0 1 0 1 1 0 1 0 1 1 1 1 1 1 0 0 1 1 1 1 1 0 1 1 0 1 1 1 1 1 1 1 1 0\n",
      " 0 1 1 0 1 1 1 1 0 1 1 1 1 1 0 1 1 1 0 1 1 1 1 1 1 1 1 1 1 1 1 1 1 0 1 1 1\n",
      " 1 1 1 1 0 1 1 1 1 1 1 1 1 1 1 1 1 1 1 1 1 1 1 1 1 1 1 1 1 1 1 1 1 1 1 1 1\n",
      " 1 1 1 1 1 1 1 1 1 1 1 1 1 1 1 1 1 1 1 1 1 1 1 1 1 1 1 1 1 1 1 1 1 1 1 1 1\n",
      " 1 1 1 1 1 1 1 1 1 1 1 1 1 1 1 1 1 1 1 1 1 1 1 1 1 1 1 1 1 1 1 1 1 1 1 1 1\n",
      " 1 1 1 1 1 1 1 1 1 1 1 1 1 1 1 1 1 1 1 1 1 1 1 1 1 1 1 1 1 1 1 1 1 1 1 1 1\n",
      " 1 1 1 1 1 1 1 1 1 1 1 1 1 1 1 1 1 1 1 1 1 1 1 1 1 1 1 1 1 1 1 1 1 1 1 1]\n",
      "544.5826178691678\n"
     ]
    }
   ],
   "source": [
    "#View the results\n",
    "print(\"Results:\")\n",
    "print(kmeans_obj1.cluster_centers_)\n",
    "print(kmeans_obj1.labels_)\n",
    "print(kmeans_obj1.inertia_)"
   ]
  },
  {
   "cell_type": "code",
   "execution_count": 80,
   "metadata": {},
   "outputs": [
    {
     "data": {
      "application/vnd.plotly.v1+json": {
       "config": {
        "plotlyServerURL": "https://plot.ly"
       },
       "data": [
        {
         "hovertemplate": "Field Goals=%{x}<br>Assists=%{y}<br>Total Rebounds=%{z}<br>color=%{marker.color}<extra></extra>",
         "legendgroup": "",
         "marker": {
          "color": [
           0,
           0,
           0,
           0,
           0,
           0,
           0,
           0,
           0,
           0,
           0,
           0,
           0,
           0,
           0,
           0,
           0,
           0,
           0,
           0,
           0,
           0,
           0,
           0,
           0,
           0,
           0,
           0,
           0,
           0,
           0,
           0,
           0,
           0,
           0,
           0,
           0,
           0,
           0,
           0,
           0,
           0,
           0,
           0,
           0,
           0,
           0,
           0,
           0,
           0,
           0,
           0,
           0,
           0,
           0,
           0,
           0,
           0,
           0,
           0,
           0,
           0,
           0,
           1,
           0,
           0,
           0,
           0,
           0,
           0,
           1,
           1,
           0,
           0,
           0,
           0,
           1,
           0,
           0,
           0,
           0,
           0,
           0,
           0,
           0,
           1,
           0,
           0,
           0,
           0,
           0,
           0,
           0,
           1,
           0,
           1,
           0,
           0,
           0,
           0,
           1,
           0,
           0,
           0,
           0,
           0,
           1,
           0,
           0,
           1,
           0,
           1,
           0,
           1,
           1,
           0,
           1,
           0,
           1,
           0,
           0,
           0,
           1,
           0,
           0,
           1,
           0,
           1,
           0,
           0,
           1,
           0,
           0,
           0,
           0,
           0,
           0,
           0,
           1,
           1,
           0,
           0,
           0,
           0,
           1,
           0,
           1,
           0,
           1,
           1,
           1,
           0,
           1,
           0,
           1,
           1,
           0,
           1,
           0,
           1,
           1,
           1,
           1,
           1,
           1,
           0,
           0,
           1,
           1,
           1,
           1,
           1,
           0,
           1,
           1,
           0,
           1,
           1,
           1,
           1,
           1,
           1,
           1,
           1,
           0,
           0,
           1,
           1,
           0,
           1,
           1,
           1,
           1,
           0,
           1,
           1,
           1,
           1,
           1,
           0,
           1,
           1,
           1,
           0,
           1,
           1,
           1,
           1,
           1,
           1,
           1,
           1,
           1,
           1,
           1,
           1,
           1,
           1,
           0,
           1,
           1,
           1,
           1,
           1,
           1,
           1,
           0,
           1,
           1,
           1,
           1,
           1,
           1,
           1,
           1,
           1,
           1,
           1,
           1,
           1,
           1,
           1,
           1,
           1,
           1,
           1,
           1,
           1,
           1,
           1,
           1,
           1,
           1,
           1,
           1,
           1,
           1,
           1,
           1,
           1,
           1,
           1,
           1,
           1,
           1,
           1,
           1,
           1,
           1,
           1,
           1,
           1,
           1,
           1,
           1,
           1,
           1,
           1,
           1,
           1,
           1,
           1,
           1,
           1,
           1,
           1,
           1,
           1,
           1,
           1,
           1,
           1,
           1,
           1,
           1,
           1,
           1,
           1,
           1,
           1,
           1,
           1,
           1,
           1,
           1,
           1,
           1,
           1,
           1,
           1,
           1,
           1,
           1,
           1,
           1,
           1,
           1,
           1,
           1,
           1,
           1,
           1,
           1,
           1,
           1,
           1,
           1,
           1,
           1,
           1,
           1,
           1,
           1,
           1,
           1,
           1,
           1,
           1,
           1,
           1,
           1,
           1,
           1,
           1,
           1,
           1,
           1,
           1,
           1,
           1,
           1,
           1,
           1,
           1,
           1,
           1,
           1,
           1,
           1,
           1,
           1,
           1,
           1,
           1,
           1,
           1,
           1,
           1,
           1,
           1,
           1,
           1,
           1,
           1,
           1,
           1,
           1,
           1,
           1,
           1,
           1,
           1,
           1,
           1,
           1,
           1,
           1,
           1,
           1,
           1,
           1,
           1,
           1,
           1,
           1,
           1,
           1,
           1,
           1,
           1,
           1,
           1,
           1,
           1,
           1,
           1
          ],
          "coloraxis": "coloraxis",
          "opacity": 0.8,
          "size": 5,
          "symbol": "circle"
         },
         "mode": "markers",
         "name": "",
         "scene": "scene",
         "showlegend": false,
         "type": "scatter3d",
         "x": [
          3.032711449799775,
          2.990385757291666,
          3.2073049313957247,
          2.9586414879105845,
          3.12794425794302,
          2.577710255337603,
          2.752303736933553,
          2.334337523415976,
          2.58829167846463,
          2.2179418690186763,
          2.2179418690186763,
          2.5512566975200346,
          2.1756161765105673,
          2.4031167737416532,
          2.154453330256513,
          2.1650347533835403,
          1.6412543085956912,
          2.334337523415976,
          0.6624726693456705,
          1.8581734826997498,
          2.006313406478131,
          2.096255503057863,
          1.757649962992991,
          1.7629406745565046,
          2.0803833683673223,
          2.1332904840024582,
          1.995731983351104,
          1.6941614242308274,
          1.6412543085956912,
          1.7523592514294772,
          1.5089865195078505,
          1.5618936351429868,
          1.4402072691821735,
          1.4560794038727143,
          1.7364871167389364,
          1.572475058270014,
          1.5513122120159595,
          1.4243351344916326,
          1.0698574597362196,
          1.3714280188564962,
          1.8793363289538043,
          1.3820094419835236,
          1.5830564813970414,
          1.4507886923092006,
          1.3714280188564962,
          1.5407307888889323,
          1.614800750778123,
          1.1597995563159513,
          1.3132301916578464,
          1.2709044991497374,
          1.4243351344916326,
          1.5671843467065005,
          1.4137537113646053,
          1.3396837494754146,
          1.2973580569673056,
          1.1968345372605467,
          1.2973580569673056,
          1.038113190355138,
          1.5248586541983915,
          1.0169503441010834,
          1.1333459984983831,
          1.2867766338402782,
          0.8741011318862155,
          -0.2157854501975914,
          1.2285788066416283,
          0.641309823091616,
          1.1439274216254103,
          1.191543825697033,
          0.9852060747200017,
          1.122764575371356,
          0.2180528980105259,
          0.027587281724035375,
          0.8317754393781065,
          0.852938285632161,
          0.8053218815605383,
          1.2444509413321694,
          -0.3956696433570547,
          0.8741011318862155,
          0.8264847278145928,
          0.9270082475213517,
          0.8688104203227018,
          0.9270082475213517,
          0.8476475740686473,
          0.8211940162510792,
          0.9270082475213517,
          0.7524147659254021,
          0.8264847278145928,
          0.7788683237429702,
          0.6836355155997249,
          0.7629961890524294,
          0.8793918434497291,
          0.5778212843294525,
          0.8846825550132428,
          -0.4697396052462454,
          0.9058454012672972,
          0.6148562652740478,
          0.6836355155997249,
          0.7153797849808067,
          0.9058454012672972,
          0.4667163414956663,
          0.6889262271632386,
          0.7735776121794566,
          0.6042748421470205,
          0.5566584380753979,
          0.5619491496389115,
          0.6466005346551296,
          -0.5491002786989498,
          0.5354955918213434,
          0.6836355155997249,
          0.6995076502902658,
          1.038113190355138,
          0.5196234571308026,
          0.6783448040362113,
          0.3873556680429619,
          0.47200705305917995,
          0.583111995892966,
          0.4455534952416118,
          0.4931698993132344,
          0.3873556680429619,
          0.33444855240782567,
          0.4032278027335028,
          0.5354955918213434,
          -0.6390423752786815,
          0.31328570615377116,
          0.5778212843294525,
          0.3027042830267439,
          0.5302048802578299,
          0.34502997553485293,
          0.3873556680429619,
          0.5354955918213434,
          0.23392503270106677,
          0.7153797849808067,
          0.625437688401075,
          0.32915784084431204,
          0.6466005346551296,
          0.5037513224402617,
          0.47200705305917995,
          0.45613491836863906,
          -0.45386747055570453,
          -0.9247407997084173,
          0.5619491496389115,
          0.5037513224402617,
          0.35032068709836656,
          0.47200705305917995,
          -0.45386747055570453,
          0.3556113986618802,
          0.2392157442645804,
          0.38206495647944827,
          0.2815414367726894,
          0.20747147488349865,
          -0.5279374324448953,
          0.3397392639713393,
          0.4032278027335028,
          0.37148353335242107,
          0.22863432113755314,
          -0.5596817018259771,
          0.5249141686943162,
          -0.5385188555719226,
          0.11752937830376702,
          0.09636653204971252,
          0.054040839541603505,
          0.11752937830376702,
          -0.7395658949854403,
          0.21276218644701228,
          -0.956485069089499,
          0.21276218644701228,
          0.19159934019295777,
          0.12282008986728064,
          0.043459416414576256,
          0.027587281724035375,
          0.09107582048619889,
          0.08578510892268526,
          0.1545643592483624,
          0.02229657016052175,
          0.054040839541603505,
          0.017005858597008126,
          -0.04648268016515538,
          0.1545643592483624,
          -0.004156987657046377,
          -0.06764552641920989,
          -0.7554380296759812,
          -0.04119196860164176,
          0.017005858597008126,
          -0.04648268016515538,
          0.14927364768484877,
          0.043459416414576256,
          -0.06235481485569626,
          -0.5226467208813816,
          0.02229657016052175,
          -0.08351766110975076,
          -0.09938979580029164,
          -0.6549145099692223,
          -0.39037893179354105,
          -0.08880837267326439,
          -0.136424776744887,
          -0.04119196860164176,
          -0.07293623798272351,
          -0.2528204311421868,
          0.006424435469980874,
          0.09107582048619889,
          -0.09938979580029164,
          0.0117151470334945,
          -0.1946226039435369,
          -0.13113406518137338,
          -0.22636687332461866,
          -0.12055264205434614,
          -0.18933189238002326,
          -0.17875046925299604,
          -0.2528204311421868,
          -0.30043683521380943,
          -0.3268903930313775,
          -0.009447699220560003,
          -0.24752971957867315,
          -0.26340185426921403,
          -0.23694829645164592,
          -0.22107616176110503,
          -0.28985541208678217,
          -0.33747181615840477,
          -0.16816904612596878,
          -0.35334395084894565,
          -0.23694829645164592,
          -0.32159968146786394,
          -0.9035779534543628,
          -0.3850882202300274,
          -0.3850882202300274,
          -0.05177339172866901,
          -0.24223900801515952,
          -0.2739832773962413,
          -0.32159968146786394,
          -0.3427625277219184,
          -0.8400894146921992,
          -0.2316575848881323,
          -0.35334395084894565,
          -0.47503031680975905,
          -0.3797975086665138,
          -0.4221232011746228,
          -0.36921608553948654,
          -0.40625106648408194,
          -1.168113531630044,
          -0.5755538365165179,
          -0.4856117399367863,
          -0.42741391273813645,
          -0.4644488936827318,
          -0.33218110459489114,
          -0.41154177804759556,
          -0.4697396052462454,
          -0.4485767589921909,
          -0.4009603549205683,
          -0.5596817018259771,
          -0.4168324896111092,
          -0.5967166827705724,
          -0.4485767589921909,
          -0.45386747055570453,
          -0.4009603549205683,
          -0.5279374324448953,
          -1.1734042431935576,
          -0.49090245150029993,
          -0.4432860474286773,
          -0.4856117399367863,
          -0.5543909902624634,
          -0.5491002786989498,
          -1.0728807234867987,
          -0.49090245150029993,
          -0.5702631249530044,
          -0.40625106648408194,
          -0.4697396052462454,
          -0.4856117399367863,
          -0.5967166827705724,
          -0.6760773562232768,
          -0.5279374324448953,
          -0.6390423752786815,
          -0.6231702405881405,
          -0.6125888174611134,
          -0.617879529024627,
          -0.5543909902624634,
          -0.6549145099692223,
          -0.6496237984057087,
          -0.5543909902624634,
          -0.6231702405881405,
          -0.6972402024773313,
          -0.7131123371678723,
          -0.7871822990570629,
          -0.6813680677867905,
          -0.6072981058975997,
          -0.6760773562232768,
          -1.041136454105717,
          -0.644333086842195,
          -0.7660194528030084,
          -0.7184030487313858,
          -0.660205221532736,
          -0.6919494909138177,
          -0.6813680677867905,
          -0.6496237984057087,
          -0.7395658949854403,
          -0.7078216256043586,
          -0.7078216256043586,
          -0.7977637221840902,
          -0.7818915874935494,
          -0.7448566065489539,
          -0.702530914040845,
          -0.7607287412394949,
          -0.702530914040845,
          -0.7713101643665221,
          -0.6760773562232768,
          -0.7554380296759812,
          -0.7977637221840902,
          -0.7871822990570629,
          -0.7977637221840902,
          -1.0834621466138261,
          -0.7289844718584131,
          -0.7289844718584131,
          -0.7660194528030084,
          -1.1998578010111258,
          -0.7554380296759812,
          -0.8189265684381447,
          -0.7924730106205766,
          -0.7871822990570629,
          -1.0834621466138261,
          -0.8400894146921992,
          -0.7924730106205766,
          -0.9617757806530126,
          -1.1786949547570713,
          -0.8506708378192265,
          -0.8877058187638218,
          -0.8347987031286856,
          -0.8242172800016584,
          -0.85596154938274,
          -0.8030544337476039,
          -0.85596154938274,
          -1.183985666320585,
          -0.9353222228354445,
          -0.8347987031286856,
          -0.8771243956367946,
          -0.9088686650178763,
          -0.956485069089499,
          -1.1522413969395031,
          -0.9194500881449036,
          -0.8347987031286856,
          -0.9353222228354445,
          -0.8665429725097673,
          -0.9300315112719308,
          -0.8929965303273355,
          -0.9194500881449036,
          -0.9617757806530126,
          -0.9088686650178763,
          -0.9511943575259854,
          -0.91415937658139,
          -0.9617757806530126,
          -0.9511943575259854,
          -0.956485069089499,
          -0.9617757806530126,
          -1.0781714350503124,
          -0.956485069089499,
          -1.0093921847246352,
          -0.956485069089499,
          -0.9829386269070671,
          -0.9829386269070671,
          -0.9829386269070671,
          -1.0093921847246352,
          -1.0305550309786897,
          -1.0305550309786897,
          -0.9935200500340944,
          -1.0199736078516626,
          -1.025264319415176,
          -1.0517178772327442,
          -1.067590011923285,
          -1.0728807234867987,
          -1.041136454105717,
          -1.1575321085030168,
          -1.0834621466138261,
          -1.0464271656692306,
          -1.0464271656692306,
          -1.099334281304367,
          -1.0728807234867987,
          -1.067590011923285,
          -1.099334281304367,
          -1.1363692622489623,
          -1.1310785506854486,
          -1.125787839121935,
          -1.1363692622489623,
          -1.2157299357016667,
          -1.141659973812476,
          -1.1310785506854486,
          -1.168113531630044,
          -1.141659973812476,
          -1.1786949547570713,
          -1.1786949547570713,
          -1.168113531630044,
          -1.168113531630044,
          -1.1522413969395031,
          -1.1734042431935576,
          -1.1628228200665305,
          -1.1786949547570713,
          -1.1734042431935576,
          -1.1786949547570713,
          -1.1734042431935576,
          -1.1892763778840985,
          -1.1892763778840985,
          -1.2210206472651803,
          -1.1998578010111258,
          -1.2051485125746393,
          -1.210439224138153,
          -1.210439224138153,
          -1.2157299357016667,
          -1.2157299357016667,
          -1.2157299357016667
         ],
         "y": [
          3.8610772030119964,
          2.2877203759052827,
          2.3660322541775627,
          2.6721605056055657,
          4.0177009595565565,
          1.8605646762383017,
          1.6683446113881601,
          1.5686749481325313,
          1.9531150778328141,
          1.6754638730492766,
          1.9744728628161632,
          0.8709873053431287,
          2.3375552075330974,
          3.1705088218837103,
          2.0599040027495596,
          2.045665479427327,
          2.5938486273332857,
          2.5511330573665876,
          0.059391475975864715,
          0.8425102586986634,
          0.714363548798569,
          0.7499598571041508,
          1.0489688468710376,
          1.1059229401599684,
          1.483243808199135,
          3.768526801417484,
          1.0845651551766193,
          0.9279413986320596,
          1.8605646762383017,
          1.1059229401599684,
          0.07362999929809741,
          0.3441619424205188,
          1.3479778366379243,
          1.7039409196937418,
          0.6218131472040564,
          0.8923450903264778,
          2.2806011142441664,
          4.330948472645676,
          3.127793251917012,
          0.23025375584265714,
          0.7855561654097326,
          2.408747824144261,
          0.956418445276525,
          0.4011160357094496,
          1.4191704532490879,
          -0.15418637385762585,
          1.2696659583656444,
          0.5363820072706602,
          0.3228041574371697,
          0.7357213337819181,
          1.5615556864714148,
          1.198473341754481,
          0.9492991836154087,
          1.1486385101266665,
          -0.3108101304021856,
          2.1809314509885374,
          0.2231344941815408,
          -0.23961751379102206,
          0.4723086523206131,
          3.1705088218837103,
          0.5150242222873113,
          1.7110601813548583,
          1.098803678498852,
          0.002437382686933899,
          0.5221434839484276,
          3.348490363411619,
          1.5615556864714148,
          0.1377033542481446,
          1.0845651551766193,
          -0.10435154222981137,
          -0.09723228056869503,
          0.8069139503930817,
          -0.20402120548544028,
          -0.03315892561864786,
          0.059391475975864715,
          -0.28233308375772015,
          0.2231344941815408,
          1.6113905180992294,
          1.6612253497270437,
          1.0133725385654557,
          0.6075746238818238,
          -0.26809456043548746,
          0.36551972740386784,
          0.08786852262033011,
          -0.2965716070799529,
          -0.4389568403022799,
          -0.3036908687410692,
          -0.1613056355187422,
          0.7926754270708489,
          1.6327483030825785,
          -0.47455314860786163,
          0.5933361005595911,
          0.8211524737153143,
          -0.33216791538553464,
          0.20889597085930808,
          -0.3179293920633019,
          0.6146938855429401,
          -0.11859006555204407,
          1.725298704677091,
          1.340858574976808,
          -0.17554415884097488,
          0.8638680436820124,
          1.440528238232437,
          0.43671234401503134,
          0.9492991836154087,
          -0.17554415884097488,
          -0.7094887834247012,
          0.6574094555096383,
          0.7001250254763364,
          -0.44607610196339625,
          -0.3820027470133491,
          -0.17554415884097488,
          0.42247382069279865,
          -0.40336053199669814,
          -0.2538560371132548,
          0.36551972740386784,
          -0.2538560371132548,
          0.31568489577605335,
          0.3441619424205188,
          2.173812189327421,
          1.3693356216212733,
          -0.33928717704665096,
          -0.8376354933247956,
          -0.3677642236911164,
          0.7499598571041508,
          -0.218259728807673,
          1.3479778366379243,
          -0.17554415884097488,
          0.9920147535821068,
          -0.11147080389092773,
          -0.13994785053539313,
          0.023795167670282953,
          0.023795167670282953,
          0.3939967740483332,
          -0.37488348535223276,
          1.1699962951100156,
          1.120161463482201,
          1.0560881085321538,
          -0.6952502601024686,
          -0.5386265035579089,
          -0.36064496203,
          2.43010560912761,
          0.977776230259874,
          0.11634556926479553,
          -0.36064496203,
          0.3584004657427515,
          -0.04027818727976421,
          2.380270777499795,
          -0.32504865372441827,
          0.2800885874704716,
          -0.11147080389092773,
          1.3337393133156916,
          -0.3036908687410692,
          1.155757771787783,
          -0.03315892561864786,
          -0.7735621383747484,
          1.7537757513215564,
          -0.3677642236911164,
          0.7357213337819181,
          -0.4389568403022799,
          -0.6026998585079559,
          -0.17554415884097488,
          -0.8233969700025628,
          0.08786852262033011,
          -0.8803510632914937,
          0.9208221369709433,
          -0.7593236150525157,
          -0.17554415884097488,
          -0.4887916719300944,
          0.42959308235391497,
          0.15906113923149362,
          -0.04027818727976421,
          -0.6382961668135377,
          -0.08299375724646232,
          -0.004681878974182452,
          -0.5172687185745598,
          -0.3179293920633019,
          0.9706569685987577,
          -0.5457457652190252,
          0.5007856989650785,
          -0.4389568403022799,
          -0.34640643870776733,
          -0.5742228118634906,
          -0.08299375724646232,
          -0.2467367754521384,
          0.1377033542481446,
          0.6574094555096383,
          -0.8233969700025628,
          0.31568489577605335,
          -0.2609752987743711,
          -0.7878006616969812,
          -0.33928717704665096,
          -0.645415428474654,
          0.17329966255372634,
          -0.21114046714655665,
          -0.4959109335912107,
          -0.16842489717985853,
          -0.2538560371132548,
          -0.16842489717985853,
          -0.11859006555204407,
          -0.4104797936578145,
          -0.4389568403022799,
          -0.6169383818301887,
          1.7751335363049054,
          -0.23961751379102206,
          -0.4104797936578145,
          -0.2467367754521384,
          -0.40336053199669814,
          0.23025375584265714,
          -0.5243879802356761,
          0.2231344941815408,
          -0.5955805968468396,
          0.2373730175037735,
          0.002437382686933899,
          -0.026039663957531507,
          -0.5386265035579089,
          -0.3535257003688837,
          -0.5243879802356761,
          1.3337393133156916,
          -0.2894523454188365,
          -0.5030301952523271,
          -0.32504865372441827,
          -0.26809456043548746,
          -0.20402120548544028,
          -0.2538560371132548,
          -0.5955805968468396,
          1.340858574976808,
          -0.09723228056869503,
          -0.11147080389092773,
          -0.481672410268978,
          -0.7664428767136321,
          -0.6382961668135377,
          -0.44607610196339625,
          -0.054516710601996914,
          -0.5528650268801415,
          0.12346483092591187,
          0.09498778428144647,
          -0.27521382209660383,
          -0.9942592498693553,
          0.30144637245382067,
          -0.21114046714655665,
          -0.4887916719300944,
          -0.5101494569134434,
          -0.4175990553189308,
          -0.5243879802356761,
          -0.1897826821632076,
          -0.8091584466803302,
          -0.6667732134580031,
          0.009556644348050251,
          -0.5742228118634906,
          -0.6098191201690724,
          -0.06875523392422962,
          -0.4531953636245126,
          -0.5884613351857233,
          -0.40336053199669814,
          -0.9230666332581918,
          -0.3535257003688837,
          0.7855561654097326,
          0.14482261590926093,
          -0.3820027470133491,
          -0.3820027470133491,
          -0.9301858949193081,
          -0.218259728807673,
          -0.6738924751191195,
          -0.16842489717985853,
          -0.5457457652190252,
          -0.07587449558534597,
          -0.6382961668135377,
          -0.7593236150525157,
          -0.36064496203,
          -0.8589932783081446,
          -0.14706711219650948,
          -0.37488348535223276,
          -0.5528650268801415,
          -0.46031462528562894,
          -0.4175990553189308,
          -0.6098191201690724,
          -0.7878006616969812,
          -0.6026998585079559,
          0.42247382069279865,
          -0.7166080450858177,
          -0.8376354933247956,
          -0.4104797936578145,
          -0.18266342050209125,
          -0.5955805968468396,
          -0.8803510632914937,
          -0.6952502601024686,
          -0.5671035502023742,
          -0.23961751379102206,
          -0.5599842885412579,
          -0.32504865372441827,
          0.15906113923149362,
          -0.5671035502023742,
          -0.6810117367802359,
          -0.36064496203,
          -0.7308465684080503,
          -0.8162777083414465,
          -0.8091584466803302,
          -0.645415428474654,
          -0.12570932721316042,
          -0.6311769051524214,
          -0.866112539969261,
          -0.6311769051524214,
          -0.6810117367802359,
          -0.23961751379102206,
          -0.7094887834247012,
          -0.6881309984413522,
          -0.5030301952523271,
          -0.9230666332581918,
          -0.6667732134580031,
          -0.9017088482748428,
          -0.8589932783081446,
          -0.9942592498693553,
          -0.8305162316636793,
          -0.7023695217635849,
          -0.8020391850192138,
          -0.28233308375772015,
          -0.7593236150525157,
          -0.4247183169800472,
          -0.7735621383747484,
          -0.9515436799026572,
          -0.9942592498693553,
          -0.23961751379102206,
          -0.5386265035579089,
          -0.6738924751191195,
          -0.7806814000358647,
          -0.7949199233580975,
          -0.9017088482748428,
          -0.44607610196339625,
          -1.008497773191588,
          -0.9088281099359591,
          -0.8945895866137263,
          -0.7593236150525157,
          -0.8162777083414465,
          -0.5884613351857233,
          -0.9586629415637735,
          -0.7735621383747484,
          -0.6596539517968868,
          -0.5813420735246069,
          -0.8803510632914937,
          -0.7379658300691666,
          -0.7949199233580975,
          -0.8732318016303774,
          -0.8945895866137263,
          -0.7664428767136321,
          -0.8589932783081446,
          -0.8376354933247956,
          -0.8518740166470283,
          -0.6667732134580031,
          -0.8945895866137263,
          -0.7593236150525157,
          -0.8803510632914937,
          -0.6667732134580031,
          -0.866112539969261,
          -0.6667732134580031,
          -0.7379658300691666,
          -0.8732318016303774,
          -0.987139988208239,
          -0.8803510632914937,
          -0.9942592498693553,
          -0.7806814000358647,
          -0.4104797936578145,
          -0.8447547549859119,
          -0.8447547549859119,
          -0.9301858949193081,
          -0.8233969700025628,
          -0.9230666332581918,
          -0.8305162316636793,
          -1.0013785115304716,
          -0.745085091730283,
          -0.9729014648860063,
          -0.9586629415637735,
          -0.9088281099359591,
          -0.8803510632914937,
          -0.8732318016303774,
          -0.723727306746934,
          -0.9088281099359591,
          -0.96578220322489,
          -0.987139988208239,
          -0.9515436799026572,
          -1.0013785115304716,
          -0.8732318016303774,
          -0.987139988208239,
          -0.96578220322489,
          -0.8732318016303774,
          -1.008497773191588,
          -1.0013785115304716,
          -0.9942592498693553,
          -0.9800207265471226,
          -0.96578220322489,
          -0.9800207265471226,
          -0.987139988208239,
          -0.9942592498693553,
          -1.008497773191588,
          -1.008497773191588,
          -0.9800207265471226,
          -0.987139988208239,
          -0.987139988208239,
          -1.0227362965138207,
          -0.9800207265471226,
          -0.96578220322489,
          -1.0227362965138207,
          -1.0013785115304716,
          -1.0156170348527043,
          -1.0013785115304716,
          -1.0227362965138207
         ],
         "z": [
          2.166537011717826,
          0.9471066344360647,
          3.1862331030655056,
          0.22701197198950737,
          3.895815434673427,
          1.0259491157258338,
          1.3675998679814996,
          1.924753402429201,
          0.5528942279872194,
          0.5003325737940401,
          0.5528942279872194,
          3.816972953383658,
          0.38469693456904547,
          1.4884916726258122,
          0.12188866360314864,
          1.6777136277212579,
          0.44777091960086074,
          0.9523627998553826,
          0.4425147541815428,
          0.8051901681144804,
          0.9523627998553826,
          0.7999340026951625,
          0.9891559577906082,
          0.7210915214053935,
          0.8998011456622033,
          4.65270325505521,
          1.2046587399826436,
          2.734202877004163,
          0.6475052055349423,
          0.2900859570213226,
          0.6842983634701679,
          -0.10938261484684059,
          0.23752430282814324,
          -0.156688103620702,
          1.420161522174679,
          0.7683970101792549,
          0.174450317796328,
          0.19021881405428182,
          -0.45103336710250647,
          0.10086400192587688,
          2.975986486292788,
          0.006253024378154025,
          2.6395918994564402,
          2.171793177137144,
          -0.11989494568547646,
          1.7355314473337553,
          0.2480366336667791,
          1.0259491157258338,
          1.4727231763678583,
          0.19547497947359976,
          0.4687955812781325,
          1.8616794173973856,
          0.13765715986110244,
          0.2690612953440509,
          1.5673341539155812,
          0.6159682130190347,
          0.42149009250427105,
          1.1258162586928746,
          3.0285481404859675,
          0.22701197198950737,
          0.32687911495654814,
          0.03779001689406165,
          0.43725858876222484,
          -0.5509005100695473,
          1.1468409203701464,
          0.7053230251474396,
          1.3623437025621816,
          0.6317367092769886,
          0.15342565611905626,
          0.9733874615326544,
          -0.16194426904001996,
          -0.27757990826501455,
          0.9155696419201571,
          0.10086400192587688,
          -0.23027441949115313,
          1.9562903949451085,
          -0.6980731418104495,
          -0.11989494568547646,
          0.39520926540768136,
          1.6041273118508068,
          0.9891559577906082,
          0.9891559577906082,
          0.7473723485019831,
          -0.05156479523434328,
          3.9273524271893345,
          -0.2092497578138814,
          0.5581503934065374,
          2.00359588371897,
          -0.3564223895547836,
          -0.4352648708445527,
          1.7880931015269346,
          0.3163667841179123,
          1.2414518979178693,
          -0.6980731418104495,
          2.5554932527473535,
          0.07458317482928721,
          -0.26181141200706076,
          0.9155696419201571,
          1.4674670109485404,
          -0.1251511111047944,
          -0.24604291574910694,
          -0.014771637299117723,
          0.23752430282814324,
          -0.030540133557071532,
          -0.24604291574910694,
          0.45302708502017863,
          -0.2933484045229684,
          0.40046543082699926,
          -0.09887028400820472,
          0.31111061869859435,
          1.9668027257837444,
          0.05881467857133339,
          1.3308067100462742,
          -0.0673332914922971,
          0.2900859570213226,
          0.26380512992473293,
          0.21124347573155355,
          -0.0673332914922971,
          -0.324885397038876,
          -0.08835795316956883,
          -0.2145059232331993,
          0.589687385922445,
          -0.9293444202604387,
          0.926081972758793,
          1.2677327250144588,
          0.258548964505415,
          0.7263476868247114,
          -0.004259306460481849,
          0.5423818971485835,
          0.44777091960086074,
          0.23752430282814324,
          2.4766507714575843,
          2.492419267715538,
          0.19547497947359976,
          2.84458235080984,
          -0.41949637458659883,
          3.1652084413882338,
          0.1166324981838307,
          -0.17771276529797375,
          -0.987162239872936,
          2.0561575379121493,
          -0.2933484045229684,
          0.15868182153837418,
          1.2256834016599154,
          -0.45103336710250647,
          0.7105791905667576,
          0.08509550566792308,
          0.28482979160200467,
          0.22701197198950737,
          -0.2723237428456966,
          -0.408984043747963,
          2.3137096434587283,
          -0.05682096065366122,
          0.5686627242451733,
          -0.5929498334240908,
          -0.6980731418104495,
          -0.23027441949115313,
          -0.5509005100695473,
          0.20073114489291768,
          0.2164996411508715,
          -0.20399359239456344,
          -0.025283968137753597,
          -0.8662704352286235,
          -0.4562895325218244,
          -1.0239553978081617,
          1.01018061946788,
          2.48716310229622,
          0.10086400192587688,
          0.07983934024860515,
          -0.3564223895547836,
          -0.05682096065366122,
          0.6159682130190347,
          1.5988711464314889,
          -0.1514319382013841,
          0.2427804682474612,
          1.435930018432633,
          -0.28809223910365045,
          -0.49308269045705,
          0.07983934024860515,
          -0.4562895325218244,
          -0.41424020916728094,
          0.7683970101792549,
          0.5371257317292656,
          0.3741846037304096,
          1.3308067100462742,
          0.9155696419201571,
          -0.577181337166137,
          -0.2145059232331993,
          2.0561575379121493,
          0.4320024233429069,
          -0.28809223910365045,
          -0.9451129165183926,
          0.6107120475997168,
          0.9365943035974288,
          -0.7085854726490853,
          0.7421161830826651,
          -0.25129908116842486,
          -0.4825703596184141,
          0.8787764839849316,
          1.0206929503065159,
          -0.2565552465877428,
          0.5581503934065374,
          -0.20399359239456344,
          -0.05156479523434328,
          0.11137633276451277,
          0.12188866360314864,
          -0.5456443446502294,
          0.5686627242451733,
          -0.6402553221979522,
          -0.4562895325218244,
          0.2900859570213226,
          1.2940135521110485,
          -0.5982059988434087,
          0.25329279908609703,
          -0.5876936680047729,
          -0.5403881792309114,
          -0.3932155474900092,
          -0.2986045699422863,
          0.20073114489291768,
          -0.1514319382013841,
          0.3689284383110917,
          -0.5561566754888652,
          -0.8925512623252132,
          0.5423818971485835,
          -0.6034621642627267,
          0.752628513921301,
          0.8577518223076598,
          -0.2670675774263787,
          0.027277686055425774,
          -0.4562895325218244,
          -0.7611471268422647,
          0.5318695663099477,
          -0.2145059232331993,
          -0.6402553221979522,
          -0.36167855497410156,
          0.022021520636107836,
          -0.45103336710250647,
          -0.5982059988434087,
          -1.1763841949683818,
          -0.8978074277445312,
          -0.49308269045705,
          -0.28809223910365045,
          0.1166324981838307,
          0.8104463335337984,
          -0.13040727652411233,
          -0.5614128409081831,
          0.13240099444178452,
          0.016765355216789898,
          -0.577181337166137,
          0.4582832504394966,
          -0.5614128409081831,
          -0.7348662997456751,
          -0.05682096065366122,
          0.048302347732697516,
          -0.7558909614229468,
          -1.1711280295490638,
          -0.9188320894218028,
          -0.240786750329789,
          0.006253024378154025,
          -0.5193635175536396,
          -0.2250182540718352,
          -1.1763841949683818,
          0.3794407691497275,
          0.10086400192587688,
          -0.5088511867150037,
          0.13765715986110244,
          0.9681312961133365,
          -0.9083197585831669,
          -0.7506347960036289,
          -0.13566344194343027,
          -0.14617577278206614,
          0.03253385147474371,
          -0.5035950212956859,
          -0.38795938207069125,
          0.2690612953440509,
          -0.5824375025854549,
          -0.09361411858888677,
          -0.1251511111047944,
          -0.8557581043899876,
          -0.48782652503773205,
          -0.08835795316956883,
          -0.9661375781956643,
          -0.9556252473570284,
          -0.6612799838752239,
          -0.48782652503773205,
          -0.9503690819377105,
          -0.21976208865251726,
          -0.4247525400059168,
          -0.004259306460481849,
          -0.3301415624581939,
          -0.8820389314865773,
          -0.740122465164993,
          -0.19873742697524552,
          -0.7138416380684033,
          -0.9451129165183926,
          0.016765355216789898,
          -0.7926841193581724,
          -0.8978074277445312,
          -0.7664032922615827,
          -0.9293444202604387,
          -0.004259306460481849,
          -0.2670675774263787,
          -0.6980731418104495,
          -0.6402553221979522,
          0.1166324981838307,
          -0.6770484801331778,
          -0.9135759240024849,
          -0.9713937436149822,
          -1.150103367871792,
          -0.5614128409081831,
          -0.5141073521343217,
          -0.49308269045705,
          -1.2026650220649715,
          -0.4300087054252347,
          -0.5456443446502294,
          -0.7138416380684033,
          -0.6612799838752239,
          -1.0922855482592948,
          -0.10938261484684059,
          -0.7874279539388545,
          -0.6875608109718137,
          -1.1868965258070177,
          -0.8557581043899876,
          -0.4825703596184141,
          -0.46154569794114236,
          -0.740122465164993,
          -0.571925171746819,
          -0.571925171746819,
          -0.6402553221979522,
          -1.1395910370331561,
          -0.992418405292254,
          0.1481694906997383,
          -0.818964946454762,
          -0.5876936680047729,
          -0.997674570711572,
          -1.1290787061945202,
          -0.9661375781956643,
          -0.31962923161955803,
          -0.7506347960036289,
          -0.5929498334240908,
          -0.8662704352286235,
          -0.8557581043899876,
          -0.8399896081320338,
          -1.0239553978081617,
          -0.5088511867150037,
          -1.0449800594854333,
          -0.408984043747963,
          -1.0239553978081617,
          -0.9608814127763463,
          -0.8084526156161261,
          -0.9661375781956643,
          -1.15535953329111,
          -0.6402553221979522,
          -0.818964946454762,
          -0.5614128409081831,
          -0.903063593163849,
          -0.8347334427127159,
          -0.8820389314865773,
          -0.8137087810354441,
          -1.071260886582023,
          -0.7926841193581724,
          -0.6087183296820445,
          -0.46154569794114236,
          -0.9083197585831669,
          -1.0449800594854333,
          -0.997674570711572,
          -0.9766499090343002,
          -1.0607485557433871,
          -1.1816403603876997,
          -0.6455114876172702,
          -0.7821717885195365,
          -1.066004721162705,
          -1.0292115632274794,
          -1.0239553978081617,
          -0.8347334427127159,
          -1.076517052001341,
          -0.8610142698093055,
          -1.144847202452474,
          -1.1395910370331561,
          -1.1185663753558845,
          -1.2236896837422433,
          -1.160615698710428,
          -1.0344677286467974,
          -1.1658718641297459,
          -1.1868965258070177,
          -1.1868965258070177,
          -1.1974088566456536,
          -1.1080540445172486,
          -1.1974088566456536,
          -1.1290787061945202,
          -1.2184335183229253,
          -1.1238225407752025,
          -1.1185663753558845,
          -1.1763841949683818,
          -1.1868965258070177,
          -1.1711280295490638,
          -1.1290787061945202,
          -1.2079211874842894,
          -1.228945849161561,
          -1.2131773529036074,
          -1.2131773529036074,
          -1.2236896837422433,
          -1.228945849161561,
          -1.2079211874842894,
          -1.2131773529036074,
          -1.228945849161561
         ]
        }
       ],
       "layout": {
        "coloraxis": {
         "colorbar": {
          "title": {
           "text": "color"
          }
         },
         "colorscale": [
          [
           0,
           "#440154"
          ],
          [
           0.1111111111111111,
           "#482878"
          ],
          [
           0.2222222222222222,
           "#3e4989"
          ],
          [
           0.3333333333333333,
           "#31688e"
          ],
          [
           0.4444444444444444,
           "#26828e"
          ],
          [
           0.5555555555555556,
           "#1f9e89"
          ],
          [
           0.6666666666666666,
           "#35b779"
          ],
          [
           0.7777777777777778,
           "#6ece58"
          ],
          [
           0.8888888888888888,
           "#b5de2b"
          ],
          [
           1,
           "#fde725"
          ]
         ]
        },
        "legend": {
         "tracegroupgap": 0
        },
        "scene": {
         "domain": {
          "x": [
           0,
           1
          ],
          "y": [
           0,
           1
          ]
         },
         "xaxis": {
          "title": {
           "text": "Field Goals"
          }
         },
         "yaxis": {
          "title": {
           "text": "Assists"
          }
         },
         "zaxis": {
          "title": {
           "text": "Total Rebounds"
          }
         }
        },
        "template": {
         "data": {
          "bar": [
           {
            "error_x": {
             "color": "#2a3f5f"
            },
            "error_y": {
             "color": "#2a3f5f"
            },
            "marker": {
             "line": {
              "color": "#E5ECF6",
              "width": 0.5
             },
             "pattern": {
              "fillmode": "overlay",
              "size": 10,
              "solidity": 0.2
             }
            },
            "type": "bar"
           }
          ],
          "barpolar": [
           {
            "marker": {
             "line": {
              "color": "#E5ECF6",
              "width": 0.5
             },
             "pattern": {
              "fillmode": "overlay",
              "size": 10,
              "solidity": 0.2
             }
            },
            "type": "barpolar"
           }
          ],
          "carpet": [
           {
            "aaxis": {
             "endlinecolor": "#2a3f5f",
             "gridcolor": "white",
             "linecolor": "white",
             "minorgridcolor": "white",
             "startlinecolor": "#2a3f5f"
            },
            "baxis": {
             "endlinecolor": "#2a3f5f",
             "gridcolor": "white",
             "linecolor": "white",
             "minorgridcolor": "white",
             "startlinecolor": "#2a3f5f"
            },
            "type": "carpet"
           }
          ],
          "choropleth": [
           {
            "colorbar": {
             "outlinewidth": 0,
             "ticks": ""
            },
            "type": "choropleth"
           }
          ],
          "contour": [
           {
            "colorbar": {
             "outlinewidth": 0,
             "ticks": ""
            },
            "colorscale": [
             [
              0,
              "#0d0887"
             ],
             [
              0.1111111111111111,
              "#46039f"
             ],
             [
              0.2222222222222222,
              "#7201a8"
             ],
             [
              0.3333333333333333,
              "#9c179e"
             ],
             [
              0.4444444444444444,
              "#bd3786"
             ],
             [
              0.5555555555555556,
              "#d8576b"
             ],
             [
              0.6666666666666666,
              "#ed7953"
             ],
             [
              0.7777777777777778,
              "#fb9f3a"
             ],
             [
              0.8888888888888888,
              "#fdca26"
             ],
             [
              1,
              "#f0f921"
             ]
            ],
            "type": "contour"
           }
          ],
          "contourcarpet": [
           {
            "colorbar": {
             "outlinewidth": 0,
             "ticks": ""
            },
            "type": "contourcarpet"
           }
          ],
          "heatmap": [
           {
            "colorbar": {
             "outlinewidth": 0,
             "ticks": ""
            },
            "colorscale": [
             [
              0,
              "#0d0887"
             ],
             [
              0.1111111111111111,
              "#46039f"
             ],
             [
              0.2222222222222222,
              "#7201a8"
             ],
             [
              0.3333333333333333,
              "#9c179e"
             ],
             [
              0.4444444444444444,
              "#bd3786"
             ],
             [
              0.5555555555555556,
              "#d8576b"
             ],
             [
              0.6666666666666666,
              "#ed7953"
             ],
             [
              0.7777777777777778,
              "#fb9f3a"
             ],
             [
              0.8888888888888888,
              "#fdca26"
             ],
             [
              1,
              "#f0f921"
             ]
            ],
            "type": "heatmap"
           }
          ],
          "heatmapgl": [
           {
            "colorbar": {
             "outlinewidth": 0,
             "ticks": ""
            },
            "colorscale": [
             [
              0,
              "#0d0887"
             ],
             [
              0.1111111111111111,
              "#46039f"
             ],
             [
              0.2222222222222222,
              "#7201a8"
             ],
             [
              0.3333333333333333,
              "#9c179e"
             ],
             [
              0.4444444444444444,
              "#bd3786"
             ],
             [
              0.5555555555555556,
              "#d8576b"
             ],
             [
              0.6666666666666666,
              "#ed7953"
             ],
             [
              0.7777777777777778,
              "#fb9f3a"
             ],
             [
              0.8888888888888888,
              "#fdca26"
             ],
             [
              1,
              "#f0f921"
             ]
            ],
            "type": "heatmapgl"
           }
          ],
          "histogram": [
           {
            "marker": {
             "pattern": {
              "fillmode": "overlay",
              "size": 10,
              "solidity": 0.2
             }
            },
            "type": "histogram"
           }
          ],
          "histogram2d": [
           {
            "colorbar": {
             "outlinewidth": 0,
             "ticks": ""
            },
            "colorscale": [
             [
              0,
              "#0d0887"
             ],
             [
              0.1111111111111111,
              "#46039f"
             ],
             [
              0.2222222222222222,
              "#7201a8"
             ],
             [
              0.3333333333333333,
              "#9c179e"
             ],
             [
              0.4444444444444444,
              "#bd3786"
             ],
             [
              0.5555555555555556,
              "#d8576b"
             ],
             [
              0.6666666666666666,
              "#ed7953"
             ],
             [
              0.7777777777777778,
              "#fb9f3a"
             ],
             [
              0.8888888888888888,
              "#fdca26"
             ],
             [
              1,
              "#f0f921"
             ]
            ],
            "type": "histogram2d"
           }
          ],
          "histogram2dcontour": [
           {
            "colorbar": {
             "outlinewidth": 0,
             "ticks": ""
            },
            "colorscale": [
             [
              0,
              "#0d0887"
             ],
             [
              0.1111111111111111,
              "#46039f"
             ],
             [
              0.2222222222222222,
              "#7201a8"
             ],
             [
              0.3333333333333333,
              "#9c179e"
             ],
             [
              0.4444444444444444,
              "#bd3786"
             ],
             [
              0.5555555555555556,
              "#d8576b"
             ],
             [
              0.6666666666666666,
              "#ed7953"
             ],
             [
              0.7777777777777778,
              "#fb9f3a"
             ],
             [
              0.8888888888888888,
              "#fdca26"
             ],
             [
              1,
              "#f0f921"
             ]
            ],
            "type": "histogram2dcontour"
           }
          ],
          "mesh3d": [
           {
            "colorbar": {
             "outlinewidth": 0,
             "ticks": ""
            },
            "type": "mesh3d"
           }
          ],
          "parcoords": [
           {
            "line": {
             "colorbar": {
              "outlinewidth": 0,
              "ticks": ""
             }
            },
            "type": "parcoords"
           }
          ],
          "pie": [
           {
            "automargin": true,
            "type": "pie"
           }
          ],
          "scatter": [
           {
            "fillpattern": {
             "fillmode": "overlay",
             "size": 10,
             "solidity": 0.2
            },
            "type": "scatter"
           }
          ],
          "scatter3d": [
           {
            "line": {
             "colorbar": {
              "outlinewidth": 0,
              "ticks": ""
             }
            },
            "marker": {
             "colorbar": {
              "outlinewidth": 0,
              "ticks": ""
             }
            },
            "type": "scatter3d"
           }
          ],
          "scattercarpet": [
           {
            "marker": {
             "colorbar": {
              "outlinewidth": 0,
              "ticks": ""
             }
            },
            "type": "scattercarpet"
           }
          ],
          "scattergeo": [
           {
            "marker": {
             "colorbar": {
              "outlinewidth": 0,
              "ticks": ""
             }
            },
            "type": "scattergeo"
           }
          ],
          "scattergl": [
           {
            "marker": {
             "colorbar": {
              "outlinewidth": 0,
              "ticks": ""
             }
            },
            "type": "scattergl"
           }
          ],
          "scattermapbox": [
           {
            "marker": {
             "colorbar": {
              "outlinewidth": 0,
              "ticks": ""
             }
            },
            "type": "scattermapbox"
           }
          ],
          "scatterpolar": [
           {
            "marker": {
             "colorbar": {
              "outlinewidth": 0,
              "ticks": ""
             }
            },
            "type": "scatterpolar"
           }
          ],
          "scatterpolargl": [
           {
            "marker": {
             "colorbar": {
              "outlinewidth": 0,
              "ticks": ""
             }
            },
            "type": "scatterpolargl"
           }
          ],
          "scatterternary": [
           {
            "marker": {
             "colorbar": {
              "outlinewidth": 0,
              "ticks": ""
             }
            },
            "type": "scatterternary"
           }
          ],
          "surface": [
           {
            "colorbar": {
             "outlinewidth": 0,
             "ticks": ""
            },
            "colorscale": [
             [
              0,
              "#0d0887"
             ],
             [
              0.1111111111111111,
              "#46039f"
             ],
             [
              0.2222222222222222,
              "#7201a8"
             ],
             [
              0.3333333333333333,
              "#9c179e"
             ],
             [
              0.4444444444444444,
              "#bd3786"
             ],
             [
              0.5555555555555556,
              "#d8576b"
             ],
             [
              0.6666666666666666,
              "#ed7953"
             ],
             [
              0.7777777777777778,
              "#fb9f3a"
             ],
             [
              0.8888888888888888,
              "#fdca26"
             ],
             [
              1,
              "#f0f921"
             ]
            ],
            "type": "surface"
           }
          ],
          "table": [
           {
            "cells": {
             "fill": {
              "color": "#EBF0F8"
             },
             "line": {
              "color": "white"
             }
            },
            "header": {
             "fill": {
              "color": "#C8D4E3"
             },
             "line": {
              "color": "white"
             }
            },
            "type": "table"
           }
          ]
         },
         "layout": {
          "annotationdefaults": {
           "arrowcolor": "#2a3f5f",
           "arrowhead": 0,
           "arrowwidth": 1
          },
          "autotypenumbers": "strict",
          "coloraxis": {
           "colorbar": {
            "outlinewidth": 0,
            "ticks": ""
           }
          },
          "colorscale": {
           "diverging": [
            [
             0,
             "#8e0152"
            ],
            [
             0.1,
             "#c51b7d"
            ],
            [
             0.2,
             "#de77ae"
            ],
            [
             0.3,
             "#f1b6da"
            ],
            [
             0.4,
             "#fde0ef"
            ],
            [
             0.5,
             "#f7f7f7"
            ],
            [
             0.6,
             "#e6f5d0"
            ],
            [
             0.7,
             "#b8e186"
            ],
            [
             0.8,
             "#7fbc41"
            ],
            [
             0.9,
             "#4d9221"
            ],
            [
             1,
             "#276419"
            ]
           ],
           "sequential": [
            [
             0,
             "#0d0887"
            ],
            [
             0.1111111111111111,
             "#46039f"
            ],
            [
             0.2222222222222222,
             "#7201a8"
            ],
            [
             0.3333333333333333,
             "#9c179e"
            ],
            [
             0.4444444444444444,
             "#bd3786"
            ],
            [
             0.5555555555555556,
             "#d8576b"
            ],
            [
             0.6666666666666666,
             "#ed7953"
            ],
            [
             0.7777777777777778,
             "#fb9f3a"
            ],
            [
             0.8888888888888888,
             "#fdca26"
            ],
            [
             1,
             "#f0f921"
            ]
           ],
           "sequentialminus": [
            [
             0,
             "#0d0887"
            ],
            [
             0.1111111111111111,
             "#46039f"
            ],
            [
             0.2222222222222222,
             "#7201a8"
            ],
            [
             0.3333333333333333,
             "#9c179e"
            ],
            [
             0.4444444444444444,
             "#bd3786"
            ],
            [
             0.5555555555555556,
             "#d8576b"
            ],
            [
             0.6666666666666666,
             "#ed7953"
            ],
            [
             0.7777777777777778,
             "#fb9f3a"
            ],
            [
             0.8888888888888888,
             "#fdca26"
            ],
            [
             1,
             "#f0f921"
            ]
           ]
          },
          "colorway": [
           "#636efa",
           "#EF553B",
           "#00cc96",
           "#ab63fa",
           "#FFA15A",
           "#19d3f3",
           "#FF6692",
           "#B6E880",
           "#FF97FF",
           "#FECB52"
          ],
          "font": {
           "color": "#2a3f5f"
          },
          "geo": {
           "bgcolor": "white",
           "lakecolor": "white",
           "landcolor": "#E5ECF6",
           "showlakes": true,
           "showland": true,
           "subunitcolor": "white"
          },
          "hoverlabel": {
           "align": "left"
          },
          "hovermode": "closest",
          "mapbox": {
           "style": "light"
          },
          "paper_bgcolor": "white",
          "plot_bgcolor": "#E5ECF6",
          "polar": {
           "angularaxis": {
            "gridcolor": "white",
            "linecolor": "white",
            "ticks": ""
           },
           "bgcolor": "#E5ECF6",
           "radialaxis": {
            "gridcolor": "white",
            "linecolor": "white",
            "ticks": ""
           }
          },
          "scene": {
           "xaxis": {
            "backgroundcolor": "#E5ECF6",
            "gridcolor": "white",
            "gridwidth": 2,
            "linecolor": "white",
            "showbackground": true,
            "ticks": "",
            "zerolinecolor": "white"
           },
           "yaxis": {
            "backgroundcolor": "#E5ECF6",
            "gridcolor": "white",
            "gridwidth": 2,
            "linecolor": "white",
            "showbackground": true,
            "ticks": "",
            "zerolinecolor": "white"
           },
           "zaxis": {
            "backgroundcolor": "#E5ECF6",
            "gridcolor": "white",
            "gridwidth": 2,
            "linecolor": "white",
            "showbackground": true,
            "ticks": "",
            "zerolinecolor": "white"
           }
          },
          "shapedefaults": {
           "line": {
            "color": "#2a3f5f"
           }
          },
          "ternary": {
           "aaxis": {
            "gridcolor": "white",
            "linecolor": "white",
            "ticks": ""
           },
           "baxis": {
            "gridcolor": "white",
            "linecolor": "white",
            "ticks": ""
           },
           "bgcolor": "#E5ECF6",
           "caxis": {
            "gridcolor": "white",
            "linecolor": "white",
            "ticks": ""
           }
          },
          "title": {
           "x": 0.05
          },
          "xaxis": {
           "automargin": true,
           "gridcolor": "white",
           "linecolor": "white",
           "ticks": "",
           "title": {
            "standoff": 15
           },
           "zerolinecolor": "white",
           "zerolinewidth": 2
          },
          "yaxis": {
           "automargin": true,
           "gridcolor": "white",
           "linecolor": "white",
           "ticks": "",
           "title": {
            "standoff": 15
           },
           "zerolinecolor": "white",
           "zerolinewidth": 2
          }
         }
        },
        "title": {
         "text": "NBA Players Clustering"
        }
       }
      },
      "text/html": [
       "<div>                            <div id=\"62af72d6-3ff6-48c7-a7c5-55ebf8a31216\" class=\"plotly-graph-div\" style=\"height:525px; width:100%;\"></div>            <script type=\"text/javascript\">                require([\"plotly\"], function(Plotly) {                    window.PLOTLYENV=window.PLOTLYENV || {};                                    if (document.getElementById(\"62af72d6-3ff6-48c7-a7c5-55ebf8a31216\")) {                    Plotly.newPlot(                        \"62af72d6-3ff6-48c7-a7c5-55ebf8a31216\",                        [{\"hovertemplate\":\"Field Goals=%{x}\\u003cbr\\u003eAssists=%{y}\\u003cbr\\u003eTotal Rebounds=%{z}\\u003cbr\\u003ecolor=%{marker.color}\\u003cextra\\u003e\\u003c\\u002fextra\\u003e\",\"legendgroup\":\"\",\"marker\":{\"color\":[0,0,0,0,0,0,0,0,0,0,0,0,0,0,0,0,0,0,0,0,0,0,0,0,0,0,0,0,0,0,0,0,0,0,0,0,0,0,0,0,0,0,0,0,0,0,0,0,0,0,0,0,0,0,0,0,0,0,0,0,0,0,0,1,0,0,0,0,0,0,1,1,0,0,0,0,1,0,0,0,0,0,0,0,0,1,0,0,0,0,0,0,0,1,0,1,0,0,0,0,1,0,0,0,0,0,1,0,0,1,0,1,0,1,1,0,1,0,1,0,0,0,1,0,0,1,0,1,0,0,1,0,0,0,0,0,0,0,1,1,0,0,0,0,1,0,1,0,1,1,1,0,1,0,1,1,0,1,0,1,1,1,1,1,1,0,0,1,1,1,1,1,0,1,1,0,1,1,1,1,1,1,1,1,0,0,1,1,0,1,1,1,1,0,1,1,1,1,1,0,1,1,1,0,1,1,1,1,1,1,1,1,1,1,1,1,1,1,0,1,1,1,1,1,1,1,0,1,1,1,1,1,1,1,1,1,1,1,1,1,1,1,1,1,1,1,1,1,1,1,1,1,1,1,1,1,1,1,1,1,1,1,1,1,1,1,1,1,1,1,1,1,1,1,1,1,1,1,1,1,1,1,1,1,1,1,1,1,1,1,1,1,1,1,1,1,1,1,1,1,1,1,1,1,1,1,1,1,1,1,1,1,1,1,1,1,1,1,1,1,1,1,1,1,1,1,1,1,1,1,1,1,1,1,1,1,1,1,1,1,1,1,1,1,1,1,1,1,1,1,1,1,1,1,1,1,1,1,1,1,1,1,1,1,1,1,1,1,1,1,1,1,1,1,1,1,1,1,1,1,1,1,1,1,1,1,1,1,1,1,1,1,1,1,1,1,1,1,1,1,1,1,1,1,1,1],\"coloraxis\":\"coloraxis\",\"symbol\":\"circle\",\"opacity\":0.8,\"size\":5},\"mode\":\"markers\",\"name\":\"\",\"scene\":\"scene\",\"showlegend\":false,\"x\":[3.032711449799775,2.990385757291666,3.2073049313957247,2.9586414879105845,3.12794425794302,2.577710255337603,2.752303736933553,2.334337523415976,2.58829167846463,2.2179418690186763,2.2179418690186763,2.5512566975200346,2.1756161765105673,2.4031167737416532,2.154453330256513,2.1650347533835403,1.6412543085956912,2.334337523415976,0.6624726693456705,1.8581734826997498,2.006313406478131,2.096255503057863,1.757649962992991,1.7629406745565046,2.0803833683673223,2.1332904840024582,1.995731983351104,1.6941614242308274,1.6412543085956912,1.7523592514294772,1.5089865195078505,1.5618936351429868,1.4402072691821735,1.4560794038727143,1.7364871167389364,1.572475058270014,1.5513122120159595,1.4243351344916326,1.0698574597362196,1.3714280188564962,1.8793363289538043,1.3820094419835236,1.5830564813970414,1.4507886923092006,1.3714280188564962,1.5407307888889323,1.614800750778123,1.1597995563159513,1.3132301916578464,1.2709044991497374,1.4243351344916326,1.5671843467065005,1.4137537113646053,1.3396837494754146,1.2973580569673056,1.1968345372605467,1.2973580569673056,1.038113190355138,1.5248586541983915,1.0169503441010834,1.1333459984983831,1.2867766338402782,0.8741011318862155,-0.2157854501975914,1.2285788066416283,0.641309823091616,1.1439274216254103,1.191543825697033,0.9852060747200017,1.122764575371356,0.2180528980105259,0.027587281724035375,0.8317754393781065,0.852938285632161,0.8053218815605383,1.2444509413321694,-0.3956696433570547,0.8741011318862155,0.8264847278145928,0.9270082475213517,0.8688104203227018,0.9270082475213517,0.8476475740686473,0.8211940162510792,0.9270082475213517,0.7524147659254021,0.8264847278145928,0.7788683237429702,0.6836355155997249,0.7629961890524294,0.8793918434497291,0.5778212843294525,0.8846825550132428,-0.4697396052462454,0.9058454012672972,0.6148562652740478,0.6836355155997249,0.7153797849808067,0.9058454012672972,0.4667163414956663,0.6889262271632386,0.7735776121794566,0.6042748421470205,0.5566584380753979,0.5619491496389115,0.6466005346551296,-0.5491002786989498,0.5354955918213434,0.6836355155997249,0.6995076502902658,1.038113190355138,0.5196234571308026,0.6783448040362113,0.3873556680429619,0.47200705305917995,0.583111995892966,0.4455534952416118,0.4931698993132344,0.3873556680429619,0.33444855240782567,0.4032278027335028,0.5354955918213434,-0.6390423752786815,0.31328570615377116,0.5778212843294525,0.3027042830267439,0.5302048802578299,0.34502997553485293,0.3873556680429619,0.5354955918213434,0.23392503270106677,0.7153797849808067,0.625437688401075,0.32915784084431204,0.6466005346551296,0.5037513224402617,0.47200705305917995,0.45613491836863906,-0.45386747055570453,-0.9247407997084173,0.5619491496389115,0.5037513224402617,0.35032068709836656,0.47200705305917995,-0.45386747055570453,0.3556113986618802,0.2392157442645804,0.38206495647944827,0.2815414367726894,0.20747147488349865,-0.5279374324448953,0.3397392639713393,0.4032278027335028,0.37148353335242107,0.22863432113755314,-0.5596817018259771,0.5249141686943162,-0.5385188555719226,0.11752937830376702,0.09636653204971252,0.054040839541603505,0.11752937830376702,-0.7395658949854403,0.21276218644701228,-0.956485069089499,0.21276218644701228,0.19159934019295777,0.12282008986728064,0.043459416414576256,0.027587281724035375,0.09107582048619889,0.08578510892268526,0.1545643592483624,0.02229657016052175,0.054040839541603505,0.017005858597008126,-0.04648268016515538,0.1545643592483624,-0.004156987657046377,-0.06764552641920989,-0.7554380296759812,-0.04119196860164176,0.017005858597008126,-0.04648268016515538,0.14927364768484877,0.043459416414576256,-0.06235481485569626,-0.5226467208813816,0.02229657016052175,-0.08351766110975076,-0.09938979580029164,-0.6549145099692223,-0.39037893179354105,-0.08880837267326439,-0.136424776744887,-0.04119196860164176,-0.07293623798272351,-0.2528204311421868,0.006424435469980874,0.09107582048619889,-0.09938979580029164,0.0117151470334945,-0.1946226039435369,-0.13113406518137338,-0.22636687332461866,-0.12055264205434614,-0.18933189238002326,-0.17875046925299604,-0.2528204311421868,-0.30043683521380943,-0.3268903930313775,-0.009447699220560003,-0.24752971957867315,-0.26340185426921403,-0.23694829645164592,-0.22107616176110503,-0.28985541208678217,-0.33747181615840477,-0.16816904612596878,-0.35334395084894565,-0.23694829645164592,-0.32159968146786394,-0.9035779534543628,-0.3850882202300274,-0.3850882202300274,-0.05177339172866901,-0.24223900801515952,-0.2739832773962413,-0.32159968146786394,-0.3427625277219184,-0.8400894146921992,-0.2316575848881323,-0.35334395084894565,-0.47503031680975905,-0.3797975086665138,-0.4221232011746228,-0.36921608553948654,-0.40625106648408194,-1.168113531630044,-0.5755538365165179,-0.4856117399367863,-0.42741391273813645,-0.4644488936827318,-0.33218110459489114,-0.41154177804759556,-0.4697396052462454,-0.4485767589921909,-0.4009603549205683,-0.5596817018259771,-0.4168324896111092,-0.5967166827705724,-0.4485767589921909,-0.45386747055570453,-0.4009603549205683,-0.5279374324448953,-1.1734042431935576,-0.49090245150029993,-0.4432860474286773,-0.4856117399367863,-0.5543909902624634,-0.5491002786989498,-1.0728807234867987,-0.49090245150029993,-0.5702631249530044,-0.40625106648408194,-0.4697396052462454,-0.4856117399367863,-0.5967166827705724,-0.6760773562232768,-0.5279374324448953,-0.6390423752786815,-0.6231702405881405,-0.6125888174611134,-0.617879529024627,-0.5543909902624634,-0.6549145099692223,-0.6496237984057087,-0.5543909902624634,-0.6231702405881405,-0.6972402024773313,-0.7131123371678723,-0.7871822990570629,-0.6813680677867905,-0.6072981058975997,-0.6760773562232768,-1.041136454105717,-0.644333086842195,-0.7660194528030084,-0.7184030487313858,-0.660205221532736,-0.6919494909138177,-0.6813680677867905,-0.6496237984057087,-0.7395658949854403,-0.7078216256043586,-0.7078216256043586,-0.7977637221840902,-0.7818915874935494,-0.7448566065489539,-0.702530914040845,-0.7607287412394949,-0.702530914040845,-0.7713101643665221,-0.6760773562232768,-0.7554380296759812,-0.7977637221840902,-0.7871822990570629,-0.7977637221840902,-1.0834621466138261,-0.7289844718584131,-0.7289844718584131,-0.7660194528030084,-1.1998578010111258,-0.7554380296759812,-0.8189265684381447,-0.7924730106205766,-0.7871822990570629,-1.0834621466138261,-0.8400894146921992,-0.7924730106205766,-0.9617757806530126,-1.1786949547570713,-0.8506708378192265,-0.8877058187638218,-0.8347987031286856,-0.8242172800016584,-0.85596154938274,-0.8030544337476039,-0.85596154938274,-1.183985666320585,-0.9353222228354445,-0.8347987031286856,-0.8771243956367946,-0.9088686650178763,-0.956485069089499,-1.1522413969395031,-0.9194500881449036,-0.8347987031286856,-0.9353222228354445,-0.8665429725097673,-0.9300315112719308,-0.8929965303273355,-0.9194500881449036,-0.9617757806530126,-0.9088686650178763,-0.9511943575259854,-0.91415937658139,-0.9617757806530126,-0.9511943575259854,-0.956485069089499,-0.9617757806530126,-1.0781714350503124,-0.956485069089499,-1.0093921847246352,-0.956485069089499,-0.9829386269070671,-0.9829386269070671,-0.9829386269070671,-1.0093921847246352,-1.0305550309786897,-1.0305550309786897,-0.9935200500340944,-1.0199736078516626,-1.025264319415176,-1.0517178772327442,-1.067590011923285,-1.0728807234867987,-1.041136454105717,-1.1575321085030168,-1.0834621466138261,-1.0464271656692306,-1.0464271656692306,-1.099334281304367,-1.0728807234867987,-1.067590011923285,-1.099334281304367,-1.1363692622489623,-1.1310785506854486,-1.125787839121935,-1.1363692622489623,-1.2157299357016667,-1.141659973812476,-1.1310785506854486,-1.168113531630044,-1.141659973812476,-1.1786949547570713,-1.1786949547570713,-1.168113531630044,-1.168113531630044,-1.1522413969395031,-1.1734042431935576,-1.1628228200665305,-1.1786949547570713,-1.1734042431935576,-1.1786949547570713,-1.1734042431935576,-1.1892763778840985,-1.1892763778840985,-1.2210206472651803,-1.1998578010111258,-1.2051485125746393,-1.210439224138153,-1.210439224138153,-1.2157299357016667,-1.2157299357016667,-1.2157299357016667],\"y\":[3.8610772030119964,2.2877203759052827,2.3660322541775627,2.6721605056055657,4.0177009595565565,1.8605646762383017,1.6683446113881601,1.5686749481325313,1.9531150778328141,1.6754638730492766,1.9744728628161632,0.8709873053431287,2.3375552075330974,3.1705088218837103,2.0599040027495596,2.045665479427327,2.5938486273332857,2.5511330573665876,0.059391475975864715,0.8425102586986634,0.714363548798569,0.7499598571041508,1.0489688468710376,1.1059229401599684,1.483243808199135,3.768526801417484,1.0845651551766193,0.9279413986320596,1.8605646762383017,1.1059229401599684,0.07362999929809741,0.3441619424205188,1.3479778366379243,1.7039409196937418,0.6218131472040564,0.8923450903264778,2.2806011142441664,4.330948472645676,3.127793251917012,0.23025375584265714,0.7855561654097326,2.408747824144261,0.956418445276525,0.4011160357094496,1.4191704532490879,-0.15418637385762585,1.2696659583656444,0.5363820072706602,0.3228041574371697,0.7357213337819181,1.5615556864714148,1.198473341754481,0.9492991836154087,1.1486385101266665,-0.3108101304021856,2.1809314509885374,0.2231344941815408,-0.23961751379102206,0.4723086523206131,3.1705088218837103,0.5150242222873113,1.7110601813548583,1.098803678498852,0.002437382686933899,0.5221434839484276,3.348490363411619,1.5615556864714148,0.1377033542481446,1.0845651551766193,-0.10435154222981137,-0.09723228056869503,0.8069139503930817,-0.20402120548544028,-0.03315892561864786,0.059391475975864715,-0.28233308375772015,0.2231344941815408,1.6113905180992294,1.6612253497270437,1.0133725385654557,0.6075746238818238,-0.26809456043548746,0.36551972740386784,0.08786852262033011,-0.2965716070799529,-0.4389568403022799,-0.3036908687410692,-0.1613056355187422,0.7926754270708489,1.6327483030825785,-0.47455314860786163,0.5933361005595911,0.8211524737153143,-0.33216791538553464,0.20889597085930808,-0.3179293920633019,0.6146938855429401,-0.11859006555204407,1.725298704677091,1.340858574976808,-0.17554415884097488,0.8638680436820124,1.440528238232437,0.43671234401503134,0.9492991836154087,-0.17554415884097488,-0.7094887834247012,0.6574094555096383,0.7001250254763364,-0.44607610196339625,-0.3820027470133491,-0.17554415884097488,0.42247382069279865,-0.40336053199669814,-0.2538560371132548,0.36551972740386784,-0.2538560371132548,0.31568489577605335,0.3441619424205188,2.173812189327421,1.3693356216212733,-0.33928717704665096,-0.8376354933247956,-0.3677642236911164,0.7499598571041508,-0.218259728807673,1.3479778366379243,-0.17554415884097488,0.9920147535821068,-0.11147080389092773,-0.13994785053539313,0.023795167670282953,0.023795167670282953,0.3939967740483332,-0.37488348535223276,1.1699962951100156,1.120161463482201,1.0560881085321538,-0.6952502601024686,-0.5386265035579089,-0.36064496203,2.43010560912761,0.977776230259874,0.11634556926479553,-0.36064496203,0.3584004657427515,-0.04027818727976421,2.380270777499795,-0.32504865372441827,0.2800885874704716,-0.11147080389092773,1.3337393133156916,-0.3036908687410692,1.155757771787783,-0.03315892561864786,-0.7735621383747484,1.7537757513215564,-0.3677642236911164,0.7357213337819181,-0.4389568403022799,-0.6026998585079559,-0.17554415884097488,-0.8233969700025628,0.08786852262033011,-0.8803510632914937,0.9208221369709433,-0.7593236150525157,-0.17554415884097488,-0.4887916719300944,0.42959308235391497,0.15906113923149362,-0.04027818727976421,-0.6382961668135377,-0.08299375724646232,-0.004681878974182452,-0.5172687185745598,-0.3179293920633019,0.9706569685987577,-0.5457457652190252,0.5007856989650785,-0.4389568403022799,-0.34640643870776733,-0.5742228118634906,-0.08299375724646232,-0.2467367754521384,0.1377033542481446,0.6574094555096383,-0.8233969700025628,0.31568489577605335,-0.2609752987743711,-0.7878006616969812,-0.33928717704665096,-0.645415428474654,0.17329966255372634,-0.21114046714655665,-0.4959109335912107,-0.16842489717985853,-0.2538560371132548,-0.16842489717985853,-0.11859006555204407,-0.4104797936578145,-0.4389568403022799,-0.6169383818301887,1.7751335363049054,-0.23961751379102206,-0.4104797936578145,-0.2467367754521384,-0.40336053199669814,0.23025375584265714,-0.5243879802356761,0.2231344941815408,-0.5955805968468396,0.2373730175037735,0.002437382686933899,-0.026039663957531507,-0.5386265035579089,-0.3535257003688837,-0.5243879802356761,1.3337393133156916,-0.2894523454188365,-0.5030301952523271,-0.32504865372441827,-0.26809456043548746,-0.20402120548544028,-0.2538560371132548,-0.5955805968468396,1.340858574976808,-0.09723228056869503,-0.11147080389092773,-0.481672410268978,-0.7664428767136321,-0.6382961668135377,-0.44607610196339625,-0.054516710601996914,-0.5528650268801415,0.12346483092591187,0.09498778428144647,-0.27521382209660383,-0.9942592498693553,0.30144637245382067,-0.21114046714655665,-0.4887916719300944,-0.5101494569134434,-0.4175990553189308,-0.5243879802356761,-0.1897826821632076,-0.8091584466803302,-0.6667732134580031,0.009556644348050251,-0.5742228118634906,-0.6098191201690724,-0.06875523392422962,-0.4531953636245126,-0.5884613351857233,-0.40336053199669814,-0.9230666332581918,-0.3535257003688837,0.7855561654097326,0.14482261590926093,-0.3820027470133491,-0.3820027470133491,-0.9301858949193081,-0.218259728807673,-0.6738924751191195,-0.16842489717985853,-0.5457457652190252,-0.07587449558534597,-0.6382961668135377,-0.7593236150525157,-0.36064496203,-0.8589932783081446,-0.14706711219650948,-0.37488348535223276,-0.5528650268801415,-0.46031462528562894,-0.4175990553189308,-0.6098191201690724,-0.7878006616969812,-0.6026998585079559,0.42247382069279865,-0.7166080450858177,-0.8376354933247956,-0.4104797936578145,-0.18266342050209125,-0.5955805968468396,-0.8803510632914937,-0.6952502601024686,-0.5671035502023742,-0.23961751379102206,-0.5599842885412579,-0.32504865372441827,0.15906113923149362,-0.5671035502023742,-0.6810117367802359,-0.36064496203,-0.7308465684080503,-0.8162777083414465,-0.8091584466803302,-0.645415428474654,-0.12570932721316042,-0.6311769051524214,-0.866112539969261,-0.6311769051524214,-0.6810117367802359,-0.23961751379102206,-0.7094887834247012,-0.6881309984413522,-0.5030301952523271,-0.9230666332581918,-0.6667732134580031,-0.9017088482748428,-0.8589932783081446,-0.9942592498693553,-0.8305162316636793,-0.7023695217635849,-0.8020391850192138,-0.28233308375772015,-0.7593236150525157,-0.4247183169800472,-0.7735621383747484,-0.9515436799026572,-0.9942592498693553,-0.23961751379102206,-0.5386265035579089,-0.6738924751191195,-0.7806814000358647,-0.7949199233580975,-0.9017088482748428,-0.44607610196339625,-1.008497773191588,-0.9088281099359591,-0.8945895866137263,-0.7593236150525157,-0.8162777083414465,-0.5884613351857233,-0.9586629415637735,-0.7735621383747484,-0.6596539517968868,-0.5813420735246069,-0.8803510632914937,-0.7379658300691666,-0.7949199233580975,-0.8732318016303774,-0.8945895866137263,-0.7664428767136321,-0.8589932783081446,-0.8376354933247956,-0.8518740166470283,-0.6667732134580031,-0.8945895866137263,-0.7593236150525157,-0.8803510632914937,-0.6667732134580031,-0.866112539969261,-0.6667732134580031,-0.7379658300691666,-0.8732318016303774,-0.987139988208239,-0.8803510632914937,-0.9942592498693553,-0.7806814000358647,-0.4104797936578145,-0.8447547549859119,-0.8447547549859119,-0.9301858949193081,-0.8233969700025628,-0.9230666332581918,-0.8305162316636793,-1.0013785115304716,-0.745085091730283,-0.9729014648860063,-0.9586629415637735,-0.9088281099359591,-0.8803510632914937,-0.8732318016303774,-0.723727306746934,-0.9088281099359591,-0.96578220322489,-0.987139988208239,-0.9515436799026572,-1.0013785115304716,-0.8732318016303774,-0.987139988208239,-0.96578220322489,-0.8732318016303774,-1.008497773191588,-1.0013785115304716,-0.9942592498693553,-0.9800207265471226,-0.96578220322489,-0.9800207265471226,-0.987139988208239,-0.9942592498693553,-1.008497773191588,-1.008497773191588,-0.9800207265471226,-0.987139988208239,-0.987139988208239,-1.0227362965138207,-0.9800207265471226,-0.96578220322489,-1.0227362965138207,-1.0013785115304716,-1.0156170348527043,-1.0013785115304716,-1.0227362965138207],\"z\":[2.166537011717826,0.9471066344360647,3.1862331030655056,0.22701197198950737,3.895815434673427,1.0259491157258338,1.3675998679814996,1.924753402429201,0.5528942279872194,0.5003325737940401,0.5528942279872194,3.816972953383658,0.38469693456904547,1.4884916726258122,0.12188866360314864,1.6777136277212579,0.44777091960086074,0.9523627998553826,0.4425147541815428,0.8051901681144804,0.9523627998553826,0.7999340026951625,0.9891559577906082,0.7210915214053935,0.8998011456622033,4.65270325505521,1.2046587399826436,2.734202877004163,0.6475052055349423,0.2900859570213226,0.6842983634701679,-0.10938261484684059,0.23752430282814324,-0.156688103620702,1.420161522174679,0.7683970101792549,0.174450317796328,0.19021881405428182,-0.45103336710250647,0.10086400192587688,2.975986486292788,0.006253024378154025,2.6395918994564402,2.171793177137144,-0.11989494568547646,1.7355314473337553,0.2480366336667791,1.0259491157258338,1.4727231763678583,0.19547497947359976,0.4687955812781325,1.8616794173973856,0.13765715986110244,0.2690612953440509,1.5673341539155812,0.6159682130190347,0.42149009250427105,1.1258162586928746,3.0285481404859675,0.22701197198950737,0.32687911495654814,0.03779001689406165,0.43725858876222484,-0.5509005100695473,1.1468409203701464,0.7053230251474396,1.3623437025621816,0.6317367092769886,0.15342565611905626,0.9733874615326544,-0.16194426904001996,-0.27757990826501455,0.9155696419201571,0.10086400192587688,-0.23027441949115313,1.9562903949451085,-0.6980731418104495,-0.11989494568547646,0.39520926540768136,1.6041273118508068,0.9891559577906082,0.9891559577906082,0.7473723485019831,-0.05156479523434328,3.9273524271893345,-0.2092497578138814,0.5581503934065374,2.00359588371897,-0.3564223895547836,-0.4352648708445527,1.7880931015269346,0.3163667841179123,1.2414518979178693,-0.6980731418104495,2.5554932527473535,0.07458317482928721,-0.26181141200706076,0.9155696419201571,1.4674670109485404,-0.1251511111047944,-0.24604291574910694,-0.014771637299117723,0.23752430282814324,-0.030540133557071532,-0.24604291574910694,0.45302708502017863,-0.2933484045229684,0.40046543082699926,-0.09887028400820472,0.31111061869859435,1.9668027257837444,0.05881467857133339,1.3308067100462742,-0.0673332914922971,0.2900859570213226,0.26380512992473293,0.21124347573155355,-0.0673332914922971,-0.324885397038876,-0.08835795316956883,-0.2145059232331993,0.589687385922445,-0.9293444202604387,0.926081972758793,1.2677327250144588,0.258548964505415,0.7263476868247114,-0.004259306460481849,0.5423818971485835,0.44777091960086074,0.23752430282814324,2.4766507714575843,2.492419267715538,0.19547497947359976,2.84458235080984,-0.41949637458659883,3.1652084413882338,0.1166324981838307,-0.17771276529797375,-0.987162239872936,2.0561575379121493,-0.2933484045229684,0.15868182153837418,1.2256834016599154,-0.45103336710250647,0.7105791905667576,0.08509550566792308,0.28482979160200467,0.22701197198950737,-0.2723237428456966,-0.408984043747963,2.3137096434587283,-0.05682096065366122,0.5686627242451733,-0.5929498334240908,-0.6980731418104495,-0.23027441949115313,-0.5509005100695473,0.20073114489291768,0.2164996411508715,-0.20399359239456344,-0.025283968137753597,-0.8662704352286235,-0.4562895325218244,-1.0239553978081617,1.01018061946788,2.48716310229622,0.10086400192587688,0.07983934024860515,-0.3564223895547836,-0.05682096065366122,0.6159682130190347,1.5988711464314889,-0.1514319382013841,0.2427804682474612,1.435930018432633,-0.28809223910365045,-0.49308269045705,0.07983934024860515,-0.4562895325218244,-0.41424020916728094,0.7683970101792549,0.5371257317292656,0.3741846037304096,1.3308067100462742,0.9155696419201571,-0.577181337166137,-0.2145059232331993,2.0561575379121493,0.4320024233429069,-0.28809223910365045,-0.9451129165183926,0.6107120475997168,0.9365943035974288,-0.7085854726490853,0.7421161830826651,-0.25129908116842486,-0.4825703596184141,0.8787764839849316,1.0206929503065159,-0.2565552465877428,0.5581503934065374,-0.20399359239456344,-0.05156479523434328,0.11137633276451277,0.12188866360314864,-0.5456443446502294,0.5686627242451733,-0.6402553221979522,-0.4562895325218244,0.2900859570213226,1.2940135521110485,-0.5982059988434087,0.25329279908609703,-0.5876936680047729,-0.5403881792309114,-0.3932155474900092,-0.2986045699422863,0.20073114489291768,-0.1514319382013841,0.3689284383110917,-0.5561566754888652,-0.8925512623252132,0.5423818971485835,-0.6034621642627267,0.752628513921301,0.8577518223076598,-0.2670675774263787,0.027277686055425774,-0.4562895325218244,-0.7611471268422647,0.5318695663099477,-0.2145059232331993,-0.6402553221979522,-0.36167855497410156,0.022021520636107836,-0.45103336710250647,-0.5982059988434087,-1.1763841949683818,-0.8978074277445312,-0.49308269045705,-0.28809223910365045,0.1166324981838307,0.8104463335337984,-0.13040727652411233,-0.5614128409081831,0.13240099444178452,0.016765355216789898,-0.577181337166137,0.4582832504394966,-0.5614128409081831,-0.7348662997456751,-0.05682096065366122,0.048302347732697516,-0.7558909614229468,-1.1711280295490638,-0.9188320894218028,-0.240786750329789,0.006253024378154025,-0.5193635175536396,-0.2250182540718352,-1.1763841949683818,0.3794407691497275,0.10086400192587688,-0.5088511867150037,0.13765715986110244,0.9681312961133365,-0.9083197585831669,-0.7506347960036289,-0.13566344194343027,-0.14617577278206614,0.03253385147474371,-0.5035950212956859,-0.38795938207069125,0.2690612953440509,-0.5824375025854549,-0.09361411858888677,-0.1251511111047944,-0.8557581043899876,-0.48782652503773205,-0.08835795316956883,-0.9661375781956643,-0.9556252473570284,-0.6612799838752239,-0.48782652503773205,-0.9503690819377105,-0.21976208865251726,-0.4247525400059168,-0.004259306460481849,-0.3301415624581939,-0.8820389314865773,-0.740122465164993,-0.19873742697524552,-0.7138416380684033,-0.9451129165183926,0.016765355216789898,-0.7926841193581724,-0.8978074277445312,-0.7664032922615827,-0.9293444202604387,-0.004259306460481849,-0.2670675774263787,-0.6980731418104495,-0.6402553221979522,0.1166324981838307,-0.6770484801331778,-0.9135759240024849,-0.9713937436149822,-1.150103367871792,-0.5614128409081831,-0.5141073521343217,-0.49308269045705,-1.2026650220649715,-0.4300087054252347,-0.5456443446502294,-0.7138416380684033,-0.6612799838752239,-1.0922855482592948,-0.10938261484684059,-0.7874279539388545,-0.6875608109718137,-1.1868965258070177,-0.8557581043899876,-0.4825703596184141,-0.46154569794114236,-0.740122465164993,-0.571925171746819,-0.571925171746819,-0.6402553221979522,-1.1395910370331561,-0.992418405292254,0.1481694906997383,-0.818964946454762,-0.5876936680047729,-0.997674570711572,-1.1290787061945202,-0.9661375781956643,-0.31962923161955803,-0.7506347960036289,-0.5929498334240908,-0.8662704352286235,-0.8557581043899876,-0.8399896081320338,-1.0239553978081617,-0.5088511867150037,-1.0449800594854333,-0.408984043747963,-1.0239553978081617,-0.9608814127763463,-0.8084526156161261,-0.9661375781956643,-1.15535953329111,-0.6402553221979522,-0.818964946454762,-0.5614128409081831,-0.903063593163849,-0.8347334427127159,-0.8820389314865773,-0.8137087810354441,-1.071260886582023,-0.7926841193581724,-0.6087183296820445,-0.46154569794114236,-0.9083197585831669,-1.0449800594854333,-0.997674570711572,-0.9766499090343002,-1.0607485557433871,-1.1816403603876997,-0.6455114876172702,-0.7821717885195365,-1.066004721162705,-1.0292115632274794,-1.0239553978081617,-0.8347334427127159,-1.076517052001341,-0.8610142698093055,-1.144847202452474,-1.1395910370331561,-1.1185663753558845,-1.2236896837422433,-1.160615698710428,-1.0344677286467974,-1.1658718641297459,-1.1868965258070177,-1.1868965258070177,-1.1974088566456536,-1.1080540445172486,-1.1974088566456536,-1.1290787061945202,-1.2184335183229253,-1.1238225407752025,-1.1185663753558845,-1.1763841949683818,-1.1868965258070177,-1.1711280295490638,-1.1290787061945202,-1.2079211874842894,-1.228945849161561,-1.2131773529036074,-1.2131773529036074,-1.2236896837422433,-1.228945849161561,-1.2079211874842894,-1.2131773529036074,-1.228945849161561],\"type\":\"scatter3d\"}],                        {\"template\":{\"data\":{\"histogram2dcontour\":[{\"type\":\"histogram2dcontour\",\"colorbar\":{\"outlinewidth\":0,\"ticks\":\"\"},\"colorscale\":[[0.0,\"#0d0887\"],[0.1111111111111111,\"#46039f\"],[0.2222222222222222,\"#7201a8\"],[0.3333333333333333,\"#9c179e\"],[0.4444444444444444,\"#bd3786\"],[0.5555555555555556,\"#d8576b\"],[0.6666666666666666,\"#ed7953\"],[0.7777777777777778,\"#fb9f3a\"],[0.8888888888888888,\"#fdca26\"],[1.0,\"#f0f921\"]]}],\"choropleth\":[{\"type\":\"choropleth\",\"colorbar\":{\"outlinewidth\":0,\"ticks\":\"\"}}],\"histogram2d\":[{\"type\":\"histogram2d\",\"colorbar\":{\"outlinewidth\":0,\"ticks\":\"\"},\"colorscale\":[[0.0,\"#0d0887\"],[0.1111111111111111,\"#46039f\"],[0.2222222222222222,\"#7201a8\"],[0.3333333333333333,\"#9c179e\"],[0.4444444444444444,\"#bd3786\"],[0.5555555555555556,\"#d8576b\"],[0.6666666666666666,\"#ed7953\"],[0.7777777777777778,\"#fb9f3a\"],[0.8888888888888888,\"#fdca26\"],[1.0,\"#f0f921\"]]}],\"heatmap\":[{\"type\":\"heatmap\",\"colorbar\":{\"outlinewidth\":0,\"ticks\":\"\"},\"colorscale\":[[0.0,\"#0d0887\"],[0.1111111111111111,\"#46039f\"],[0.2222222222222222,\"#7201a8\"],[0.3333333333333333,\"#9c179e\"],[0.4444444444444444,\"#bd3786\"],[0.5555555555555556,\"#d8576b\"],[0.6666666666666666,\"#ed7953\"],[0.7777777777777778,\"#fb9f3a\"],[0.8888888888888888,\"#fdca26\"],[1.0,\"#f0f921\"]]}],\"heatmapgl\":[{\"type\":\"heatmapgl\",\"colorbar\":{\"outlinewidth\":0,\"ticks\":\"\"},\"colorscale\":[[0.0,\"#0d0887\"],[0.1111111111111111,\"#46039f\"],[0.2222222222222222,\"#7201a8\"],[0.3333333333333333,\"#9c179e\"],[0.4444444444444444,\"#bd3786\"],[0.5555555555555556,\"#d8576b\"],[0.6666666666666666,\"#ed7953\"],[0.7777777777777778,\"#fb9f3a\"],[0.8888888888888888,\"#fdca26\"],[1.0,\"#f0f921\"]]}],\"contourcarpet\":[{\"type\":\"contourcarpet\",\"colorbar\":{\"outlinewidth\":0,\"ticks\":\"\"}}],\"contour\":[{\"type\":\"contour\",\"colorbar\":{\"outlinewidth\":0,\"ticks\":\"\"},\"colorscale\":[[0.0,\"#0d0887\"],[0.1111111111111111,\"#46039f\"],[0.2222222222222222,\"#7201a8\"],[0.3333333333333333,\"#9c179e\"],[0.4444444444444444,\"#bd3786\"],[0.5555555555555556,\"#d8576b\"],[0.6666666666666666,\"#ed7953\"],[0.7777777777777778,\"#fb9f3a\"],[0.8888888888888888,\"#fdca26\"],[1.0,\"#f0f921\"]]}],\"surface\":[{\"type\":\"surface\",\"colorbar\":{\"outlinewidth\":0,\"ticks\":\"\"},\"colorscale\":[[0.0,\"#0d0887\"],[0.1111111111111111,\"#46039f\"],[0.2222222222222222,\"#7201a8\"],[0.3333333333333333,\"#9c179e\"],[0.4444444444444444,\"#bd3786\"],[0.5555555555555556,\"#d8576b\"],[0.6666666666666666,\"#ed7953\"],[0.7777777777777778,\"#fb9f3a\"],[0.8888888888888888,\"#fdca26\"],[1.0,\"#f0f921\"]]}],\"mesh3d\":[{\"type\":\"mesh3d\",\"colorbar\":{\"outlinewidth\":0,\"ticks\":\"\"}}],\"scatter\":[{\"fillpattern\":{\"fillmode\":\"overlay\",\"size\":10,\"solidity\":0.2},\"type\":\"scatter\"}],\"parcoords\":[{\"type\":\"parcoords\",\"line\":{\"colorbar\":{\"outlinewidth\":0,\"ticks\":\"\"}}}],\"scatterpolargl\":[{\"type\":\"scatterpolargl\",\"marker\":{\"colorbar\":{\"outlinewidth\":0,\"ticks\":\"\"}}}],\"bar\":[{\"error_x\":{\"color\":\"#2a3f5f\"},\"error_y\":{\"color\":\"#2a3f5f\"},\"marker\":{\"line\":{\"color\":\"#E5ECF6\",\"width\":0.5},\"pattern\":{\"fillmode\":\"overlay\",\"size\":10,\"solidity\":0.2}},\"type\":\"bar\"}],\"scattergeo\":[{\"type\":\"scattergeo\",\"marker\":{\"colorbar\":{\"outlinewidth\":0,\"ticks\":\"\"}}}],\"scatterpolar\":[{\"type\":\"scatterpolar\",\"marker\":{\"colorbar\":{\"outlinewidth\":0,\"ticks\":\"\"}}}],\"histogram\":[{\"marker\":{\"pattern\":{\"fillmode\":\"overlay\",\"size\":10,\"solidity\":0.2}},\"type\":\"histogram\"}],\"scattergl\":[{\"type\":\"scattergl\",\"marker\":{\"colorbar\":{\"outlinewidth\":0,\"ticks\":\"\"}}}],\"scatter3d\":[{\"type\":\"scatter3d\",\"line\":{\"colorbar\":{\"outlinewidth\":0,\"ticks\":\"\"}},\"marker\":{\"colorbar\":{\"outlinewidth\":0,\"ticks\":\"\"}}}],\"scattermapbox\":[{\"type\":\"scattermapbox\",\"marker\":{\"colorbar\":{\"outlinewidth\":0,\"ticks\":\"\"}}}],\"scatterternary\":[{\"type\":\"scatterternary\",\"marker\":{\"colorbar\":{\"outlinewidth\":0,\"ticks\":\"\"}}}],\"scattercarpet\":[{\"type\":\"scattercarpet\",\"marker\":{\"colorbar\":{\"outlinewidth\":0,\"ticks\":\"\"}}}],\"carpet\":[{\"aaxis\":{\"endlinecolor\":\"#2a3f5f\",\"gridcolor\":\"white\",\"linecolor\":\"white\",\"minorgridcolor\":\"white\",\"startlinecolor\":\"#2a3f5f\"},\"baxis\":{\"endlinecolor\":\"#2a3f5f\",\"gridcolor\":\"white\",\"linecolor\":\"white\",\"minorgridcolor\":\"white\",\"startlinecolor\":\"#2a3f5f\"},\"type\":\"carpet\"}],\"table\":[{\"cells\":{\"fill\":{\"color\":\"#EBF0F8\"},\"line\":{\"color\":\"white\"}},\"header\":{\"fill\":{\"color\":\"#C8D4E3\"},\"line\":{\"color\":\"white\"}},\"type\":\"table\"}],\"barpolar\":[{\"marker\":{\"line\":{\"color\":\"#E5ECF6\",\"width\":0.5},\"pattern\":{\"fillmode\":\"overlay\",\"size\":10,\"solidity\":0.2}},\"type\":\"barpolar\"}],\"pie\":[{\"automargin\":true,\"type\":\"pie\"}]},\"layout\":{\"autotypenumbers\":\"strict\",\"colorway\":[\"#636efa\",\"#EF553B\",\"#00cc96\",\"#ab63fa\",\"#FFA15A\",\"#19d3f3\",\"#FF6692\",\"#B6E880\",\"#FF97FF\",\"#FECB52\"],\"font\":{\"color\":\"#2a3f5f\"},\"hovermode\":\"closest\",\"hoverlabel\":{\"align\":\"left\"},\"paper_bgcolor\":\"white\",\"plot_bgcolor\":\"#E5ECF6\",\"polar\":{\"bgcolor\":\"#E5ECF6\",\"angularaxis\":{\"gridcolor\":\"white\",\"linecolor\":\"white\",\"ticks\":\"\"},\"radialaxis\":{\"gridcolor\":\"white\",\"linecolor\":\"white\",\"ticks\":\"\"}},\"ternary\":{\"bgcolor\":\"#E5ECF6\",\"aaxis\":{\"gridcolor\":\"white\",\"linecolor\":\"white\",\"ticks\":\"\"},\"baxis\":{\"gridcolor\":\"white\",\"linecolor\":\"white\",\"ticks\":\"\"},\"caxis\":{\"gridcolor\":\"white\",\"linecolor\":\"white\",\"ticks\":\"\"}},\"coloraxis\":{\"colorbar\":{\"outlinewidth\":0,\"ticks\":\"\"}},\"colorscale\":{\"sequential\":[[0.0,\"#0d0887\"],[0.1111111111111111,\"#46039f\"],[0.2222222222222222,\"#7201a8\"],[0.3333333333333333,\"#9c179e\"],[0.4444444444444444,\"#bd3786\"],[0.5555555555555556,\"#d8576b\"],[0.6666666666666666,\"#ed7953\"],[0.7777777777777778,\"#fb9f3a\"],[0.8888888888888888,\"#fdca26\"],[1.0,\"#f0f921\"]],\"sequentialminus\":[[0.0,\"#0d0887\"],[0.1111111111111111,\"#46039f\"],[0.2222222222222222,\"#7201a8\"],[0.3333333333333333,\"#9c179e\"],[0.4444444444444444,\"#bd3786\"],[0.5555555555555556,\"#d8576b\"],[0.6666666666666666,\"#ed7953\"],[0.7777777777777778,\"#fb9f3a\"],[0.8888888888888888,\"#fdca26\"],[1.0,\"#f0f921\"]],\"diverging\":[[0,\"#8e0152\"],[0.1,\"#c51b7d\"],[0.2,\"#de77ae\"],[0.3,\"#f1b6da\"],[0.4,\"#fde0ef\"],[0.5,\"#f7f7f7\"],[0.6,\"#e6f5d0\"],[0.7,\"#b8e186\"],[0.8,\"#7fbc41\"],[0.9,\"#4d9221\"],[1,\"#276419\"]]},\"xaxis\":{\"gridcolor\":\"white\",\"linecolor\":\"white\",\"ticks\":\"\",\"title\":{\"standoff\":15},\"zerolinecolor\":\"white\",\"automargin\":true,\"zerolinewidth\":2},\"yaxis\":{\"gridcolor\":\"white\",\"linecolor\":\"white\",\"ticks\":\"\",\"title\":{\"standoff\":15},\"zerolinecolor\":\"white\",\"automargin\":true,\"zerolinewidth\":2},\"scene\":{\"xaxis\":{\"backgroundcolor\":\"#E5ECF6\",\"gridcolor\":\"white\",\"linecolor\":\"white\",\"showbackground\":true,\"ticks\":\"\",\"zerolinecolor\":\"white\",\"gridwidth\":2},\"yaxis\":{\"backgroundcolor\":\"#E5ECF6\",\"gridcolor\":\"white\",\"linecolor\":\"white\",\"showbackground\":true,\"ticks\":\"\",\"zerolinecolor\":\"white\",\"gridwidth\":2},\"zaxis\":{\"backgroundcolor\":\"#E5ECF6\",\"gridcolor\":\"white\",\"linecolor\":\"white\",\"showbackground\":true,\"ticks\":\"\",\"zerolinecolor\":\"white\",\"gridwidth\":2}},\"shapedefaults\":{\"line\":{\"color\":\"#2a3f5f\"}},\"annotationdefaults\":{\"arrowcolor\":\"#2a3f5f\",\"arrowhead\":0,\"arrowwidth\":1},\"geo\":{\"bgcolor\":\"white\",\"landcolor\":\"#E5ECF6\",\"subunitcolor\":\"white\",\"showland\":true,\"showlakes\":true,\"lakecolor\":\"white\"},\"title\":{\"x\":0.05},\"mapbox\":{\"style\":\"light\"}}},\"scene\":{\"domain\":{\"x\":[0.0,1.0],\"y\":[0.0,1.0]},\"xaxis\":{\"title\":{\"text\":\"Field Goals\"}},\"yaxis\":{\"title\":{\"text\":\"Assists\"}},\"zaxis\":{\"title\":{\"text\":\"Total Rebounds\"}}},\"coloraxis\":{\"colorbar\":{\"title\":{\"text\":\"color\"}},\"colorscale\":[[0.0,\"#440154\"],[0.1111111111111111,\"#482878\"],[0.2222222222222222,\"#3e4989\"],[0.3333333333333333,\"#31688e\"],[0.4444444444444444,\"#26828e\"],[0.5555555555555556,\"#1f9e89\"],[0.6666666666666666,\"#35b779\"],[0.7777777777777778,\"#6ece58\"],[0.8888888888888888,\"#b5de2b\"],[1.0,\"#fde725\"]]},\"legend\":{\"tracegroupgap\":0},\"title\":{\"text\":\"NBA Players Clustering\"}},                        {\"responsive\": true}                    ).then(function(){\n",
       "                            \n",
       "var gd = document.getElementById('62af72d6-3ff6-48c7-a7c5-55ebf8a31216');\n",
       "var x = new MutationObserver(function (mutations, observer) {{\n",
       "        var display = window.getComputedStyle(gd).display;\n",
       "        if (!display || display === 'none') {{\n",
       "            console.log([gd, 'removed!']);\n",
       "            Plotly.purge(gd);\n",
       "            observer.disconnect();\n",
       "        }}\n",
       "}});\n",
       "\n",
       "// Listen for the removal of the full notebook cells\n",
       "var notebookContainer = gd.closest('#notebook-container');\n",
       "if (notebookContainer) {{\n",
       "    x.observe(notebookContainer, {childList: true});\n",
       "}}\n",
       "\n",
       "// Listen for the clearing of the current output cell\n",
       "var outputEl = gd.closest('.output');\n",
       "if (outputEl) {{\n",
       "    x.observe(outputEl, {childList: true});\n",
       "}}\n",
       "\n",
       "                        })                };                });            </script>        </div>"
      ]
     },
     "metadata": {},
     "output_type": "display_data"
    }
   ],
   "source": [
    "#Create a visualization of the results with 2 or 3 variables that you think will best\n",
    "#differentiate the clusters\n",
    "\n",
    "fig = px.scatter_3d(NBA, x='FG', y='AST', z='TRB', color=kmeans_obj1.labels_,\n",
    "                     title='NBA Players Clustering',\n",
    "                     labels={'FG': 'Field Goals', 'AST': 'Assists', 'TRB': 'Total Rebounds'},\n",
    "                     color_continuous_scale=px.colors.sequential.Viridis)\n",
    "fig.update_traces(marker=dict(size=5, opacity=0.8))\n",
    "fig.show()"
   ]
  },
  {
   "cell_type": "code",
   "execution_count": null,
   "metadata": {},
   "outputs": [
    {
     "name": "stdout",
     "output_type": "stream",
     "text": [
      "Cluster Evaluation:\n",
      "Total Variance Explained: 0.5528878342617669\n",
      "Silhouette Score: 0.5182414341100418\n"
     ]
    },
    {
     "name": "stderr",
     "output_type": "stream",
     "text": [
      "/home/vscode/.local/lib/python3.12/site-packages/numpy/_core/fromnumeric.py:84: FutureWarning:\n",
      "\n",
      "The behavior of DataFrame.sum with axis=None is deprecated, in a future version this will reduce over both axes and return a scalar. To retain the old behavior, pass axis=0 (or do not pass axis)\n",
      "\n"
     ]
    }
   ],
   "source": [
    "#Evaluate the quality of the clustering using total variance explained and silhouette scores\n",
    "print(\"Cluster Evaluation:\")\n",
    "# Total Variance Explained and Silhouette Score \n",
    "# Total Variance Explained\n",
    "total_sum_squares = np.sum((clust_data1 - np.mean(clust_data1))**2)\n",
    "total = np.sum(total_sum_squares)\n",
    "between_SSE = (total-kmeans_obj1.inertia_)\n",
    "var_explained = between_SSE/total\n",
    "print(f'Total Variance Explained: {var_explained}')\n",
    "# Silhouette Score\n",
    "silhouette_avg = silhouette_score(clust_data1, kmeans_obj1.labels_)\n",
    "print(f'Silhouette Score: {silhouette_avg}')"
   ]
  },
  {
   "cell_type": "code",
   "execution_count": 82,
   "metadata": {},
   "outputs": [
    {
     "data": {
      "image/png": "[encoded data removed]",
      "text/plain": [
       "<Figure size 1000x600 with 1 Axes>"
      ]
     },
     "metadata": {},
     "output_type": "display_data"
    }
   ],
   "source": [
    "#Determine the ideal number of clusters using the elbow method and the silhouette coefficient\n",
    "\n",
    "# Silhouette Coefficient\n",
    "silhouette_scores = []\n",
    "for k in range(2, 11):\n",
    "    kmeans_obj = KMeans(n_clusters=k, random_state=1).fit(clust_data1)\n",
    "    silhouette_avg = silhouette_score(clust_data1, kmeans_obj.labels_)\n",
    "    silhouette_scores.append(silhouette_avg)\n",
    "# Plotting the silhouette scores\n",
    "import matplotlib.pyplot as plt\n",
    "plt.figure(figsize=(10, 6))\n",
    "plt.plot(range(2, 11), silhouette_scores, marker='o')\n",
    "plt.title('Silhouette Scores for Different Number of Clusters')\n",
    "plt.xlabel('Number of Clusters')\n",
    "plt.ylabel('Silhouette Score')\n",
    "plt.xticks(range(2, 11))\n",
    "plt.grid()\n",
    "plt.show()"
   ]
  },
  {
   "cell_type": "code",
   "execution_count": 83,
   "metadata": {},
   "outputs": [
    {
     "data": {
      "application/vnd.plotly.v1+json": {
       "config": {
        "plotlyServerURL": "https://plot.ly"
       },
       "data": [
        {
         "hovertemplate": "Number of Clusters=%{x}<br>Total Sum of Squares=%{y}<extra></extra>",
         "legendgroup": "",
         "line": {
          "color": "#636efa",
          "dash": "solid"
         },
         "marker": {
          "symbol": "circle"
         },
         "mode": "lines",
         "name": "",
         "orientation": "v",
         "showlegend": false,
         "type": "scatter",
         "x": [
          2,
          3,
          4,
          5,
          6,
          7,
          8,
          9,
          10
         ],
         "xaxis": "x",
         "y": [
          544.5826178691678,
          392.3161735904507,
          308.019079348183,
          261.17484491120086,
          219.96051807367303,
          199.9968800374566,
          169.95971787019212,
          154.8060038397226,
          138.30760295461118
         ],
         "yaxis": "y"
        }
       ],
       "layout": {
        "legend": {
         "tracegroupgap": 0
        },
        "template": {
         "data": {
          "bar": [
           {
            "error_x": {
             "color": "#2a3f5f"
            },
            "error_y": {
             "color": "#2a3f5f"
            },
            "marker": {
             "line": {
              "color": "#E5ECF6",
              "width": 0.5
             },
             "pattern": {
              "fillmode": "overlay",
              "size": 10,
              "solidity": 0.2
             }
            },
            "type": "bar"
           }
          ],
          "barpolar": [
           {
            "marker": {
             "line": {
              "color": "#E5ECF6",
              "width": 0.5
             },
             "pattern": {
              "fillmode": "overlay",
              "size": 10,
              "solidity": 0.2
             }
            },
            "type": "barpolar"
           }
          ],
          "carpet": [
           {
            "aaxis": {
             "endlinecolor": "#2a3f5f",
             "gridcolor": "white",
             "linecolor": "white",
             "minorgridcolor": "white",
             "startlinecolor": "#2a3f5f"
            },
            "baxis": {
             "endlinecolor": "#2a3f5f",
             "gridcolor": "white",
             "linecolor": "white",
             "minorgridcolor": "white",
             "startlinecolor": "#2a3f5f"
            },
            "type": "carpet"
           }
          ],
          "choropleth": [
           {
            "colorbar": {
             "outlinewidth": 0,
             "ticks": ""
            },
            "type": "choropleth"
           }
          ],
          "contour": [
           {
            "colorbar": {
             "outlinewidth": 0,
             "ticks": ""
            },
            "colorscale": [
             [
              0,
              "#0d0887"
             ],
             [
              0.1111111111111111,
              "#46039f"
             ],
             [
              0.2222222222222222,
              "#7201a8"
             ],
             [
              0.3333333333333333,
              "#9c179e"
             ],
             [
              0.4444444444444444,
              "#bd3786"
             ],
             [
              0.5555555555555556,
              "#d8576b"
             ],
             [
              0.6666666666666666,
              "#ed7953"
             ],
             [
              0.7777777777777778,
              "#fb9f3a"
             ],
             [
              0.8888888888888888,
              "#fdca26"
             ],
             [
              1,
              "#f0f921"
             ]
            ],
            "type": "contour"
           }
          ],
          "contourcarpet": [
           {
            "colorbar": {
             "outlinewidth": 0,
             "ticks": ""
            },
            "type": "contourcarpet"
           }
          ],
          "heatmap": [
           {
            "colorbar": {
             "outlinewidth": 0,
             "ticks": ""
            },
            "colorscale": [
             [
              0,
              "#0d0887"
             ],
             [
              0.1111111111111111,
              "#46039f"
             ],
             [
              0.2222222222222222,
              "#7201a8"
             ],
             [
              0.3333333333333333,
              "#9c179e"
             ],
             [
              0.4444444444444444,
              "#bd3786"
             ],
             [
              0.5555555555555556,
              "#d8576b"
             ],
             [
              0.6666666666666666,
              "#ed7953"
             ],
             [
              0.7777777777777778,
              "#fb9f3a"
             ],
             [
              0.8888888888888888,
              "#fdca26"
             ],
             [
              1,
              "#f0f921"
             ]
            ],
            "type": "heatmap"
           }
          ],
          "heatmapgl": [
           {
            "colorbar": {
             "outlinewidth": 0,
             "ticks": ""
            },
            "colorscale": [
             [
              0,
              "#0d0887"
             ],
             [
              0.1111111111111111,
              "#46039f"
             ],
             [
              0.2222222222222222,
              "#7201a8"
             ],
             [
              0.3333333333333333,
              "#9c179e"
             ],
             [
              0.4444444444444444,
              "#bd3786"
             ],
             [
              0.5555555555555556,
              "#d8576b"
             ],
             [
              0.6666666666666666,
              "#ed7953"
             ],
             [
              0.7777777777777778,
              "#fb9f3a"
             ],
             [
              0.8888888888888888,
              "#fdca26"
             ],
             [
              1,
              "#f0f921"
             ]
            ],
            "type": "heatmapgl"
           }
          ],
          "histogram": [
           {
            "marker": {
             "pattern": {
              "fillmode": "overlay",
              "size": 10,
              "solidity": 0.2
             }
            },
            "type": "histogram"
           }
          ],
          "histogram2d": [
           {
            "colorbar": {
             "outlinewidth": 0,
             "ticks": ""
            },
            "colorscale": [
             [
              0,
              "#0d0887"
             ],
             [
              0.1111111111111111,
              "#46039f"
             ],
             [
              0.2222222222222222,
              "#7201a8"
             ],
             [
              0.3333333333333333,
              "#9c179e"
             ],
             [
              0.4444444444444444,
              "#bd3786"
             ],
             [
              0.5555555555555556,
              "#d8576b"
             ],
             [
              0.6666666666666666,
              "#ed7953"
             ],
             [
              0.7777777777777778,
              "#fb9f3a"
             ],
             [
              0.8888888888888888,
              "#fdca26"
             ],
             [
              1,
              "#f0f921"
             ]
            ],
            "type": "histogram2d"
           }
          ],
          "histogram2dcontour": [
           {
            "colorbar": {
             "outlinewidth": 0,
             "ticks": ""
            },
            "colorscale": [
             [
              0,
              "#0d0887"
             ],
             [
              0.1111111111111111,
              "#46039f"
             ],
             [
              0.2222222222222222,
              "#7201a8"
             ],
             [
              0.3333333333333333,
              "#9c179e"
             ],
             [
              0.4444444444444444,
              "#bd3786"
             ],
             [
              0.5555555555555556,
              "#d8576b"
             ],
             [
              0.6666666666666666,
              "#ed7953"
             ],
             [
              0.7777777777777778,
              "#fb9f3a"
             ],
             [
              0.8888888888888888,
              "#fdca26"
             ],
             [
              1,
              "#f0f921"
             ]
            ],
            "type": "histogram2dcontour"
           }
          ],
          "mesh3d": [
           {
            "colorbar": {
             "outlinewidth": 0,
             "ticks": ""
            },
            "type": "mesh3d"
           }
          ],
          "parcoords": [
           {
            "line": {
             "colorbar": {
              "outlinewidth": 0,
              "ticks": ""
             }
            },
            "type": "parcoords"
           }
          ],
          "pie": [
           {
            "automargin": true,
            "type": "pie"
           }
          ],
          "scatter": [
           {
            "fillpattern": {
             "fillmode": "overlay",
             "size": 10,
             "solidity": 0.2
            },
            "type": "scatter"
           }
          ],
          "scatter3d": [
           {
            "line": {
             "colorbar": {
              "outlinewidth": 0,
              "ticks": ""
             }
            },
            "marker": {
             "colorbar": {
              "outlinewidth": 0,
              "ticks": ""
             }
            },
            "type": "scatter3d"
           }
          ],
          "scattercarpet": [
           {
            "marker": {
             "colorbar": {
              "outlinewidth": 0,
              "ticks": ""
             }
            },
            "type": "scattercarpet"
           }
          ],
          "scattergeo": [
           {
            "marker": {
             "colorbar": {
              "outlinewidth": 0,
              "ticks": ""
             }
            },
            "type": "scattergeo"
           }
          ],
          "scattergl": [
           {
            "marker": {
             "colorbar": {
              "outlinewidth": 0,
              "ticks": ""
             }
            },
            "type": "scattergl"
           }
          ],
          "scattermapbox": [
           {
            "marker": {
             "colorbar": {
              "outlinewidth": 0,
              "ticks": ""
             }
            },
            "type": "scattermapbox"
           }
          ],
          "scatterpolar": [
           {
            "marker": {
             "colorbar": {
              "outlinewidth": 0,
              "ticks": ""
             }
            },
            "type": "scatterpolar"
           }
          ],
          "scatterpolargl": [
           {
            "marker": {
             "colorbar": {
              "outlinewidth": 0,
              "ticks": ""
             }
            },
            "type": "scatterpolargl"
           }
          ],
          "scatterternary": [
           {
            "marker": {
             "colorbar": {
              "outlinewidth": 0,
              "ticks": ""
             }
            },
            "type": "scatterternary"
           }
          ],
          "surface": [
           {
            "colorbar": {
             "outlinewidth": 0,
             "ticks": ""
            },
            "colorscale": [
             [
              0,
              "#0d0887"
             ],
             [
              0.1111111111111111,
              "#46039f"
             ],
             [
              0.2222222222222222,
              "#7201a8"
             ],
             [
              0.3333333333333333,
              "#9c179e"
             ],
             [
              0.4444444444444444,
              "#bd3786"
             ],
             [
              0.5555555555555556,
              "#d8576b"
             ],
             [
              0.6666666666666666,
              "#ed7953"
             ],
             [
              0.7777777777777778,
              "#fb9f3a"
             ],
             [
              0.8888888888888888,
              "#fdca26"
             ],
             [
              1,
              "#f0f921"
             ]
            ],
            "type": "surface"
           }
          ],
          "table": [
           {
            "cells": {
             "fill": {
              "color": "#EBF0F8"
             },
             "line": {
              "color": "white"
             }
            },
            "header": {
             "fill": {
              "color": "#C8D4E3"
             },
             "line": {
              "color": "white"
             }
            },
            "type": "table"
           }
          ]
         },
         "layout": {
          "annotationdefaults": {
           "arrowcolor": "#2a3f5f",
           "arrowhead": 0,
           "arrowwidth": 1
          },
          "autotypenumbers": "strict",
          "coloraxis": {
           "colorbar": {
            "outlinewidth": 0,
            "ticks": ""
           }
          },
          "colorscale": {
           "diverging": [
            [
             0,
             "#8e0152"
            ],
            [
             0.1,
             "#c51b7d"
            ],
            [
             0.2,
             "#de77ae"
            ],
            [
             0.3,
             "#f1b6da"
            ],
            [
             0.4,
             "#fde0ef"
            ],
            [
             0.5,
             "#f7f7f7"
            ],
            [
             0.6,
             "#e6f5d0"
            ],
            [
             0.7,
             "#b8e186"
            ],
            [
             0.8,
             "#7fbc41"
            ],
            [
             0.9,
             "#4d9221"
            ],
            [
             1,
             "#276419"
            ]
           ],
           "sequential": [
            [
             0,
             "#0d0887"
            ],
            [
             0.1111111111111111,
             "#46039f"
            ],
            [
             0.2222222222222222,
             "#7201a8"
            ],
            [
             0.3333333333333333,
             "#9c179e"
            ],
            [
             0.4444444444444444,
             "#bd3786"
            ],
            [
             0.5555555555555556,
             "#d8576b"
            ],
            [
             0.6666666666666666,
             "#ed7953"
            ],
            [
             0.7777777777777778,
             "#fb9f3a"
            ],
            [
             0.8888888888888888,
             "#fdca26"
            ],
            [
             1,
             "#f0f921"
            ]
           ],
           "sequentialminus": [
            [
             0,
             "#0d0887"
            ],
            [
             0.1111111111111111,
             "#46039f"
            ],
            [
             0.2222222222222222,
             "#7201a8"
            ],
            [
             0.3333333333333333,
             "#9c179e"
            ],
            [
             0.4444444444444444,
             "#bd3786"
            ],
            [
             0.5555555555555556,
             "#d8576b"
            ],
            [
             0.6666666666666666,
             "#ed7953"
            ],
            [
             0.7777777777777778,
             "#fb9f3a"
            ],
            [
             0.8888888888888888,
             "#fdca26"
            ],
            [
             1,
             "#f0f921"
            ]
           ]
          },
          "colorway": [
           "#636efa",
           "#EF553B",
           "#00cc96",
           "#ab63fa",
           "#FFA15A",
           "#19d3f3",
           "#FF6692",
           "#B6E880",
           "#FF97FF",
           "#FECB52"
          ],
          "font": {
           "color": "#2a3f5f"
          },
          "geo": {
           "bgcolor": "white",
           "lakecolor": "white",
           "landcolor": "#E5ECF6",
           "showlakes": true,
           "showland": true,
           "subunitcolor": "white"
          },
          "hoverlabel": {
           "align": "left"
          },
          "hovermode": "closest",
          "mapbox": {
           "style": "light"
          },
          "paper_bgcolor": "white",
          "plot_bgcolor": "#E5ECF6",
          "polar": {
           "angularaxis": {
            "gridcolor": "white",
            "linecolor": "white",
            "ticks": ""
           },
           "bgcolor": "#E5ECF6",
           "radialaxis": {
            "gridcolor": "white",
            "linecolor": "white",
            "ticks": ""
           }
          },
          "scene": {
           "xaxis": {
            "backgroundcolor": "#E5ECF6",
            "gridcolor": "white",
            "gridwidth": 2,
            "linecolor": "white",
            "showbackground": true,
            "ticks": "",
            "zerolinecolor": "white"
           },
           "yaxis": {
            "backgroundcolor": "#E5ECF6",
            "gridcolor": "white",
            "gridwidth": 2,
            "linecolor": "white",
            "showbackground": true,
            "ticks": "",
            "zerolinecolor": "white"
           },
           "zaxis": {
            "backgroundcolor": "#E5ECF6",
            "gridcolor": "white",
            "gridwidth": 2,
            "linecolor": "white",
            "showbackground": true,
            "ticks": "",
            "zerolinecolor": "white"
           }
          },
          "shapedefaults": {
           "line": {
            "color": "#2a3f5f"
           }
          },
          "ternary": {
           "aaxis": {
            "gridcolor": "white",
            "linecolor": "white",
            "ticks": ""
           },
           "baxis": {
            "gridcolor": "white",
            "linecolor": "white",
            "ticks": ""
           },
           "bgcolor": "#E5ECF6",
           "caxis": {
            "gridcolor": "white",
            "linecolor": "white",
            "ticks": ""
           }
          },
          "title": {
           "x": 0.05
          },
          "xaxis": {
           "automargin": true,
           "gridcolor": "white",
           "linecolor": "white",
           "ticks": "",
           "title": {
            "standoff": 15
           },
           "zerolinecolor": "white",
           "zerolinewidth": 2
          },
          "yaxis": {
           "automargin": true,
           "gridcolor": "white",
           "linecolor": "white",
           "ticks": "",
           "title": {
            "standoff": 15
           },
           "zerolinecolor": "white",
           "zerolinewidth": 2
          }
         }
        },
        "title": {
         "text": "Elbow Method for Optimal Clusters"
        },
        "xaxis": {
         "anchor": "y",
         "domain": [
          0,
          1
         ],
         "title": {
          "text": "Number of Clusters"
         }
        },
        "yaxis": {
         "anchor": "x",
         "domain": [
          0,
          1
         ],
         "title": {
          "text": "Total Sum of Squares"
         }
        }
       }
      },
      "text/html": [
       "<div>                            <div id=\"57b95387-fb62-4fe1-ba39-6ae5881a4722\" class=\"plotly-graph-div\" style=\"height:525px; width:100%;\"></div>            <script type=\"text/javascript\">                require([\"plotly\"], function(Plotly) {                    window.PLOTLYENV=window.PLOTLYENV || {};                                    if (document.getElementById(\"57b95387-fb62-4fe1-ba39-6ae5881a4722\")) {                    Plotly.newPlot(                        \"57b95387-fb62-4fe1-ba39-6ae5881a4722\",                        [{\"hovertemplate\":\"Number of Clusters=%{x}\\u003cbr\\u003eTotal Sum of Squares=%{y}\\u003cextra\\u003e\\u003c\\u002fextra\\u003e\",\"legendgroup\":\"\",\"line\":{\"color\":\"#636efa\",\"dash\":\"solid\"},\"marker\":{\"symbol\":\"circle\"},\"mode\":\"lines\",\"name\":\"\",\"orientation\":\"v\",\"showlegend\":false,\"x\":[2,3,4,5,6,7,8,9,10],\"xaxis\":\"x\",\"y\":[544.5826178691678,392.3161735904507,308.019079348183,261.17484491120086,219.96051807367303,199.9968800374566,169.95971787019212,154.8060038397226,138.30760295461118],\"yaxis\":\"y\",\"type\":\"scatter\"}],                        {\"template\":{\"data\":{\"histogram2dcontour\":[{\"type\":\"histogram2dcontour\",\"colorbar\":{\"outlinewidth\":0,\"ticks\":\"\"},\"colorscale\":[[0.0,\"#0d0887\"],[0.1111111111111111,\"#46039f\"],[0.2222222222222222,\"#7201a8\"],[0.3333333333333333,\"#9c179e\"],[0.4444444444444444,\"#bd3786\"],[0.5555555555555556,\"#d8576b\"],[0.6666666666666666,\"#ed7953\"],[0.7777777777777778,\"#fb9f3a\"],[0.8888888888888888,\"#fdca26\"],[1.0,\"#f0f921\"]]}],\"choropleth\":[{\"type\":\"choropleth\",\"colorbar\":{\"outlinewidth\":0,\"ticks\":\"\"}}],\"histogram2d\":[{\"type\":\"histogram2d\",\"colorbar\":{\"outlinewidth\":0,\"ticks\":\"\"},\"colorscale\":[[0.0,\"#0d0887\"],[0.1111111111111111,\"#46039f\"],[0.2222222222222222,\"#7201a8\"],[0.3333333333333333,\"#9c179e\"],[0.4444444444444444,\"#bd3786\"],[0.5555555555555556,\"#d8576b\"],[0.6666666666666666,\"#ed7953\"],[0.7777777777777778,\"#fb9f3a\"],[0.8888888888888888,\"#fdca26\"],[1.0,\"#f0f921\"]]}],\"heatmap\":[{\"type\":\"heatmap\",\"colorbar\":{\"outlinewidth\":0,\"ticks\":\"\"},\"colorscale\":[[0.0,\"#0d0887\"],[0.1111111111111111,\"#46039f\"],[0.2222222222222222,\"#7201a8\"],[0.3333333333333333,\"#9c179e\"],[0.4444444444444444,\"#bd3786\"],[0.5555555555555556,\"#d8576b\"],[0.6666666666666666,\"#ed7953\"],[0.7777777777777778,\"#fb9f3a\"],[0.8888888888888888,\"#fdca26\"],[1.0,\"#f0f921\"]]}],\"heatmapgl\":[{\"type\":\"heatmapgl\",\"colorbar\":{\"outlinewidth\":0,\"ticks\":\"\"},\"colorscale\":[[0.0,\"#0d0887\"],[0.1111111111111111,\"#46039f\"],[0.2222222222222222,\"#7201a8\"],[0.3333333333333333,\"#9c179e\"],[0.4444444444444444,\"#bd3786\"],[0.5555555555555556,\"#d8576b\"],[0.6666666666666666,\"#ed7953\"],[0.7777777777777778,\"#fb9f3a\"],[0.8888888888888888,\"#fdca26\"],[1.0,\"#f0f921\"]]}],\"contourcarpet\":[{\"type\":\"contourcarpet\",\"colorbar\":{\"outlinewidth\":0,\"ticks\":\"\"}}],\"contour\":[{\"type\":\"contour\",\"colorbar\":{\"outlinewidth\":0,\"ticks\":\"\"},\"colorscale\":[[0.0,\"#0d0887\"],[0.1111111111111111,\"#46039f\"],[0.2222222222222222,\"#7201a8\"],[0.3333333333333333,\"#9c179e\"],[0.4444444444444444,\"#bd3786\"],[0.5555555555555556,\"#d8576b\"],[0.6666666666666666,\"#ed7953\"],[0.7777777777777778,\"#fb9f3a\"],[0.8888888888888888,\"#fdca26\"],[1.0,\"#f0f921\"]]}],\"surface\":[{\"type\":\"surface\",\"colorbar\":{\"outlinewidth\":0,\"ticks\":\"\"},\"colorscale\":[[0.0,\"#0d0887\"],[0.1111111111111111,\"#46039f\"],[0.2222222222222222,\"#7201a8\"],[0.3333333333333333,\"#9c179e\"],[0.4444444444444444,\"#bd3786\"],[0.5555555555555556,\"#d8576b\"],[0.6666666666666666,\"#ed7953\"],[0.7777777777777778,\"#fb9f3a\"],[0.8888888888888888,\"#fdca26\"],[1.0,\"#f0f921\"]]}],\"mesh3d\":[{\"type\":\"mesh3d\",\"colorbar\":{\"outlinewidth\":0,\"ticks\":\"\"}}],\"scatter\":[{\"fillpattern\":{\"fillmode\":\"overlay\",\"size\":10,\"solidity\":0.2},\"type\":\"scatter\"}],\"parcoords\":[{\"type\":\"parcoords\",\"line\":{\"colorbar\":{\"outlinewidth\":0,\"ticks\":\"\"}}}],\"scatterpolargl\":[{\"type\":\"scatterpolargl\",\"marker\":{\"colorbar\":{\"outlinewidth\":0,\"ticks\":\"\"}}}],\"bar\":[{\"error_x\":{\"color\":\"#2a3f5f\"},\"error_y\":{\"color\":\"#2a3f5f\"},\"marker\":{\"line\":{\"color\":\"#E5ECF6\",\"width\":0.5},\"pattern\":{\"fillmode\":\"overlay\",\"size\":10,\"solidity\":0.2}},\"type\":\"bar\"}],\"scattergeo\":[{\"type\":\"scattergeo\",\"marker\":{\"colorbar\":{\"outlinewidth\":0,\"ticks\":\"\"}}}],\"scatterpolar\":[{\"type\":\"scatterpolar\",\"marker\":{\"colorbar\":{\"outlinewidth\":0,\"ticks\":\"\"}}}],\"histogram\":[{\"marker\":{\"pattern\":{\"fillmode\":\"overlay\",\"size\":10,\"solidity\":0.2}},\"type\":\"histogram\"}],\"scattergl\":[{\"type\":\"scattergl\",\"marker\":{\"colorbar\":{\"outlinewidth\":0,\"ticks\":\"\"}}}],\"scatter3d\":[{\"type\":\"scatter3d\",\"line\":{\"colorbar\":{\"outlinewidth\":0,\"ticks\":\"\"}},\"marker\":{\"colorbar\":{\"outlinewidth\":0,\"ticks\":\"\"}}}],\"scattermapbox\":[{\"type\":\"scattermapbox\",\"marker\":{\"colorbar\":{\"outlinewidth\":0,\"ticks\":\"\"}}}],\"scatterternary\":[{\"type\":\"scatterternary\",\"marker\":{\"colorbar\":{\"outlinewidth\":0,\"ticks\":\"\"}}}],\"scattercarpet\":[{\"type\":\"scattercarpet\",\"marker\":{\"colorbar\":{\"outlinewidth\":0,\"ticks\":\"\"}}}],\"carpet\":[{\"aaxis\":{\"endlinecolor\":\"#2a3f5f\",\"gridcolor\":\"white\",\"linecolor\":\"white\",\"minorgridcolor\":\"white\",\"startlinecolor\":\"#2a3f5f\"},\"baxis\":{\"endlinecolor\":\"#2a3f5f\",\"gridcolor\":\"white\",\"linecolor\":\"white\",\"minorgridcolor\":\"white\",\"startlinecolor\":\"#2a3f5f\"},\"type\":\"carpet\"}],\"table\":[{\"cells\":{\"fill\":{\"color\":\"#EBF0F8\"},\"line\":{\"color\":\"white\"}},\"header\":{\"fill\":{\"color\":\"#C8D4E3\"},\"line\":{\"color\":\"white\"}},\"type\":\"table\"}],\"barpolar\":[{\"marker\":{\"line\":{\"color\":\"#E5ECF6\",\"width\":0.5},\"pattern\":{\"fillmode\":\"overlay\",\"size\":10,\"solidity\":0.2}},\"type\":\"barpolar\"}],\"pie\":[{\"automargin\":true,\"type\":\"pie\"}]},\"layout\":{\"autotypenumbers\":\"strict\",\"colorway\":[\"#636efa\",\"#EF553B\",\"#00cc96\",\"#ab63fa\",\"#FFA15A\",\"#19d3f3\",\"#FF6692\",\"#B6E880\",\"#FF97FF\",\"#FECB52\"],\"font\":{\"color\":\"#2a3f5f\"},\"hovermode\":\"closest\",\"hoverlabel\":{\"align\":\"left\"},\"paper_bgcolor\":\"white\",\"plot_bgcolor\":\"#E5ECF6\",\"polar\":{\"bgcolor\":\"#E5ECF6\",\"angularaxis\":{\"gridcolor\":\"white\",\"linecolor\":\"white\",\"ticks\":\"\"},\"radialaxis\":{\"gridcolor\":\"white\",\"linecolor\":\"white\",\"ticks\":\"\"}},\"ternary\":{\"bgcolor\":\"#E5ECF6\",\"aaxis\":{\"gridcolor\":\"white\",\"linecolor\":\"white\",\"ticks\":\"\"},\"baxis\":{\"gridcolor\":\"white\",\"linecolor\":\"white\",\"ticks\":\"\"},\"caxis\":{\"gridcolor\":\"white\",\"linecolor\":\"white\",\"ticks\":\"\"}},\"coloraxis\":{\"colorbar\":{\"outlinewidth\":0,\"ticks\":\"\"}},\"colorscale\":{\"sequential\":[[0.0,\"#0d0887\"],[0.1111111111111111,\"#46039f\"],[0.2222222222222222,\"#7201a8\"],[0.3333333333333333,\"#9c179e\"],[0.4444444444444444,\"#bd3786\"],[0.5555555555555556,\"#d8576b\"],[0.6666666666666666,\"#ed7953\"],[0.7777777777777778,\"#fb9f3a\"],[0.8888888888888888,\"#fdca26\"],[1.0,\"#f0f921\"]],\"sequentialminus\":[[0.0,\"#0d0887\"],[0.1111111111111111,\"#46039f\"],[0.2222222222222222,\"#7201a8\"],[0.3333333333333333,\"#9c179e\"],[0.4444444444444444,\"#bd3786\"],[0.5555555555555556,\"#d8576b\"],[0.6666666666666666,\"#ed7953\"],[0.7777777777777778,\"#fb9f3a\"],[0.8888888888888888,\"#fdca26\"],[1.0,\"#f0f921\"]],\"diverging\":[[0,\"#8e0152\"],[0.1,\"#c51b7d\"],[0.2,\"#de77ae\"],[0.3,\"#f1b6da\"],[0.4,\"#fde0ef\"],[0.5,\"#f7f7f7\"],[0.6,\"#e6f5d0\"],[0.7,\"#b8e186\"],[0.8,\"#7fbc41\"],[0.9,\"#4d9221\"],[1,\"#276419\"]]},\"xaxis\":{\"gridcolor\":\"white\",\"linecolor\":\"white\",\"ticks\":\"\",\"title\":{\"standoff\":15},\"zerolinecolor\":\"white\",\"automargin\":true,\"zerolinewidth\":2},\"yaxis\":{\"gridcolor\":\"white\",\"linecolor\":\"white\",\"ticks\":\"\",\"title\":{\"standoff\":15},\"zerolinecolor\":\"white\",\"automargin\":true,\"zerolinewidth\":2},\"scene\":{\"xaxis\":{\"backgroundcolor\":\"#E5ECF6\",\"gridcolor\":\"white\",\"linecolor\":\"white\",\"showbackground\":true,\"ticks\":\"\",\"zerolinecolor\":\"white\",\"gridwidth\":2},\"yaxis\":{\"backgroundcolor\":\"#E5ECF6\",\"gridcolor\":\"white\",\"linecolor\":\"white\",\"showbackground\":true,\"ticks\":\"\",\"zerolinecolor\":\"white\",\"gridwidth\":2},\"zaxis\":{\"backgroundcolor\":\"#E5ECF6\",\"gridcolor\":\"white\",\"linecolor\":\"white\",\"showbackground\":true,\"ticks\":\"\",\"zerolinecolor\":\"white\",\"gridwidth\":2}},\"shapedefaults\":{\"line\":{\"color\":\"#2a3f5f\"}},\"annotationdefaults\":{\"arrowcolor\":\"#2a3f5f\",\"arrowhead\":0,\"arrowwidth\":1},\"geo\":{\"bgcolor\":\"white\",\"landcolor\":\"#E5ECF6\",\"subunitcolor\":\"white\",\"showland\":true,\"showlakes\":true,\"lakecolor\":\"white\"},\"title\":{\"x\":0.05},\"mapbox\":{\"style\":\"light\"}}},\"xaxis\":{\"anchor\":\"y\",\"domain\":[0.0,1.0],\"title\":{\"text\":\"Number of Clusters\"}},\"yaxis\":{\"anchor\":\"x\",\"domain\":[0.0,1.0],\"title\":{\"text\":\"Total Sum of Squares\"}},\"legend\":{\"tracegroupgap\":0},\"title\":{\"text\":\"Elbow Method for Optimal Clusters\"}},                        {\"responsive\": true}                    ).then(function(){\n",
       "                            \n",
       "var gd = document.getElementById('57b95387-fb62-4fe1-ba39-6ae5881a4722');\n",
       "var x = new MutationObserver(function (mutations, observer) {{\n",
       "        var display = window.getComputedStyle(gd).display;\n",
       "        if (!display || display === 'none') {{\n",
       "            console.log([gd, 'removed!']);\n",
       "            Plotly.purge(gd);\n",
       "            observer.disconnect();\n",
       "        }}\n",
       "}});\n",
       "\n",
       "// Listen for the removal of the full notebook cells\n",
       "var notebookContainer = gd.closest('#notebook-container');\n",
       "if (notebookContainer) {{\n",
       "    x.observe(notebookContainer, {childList: true});\n",
       "}}\n",
       "\n",
       "// Listen for the clearing of the current output cell\n",
       "var outputEl = gd.closest('.output');\n",
       "if (outputEl) {{\n",
       "    x.observe(outputEl, {childList: true});\n",
       "}}\n",
       "\n",
       "                        })                };                });            </script>        </div>"
      ]
     },
     "metadata": {},
     "output_type": "display_data"
    }
   ],
   "source": [
    "#Visualize the results of the elbow method\n",
    "\n",
    "# Elbow Method \n",
    "css = []\n",
    "for i in range(2, 11):\n",
    "    kmeans = KMeans(n_clusters=i, random_state=1)\n",
    "    kmeans.fit(clust_data1)\n",
    "    css.append(kmeans.inertia_)\n",
    "               \n",
    "elbow_data = pd.DataFrame({'Clusters': range(2, 11), 'CSS': css})\n",
    "fig = px.line(elbow_data, x='Clusters', y='CSS', title='Elbow Method for Optimal Clusters',\n",
    "                 labels={'Clusters': 'Number of Clusters', 'CSS': 'Total Sum of Squares'})\n",
    "fig.show()"
   ]
  },
  {
   "cell_type": "code",
   "execution_count": 94,
   "metadata": {},
   "outputs": [
    {
     "data": {
      "application/vnd.plotly.v1+json": {
       "config": {
        "plotlyServerURL": "https://plot.ly"
       },
       "data": [
        {
         "hovertemplate": "Field Goals=%{x}<br>Assists=%{y}<br>Total Rebounds=%{z}<br>color=%{marker.color}<extra></extra>",
         "legendgroup": "",
         "marker": {
          "color": [
           2,
           2,
           2,
           2,
           2,
           2,
           2,
           2,
           2,
           2,
           2,
           3,
           2,
           2,
           2,
           2,
           2,
           2,
           0,
           2,
           2,
           2,
           2,
           2,
           2,
           2,
           2,
           3,
           2,
           2,
           0,
           0,
           2,
           2,
           3,
           2,
           2,
           2,
           2,
           0,
           3,
           2,
           3,
           3,
           2,
           3,
           2,
           3,
           3,
           0,
           2,
           3,
           2,
           2,
           3,
           2,
           0,
           3,
           3,
           2,
           0,
           2,
           0,
           1,
           3,
           2,
           2,
           0,
           0,
           3,
           0,
           0,
           0,
           0,
           0,
           3,
           1,
           2,
           2,
           3,
           3,
           3,
           0,
           0,
           3,
           0,
           0,
           3,
           0,
           2,
           3,
           0,
           3,
           1,
           3,
           0,
           0,
           0,
           2,
           0,
           0,
           0,
           0,
           0,
           0,
           0,
           1,
           0,
           0,
           0,
           3,
           0,
           3,
           0,
           0,
           0,
           0,
           0,
           0,
           2,
           0,
           0,
           1,
           0,
           3,
           0,
           0,
           0,
           0,
           0,
           0,
           3,
           3,
           0,
           3,
           0,
           3,
           0,
           1,
           1,
           3,
           2,
           0,
           3,
           1,
           0,
           0,
           2,
           0,
           0,
           1,
           3,
           0,
           0,
           0,
           1,
           2,
           1,
           0,
           0,
           0,
           0,
           1,
           0,
           1,
           0,
           3,
           0,
           0,
           0,
           0,
           0,
           3,
           0,
           0,
           3,
           0,
           0,
           0,
           0,
           1,
           0,
           0,
           0,
           3,
           0,
           0,
           1,
           3,
           0,
           1,
           1,
           0,
           0,
           1,
           0,
           0,
           1,
           0,
           0,
           0,
           0,
           1,
           0,
           0,
           0,
           1,
           0,
           0,
           1,
           0,
           0,
           0,
           0,
           1,
           1,
           1,
           1,
           0,
           1,
           0,
           1,
           1,
           0,
           1,
           0,
           0,
           0,
           0,
           1,
           1,
           0,
           1,
           1,
           1,
           0,
           1,
           1,
           1,
           1,
           1,
           1,
           1,
           0,
           1,
           1,
           1,
           1,
           1,
           0,
           1,
           1,
           1,
           1,
           1,
           1,
           1,
           0,
           0,
           1,
           1,
           1,
           0,
           1,
           1,
           1,
           0,
           1,
           1,
           1,
           1,
           1,
           1,
           1,
           1,
           1,
           1,
           1,
           1,
           1,
           1,
           1,
           1,
           1,
           1,
           1,
           1,
           1,
           1,
           1,
           1,
           1,
           1,
           1,
           1,
           1,
           1,
           1,
           1,
           1,
           1,
           1,
           1,
           1,
           1,
           1,
           1,
           1,
           1,
           1,
           1,
           1,
           1,
           1,
           1,
           1,
           1,
           1,
           1,
           1,
           1,
           1,
           1,
           1,
           1,
           1,
           1,
           1,
           1,
           1,
           1,
           1,
           1,
           1,
           1,
           1,
           1,
           1,
           1,
           1,
           1,
           1,
           1,
           1,
           1,
           1,
           1,
           1,
           1,
           1,
           1,
           1,
           1,
           1,
           1,
           1,
           1,
           1,
           1,
           1,
           1,
           1,
           1,
           1,
           1,
           1,
           1,
           1,
           1,
           1,
           1,
           1,
           1,
           1,
           1,
           1,
           1,
           1,
           1,
           1,
           1,
           1,
           1,
           1,
           1,
           1,
           1,
           1,
           1,
           1,
           1,
           1,
           1,
           1,
           1,
           1,
           1,
           1,
           1,
           1,
           1,
           1,
           1,
           1,
           1,
           1
          ],
          "coloraxis": "coloraxis",
          "opacity": 0.8,
          "size": 5,
          "symbol": "circle"
         },
         "mode": "markers",
         "name": "",
         "scene": "scene",
         "showlegend": false,
         "type": "scatter3d",
         "x": [
          3.032711449799775,
          2.990385757291666,
          3.2073049313957247,
          2.9586414879105845,
          3.12794425794302,
          2.577710255337603,
          2.752303736933553,
          2.334337523415976,
          2.58829167846463,
          2.2179418690186763,
          2.2179418690186763,
          2.5512566975200346,
          2.1756161765105673,
          2.4031167737416532,
          2.154453330256513,
          2.1650347533835403,
          1.6412543085956912,
          2.334337523415976,
          0.6624726693456705,
          1.8581734826997498,
          2.006313406478131,
          2.096255503057863,
          1.757649962992991,
          1.7629406745565046,
          2.0803833683673223,
          2.1332904840024582,
          1.995731983351104,
          1.6941614242308274,
          1.6412543085956912,
          1.7523592514294772,
          1.5089865195078505,
          1.5618936351429868,
          1.4402072691821735,
          1.4560794038727143,
          1.7364871167389364,
          1.572475058270014,
          1.5513122120159595,
          1.4243351344916326,
          1.0698574597362196,
          1.3714280188564962,
          1.8793363289538043,
          1.3820094419835236,
          1.5830564813970414,
          1.4507886923092006,
          1.3714280188564962,
          1.5407307888889323,
          1.614800750778123,
          1.1597995563159513,
          1.3132301916578464,
          1.2709044991497374,
          1.4243351344916326,
          1.5671843467065005,
          1.4137537113646053,
          1.3396837494754146,
          1.2973580569673056,
          1.1968345372605467,
          1.2973580569673056,
          1.038113190355138,
          1.5248586541983915,
          1.0169503441010834,
          1.1333459984983831,
          1.2867766338402782,
          0.8741011318862155,
          -0.2157854501975914,
          1.2285788066416283,
          0.641309823091616,
          1.1439274216254103,
          1.191543825697033,
          0.9852060747200017,
          1.122764575371356,
          0.2180528980105259,
          0.027587281724035375,
          0.8317754393781065,
          0.852938285632161,
          0.8053218815605383,
          1.2444509413321694,
          -0.3956696433570547,
          0.8741011318862155,
          0.8264847278145928,
          0.9270082475213517,
          0.8688104203227018,
          0.9270082475213517,
          0.8476475740686473,
          0.8211940162510792,
          0.9270082475213517,
          0.7524147659254021,
          0.8264847278145928,
          0.7788683237429702,
          0.6836355155997249,
          0.7629961890524294,
          0.8793918434497291,
          0.5778212843294525,
          0.8846825550132428,
          -0.4697396052462454,
          0.9058454012672972,
          0.6148562652740478,
          0.6836355155997249,
          0.7153797849808067,
          0.9058454012672972,
          0.4667163414956663,
          0.6889262271632386,
          0.7735776121794566,
          0.6042748421470205,
          0.5566584380753979,
          0.5619491496389115,
          0.6466005346551296,
          -0.5491002786989498,
          0.5354955918213434,
          0.6836355155997249,
          0.6995076502902658,
          1.038113190355138,
          0.5196234571308026,
          0.6783448040362113,
          0.3873556680429619,
          0.47200705305917995,
          0.583111995892966,
          0.4455534952416118,
          0.4931698993132344,
          0.3873556680429619,
          0.33444855240782567,
          0.4032278027335028,
          0.5354955918213434,
          -0.6390423752786815,
          0.31328570615377116,
          0.5778212843294525,
          0.3027042830267439,
          0.5302048802578299,
          0.34502997553485293,
          0.3873556680429619,
          0.5354955918213434,
          0.23392503270106677,
          0.7153797849808067,
          0.625437688401075,
          0.32915784084431204,
          0.6466005346551296,
          0.5037513224402617,
          0.47200705305917995,
          0.45613491836863906,
          -0.45386747055570453,
          -0.9247407997084173,
          0.5619491496389115,
          0.5037513224402617,
          0.35032068709836656,
          0.47200705305917995,
          -0.45386747055570453,
          0.3556113986618802,
          0.2392157442645804,
          0.38206495647944827,
          0.2815414367726894,
          0.20747147488349865,
          -0.5279374324448953,
          0.3397392639713393,
          0.4032278027335028,
          0.37148353335242107,
          0.22863432113755314,
          -0.5596817018259771,
          0.5249141686943162,
          -0.5385188555719226,
          0.11752937830376702,
          0.09636653204971252,
          0.054040839541603505,
          0.11752937830376702,
          -0.7395658949854403,
          0.21276218644701228,
          -0.956485069089499,
          0.21276218644701228,
          0.19159934019295777,
          0.12282008986728064,
          0.043459416414576256,
          0.027587281724035375,
          0.09107582048619889,
          0.08578510892268526,
          0.1545643592483624,
          0.02229657016052175,
          0.054040839541603505,
          0.017005858597008126,
          -0.04648268016515538,
          0.1545643592483624,
          -0.004156987657046377,
          -0.06764552641920989,
          -0.7554380296759812,
          -0.04119196860164176,
          0.017005858597008126,
          -0.04648268016515538,
          0.14927364768484877,
          0.043459416414576256,
          -0.06235481485569626,
          -0.5226467208813816,
          0.02229657016052175,
          -0.08351766110975076,
          -0.09938979580029164,
          -0.6549145099692223,
          -0.39037893179354105,
          -0.08880837267326439,
          -0.136424776744887,
          -0.04119196860164176,
          -0.07293623798272351,
          -0.2528204311421868,
          0.006424435469980874,
          0.09107582048619889,
          -0.09938979580029164,
          0.0117151470334945,
          -0.1946226039435369,
          -0.13113406518137338,
          -0.22636687332461866,
          -0.12055264205434614,
          -0.18933189238002326,
          -0.17875046925299604,
          -0.2528204311421868,
          -0.30043683521380943,
          -0.3268903930313775,
          -0.009447699220560003,
          -0.24752971957867315,
          -0.26340185426921403,
          -0.23694829645164592,
          -0.22107616176110503,
          -0.28985541208678217,
          -0.33747181615840477,
          -0.16816904612596878,
          -0.35334395084894565,
          -0.23694829645164592,
          -0.32159968146786394,
          -0.9035779534543628,
          -0.3850882202300274,
          -0.3850882202300274,
          -0.05177339172866901,
          -0.24223900801515952,
          -0.2739832773962413,
          -0.32159968146786394,
          -0.3427625277219184,
          -0.8400894146921992,
          -0.2316575848881323,
          -0.35334395084894565,
          -0.47503031680975905,
          -0.3797975086665138,
          -0.4221232011746228,
          -0.36921608553948654,
          -0.40625106648408194,
          -1.168113531630044,
          -0.5755538365165179,
          -0.4856117399367863,
          -0.42741391273813645,
          -0.4644488936827318,
          -0.33218110459489114,
          -0.41154177804759556,
          -0.4697396052462454,
          -0.4485767589921909,
          -0.4009603549205683,
          -0.5596817018259771,
          -0.4168324896111092,
          -0.5967166827705724,
          -0.4485767589921909,
          -0.45386747055570453,
          -0.4009603549205683,
          -0.5279374324448953,
          -1.1734042431935576,
          -0.49090245150029993,
          -0.4432860474286773,
          -0.4856117399367863,
          -0.5543909902624634,
          -0.5491002786989498,
          -1.0728807234867987,
          -0.49090245150029993,
          -0.5702631249530044,
          -0.40625106648408194,
          -0.4697396052462454,
          -0.4856117399367863,
          -0.5967166827705724,
          -0.6760773562232768,
          -0.5279374324448953,
          -0.6390423752786815,
          -0.6231702405881405,
          -0.6125888174611134,
          -0.617879529024627,
          -0.5543909902624634,
          -0.6549145099692223,
          -0.6496237984057087,
          -0.5543909902624634,
          -0.6231702405881405,
          -0.6972402024773313,
          -0.7131123371678723,
          -0.7871822990570629,
          -0.6813680677867905,
          -0.6072981058975997,
          -0.6760773562232768,
          -1.041136454105717,
          -0.644333086842195,
          -0.7660194528030084,
          -0.7184030487313858,
          -0.660205221532736,
          -0.6919494909138177,
          -0.6813680677867905,
          -0.6496237984057087,
          -0.7395658949854403,
          -0.7078216256043586,
          -0.7078216256043586,
          -0.7977637221840902,
          -0.7818915874935494,
          -0.7448566065489539,
          -0.702530914040845,
          -0.7607287412394949,
          -0.702530914040845,
          -0.7713101643665221,
          -0.6760773562232768,
          -0.7554380296759812,
          -0.7977637221840902,
          -0.7871822990570629,
          -0.7977637221840902,
          -1.0834621466138261,
          -0.7289844718584131,
          -0.7289844718584131,
          -0.7660194528030084,
          -1.1998578010111258,
          -0.7554380296759812,
          -0.8189265684381447,
          -0.7924730106205766,
          -0.7871822990570629,
          -1.0834621466138261,
          -0.8400894146921992,
          -0.7924730106205766,
          -0.9617757806530126,
          -1.1786949547570713,
          -0.8506708378192265,
          -0.8877058187638218,
          -0.8347987031286856,
          -0.8242172800016584,
          -0.85596154938274,
          -0.8030544337476039,
          -0.85596154938274,
          -1.183985666320585,
          -0.9353222228354445,
          -0.8347987031286856,
          -0.8771243956367946,
          -0.9088686650178763,
          -0.956485069089499,
          -1.1522413969395031,
          -0.9194500881449036,
          -0.8347987031286856,
          -0.9353222228354445,
          -0.8665429725097673,
          -0.9300315112719308,
          -0.8929965303273355,
          -0.9194500881449036,
          -0.9617757806530126,
          -0.9088686650178763,
          -0.9511943575259854,
          -0.91415937658139,
          -0.9617757806530126,
          -0.9511943575259854,
          -0.956485069089499,
          -0.9617757806530126,
          -1.0781714350503124,
          -0.956485069089499,
          -1.0093921847246352,
          -0.956485069089499,
          -0.9829386269070671,
          -0.9829386269070671,
          -0.9829386269070671,
          -1.0093921847246352,
          -1.0305550309786897,
          -1.0305550309786897,
          -0.9935200500340944,
          -1.0199736078516626,
          -1.025264319415176,
          -1.0517178772327442,
          -1.067590011923285,
          -1.0728807234867987,
          -1.041136454105717,
          -1.1575321085030168,
          -1.0834621466138261,
          -1.0464271656692306,
          -1.0464271656692306,
          -1.099334281304367,
          -1.0728807234867987,
          -1.067590011923285,
          -1.099334281304367,
          -1.1363692622489623,
          -1.1310785506854486,
          -1.125787839121935,
          -1.1363692622489623,
          -1.2157299357016667,
          -1.141659973812476,
          -1.1310785506854486,
          -1.168113531630044,
          -1.141659973812476,
          -1.1786949547570713,
          -1.1786949547570713,
          -1.168113531630044,
          -1.168113531630044,
          -1.1522413969395031,
          -1.1734042431935576,
          -1.1628228200665305,
          -1.1786949547570713,
          -1.1734042431935576,
          -1.1786949547570713,
          -1.1734042431935576,
          -1.1892763778840985,
          -1.1892763778840985,
          -1.2210206472651803,
          -1.1998578010111258,
          -1.2051485125746393,
          -1.210439224138153,
          -1.210439224138153,
          -1.2157299357016667,
          -1.2157299357016667,
          -1.2157299357016667
         ],
         "y": [
          3.8610772030119964,
          2.2877203759052827,
          2.3660322541775627,
          2.6721605056055657,
          4.0177009595565565,
          1.8605646762383017,
          1.6683446113881601,
          1.5686749481325313,
          1.9531150778328141,
          1.6754638730492766,
          1.9744728628161632,
          0.8709873053431287,
          2.3375552075330974,
          3.1705088218837103,
          2.0599040027495596,
          2.045665479427327,
          2.5938486273332857,
          2.5511330573665876,
          0.059391475975864715,
          0.8425102586986634,
          0.714363548798569,
          0.7499598571041508,
          1.0489688468710376,
          1.1059229401599684,
          1.483243808199135,
          3.768526801417484,
          1.0845651551766193,
          0.9279413986320596,
          1.8605646762383017,
          1.1059229401599684,
          0.07362999929809741,
          0.3441619424205188,
          1.3479778366379243,
          1.7039409196937418,
          0.6218131472040564,
          0.8923450903264778,
          2.2806011142441664,
          4.330948472645676,
          3.127793251917012,
          0.23025375584265714,
          0.7855561654097326,
          2.408747824144261,
          0.956418445276525,
          0.4011160357094496,
          1.4191704532490879,
          -0.15418637385762585,
          1.2696659583656444,
          0.5363820072706602,
          0.3228041574371697,
          0.7357213337819181,
          1.5615556864714148,
          1.198473341754481,
          0.9492991836154087,
          1.1486385101266665,
          -0.3108101304021856,
          2.1809314509885374,
          0.2231344941815408,
          -0.23961751379102206,
          0.4723086523206131,
          3.1705088218837103,
          0.5150242222873113,
          1.7110601813548583,
          1.098803678498852,
          0.002437382686933899,
          0.5221434839484276,
          3.348490363411619,
          1.5615556864714148,
          0.1377033542481446,
          1.0845651551766193,
          -0.10435154222981137,
          -0.09723228056869503,
          0.8069139503930817,
          -0.20402120548544028,
          -0.03315892561864786,
          0.059391475975864715,
          -0.28233308375772015,
          0.2231344941815408,
          1.6113905180992294,
          1.6612253497270437,
          1.0133725385654557,
          0.6075746238818238,
          -0.26809456043548746,
          0.36551972740386784,
          0.08786852262033011,
          -0.2965716070799529,
          -0.4389568403022799,
          -0.3036908687410692,
          -0.1613056355187422,
          0.7926754270708489,
          1.6327483030825785,
          -0.47455314860786163,
          0.5933361005595911,
          0.8211524737153143,
          -0.33216791538553464,
          0.20889597085930808,
          -0.3179293920633019,
          0.6146938855429401,
          -0.11859006555204407,
          1.725298704677091,
          1.340858574976808,
          -0.17554415884097488,
          0.8638680436820124,
          1.440528238232437,
          0.43671234401503134,
          0.9492991836154087,
          -0.17554415884097488,
          -0.7094887834247012,
          0.6574094555096383,
          0.7001250254763364,
          -0.44607610196339625,
          -0.3820027470133491,
          -0.17554415884097488,
          0.42247382069279865,
          -0.40336053199669814,
          -0.2538560371132548,
          0.36551972740386784,
          -0.2538560371132548,
          0.31568489577605335,
          0.3441619424205188,
          2.173812189327421,
          1.3693356216212733,
          -0.33928717704665096,
          -0.8376354933247956,
          -0.3677642236911164,
          0.7499598571041508,
          -0.218259728807673,
          1.3479778366379243,
          -0.17554415884097488,
          0.9920147535821068,
          -0.11147080389092773,
          -0.13994785053539313,
          0.023795167670282953,
          0.023795167670282953,
          0.3939967740483332,
          -0.37488348535223276,
          1.1699962951100156,
          1.120161463482201,
          1.0560881085321538,
          -0.6952502601024686,
          -0.5386265035579089,
          -0.36064496203,
          2.43010560912761,
          0.977776230259874,
          0.11634556926479553,
          -0.36064496203,
          0.3584004657427515,
          -0.04027818727976421,
          2.380270777499795,
          -0.32504865372441827,
          0.2800885874704716,
          -0.11147080389092773,
          1.3337393133156916,
          -0.3036908687410692,
          1.155757771787783,
          -0.03315892561864786,
          -0.7735621383747484,
          1.7537757513215564,
          -0.3677642236911164,
          0.7357213337819181,
          -0.4389568403022799,
          -0.6026998585079559,
          -0.17554415884097488,
          -0.8233969700025628,
          0.08786852262033011,
          -0.8803510632914937,
          0.9208221369709433,
          -0.7593236150525157,
          -0.17554415884097488,
          -0.4887916719300944,
          0.42959308235391497,
          0.15906113923149362,
          -0.04027818727976421,
          -0.6382961668135377,
          -0.08299375724646232,
          -0.004681878974182452,
          -0.5172687185745598,
          -0.3179293920633019,
          0.9706569685987577,
          -0.5457457652190252,
          0.5007856989650785,
          -0.4389568403022799,
          -0.34640643870776733,
          -0.5742228118634906,
          -0.08299375724646232,
          -0.2467367754521384,
          0.1377033542481446,
          0.6574094555096383,
          -0.8233969700025628,
          0.31568489577605335,
          -0.2609752987743711,
          -0.7878006616969812,
          -0.33928717704665096,
          -0.645415428474654,
          0.17329966255372634,
          -0.21114046714655665,
          -0.4959109335912107,
          -0.16842489717985853,
          -0.2538560371132548,
          -0.16842489717985853,
          -0.11859006555204407,
          -0.4104797936578145,
          -0.4389568403022799,
          -0.6169383818301887,
          1.7751335363049054,
          -0.23961751379102206,
          -0.4104797936578145,
          -0.2467367754521384,
          -0.40336053199669814,
          0.23025375584265714,
          -0.5243879802356761,
          0.2231344941815408,
          -0.5955805968468396,
          0.2373730175037735,
          0.002437382686933899,
          -0.026039663957531507,
          -0.5386265035579089,
          -0.3535257003688837,
          -0.5243879802356761,
          1.3337393133156916,
          -0.2894523454188365,
          -0.5030301952523271,
          -0.32504865372441827,
          -0.26809456043548746,
          -0.20402120548544028,
          -0.2538560371132548,
          -0.5955805968468396,
          1.340858574976808,
          -0.09723228056869503,
          -0.11147080389092773,
          -0.481672410268978,
          -0.7664428767136321,
          -0.6382961668135377,
          -0.44607610196339625,
          -0.054516710601996914,
          -0.5528650268801415,
          0.12346483092591187,
          0.09498778428144647,
          -0.27521382209660383,
          -0.9942592498693553,
          0.30144637245382067,
          -0.21114046714655665,
          -0.4887916719300944,
          -0.5101494569134434,
          -0.4175990553189308,
          -0.5243879802356761,
          -0.1897826821632076,
          -0.8091584466803302,
          -0.6667732134580031,
          0.009556644348050251,
          -0.5742228118634906,
          -0.6098191201690724,
          -0.06875523392422962,
          -0.4531953636245126,
          -0.5884613351857233,
          -0.40336053199669814,
          -0.9230666332581918,
          -0.3535257003688837,
          0.7855561654097326,
          0.14482261590926093,
          -0.3820027470133491,
          -0.3820027470133491,
          -0.9301858949193081,
          -0.218259728807673,
          -0.6738924751191195,
          -0.16842489717985853,
          -0.5457457652190252,
          -0.07587449558534597,
          -0.6382961668135377,
          -0.7593236150525157,
          -0.36064496203,
          -0.8589932783081446,
          -0.14706711219650948,
          -0.37488348535223276,
          -0.5528650268801415,
          -0.46031462528562894,
          -0.4175990553189308,
          -0.6098191201690724,
          -0.7878006616969812,
          -0.6026998585079559,
          0.42247382069279865,
          -0.7166080450858177,
          -0.8376354933247956,
          -0.4104797936578145,
          -0.18266342050209125,
          -0.5955805968468396,
          -0.8803510632914937,
          -0.6952502601024686,
          -0.5671035502023742,
          -0.23961751379102206,
          -0.5599842885412579,
          -0.32504865372441827,
          0.15906113923149362,
          -0.5671035502023742,
          -0.6810117367802359,
          -0.36064496203,
          -0.7308465684080503,
          -0.8162777083414465,
          -0.8091584466803302,
          -0.645415428474654,
          -0.12570932721316042,
          -0.6311769051524214,
          -0.866112539969261,
          -0.6311769051524214,
          -0.6810117367802359,
          -0.23961751379102206,
          -0.7094887834247012,
          -0.6881309984413522,
          -0.5030301952523271,
          -0.9230666332581918,
          -0.6667732134580031,
          -0.9017088482748428,
          -0.8589932783081446,
          -0.9942592498693553,
          -0.8305162316636793,
          -0.7023695217635849,
          -0.8020391850192138,
          -0.28233308375772015,
          -0.7593236150525157,
          -0.4247183169800472,
          -0.7735621383747484,
          -0.9515436799026572,
          -0.9942592498693553,
          -0.23961751379102206,
          -0.5386265035579089,
          -0.6738924751191195,
          -0.7806814000358647,
          -0.7949199233580975,
          -0.9017088482748428,
          -0.44607610196339625,
          -1.008497773191588,
          -0.9088281099359591,
          -0.8945895866137263,
          -0.7593236150525157,
          -0.8162777083414465,
          -0.5884613351857233,
          -0.9586629415637735,
          -0.7735621383747484,
          -0.6596539517968868,
          -0.5813420735246069,
          -0.8803510632914937,
          -0.7379658300691666,
          -0.7949199233580975,
          -0.8732318016303774,
          -0.8945895866137263,
          -0.7664428767136321,
          -0.8589932783081446,
          -0.8376354933247956,
          -0.8518740166470283,
          -0.6667732134580031,
          -0.8945895866137263,
          -0.7593236150525157,
          -0.8803510632914937,
          -0.6667732134580031,
          -0.866112539969261,
          -0.6667732134580031,
          -0.7379658300691666,
          -0.8732318016303774,
          -0.987139988208239,
          -0.8803510632914937,
          -0.9942592498693553,
          -0.7806814000358647,
          -0.4104797936578145,
          -0.8447547549859119,
          -0.8447547549859119,
          -0.9301858949193081,
          -0.8233969700025628,
          -0.9230666332581918,
          -0.8305162316636793,
          -1.0013785115304716,
          -0.745085091730283,
          -0.9729014648860063,
          -0.9586629415637735,
          -0.9088281099359591,
          -0.8803510632914937,
          -0.8732318016303774,
          -0.723727306746934,
          -0.9088281099359591,
          -0.96578220322489,
          -0.987139988208239,
          -0.9515436799026572,
          -1.0013785115304716,
          -0.8732318016303774,
          -0.987139988208239,
          -0.96578220322489,
          -0.8732318016303774,
          -1.008497773191588,
          -1.0013785115304716,
          -0.9942592498693553,
          -0.9800207265471226,
          -0.96578220322489,
          -0.9800207265471226,
          -0.987139988208239,
          -0.9942592498693553,
          -1.008497773191588,
          -1.008497773191588,
          -0.9800207265471226,
          -0.987139988208239,
          -0.987139988208239,
          -1.0227362965138207,
          -0.9800207265471226,
          -0.96578220322489,
          -1.0227362965138207,
          -1.0013785115304716,
          -1.0156170348527043,
          -1.0013785115304716,
          -1.0227362965138207
         ],
         "z": [
          2.166537011717826,
          0.9471066344360647,
          3.1862331030655056,
          0.22701197198950737,
          3.895815434673427,
          1.0259491157258338,
          1.3675998679814996,
          1.924753402429201,
          0.5528942279872194,
          0.5003325737940401,
          0.5528942279872194,
          3.816972953383658,
          0.38469693456904547,
          1.4884916726258122,
          0.12188866360314864,
          1.6777136277212579,
          0.44777091960086074,
          0.9523627998553826,
          0.4425147541815428,
          0.8051901681144804,
          0.9523627998553826,
          0.7999340026951625,
          0.9891559577906082,
          0.7210915214053935,
          0.8998011456622033,
          4.65270325505521,
          1.2046587399826436,
          2.734202877004163,
          0.6475052055349423,
          0.2900859570213226,
          0.6842983634701679,
          -0.10938261484684059,
          0.23752430282814324,
          -0.156688103620702,
          1.420161522174679,
          0.7683970101792549,
          0.174450317796328,
          0.19021881405428182,
          -0.45103336710250647,
          0.10086400192587688,
          2.975986486292788,
          0.006253024378154025,
          2.6395918994564402,
          2.171793177137144,
          -0.11989494568547646,
          1.7355314473337553,
          0.2480366336667791,
          1.0259491157258338,
          1.4727231763678583,
          0.19547497947359976,
          0.4687955812781325,
          1.8616794173973856,
          0.13765715986110244,
          0.2690612953440509,
          1.5673341539155812,
          0.6159682130190347,
          0.42149009250427105,
          1.1258162586928746,
          3.0285481404859675,
          0.22701197198950737,
          0.32687911495654814,
          0.03779001689406165,
          0.43725858876222484,
          -0.5509005100695473,
          1.1468409203701464,
          0.7053230251474396,
          1.3623437025621816,
          0.6317367092769886,
          0.15342565611905626,
          0.9733874615326544,
          -0.16194426904001996,
          -0.27757990826501455,
          0.9155696419201571,
          0.10086400192587688,
          -0.23027441949115313,
          1.9562903949451085,
          -0.6980731418104495,
          -0.11989494568547646,
          0.39520926540768136,
          1.6041273118508068,
          0.9891559577906082,
          0.9891559577906082,
          0.7473723485019831,
          -0.05156479523434328,
          3.9273524271893345,
          -0.2092497578138814,
          0.5581503934065374,
          2.00359588371897,
          -0.3564223895547836,
          -0.4352648708445527,
          1.7880931015269346,
          0.3163667841179123,
          1.2414518979178693,
          -0.6980731418104495,
          2.5554932527473535,
          0.07458317482928721,
          -0.26181141200706076,
          0.9155696419201571,
          1.4674670109485404,
          -0.1251511111047944,
          -0.24604291574910694,
          -0.014771637299117723,
          0.23752430282814324,
          -0.030540133557071532,
          -0.24604291574910694,
          0.45302708502017863,
          -0.2933484045229684,
          0.40046543082699926,
          -0.09887028400820472,
          0.31111061869859435,
          1.9668027257837444,
          0.05881467857133339,
          1.3308067100462742,
          -0.0673332914922971,
          0.2900859570213226,
          0.26380512992473293,
          0.21124347573155355,
          -0.0673332914922971,
          -0.324885397038876,
          -0.08835795316956883,
          -0.2145059232331993,
          0.589687385922445,
          -0.9293444202604387,
          0.926081972758793,
          1.2677327250144588,
          0.258548964505415,
          0.7263476868247114,
          -0.004259306460481849,
          0.5423818971485835,
          0.44777091960086074,
          0.23752430282814324,
          2.4766507714575843,
          2.492419267715538,
          0.19547497947359976,
          2.84458235080984,
          -0.41949637458659883,
          3.1652084413882338,
          0.1166324981838307,
          -0.17771276529797375,
          -0.987162239872936,
          2.0561575379121493,
          -0.2933484045229684,
          0.15868182153837418,
          1.2256834016599154,
          -0.45103336710250647,
          0.7105791905667576,
          0.08509550566792308,
          0.28482979160200467,
          0.22701197198950737,
          -0.2723237428456966,
          -0.408984043747963,
          2.3137096434587283,
          -0.05682096065366122,
          0.5686627242451733,
          -0.5929498334240908,
          -0.6980731418104495,
          -0.23027441949115313,
          -0.5509005100695473,
          0.20073114489291768,
          0.2164996411508715,
          -0.20399359239456344,
          -0.025283968137753597,
          -0.8662704352286235,
          -0.4562895325218244,
          -1.0239553978081617,
          1.01018061946788,
          2.48716310229622,
          0.10086400192587688,
          0.07983934024860515,
          -0.3564223895547836,
          -0.05682096065366122,
          0.6159682130190347,
          1.5988711464314889,
          -0.1514319382013841,
          0.2427804682474612,
          1.435930018432633,
          -0.28809223910365045,
          -0.49308269045705,
          0.07983934024860515,
          -0.4562895325218244,
          -0.41424020916728094,
          0.7683970101792549,
          0.5371257317292656,
          0.3741846037304096,
          1.3308067100462742,
          0.9155696419201571,
          -0.577181337166137,
          -0.2145059232331993,
          2.0561575379121493,
          0.4320024233429069,
          -0.28809223910365045,
          -0.9451129165183926,
          0.6107120475997168,
          0.9365943035974288,
          -0.7085854726490853,
          0.7421161830826651,
          -0.25129908116842486,
          -0.4825703596184141,
          0.8787764839849316,
          1.0206929503065159,
          -0.2565552465877428,
          0.5581503934065374,
          -0.20399359239456344,
          -0.05156479523434328,
          0.11137633276451277,
          0.12188866360314864,
          -0.5456443446502294,
          0.5686627242451733,
          -0.6402553221979522,
          -0.4562895325218244,
          0.2900859570213226,
          1.2940135521110485,
          -0.5982059988434087,
          0.25329279908609703,
          -0.5876936680047729,
          -0.5403881792309114,
          -0.3932155474900092,
          -0.2986045699422863,
          0.20073114489291768,
          -0.1514319382013841,
          0.3689284383110917,
          -0.5561566754888652,
          -0.8925512623252132,
          0.5423818971485835,
          -0.6034621642627267,
          0.752628513921301,
          0.8577518223076598,
          -0.2670675774263787,
          0.027277686055425774,
          -0.4562895325218244,
          -0.7611471268422647,
          0.5318695663099477,
          -0.2145059232331993,
          -0.6402553221979522,
          -0.36167855497410156,
          0.022021520636107836,
          -0.45103336710250647,
          -0.5982059988434087,
          -1.1763841949683818,
          -0.8978074277445312,
          -0.49308269045705,
          -0.28809223910365045,
          0.1166324981838307,
          0.8104463335337984,
          -0.13040727652411233,
          -0.5614128409081831,
          0.13240099444178452,
          0.016765355216789898,
          -0.577181337166137,
          0.4582832504394966,
          -0.5614128409081831,
          -0.7348662997456751,
          -0.05682096065366122,
          0.048302347732697516,
          -0.7558909614229468,
          -1.1711280295490638,
          -0.9188320894218028,
          -0.240786750329789,
          0.006253024378154025,
          -0.5193635175536396,
          -0.2250182540718352,
          -1.1763841949683818,
          0.3794407691497275,
          0.10086400192587688,
          -0.5088511867150037,
          0.13765715986110244,
          0.9681312961133365,
          -0.9083197585831669,
          -0.7506347960036289,
          -0.13566344194343027,
          -0.14617577278206614,
          0.03253385147474371,
          -0.5035950212956859,
          -0.38795938207069125,
          0.2690612953440509,
          -0.5824375025854549,
          -0.09361411858888677,
          -0.1251511111047944,
          -0.8557581043899876,
          -0.48782652503773205,
          -0.08835795316956883,
          -0.9661375781956643,
          -0.9556252473570284,
          -0.6612799838752239,
          -0.48782652503773205,
          -0.9503690819377105,
          -0.21976208865251726,
          -0.4247525400059168,
          -0.004259306460481849,
          -0.3301415624581939,
          -0.8820389314865773,
          -0.740122465164993,
          -0.19873742697524552,
          -0.7138416380684033,
          -0.9451129165183926,
          0.016765355216789898,
          -0.7926841193581724,
          -0.8978074277445312,
          -0.7664032922615827,
          -0.9293444202604387,
          -0.004259306460481849,
          -0.2670675774263787,
          -0.6980731418104495,
          -0.6402553221979522,
          0.1166324981838307,
          -0.6770484801331778,
          -0.9135759240024849,
          -0.9713937436149822,
          -1.150103367871792,
          -0.5614128409081831,
          -0.5141073521343217,
          -0.49308269045705,
          -1.2026650220649715,
          -0.4300087054252347,
          -0.5456443446502294,
          -0.7138416380684033,
          -0.6612799838752239,
          -1.0922855482592948,
          -0.10938261484684059,
          -0.7874279539388545,
          -0.6875608109718137,
          -1.1868965258070177,
          -0.8557581043899876,
          -0.4825703596184141,
          -0.46154569794114236,
          -0.740122465164993,
          -0.571925171746819,
          -0.571925171746819,
          -0.6402553221979522,
          -1.1395910370331561,
          -0.992418405292254,
          0.1481694906997383,
          -0.818964946454762,
          -0.5876936680047729,
          -0.997674570711572,
          -1.1290787061945202,
          -0.9661375781956643,
          -0.31962923161955803,
          -0.7506347960036289,
          -0.5929498334240908,
          -0.8662704352286235,
          -0.8557581043899876,
          -0.8399896081320338,
          -1.0239553978081617,
          -0.5088511867150037,
          -1.0449800594854333,
          -0.408984043747963,
          -1.0239553978081617,
          -0.9608814127763463,
          -0.8084526156161261,
          -0.9661375781956643,
          -1.15535953329111,
          -0.6402553221979522,
          -0.818964946454762,
          -0.5614128409081831,
          -0.903063593163849,
          -0.8347334427127159,
          -0.8820389314865773,
          -0.8137087810354441,
          -1.071260886582023,
          -0.7926841193581724,
          -0.6087183296820445,
          -0.46154569794114236,
          -0.9083197585831669,
          -1.0449800594854333,
          -0.997674570711572,
          -0.9766499090343002,
          -1.0607485557433871,
          -1.1816403603876997,
          -0.6455114876172702,
          -0.7821717885195365,
          -1.066004721162705,
          -1.0292115632274794,
          -1.0239553978081617,
          -0.8347334427127159,
          -1.076517052001341,
          -0.8610142698093055,
          -1.144847202452474,
          -1.1395910370331561,
          -1.1185663753558845,
          -1.2236896837422433,
          -1.160615698710428,
          -1.0344677286467974,
          -1.1658718641297459,
          -1.1868965258070177,
          -1.1868965258070177,
          -1.1974088566456536,
          -1.1080540445172486,
          -1.1974088566456536,
          -1.1290787061945202,
          -1.2184335183229253,
          -1.1238225407752025,
          -1.1185663753558845,
          -1.1763841949683818,
          -1.1868965258070177,
          -1.1711280295490638,
          -1.1290787061945202,
          -1.2079211874842894,
          -1.228945849161561,
          -1.2131773529036074,
          -1.2131773529036074,
          -1.2236896837422433,
          -1.228945849161561,
          -1.2079211874842894,
          -1.2131773529036074,
          -1.228945849161561
         ]
        }
       ],
       "layout": {
        "coloraxis": {
         "colorbar": {
          "title": {
           "text": "color"
          }
         },
         "colorscale": [
          [
           0,
           "#440154"
          ],
          [
           0.1111111111111111,
           "#482878"
          ],
          [
           0.2222222222222222,
           "#3e4989"
          ],
          [
           0.3333333333333333,
           "#31688e"
          ],
          [
           0.4444444444444444,
           "#26828e"
          ],
          [
           0.5555555555555556,
           "#1f9e89"
          ],
          [
           0.6666666666666666,
           "#35b779"
          ],
          [
           0.7777777777777778,
           "#6ece58"
          ],
          [
           0.8888888888888888,
           "#b5de2b"
          ],
          [
           1,
           "#fde725"
          ]
         ]
        },
        "legend": {
         "tracegroupgap": 0
        },
        "scene": {
         "domain": {
          "x": [
           0,
           1
          ],
          "y": [
           0,
           1
          ]
         },
         "xaxis": {
          "title": {
           "text": "Field Goals"
          }
         },
         "yaxis": {
          "title": {
           "text": "Assists"
          }
         },
         "zaxis": {
          "title": {
           "text": "Total Rebounds"
          }
         }
        },
        "template": {
         "data": {
          "bar": [
           {
            "error_x": {
             "color": "#2a3f5f"
            },
            "error_y": {
             "color": "#2a3f5f"
            },
            "marker": {
             "line": {
              "color": "#E5ECF6",
              "width": 0.5
             },
             "pattern": {
              "fillmode": "overlay",
              "size": 10,
              "solidity": 0.2
             }
            },
            "type": "bar"
           }
          ],
          "barpolar": [
           {
            "marker": {
             "line": {
              "color": "#E5ECF6",
              "width": 0.5
             },
             "pattern": {
              "fillmode": "overlay",
              "size": 10,
              "solidity": 0.2
             }
            },
            "type": "barpolar"
           }
          ],
          "carpet": [
           {
            "aaxis": {
             "endlinecolor": "#2a3f5f",
             "gridcolor": "white",
             "linecolor": "white",
             "minorgridcolor": "white",
             "startlinecolor": "#2a3f5f"
            },
            "baxis": {
             "endlinecolor": "#2a3f5f",
             "gridcolor": "white",
             "linecolor": "white",
             "minorgridcolor": "white",
             "startlinecolor": "#2a3f5f"
            },
            "type": "carpet"
           }
          ],
          "choropleth": [
           {
            "colorbar": {
             "outlinewidth": 0,
             "ticks": ""
            },
            "type": "choropleth"
           }
          ],
          "contour": [
           {
            "colorbar": {
             "outlinewidth": 0,
             "ticks": ""
            },
            "colorscale": [
             [
              0,
              "#0d0887"
             ],
             [
              0.1111111111111111,
              "#46039f"
             ],
             [
              0.2222222222222222,
              "#7201a8"
             ],
             [
              0.3333333333333333,
              "#9c179e"
             ],
             [
              0.4444444444444444,
              "#bd3786"
             ],
             [
              0.5555555555555556,
              "#d8576b"
             ],
             [
              0.6666666666666666,
              "#ed7953"
             ],
             [
              0.7777777777777778,
              "#fb9f3a"
             ],
             [
              0.8888888888888888,
              "#fdca26"
             ],
             [
              1,
              "#f0f921"
             ]
            ],
            "type": "contour"
           }
          ],
          "contourcarpet": [
           {
            "colorbar": {
             "outlinewidth": 0,
             "ticks": ""
            },
            "type": "contourcarpet"
           }
          ],
          "heatmap": [
           {
            "colorbar": {
             "outlinewidth": 0,
             "ticks": ""
            },
            "colorscale": [
             [
              0,
              "#0d0887"
             ],
             [
              0.1111111111111111,
              "#46039f"
             ],
             [
              0.2222222222222222,
              "#7201a8"
             ],
             [
              0.3333333333333333,
              "#9c179e"
             ],
             [
              0.4444444444444444,
              "#bd3786"
             ],
             [
              0.5555555555555556,
              "#d8576b"
             ],
             [
              0.6666666666666666,
              "#ed7953"
             ],
             [
              0.7777777777777778,
              "#fb9f3a"
             ],
             [
              0.8888888888888888,
              "#fdca26"
             ],
             [
              1,
              "#f0f921"
             ]
            ],
            "type": "heatmap"
           }
          ],
          "heatmapgl": [
           {
            "colorbar": {
             "outlinewidth": 0,
             "ticks": ""
            },
            "colorscale": [
             [
              0,
              "#0d0887"
             ],
             [
              0.1111111111111111,
              "#46039f"
             ],
             [
              0.2222222222222222,
              "#7201a8"
             ],
             [
              0.3333333333333333,
              "#9c179e"
             ],
             [
              0.4444444444444444,
              "#bd3786"
             ],
             [
              0.5555555555555556,
              "#d8576b"
             ],
             [
              0.6666666666666666,
              "#ed7953"
             ],
             [
              0.7777777777777778,
              "#fb9f3a"
             ],
             [
              0.8888888888888888,
              "#fdca26"
             ],
             [
              1,
              "#f0f921"
             ]
            ],
            "type": "heatmapgl"
           }
          ],
          "histogram": [
           {
            "marker": {
             "pattern": {
              "fillmode": "overlay",
              "size": 10,
              "solidity": 0.2
             }
            },
            "type": "histogram"
           }
          ],
          "histogram2d": [
           {
            "colorbar": {
             "outlinewidth": 0,
             "ticks": ""
            },
            "colorscale": [
             [
              0,
              "#0d0887"
             ],
             [
              0.1111111111111111,
              "#46039f"
             ],
             [
              0.2222222222222222,
              "#7201a8"
             ],
             [
              0.3333333333333333,
              "#9c179e"
             ],
             [
              0.4444444444444444,
              "#bd3786"
             ],
             [
              0.5555555555555556,
              "#d8576b"
             ],
             [
              0.6666666666666666,
              "#ed7953"
             ],
             [
              0.7777777777777778,
              "#fb9f3a"
             ],
             [
              0.8888888888888888,
              "#fdca26"
             ],
             [
              1,
              "#f0f921"
             ]
            ],
            "type": "histogram2d"
           }
          ],
          "histogram2dcontour": [
           {
            "colorbar": {
             "outlinewidth": 0,
             "ticks": ""
            },
            "colorscale": [
             [
              0,
              "#0d0887"
             ],
             [
              0.1111111111111111,
              "#46039f"
             ],
             [
              0.2222222222222222,
              "#7201a8"
             ],
             [
              0.3333333333333333,
              "#9c179e"
             ],
             [
              0.4444444444444444,
              "#bd3786"
             ],
             [
              0.5555555555555556,
              "#d8576b"
             ],
             [
              0.6666666666666666,
              "#ed7953"
             ],
             [
              0.7777777777777778,
              "#fb9f3a"
             ],
             [
              0.8888888888888888,
              "#fdca26"
             ],
             [
              1,
              "#f0f921"
             ]
            ],
            "type": "histogram2dcontour"
           }
          ],
          "mesh3d": [
           {
            "colorbar": {
             "outlinewidth": 0,
             "ticks": ""
            },
            "type": "mesh3d"
           }
          ],
          "parcoords": [
           {
            "line": {
             "colorbar": {
              "outlinewidth": 0,
              "ticks": ""
             }
            },
            "type": "parcoords"
           }
          ],
          "pie": [
           {
            "automargin": true,
            "type": "pie"
           }
          ],
          "scatter": [
           {
            "fillpattern": {
             "fillmode": "overlay",
             "size": 10,
             "solidity": 0.2
            },
            "type": "scatter"
           }
          ],
          "scatter3d": [
           {
            "line": {
             "colorbar": {
              "outlinewidth": 0,
              "ticks": ""
             }
            },
            "marker": {
             "colorbar": {
              "outlinewidth": 0,
              "ticks": ""
             }
            },
            "type": "scatter3d"
           }
          ],
          "scattercarpet": [
           {
            "marker": {
             "colorbar": {
              "outlinewidth": 0,
              "ticks": ""
             }
            },
            "type": "scattercarpet"
           }
          ],
          "scattergeo": [
           {
            "marker": {
             "colorbar": {
              "outlinewidth": 0,
              "ticks": ""
             }
            },
            "type": "scattergeo"
           }
          ],
          "scattergl": [
           {
            "marker": {
             "colorbar": {
              "outlinewidth": 0,
              "ticks": ""
             }
            },
            "type": "scattergl"
           }
          ],
          "scattermapbox": [
           {
            "marker": {
             "colorbar": {
              "outlinewidth": 0,
              "ticks": ""
             }
            },
            "type": "scattermapbox"
           }
          ],
          "scatterpolar": [
           {
            "marker": {
             "colorbar": {
              "outlinewidth": 0,
              "ticks": ""
             }
            },
            "type": "scatterpolar"
           }
          ],
          "scatterpolargl": [
           {
            "marker": {
             "colorbar": {
              "outlinewidth": 0,
              "ticks": ""
             }
            },
            "type": "scatterpolargl"
           }
          ],
          "scatterternary": [
           {
            "marker": {
             "colorbar": {
              "outlinewidth": 0,
              "ticks": ""
             }
            },
            "type": "scatterternary"
           }
          ],
          "surface": [
           {
            "colorbar": {
             "outlinewidth": 0,
             "ticks": ""
            },
            "colorscale": [
             [
              0,
              "#0d0887"
             ],
             [
              0.1111111111111111,
              "#46039f"
             ],
             [
              0.2222222222222222,
              "#7201a8"
             ],
             [
              0.3333333333333333,
              "#9c179e"
             ],
             [
              0.4444444444444444,
              "#bd3786"
             ],
             [
              0.5555555555555556,
              "#d8576b"
             ],
             [
              0.6666666666666666,
              "#ed7953"
             ],
             [
              0.7777777777777778,
              "#fb9f3a"
             ],
             [
              0.8888888888888888,
              "#fdca26"
             ],
             [
              1,
              "#f0f921"
             ]
            ],
            "type": "surface"
           }
          ],
          "table": [
           {
            "cells": {
             "fill": {
              "color": "#EBF0F8"
             },
             "line": {
              "color": "white"
             }
            },
            "header": {
             "fill": {
              "color": "#C8D4E3"
             },
             "line": {
              "color": "white"
             }
            },
            "type": "table"
           }
          ]
         },
         "layout": {
          "annotationdefaults": {
           "arrowcolor": "#2a3f5f",
           "arrowhead": 0,
           "arrowwidth": 1
          },
          "autotypenumbers": "strict",
          "coloraxis": {
           "colorbar": {
            "outlinewidth": 0,
            "ticks": ""
           }
          },
          "colorscale": {
           "diverging": [
            [
             0,
             "#8e0152"
            ],
            [
             0.1,
             "#c51b7d"
            ],
            [
             0.2,
             "#de77ae"
            ],
            [
             0.3,
             "#f1b6da"
            ],
            [
             0.4,
             "#fde0ef"
            ],
            [
             0.5,
             "#f7f7f7"
            ],
            [
             0.6,
             "#e6f5d0"
            ],
            [
             0.7,
             "#b8e186"
            ],
            [
             0.8,
             "#7fbc41"
            ],
            [
             0.9,
             "#4d9221"
            ],
            [
             1,
             "#276419"
            ]
           ],
           "sequential": [
            [
             0,
             "#0d0887"
            ],
            [
             0.1111111111111111,
             "#46039f"
            ],
            [
             0.2222222222222222,
             "#7201a8"
            ],
            [
             0.3333333333333333,
             "#9c179e"
            ],
            [
             0.4444444444444444,
             "#bd3786"
            ],
            [
             0.5555555555555556,
             "#d8576b"
            ],
            [
             0.6666666666666666,
             "#ed7953"
            ],
            [
             0.7777777777777778,
             "#fb9f3a"
            ],
            [
             0.8888888888888888,
             "#fdca26"
            ],
            [
             1,
             "#f0f921"
            ]
           ],
           "sequentialminus": [
            [
             0,
             "#0d0887"
            ],
            [
             0.1111111111111111,
             "#46039f"
            ],
            [
             0.2222222222222222,
             "#7201a8"
            ],
            [
             0.3333333333333333,
             "#9c179e"
            ],
            [
             0.4444444444444444,
             "#bd3786"
            ],
            [
             0.5555555555555556,
             "#d8576b"
            ],
            [
             0.6666666666666666,
             "#ed7953"
            ],
            [
             0.7777777777777778,
             "#fb9f3a"
            ],
            [
             0.8888888888888888,
             "#fdca26"
            ],
            [
             1,
             "#f0f921"
            ]
           ]
          },
          "colorway": [
           "#636efa",
           "#EF553B",
           "#00cc96",
           "#ab63fa",
           "#FFA15A",
           "#19d3f3",
           "#FF6692",
           "#B6E880",
           "#FF97FF",
           "#FECB52"
          ],
          "font": {
           "color": "#2a3f5f"
          },
          "geo": {
           "bgcolor": "white",
           "lakecolor": "white",
           "landcolor": "#E5ECF6",
           "showlakes": true,
           "showland": true,
           "subunitcolor": "white"
          },
          "hoverlabel": {
           "align": "left"
          },
          "hovermode": "closest",
          "mapbox": {
           "style": "light"
          },
          "paper_bgcolor": "white",
          "plot_bgcolor": "#E5ECF6",
          "polar": {
           "angularaxis": {
            "gridcolor": "white",
            "linecolor": "white",
            "ticks": ""
           },
           "bgcolor": "#E5ECF6",
           "radialaxis": {
            "gridcolor": "white",
            "linecolor": "white",
            "ticks": ""
           }
          },
          "scene": {
           "xaxis": {
            "backgroundcolor": "#E5ECF6",
            "gridcolor": "white",
            "gridwidth": 2,
            "linecolor": "white",
            "showbackground": true,
            "ticks": "",
            "zerolinecolor": "white"
           },
           "yaxis": {
            "backgroundcolor": "#E5ECF6",
            "gridcolor": "white",
            "gridwidth": 2,
            "linecolor": "white",
            "showbackground": true,
            "ticks": "",
            "zerolinecolor": "white"
           },
           "zaxis": {
            "backgroundcolor": "#E5ECF6",
            "gridcolor": "white",
            "gridwidth": 2,
            "linecolor": "white",
            "showbackground": true,
            "ticks": "",
            "zerolinecolor": "white"
           }
          },
          "shapedefaults": {
           "line": {
            "color": "#2a3f5f"
           }
          },
          "ternary": {
           "aaxis": {
            "gridcolor": "white",
            "linecolor": "white",
            "ticks": ""
           },
           "baxis": {
            "gridcolor": "white",
            "linecolor": "white",
            "ticks": ""
           },
           "bgcolor": "#E5ECF6",
           "caxis": {
            "gridcolor": "white",
            "linecolor": "white",
            "ticks": ""
           }
          },
          "title": {
           "x": 0.05
          },
          "xaxis": {
           "automargin": true,
           "gridcolor": "white",
           "linecolor": "white",
           "ticks": "",
           "title": {
            "standoff": 15
           },
           "zerolinecolor": "white",
           "zerolinewidth": 2
          },
          "yaxis": {
           "automargin": true,
           "gridcolor": "white",
           "linecolor": "white",
           "ticks": "",
           "title": {
            "standoff": 15
           },
           "zerolinecolor": "white",
           "zerolinewidth": 2
          }
         }
        },
        "title": {
         "text": "NBA Players Clustering"
        }
       }
      },
      "text/html": [
       "<div>                            <div id=\"e8d76ddf-fe4f-447c-b11a-3ad5f7f9972b\" class=\"plotly-graph-div\" style=\"height:525px; width:100%;\"></div>            <script type=\"text/javascript\">                require([\"plotly\"], function(Plotly) {                    window.PLOTLYENV=window.PLOTLYENV || {};                                    if (document.getElementById(\"e8d76ddf-fe4f-447c-b11a-3ad5f7f9972b\")) {                    Plotly.newPlot(                        \"e8d76ddf-fe4f-447c-b11a-3ad5f7f9972b\",                        [{\"hovertemplate\":\"Field Goals=%{x}\\u003cbr\\u003eAssists=%{y}\\u003cbr\\u003eTotal Rebounds=%{z}\\u003cbr\\u003ecolor=%{marker.color}\\u003cextra\\u003e\\u003c\\u002fextra\\u003e\",\"legendgroup\":\"\",\"marker\":{\"color\":[2,2,2,2,2,2,2,2,2,2,2,3,2,2,2,2,2,2,0,2,2,2,2,2,2,2,2,3,2,2,0,0,2,2,3,2,2,2,2,0,3,2,3,3,2,3,2,3,3,0,2,3,2,2,3,2,0,3,3,2,0,2,0,1,3,2,2,0,0,3,0,0,0,0,0,3,1,2,2,3,3,3,0,0,3,0,0,3,0,2,3,0,3,1,3,0,0,0,2,0,0,0,0,0,0,0,1,0,0,0,3,0,3,0,0,0,0,0,0,2,0,0,1,0,3,0,0,0,0,0,0,3,3,0,3,0,3,0,1,1,3,2,0,3,1,0,0,2,0,0,1,3,0,0,0,1,2,1,0,0,0,0,1,0,1,0,3,0,0,0,0,0,3,0,0,3,0,0,0,0,1,0,0,0,3,0,0,1,3,0,1,1,0,0,1,0,0,1,0,0,0,0,1,0,0,0,1,0,0,1,0,0,0,0,1,1,1,1,0,1,0,1,1,0,1,0,0,0,0,1,1,0,1,1,1,0,1,1,1,1,1,1,1,0,1,1,1,1,1,0,1,1,1,1,1,1,1,0,0,1,1,1,0,1,1,1,0,1,1,1,1,1,1,1,1,1,1,1,1,1,1,1,1,1,1,1,1,1,1,1,1,1,1,1,1,1,1,1,1,1,1,1,1,1,1,1,1,1,1,1,1,1,1,1,1,1,1,1,1,1,1,1,1,1,1,1,1,1,1,1,1,1,1,1,1,1,1,1,1,1,1,1,1,1,1,1,1,1,1,1,1,1,1,1,1,1,1,1,1,1,1,1,1,1,1,1,1,1,1,1,1,1,1,1,1,1,1,1,1,1,1,1,1,1,1,1,1,1,1,1,1,1,1,1,1,1,1,1,1,1,1,1,1,1,1,1],\"coloraxis\":\"coloraxis\",\"symbol\":\"circle\",\"opacity\":0.8,\"size\":5},\"mode\":\"markers\",\"name\":\"\",\"scene\":\"scene\",\"showlegend\":false,\"x\":[3.032711449799775,2.990385757291666,3.2073049313957247,2.9586414879105845,3.12794425794302,2.577710255337603,2.752303736933553,2.334337523415976,2.58829167846463,2.2179418690186763,2.2179418690186763,2.5512566975200346,2.1756161765105673,2.4031167737416532,2.154453330256513,2.1650347533835403,1.6412543085956912,2.334337523415976,0.6624726693456705,1.8581734826997498,2.006313406478131,2.096255503057863,1.757649962992991,1.7629406745565046,2.0803833683673223,2.1332904840024582,1.995731983351104,1.6941614242308274,1.6412543085956912,1.7523592514294772,1.5089865195078505,1.5618936351429868,1.4402072691821735,1.4560794038727143,1.7364871167389364,1.572475058270014,1.5513122120159595,1.4243351344916326,1.0698574597362196,1.3714280188564962,1.8793363289538043,1.3820094419835236,1.5830564813970414,1.4507886923092006,1.3714280188564962,1.5407307888889323,1.614800750778123,1.1597995563159513,1.3132301916578464,1.2709044991497374,1.4243351344916326,1.5671843467065005,1.4137537113646053,1.3396837494754146,1.2973580569673056,1.1968345372605467,1.2973580569673056,1.038113190355138,1.5248586541983915,1.0169503441010834,1.1333459984983831,1.2867766338402782,0.8741011318862155,-0.2157854501975914,1.2285788066416283,0.641309823091616,1.1439274216254103,1.191543825697033,0.9852060747200017,1.122764575371356,0.2180528980105259,0.027587281724035375,0.8317754393781065,0.852938285632161,0.8053218815605383,1.2444509413321694,-0.3956696433570547,0.8741011318862155,0.8264847278145928,0.9270082475213517,0.8688104203227018,0.9270082475213517,0.8476475740686473,0.8211940162510792,0.9270082475213517,0.7524147659254021,0.8264847278145928,0.7788683237429702,0.6836355155997249,0.7629961890524294,0.8793918434497291,0.5778212843294525,0.8846825550132428,-0.4697396052462454,0.9058454012672972,0.6148562652740478,0.6836355155997249,0.7153797849808067,0.9058454012672972,0.4667163414956663,0.6889262271632386,0.7735776121794566,0.6042748421470205,0.5566584380753979,0.5619491496389115,0.6466005346551296,-0.5491002786989498,0.5354955918213434,0.6836355155997249,0.6995076502902658,1.038113190355138,0.5196234571308026,0.6783448040362113,0.3873556680429619,0.47200705305917995,0.583111995892966,0.4455534952416118,0.4931698993132344,0.3873556680429619,0.33444855240782567,0.4032278027335028,0.5354955918213434,-0.6390423752786815,0.31328570615377116,0.5778212843294525,0.3027042830267439,0.5302048802578299,0.34502997553485293,0.3873556680429619,0.5354955918213434,0.23392503270106677,0.7153797849808067,0.625437688401075,0.32915784084431204,0.6466005346551296,0.5037513224402617,0.47200705305917995,0.45613491836863906,-0.45386747055570453,-0.9247407997084173,0.5619491496389115,0.5037513224402617,0.35032068709836656,0.47200705305917995,-0.45386747055570453,0.3556113986618802,0.2392157442645804,0.38206495647944827,0.2815414367726894,0.20747147488349865,-0.5279374324448953,0.3397392639713393,0.4032278027335028,0.37148353335242107,0.22863432113755314,-0.5596817018259771,0.5249141686943162,-0.5385188555719226,0.11752937830376702,0.09636653204971252,0.054040839541603505,0.11752937830376702,-0.7395658949854403,0.21276218644701228,-0.956485069089499,0.21276218644701228,0.19159934019295777,0.12282008986728064,0.043459416414576256,0.027587281724035375,0.09107582048619889,0.08578510892268526,0.1545643592483624,0.02229657016052175,0.054040839541603505,0.017005858597008126,-0.04648268016515538,0.1545643592483624,-0.004156987657046377,-0.06764552641920989,-0.7554380296759812,-0.04119196860164176,0.017005858597008126,-0.04648268016515538,0.14927364768484877,0.043459416414576256,-0.06235481485569626,-0.5226467208813816,0.02229657016052175,-0.08351766110975076,-0.09938979580029164,-0.6549145099692223,-0.39037893179354105,-0.08880837267326439,-0.136424776744887,-0.04119196860164176,-0.07293623798272351,-0.2528204311421868,0.006424435469980874,0.09107582048619889,-0.09938979580029164,0.0117151470334945,-0.1946226039435369,-0.13113406518137338,-0.22636687332461866,-0.12055264205434614,-0.18933189238002326,-0.17875046925299604,-0.2528204311421868,-0.30043683521380943,-0.3268903930313775,-0.009447699220560003,-0.24752971957867315,-0.26340185426921403,-0.23694829645164592,-0.22107616176110503,-0.28985541208678217,-0.33747181615840477,-0.16816904612596878,-0.35334395084894565,-0.23694829645164592,-0.32159968146786394,-0.9035779534543628,-0.3850882202300274,-0.3850882202300274,-0.05177339172866901,-0.24223900801515952,-0.2739832773962413,-0.32159968146786394,-0.3427625277219184,-0.8400894146921992,-0.2316575848881323,-0.35334395084894565,-0.47503031680975905,-0.3797975086665138,-0.4221232011746228,-0.36921608553948654,-0.40625106648408194,-1.168113531630044,-0.5755538365165179,-0.4856117399367863,-0.42741391273813645,-0.4644488936827318,-0.33218110459489114,-0.41154177804759556,-0.4697396052462454,-0.4485767589921909,-0.4009603549205683,-0.5596817018259771,-0.4168324896111092,-0.5967166827705724,-0.4485767589921909,-0.45386747055570453,-0.4009603549205683,-0.5279374324448953,-1.1734042431935576,-0.49090245150029993,-0.4432860474286773,-0.4856117399367863,-0.5543909902624634,-0.5491002786989498,-1.0728807234867987,-0.49090245150029993,-0.5702631249530044,-0.40625106648408194,-0.4697396052462454,-0.4856117399367863,-0.5967166827705724,-0.6760773562232768,-0.5279374324448953,-0.6390423752786815,-0.6231702405881405,-0.6125888174611134,-0.617879529024627,-0.5543909902624634,-0.6549145099692223,-0.6496237984057087,-0.5543909902624634,-0.6231702405881405,-0.6972402024773313,-0.7131123371678723,-0.7871822990570629,-0.6813680677867905,-0.6072981058975997,-0.6760773562232768,-1.041136454105717,-0.644333086842195,-0.7660194528030084,-0.7184030487313858,-0.660205221532736,-0.6919494909138177,-0.6813680677867905,-0.6496237984057087,-0.7395658949854403,-0.7078216256043586,-0.7078216256043586,-0.7977637221840902,-0.7818915874935494,-0.7448566065489539,-0.702530914040845,-0.7607287412394949,-0.702530914040845,-0.7713101643665221,-0.6760773562232768,-0.7554380296759812,-0.7977637221840902,-0.7871822990570629,-0.7977637221840902,-1.0834621466138261,-0.7289844718584131,-0.7289844718584131,-0.7660194528030084,-1.1998578010111258,-0.7554380296759812,-0.8189265684381447,-0.7924730106205766,-0.7871822990570629,-1.0834621466138261,-0.8400894146921992,-0.7924730106205766,-0.9617757806530126,-1.1786949547570713,-0.8506708378192265,-0.8877058187638218,-0.8347987031286856,-0.8242172800016584,-0.85596154938274,-0.8030544337476039,-0.85596154938274,-1.183985666320585,-0.9353222228354445,-0.8347987031286856,-0.8771243956367946,-0.9088686650178763,-0.956485069089499,-1.1522413969395031,-0.9194500881449036,-0.8347987031286856,-0.9353222228354445,-0.8665429725097673,-0.9300315112719308,-0.8929965303273355,-0.9194500881449036,-0.9617757806530126,-0.9088686650178763,-0.9511943575259854,-0.91415937658139,-0.9617757806530126,-0.9511943575259854,-0.956485069089499,-0.9617757806530126,-1.0781714350503124,-0.956485069089499,-1.0093921847246352,-0.956485069089499,-0.9829386269070671,-0.9829386269070671,-0.9829386269070671,-1.0093921847246352,-1.0305550309786897,-1.0305550309786897,-0.9935200500340944,-1.0199736078516626,-1.025264319415176,-1.0517178772327442,-1.067590011923285,-1.0728807234867987,-1.041136454105717,-1.1575321085030168,-1.0834621466138261,-1.0464271656692306,-1.0464271656692306,-1.099334281304367,-1.0728807234867987,-1.067590011923285,-1.099334281304367,-1.1363692622489623,-1.1310785506854486,-1.125787839121935,-1.1363692622489623,-1.2157299357016667,-1.141659973812476,-1.1310785506854486,-1.168113531630044,-1.141659973812476,-1.1786949547570713,-1.1786949547570713,-1.168113531630044,-1.168113531630044,-1.1522413969395031,-1.1734042431935576,-1.1628228200665305,-1.1786949547570713,-1.1734042431935576,-1.1786949547570713,-1.1734042431935576,-1.1892763778840985,-1.1892763778840985,-1.2210206472651803,-1.1998578010111258,-1.2051485125746393,-1.210439224138153,-1.210439224138153,-1.2157299357016667,-1.2157299357016667,-1.2157299357016667],\"y\":[3.8610772030119964,2.2877203759052827,2.3660322541775627,2.6721605056055657,4.0177009595565565,1.8605646762383017,1.6683446113881601,1.5686749481325313,1.9531150778328141,1.6754638730492766,1.9744728628161632,0.8709873053431287,2.3375552075330974,3.1705088218837103,2.0599040027495596,2.045665479427327,2.5938486273332857,2.5511330573665876,0.059391475975864715,0.8425102586986634,0.714363548798569,0.7499598571041508,1.0489688468710376,1.1059229401599684,1.483243808199135,3.768526801417484,1.0845651551766193,0.9279413986320596,1.8605646762383017,1.1059229401599684,0.07362999929809741,0.3441619424205188,1.3479778366379243,1.7039409196937418,0.6218131472040564,0.8923450903264778,2.2806011142441664,4.330948472645676,3.127793251917012,0.23025375584265714,0.7855561654097326,2.408747824144261,0.956418445276525,0.4011160357094496,1.4191704532490879,-0.15418637385762585,1.2696659583656444,0.5363820072706602,0.3228041574371697,0.7357213337819181,1.5615556864714148,1.198473341754481,0.9492991836154087,1.1486385101266665,-0.3108101304021856,2.1809314509885374,0.2231344941815408,-0.23961751379102206,0.4723086523206131,3.1705088218837103,0.5150242222873113,1.7110601813548583,1.098803678498852,0.002437382686933899,0.5221434839484276,3.348490363411619,1.5615556864714148,0.1377033542481446,1.0845651551766193,-0.10435154222981137,-0.09723228056869503,0.8069139503930817,-0.20402120548544028,-0.03315892561864786,0.059391475975864715,-0.28233308375772015,0.2231344941815408,1.6113905180992294,1.6612253497270437,1.0133725385654557,0.6075746238818238,-0.26809456043548746,0.36551972740386784,0.08786852262033011,-0.2965716070799529,-0.4389568403022799,-0.3036908687410692,-0.1613056355187422,0.7926754270708489,1.6327483030825785,-0.47455314860786163,0.5933361005595911,0.8211524737153143,-0.33216791538553464,0.20889597085930808,-0.3179293920633019,0.6146938855429401,-0.11859006555204407,1.725298704677091,1.340858574976808,-0.17554415884097488,0.8638680436820124,1.440528238232437,0.43671234401503134,0.9492991836154087,-0.17554415884097488,-0.7094887834247012,0.6574094555096383,0.7001250254763364,-0.44607610196339625,-0.3820027470133491,-0.17554415884097488,0.42247382069279865,-0.40336053199669814,-0.2538560371132548,0.36551972740386784,-0.2538560371132548,0.31568489577605335,0.3441619424205188,2.173812189327421,1.3693356216212733,-0.33928717704665096,-0.8376354933247956,-0.3677642236911164,0.7499598571041508,-0.218259728807673,1.3479778366379243,-0.17554415884097488,0.9920147535821068,-0.11147080389092773,-0.13994785053539313,0.023795167670282953,0.023795167670282953,0.3939967740483332,-0.37488348535223276,1.1699962951100156,1.120161463482201,1.0560881085321538,-0.6952502601024686,-0.5386265035579089,-0.36064496203,2.43010560912761,0.977776230259874,0.11634556926479553,-0.36064496203,0.3584004657427515,-0.04027818727976421,2.380270777499795,-0.32504865372441827,0.2800885874704716,-0.11147080389092773,1.3337393133156916,-0.3036908687410692,1.155757771787783,-0.03315892561864786,-0.7735621383747484,1.7537757513215564,-0.3677642236911164,0.7357213337819181,-0.4389568403022799,-0.6026998585079559,-0.17554415884097488,-0.8233969700025628,0.08786852262033011,-0.8803510632914937,0.9208221369709433,-0.7593236150525157,-0.17554415884097488,-0.4887916719300944,0.42959308235391497,0.15906113923149362,-0.04027818727976421,-0.6382961668135377,-0.08299375724646232,-0.004681878974182452,-0.5172687185745598,-0.3179293920633019,0.9706569685987577,-0.5457457652190252,0.5007856989650785,-0.4389568403022799,-0.34640643870776733,-0.5742228118634906,-0.08299375724646232,-0.2467367754521384,0.1377033542481446,0.6574094555096383,-0.8233969700025628,0.31568489577605335,-0.2609752987743711,-0.7878006616969812,-0.33928717704665096,-0.645415428474654,0.17329966255372634,-0.21114046714655665,-0.4959109335912107,-0.16842489717985853,-0.2538560371132548,-0.16842489717985853,-0.11859006555204407,-0.4104797936578145,-0.4389568403022799,-0.6169383818301887,1.7751335363049054,-0.23961751379102206,-0.4104797936578145,-0.2467367754521384,-0.40336053199669814,0.23025375584265714,-0.5243879802356761,0.2231344941815408,-0.5955805968468396,0.2373730175037735,0.002437382686933899,-0.026039663957531507,-0.5386265035579089,-0.3535257003688837,-0.5243879802356761,1.3337393133156916,-0.2894523454188365,-0.5030301952523271,-0.32504865372441827,-0.26809456043548746,-0.20402120548544028,-0.2538560371132548,-0.5955805968468396,1.340858574976808,-0.09723228056869503,-0.11147080389092773,-0.481672410268978,-0.7664428767136321,-0.6382961668135377,-0.44607610196339625,-0.054516710601996914,-0.5528650268801415,0.12346483092591187,0.09498778428144647,-0.27521382209660383,-0.9942592498693553,0.30144637245382067,-0.21114046714655665,-0.4887916719300944,-0.5101494569134434,-0.4175990553189308,-0.5243879802356761,-0.1897826821632076,-0.8091584466803302,-0.6667732134580031,0.009556644348050251,-0.5742228118634906,-0.6098191201690724,-0.06875523392422962,-0.4531953636245126,-0.5884613351857233,-0.40336053199669814,-0.9230666332581918,-0.3535257003688837,0.7855561654097326,0.14482261590926093,-0.3820027470133491,-0.3820027470133491,-0.9301858949193081,-0.218259728807673,-0.6738924751191195,-0.16842489717985853,-0.5457457652190252,-0.07587449558534597,-0.6382961668135377,-0.7593236150525157,-0.36064496203,-0.8589932783081446,-0.14706711219650948,-0.37488348535223276,-0.5528650268801415,-0.46031462528562894,-0.4175990553189308,-0.6098191201690724,-0.7878006616969812,-0.6026998585079559,0.42247382069279865,-0.7166080450858177,-0.8376354933247956,-0.4104797936578145,-0.18266342050209125,-0.5955805968468396,-0.8803510632914937,-0.6952502601024686,-0.5671035502023742,-0.23961751379102206,-0.5599842885412579,-0.32504865372441827,0.15906113923149362,-0.5671035502023742,-0.6810117367802359,-0.36064496203,-0.7308465684080503,-0.8162777083414465,-0.8091584466803302,-0.645415428474654,-0.12570932721316042,-0.6311769051524214,-0.866112539969261,-0.6311769051524214,-0.6810117367802359,-0.23961751379102206,-0.7094887834247012,-0.6881309984413522,-0.5030301952523271,-0.9230666332581918,-0.6667732134580031,-0.9017088482748428,-0.8589932783081446,-0.9942592498693553,-0.8305162316636793,-0.7023695217635849,-0.8020391850192138,-0.28233308375772015,-0.7593236150525157,-0.4247183169800472,-0.7735621383747484,-0.9515436799026572,-0.9942592498693553,-0.23961751379102206,-0.5386265035579089,-0.6738924751191195,-0.7806814000358647,-0.7949199233580975,-0.9017088482748428,-0.44607610196339625,-1.008497773191588,-0.9088281099359591,-0.8945895866137263,-0.7593236150525157,-0.8162777083414465,-0.5884613351857233,-0.9586629415637735,-0.7735621383747484,-0.6596539517968868,-0.5813420735246069,-0.8803510632914937,-0.7379658300691666,-0.7949199233580975,-0.8732318016303774,-0.8945895866137263,-0.7664428767136321,-0.8589932783081446,-0.8376354933247956,-0.8518740166470283,-0.6667732134580031,-0.8945895866137263,-0.7593236150525157,-0.8803510632914937,-0.6667732134580031,-0.866112539969261,-0.6667732134580031,-0.7379658300691666,-0.8732318016303774,-0.987139988208239,-0.8803510632914937,-0.9942592498693553,-0.7806814000358647,-0.4104797936578145,-0.8447547549859119,-0.8447547549859119,-0.9301858949193081,-0.8233969700025628,-0.9230666332581918,-0.8305162316636793,-1.0013785115304716,-0.745085091730283,-0.9729014648860063,-0.9586629415637735,-0.9088281099359591,-0.8803510632914937,-0.8732318016303774,-0.723727306746934,-0.9088281099359591,-0.96578220322489,-0.987139988208239,-0.9515436799026572,-1.0013785115304716,-0.8732318016303774,-0.987139988208239,-0.96578220322489,-0.8732318016303774,-1.008497773191588,-1.0013785115304716,-0.9942592498693553,-0.9800207265471226,-0.96578220322489,-0.9800207265471226,-0.987139988208239,-0.9942592498693553,-1.008497773191588,-1.008497773191588,-0.9800207265471226,-0.987139988208239,-0.987139988208239,-1.0227362965138207,-0.9800207265471226,-0.96578220322489,-1.0227362965138207,-1.0013785115304716,-1.0156170348527043,-1.0013785115304716,-1.0227362965138207],\"z\":[2.166537011717826,0.9471066344360647,3.1862331030655056,0.22701197198950737,3.895815434673427,1.0259491157258338,1.3675998679814996,1.924753402429201,0.5528942279872194,0.5003325737940401,0.5528942279872194,3.816972953383658,0.38469693456904547,1.4884916726258122,0.12188866360314864,1.6777136277212579,0.44777091960086074,0.9523627998553826,0.4425147541815428,0.8051901681144804,0.9523627998553826,0.7999340026951625,0.9891559577906082,0.7210915214053935,0.8998011456622033,4.65270325505521,1.2046587399826436,2.734202877004163,0.6475052055349423,0.2900859570213226,0.6842983634701679,-0.10938261484684059,0.23752430282814324,-0.156688103620702,1.420161522174679,0.7683970101792549,0.174450317796328,0.19021881405428182,-0.45103336710250647,0.10086400192587688,2.975986486292788,0.006253024378154025,2.6395918994564402,2.171793177137144,-0.11989494568547646,1.7355314473337553,0.2480366336667791,1.0259491157258338,1.4727231763678583,0.19547497947359976,0.4687955812781325,1.8616794173973856,0.13765715986110244,0.2690612953440509,1.5673341539155812,0.6159682130190347,0.42149009250427105,1.1258162586928746,3.0285481404859675,0.22701197198950737,0.32687911495654814,0.03779001689406165,0.43725858876222484,-0.5509005100695473,1.1468409203701464,0.7053230251474396,1.3623437025621816,0.6317367092769886,0.15342565611905626,0.9733874615326544,-0.16194426904001996,-0.27757990826501455,0.9155696419201571,0.10086400192587688,-0.23027441949115313,1.9562903949451085,-0.6980731418104495,-0.11989494568547646,0.39520926540768136,1.6041273118508068,0.9891559577906082,0.9891559577906082,0.7473723485019831,-0.05156479523434328,3.9273524271893345,-0.2092497578138814,0.5581503934065374,2.00359588371897,-0.3564223895547836,-0.4352648708445527,1.7880931015269346,0.3163667841179123,1.2414518979178693,-0.6980731418104495,2.5554932527473535,0.07458317482928721,-0.26181141200706076,0.9155696419201571,1.4674670109485404,-0.1251511111047944,-0.24604291574910694,-0.014771637299117723,0.23752430282814324,-0.030540133557071532,-0.24604291574910694,0.45302708502017863,-0.2933484045229684,0.40046543082699926,-0.09887028400820472,0.31111061869859435,1.9668027257837444,0.05881467857133339,1.3308067100462742,-0.0673332914922971,0.2900859570213226,0.26380512992473293,0.21124347573155355,-0.0673332914922971,-0.324885397038876,-0.08835795316956883,-0.2145059232331993,0.589687385922445,-0.9293444202604387,0.926081972758793,1.2677327250144588,0.258548964505415,0.7263476868247114,-0.004259306460481849,0.5423818971485835,0.44777091960086074,0.23752430282814324,2.4766507714575843,2.492419267715538,0.19547497947359976,2.84458235080984,-0.41949637458659883,3.1652084413882338,0.1166324981838307,-0.17771276529797375,-0.987162239872936,2.0561575379121493,-0.2933484045229684,0.15868182153837418,1.2256834016599154,-0.45103336710250647,0.7105791905667576,0.08509550566792308,0.28482979160200467,0.22701197198950737,-0.2723237428456966,-0.408984043747963,2.3137096434587283,-0.05682096065366122,0.5686627242451733,-0.5929498334240908,-0.6980731418104495,-0.23027441949115313,-0.5509005100695473,0.20073114489291768,0.2164996411508715,-0.20399359239456344,-0.025283968137753597,-0.8662704352286235,-0.4562895325218244,-1.0239553978081617,1.01018061946788,2.48716310229622,0.10086400192587688,0.07983934024860515,-0.3564223895547836,-0.05682096065366122,0.6159682130190347,1.5988711464314889,-0.1514319382013841,0.2427804682474612,1.435930018432633,-0.28809223910365045,-0.49308269045705,0.07983934024860515,-0.4562895325218244,-0.41424020916728094,0.7683970101792549,0.5371257317292656,0.3741846037304096,1.3308067100462742,0.9155696419201571,-0.577181337166137,-0.2145059232331993,2.0561575379121493,0.4320024233429069,-0.28809223910365045,-0.9451129165183926,0.6107120475997168,0.9365943035974288,-0.7085854726490853,0.7421161830826651,-0.25129908116842486,-0.4825703596184141,0.8787764839849316,1.0206929503065159,-0.2565552465877428,0.5581503934065374,-0.20399359239456344,-0.05156479523434328,0.11137633276451277,0.12188866360314864,-0.5456443446502294,0.5686627242451733,-0.6402553221979522,-0.4562895325218244,0.2900859570213226,1.2940135521110485,-0.5982059988434087,0.25329279908609703,-0.5876936680047729,-0.5403881792309114,-0.3932155474900092,-0.2986045699422863,0.20073114489291768,-0.1514319382013841,0.3689284383110917,-0.5561566754888652,-0.8925512623252132,0.5423818971485835,-0.6034621642627267,0.752628513921301,0.8577518223076598,-0.2670675774263787,0.027277686055425774,-0.4562895325218244,-0.7611471268422647,0.5318695663099477,-0.2145059232331993,-0.6402553221979522,-0.36167855497410156,0.022021520636107836,-0.45103336710250647,-0.5982059988434087,-1.1763841949683818,-0.8978074277445312,-0.49308269045705,-0.28809223910365045,0.1166324981838307,0.8104463335337984,-0.13040727652411233,-0.5614128409081831,0.13240099444178452,0.016765355216789898,-0.577181337166137,0.4582832504394966,-0.5614128409081831,-0.7348662997456751,-0.05682096065366122,0.048302347732697516,-0.7558909614229468,-1.1711280295490638,-0.9188320894218028,-0.240786750329789,0.006253024378154025,-0.5193635175536396,-0.2250182540718352,-1.1763841949683818,0.3794407691497275,0.10086400192587688,-0.5088511867150037,0.13765715986110244,0.9681312961133365,-0.9083197585831669,-0.7506347960036289,-0.13566344194343027,-0.14617577278206614,0.03253385147474371,-0.5035950212956859,-0.38795938207069125,0.2690612953440509,-0.5824375025854549,-0.09361411858888677,-0.1251511111047944,-0.8557581043899876,-0.48782652503773205,-0.08835795316956883,-0.9661375781956643,-0.9556252473570284,-0.6612799838752239,-0.48782652503773205,-0.9503690819377105,-0.21976208865251726,-0.4247525400059168,-0.004259306460481849,-0.3301415624581939,-0.8820389314865773,-0.740122465164993,-0.19873742697524552,-0.7138416380684033,-0.9451129165183926,0.016765355216789898,-0.7926841193581724,-0.8978074277445312,-0.7664032922615827,-0.9293444202604387,-0.004259306460481849,-0.2670675774263787,-0.6980731418104495,-0.6402553221979522,0.1166324981838307,-0.6770484801331778,-0.9135759240024849,-0.9713937436149822,-1.150103367871792,-0.5614128409081831,-0.5141073521343217,-0.49308269045705,-1.2026650220649715,-0.4300087054252347,-0.5456443446502294,-0.7138416380684033,-0.6612799838752239,-1.0922855482592948,-0.10938261484684059,-0.7874279539388545,-0.6875608109718137,-1.1868965258070177,-0.8557581043899876,-0.4825703596184141,-0.46154569794114236,-0.740122465164993,-0.571925171746819,-0.571925171746819,-0.6402553221979522,-1.1395910370331561,-0.992418405292254,0.1481694906997383,-0.818964946454762,-0.5876936680047729,-0.997674570711572,-1.1290787061945202,-0.9661375781956643,-0.31962923161955803,-0.7506347960036289,-0.5929498334240908,-0.8662704352286235,-0.8557581043899876,-0.8399896081320338,-1.0239553978081617,-0.5088511867150037,-1.0449800594854333,-0.408984043747963,-1.0239553978081617,-0.9608814127763463,-0.8084526156161261,-0.9661375781956643,-1.15535953329111,-0.6402553221979522,-0.818964946454762,-0.5614128409081831,-0.903063593163849,-0.8347334427127159,-0.8820389314865773,-0.8137087810354441,-1.071260886582023,-0.7926841193581724,-0.6087183296820445,-0.46154569794114236,-0.9083197585831669,-1.0449800594854333,-0.997674570711572,-0.9766499090343002,-1.0607485557433871,-1.1816403603876997,-0.6455114876172702,-0.7821717885195365,-1.066004721162705,-1.0292115632274794,-1.0239553978081617,-0.8347334427127159,-1.076517052001341,-0.8610142698093055,-1.144847202452474,-1.1395910370331561,-1.1185663753558845,-1.2236896837422433,-1.160615698710428,-1.0344677286467974,-1.1658718641297459,-1.1868965258070177,-1.1868965258070177,-1.1974088566456536,-1.1080540445172486,-1.1974088566456536,-1.1290787061945202,-1.2184335183229253,-1.1238225407752025,-1.1185663753558845,-1.1763841949683818,-1.1868965258070177,-1.1711280295490638,-1.1290787061945202,-1.2079211874842894,-1.228945849161561,-1.2131773529036074,-1.2131773529036074,-1.2236896837422433,-1.228945849161561,-1.2079211874842894,-1.2131773529036074,-1.228945849161561],\"type\":\"scatter3d\"}],                        {\"template\":{\"data\":{\"histogram2dcontour\":[{\"type\":\"histogram2dcontour\",\"colorbar\":{\"outlinewidth\":0,\"ticks\":\"\"},\"colorscale\":[[0.0,\"#0d0887\"],[0.1111111111111111,\"#46039f\"],[0.2222222222222222,\"#7201a8\"],[0.3333333333333333,\"#9c179e\"],[0.4444444444444444,\"#bd3786\"],[0.5555555555555556,\"#d8576b\"],[0.6666666666666666,\"#ed7953\"],[0.7777777777777778,\"#fb9f3a\"],[0.8888888888888888,\"#fdca26\"],[1.0,\"#f0f921\"]]}],\"choropleth\":[{\"type\":\"choropleth\",\"colorbar\":{\"outlinewidth\":0,\"ticks\":\"\"}}],\"histogram2d\":[{\"type\":\"histogram2d\",\"colorbar\":{\"outlinewidth\":0,\"ticks\":\"\"},\"colorscale\":[[0.0,\"#0d0887\"],[0.1111111111111111,\"#46039f\"],[0.2222222222222222,\"#7201a8\"],[0.3333333333333333,\"#9c179e\"],[0.4444444444444444,\"#bd3786\"],[0.5555555555555556,\"#d8576b\"],[0.6666666666666666,\"#ed7953\"],[0.7777777777777778,\"#fb9f3a\"],[0.8888888888888888,\"#fdca26\"],[1.0,\"#f0f921\"]]}],\"heatmap\":[{\"type\":\"heatmap\",\"colorbar\":{\"outlinewidth\":0,\"ticks\":\"\"},\"colorscale\":[[0.0,\"#0d0887\"],[0.1111111111111111,\"#46039f\"],[0.2222222222222222,\"#7201a8\"],[0.3333333333333333,\"#9c179e\"],[0.4444444444444444,\"#bd3786\"],[0.5555555555555556,\"#d8576b\"],[0.6666666666666666,\"#ed7953\"],[0.7777777777777778,\"#fb9f3a\"],[0.8888888888888888,\"#fdca26\"],[1.0,\"#f0f921\"]]}],\"heatmapgl\":[{\"type\":\"heatmapgl\",\"colorbar\":{\"outlinewidth\":0,\"ticks\":\"\"},\"colorscale\":[[0.0,\"#0d0887\"],[0.1111111111111111,\"#46039f\"],[0.2222222222222222,\"#7201a8\"],[0.3333333333333333,\"#9c179e\"],[0.4444444444444444,\"#bd3786\"],[0.5555555555555556,\"#d8576b\"],[0.6666666666666666,\"#ed7953\"],[0.7777777777777778,\"#fb9f3a\"],[0.8888888888888888,\"#fdca26\"],[1.0,\"#f0f921\"]]}],\"contourcarpet\":[{\"type\":\"contourcarpet\",\"colorbar\":{\"outlinewidth\":0,\"ticks\":\"\"}}],\"contour\":[{\"type\":\"contour\",\"colorbar\":{\"outlinewidth\":0,\"ticks\":\"\"},\"colorscale\":[[0.0,\"#0d0887\"],[0.1111111111111111,\"#46039f\"],[0.2222222222222222,\"#7201a8\"],[0.3333333333333333,\"#9c179e\"],[0.4444444444444444,\"#bd3786\"],[0.5555555555555556,\"#d8576b\"],[0.6666666666666666,\"#ed7953\"],[0.7777777777777778,\"#fb9f3a\"],[0.8888888888888888,\"#fdca26\"],[1.0,\"#f0f921\"]]}],\"surface\":[{\"type\":\"surface\",\"colorbar\":{\"outlinewidth\":0,\"ticks\":\"\"},\"colorscale\":[[0.0,\"#0d0887\"],[0.1111111111111111,\"#46039f\"],[0.2222222222222222,\"#7201a8\"],[0.3333333333333333,\"#9c179e\"],[0.4444444444444444,\"#bd3786\"],[0.5555555555555556,\"#d8576b\"],[0.6666666666666666,\"#ed7953\"],[0.7777777777777778,\"#fb9f3a\"],[0.8888888888888888,\"#fdca26\"],[1.0,\"#f0f921\"]]}],\"mesh3d\":[{\"type\":\"mesh3d\",\"colorbar\":{\"outlinewidth\":0,\"ticks\":\"\"}}],\"scatter\":[{\"fillpattern\":{\"fillmode\":\"overlay\",\"size\":10,\"solidity\":0.2},\"type\":\"scatter\"}],\"parcoords\":[{\"type\":\"parcoords\",\"line\":{\"colorbar\":{\"outlinewidth\":0,\"ticks\":\"\"}}}],\"scatterpolargl\":[{\"type\":\"scatterpolargl\",\"marker\":{\"colorbar\":{\"outlinewidth\":0,\"ticks\":\"\"}}}],\"bar\":[{\"error_x\":{\"color\":\"#2a3f5f\"},\"error_y\":{\"color\":\"#2a3f5f\"},\"marker\":{\"line\":{\"color\":\"#E5ECF6\",\"width\":0.5},\"pattern\":{\"fillmode\":\"overlay\",\"size\":10,\"solidity\":0.2}},\"type\":\"bar\"}],\"scattergeo\":[{\"type\":\"scattergeo\",\"marker\":{\"colorbar\":{\"outlinewidth\":0,\"ticks\":\"\"}}}],\"scatterpolar\":[{\"type\":\"scatterpolar\",\"marker\":{\"colorbar\":{\"outlinewidth\":0,\"ticks\":\"\"}}}],\"histogram\":[{\"marker\":{\"pattern\":{\"fillmode\":\"overlay\",\"size\":10,\"solidity\":0.2}},\"type\":\"histogram\"}],\"scattergl\":[{\"type\":\"scattergl\",\"marker\":{\"colorbar\":{\"outlinewidth\":0,\"ticks\":\"\"}}}],\"scatter3d\":[{\"type\":\"scatter3d\",\"line\":{\"colorbar\":{\"outlinewidth\":0,\"ticks\":\"\"}},\"marker\":{\"colorbar\":{\"outlinewidth\":0,\"ticks\":\"\"}}}],\"scattermapbox\":[{\"type\":\"scattermapbox\",\"marker\":{\"colorbar\":{\"outlinewidth\":0,\"ticks\":\"\"}}}],\"scatterternary\":[{\"type\":\"scatterternary\",\"marker\":{\"colorbar\":{\"outlinewidth\":0,\"ticks\":\"\"}}}],\"scattercarpet\":[{\"type\":\"scattercarpet\",\"marker\":{\"colorbar\":{\"outlinewidth\":0,\"ticks\":\"\"}}}],\"carpet\":[{\"aaxis\":{\"endlinecolor\":\"#2a3f5f\",\"gridcolor\":\"white\",\"linecolor\":\"white\",\"minorgridcolor\":\"white\",\"startlinecolor\":\"#2a3f5f\"},\"baxis\":{\"endlinecolor\":\"#2a3f5f\",\"gridcolor\":\"white\",\"linecolor\":\"white\",\"minorgridcolor\":\"white\",\"startlinecolor\":\"#2a3f5f\"},\"type\":\"carpet\"}],\"table\":[{\"cells\":{\"fill\":{\"color\":\"#EBF0F8\"},\"line\":{\"color\":\"white\"}},\"header\":{\"fill\":{\"color\":\"#C8D4E3\"},\"line\":{\"color\":\"white\"}},\"type\":\"table\"}],\"barpolar\":[{\"marker\":{\"line\":{\"color\":\"#E5ECF6\",\"width\":0.5},\"pattern\":{\"fillmode\":\"overlay\",\"size\":10,\"solidity\":0.2}},\"type\":\"barpolar\"}],\"pie\":[{\"automargin\":true,\"type\":\"pie\"}]},\"layout\":{\"autotypenumbers\":\"strict\",\"colorway\":[\"#636efa\",\"#EF553B\",\"#00cc96\",\"#ab63fa\",\"#FFA15A\",\"#19d3f3\",\"#FF6692\",\"#B6E880\",\"#FF97FF\",\"#FECB52\"],\"font\":{\"color\":\"#2a3f5f\"},\"hovermode\":\"closest\",\"hoverlabel\":{\"align\":\"left\"},\"paper_bgcolor\":\"white\",\"plot_bgcolor\":\"#E5ECF6\",\"polar\":{\"bgcolor\":\"#E5ECF6\",\"angularaxis\":{\"gridcolor\":\"white\",\"linecolor\":\"white\",\"ticks\":\"\"},\"radialaxis\":{\"gridcolor\":\"white\",\"linecolor\":\"white\",\"ticks\":\"\"}},\"ternary\":{\"bgcolor\":\"#E5ECF6\",\"aaxis\":{\"gridcolor\":\"white\",\"linecolor\":\"white\",\"ticks\":\"\"},\"baxis\":{\"gridcolor\":\"white\",\"linecolor\":\"white\",\"ticks\":\"\"},\"caxis\":{\"gridcolor\":\"white\",\"linecolor\":\"white\",\"ticks\":\"\"}},\"coloraxis\":{\"colorbar\":{\"outlinewidth\":0,\"ticks\":\"\"}},\"colorscale\":{\"sequential\":[[0.0,\"#0d0887\"],[0.1111111111111111,\"#46039f\"],[0.2222222222222222,\"#7201a8\"],[0.3333333333333333,\"#9c179e\"],[0.4444444444444444,\"#bd3786\"],[0.5555555555555556,\"#d8576b\"],[0.6666666666666666,\"#ed7953\"],[0.7777777777777778,\"#fb9f3a\"],[0.8888888888888888,\"#fdca26\"],[1.0,\"#f0f921\"]],\"sequentialminus\":[[0.0,\"#0d0887\"],[0.1111111111111111,\"#46039f\"],[0.2222222222222222,\"#7201a8\"],[0.3333333333333333,\"#9c179e\"],[0.4444444444444444,\"#bd3786\"],[0.5555555555555556,\"#d8576b\"],[0.6666666666666666,\"#ed7953\"],[0.7777777777777778,\"#fb9f3a\"],[0.8888888888888888,\"#fdca26\"],[1.0,\"#f0f921\"]],\"diverging\":[[0,\"#8e0152\"],[0.1,\"#c51b7d\"],[0.2,\"#de77ae\"],[0.3,\"#f1b6da\"],[0.4,\"#fde0ef\"],[0.5,\"#f7f7f7\"],[0.6,\"#e6f5d0\"],[0.7,\"#b8e186\"],[0.8,\"#7fbc41\"],[0.9,\"#4d9221\"],[1,\"#276419\"]]},\"xaxis\":{\"gridcolor\":\"white\",\"linecolor\":\"white\",\"ticks\":\"\",\"title\":{\"standoff\":15},\"zerolinecolor\":\"white\",\"automargin\":true,\"zerolinewidth\":2},\"yaxis\":{\"gridcolor\":\"white\",\"linecolor\":\"white\",\"ticks\":\"\",\"title\":{\"standoff\":15},\"zerolinecolor\":\"white\",\"automargin\":true,\"zerolinewidth\":2},\"scene\":{\"xaxis\":{\"backgroundcolor\":\"#E5ECF6\",\"gridcolor\":\"white\",\"linecolor\":\"white\",\"showbackground\":true,\"ticks\":\"\",\"zerolinecolor\":\"white\",\"gridwidth\":2},\"yaxis\":{\"backgroundcolor\":\"#E5ECF6\",\"gridcolor\":\"white\",\"linecolor\":\"white\",\"showbackground\":true,\"ticks\":\"\",\"zerolinecolor\":\"white\",\"gridwidth\":2},\"zaxis\":{\"backgroundcolor\":\"#E5ECF6\",\"gridcolor\":\"white\",\"linecolor\":\"white\",\"showbackground\":true,\"ticks\":\"\",\"zerolinecolor\":\"white\",\"gridwidth\":2}},\"shapedefaults\":{\"line\":{\"color\":\"#2a3f5f\"}},\"annotationdefaults\":{\"arrowcolor\":\"#2a3f5f\",\"arrowhead\":0,\"arrowwidth\":1},\"geo\":{\"bgcolor\":\"white\",\"landcolor\":\"#E5ECF6\",\"subunitcolor\":\"white\",\"showland\":true,\"showlakes\":true,\"lakecolor\":\"white\"},\"title\":{\"x\":0.05},\"mapbox\":{\"style\":\"light\"}}},\"scene\":{\"domain\":{\"x\":[0.0,1.0],\"y\":[0.0,1.0]},\"xaxis\":{\"title\":{\"text\":\"Field Goals\"}},\"yaxis\":{\"title\":{\"text\":\"Assists\"}},\"zaxis\":{\"title\":{\"text\":\"Total Rebounds\"}}},\"coloraxis\":{\"colorbar\":{\"title\":{\"text\":\"color\"}},\"colorscale\":[[0.0,\"#440154\"],[0.1111111111111111,\"#482878\"],[0.2222222222222222,\"#3e4989\"],[0.3333333333333333,\"#31688e\"],[0.4444444444444444,\"#26828e\"],[0.5555555555555556,\"#1f9e89\"],[0.6666666666666666,\"#35b779\"],[0.7777777777777778,\"#6ece58\"],[0.8888888888888888,\"#b5de2b\"],[1.0,\"#fde725\"]]},\"legend\":{\"tracegroupgap\":0},\"title\":{\"text\":\"NBA Players Clustering\"}},                        {\"responsive\": true}                    ).then(function(){\n",
       "                            \n",
       "var gd = document.getElementById('e8d76ddf-fe4f-447c-b11a-3ad5f7f9972b');\n",
       "var x = new MutationObserver(function (mutations, observer) {{\n",
       "        var display = window.getComputedStyle(gd).display;\n",
       "        if (!display || display === 'none') {{\n",
       "            console.log([gd, 'removed!']);\n",
       "            Plotly.purge(gd);\n",
       "            observer.disconnect();\n",
       "        }}\n",
       "}});\n",
       "\n",
       "// Listen for the removal of the full notebook cells\n",
       "var notebookContainer = gd.closest('#notebook-container');\n",
       "if (notebookContainer) {{\n",
       "    x.observe(notebookContainer, {childList: true});\n",
       "}}\n",
       "\n",
       "// Listen for the clearing of the current output cell\n",
       "var outputEl = gd.closest('.output');\n",
       "if (outputEl) {{\n",
       "    x.observe(outputEl, {childList: true});\n",
       "}}\n",
       "\n",
       "                        })                };                });            </script>        </div>"
      ]
     },
     "metadata": {},
     "output_type": "display_data"
    }
   ],
   "source": [
    "#Use the recommended number of cluster (assuming it's different) to retrain your model and visualize the results\n",
    "\n",
    "# Assuming the recommended number of clusters is 4\n",
    "kmeans_obj1 = KMeans(n_clusters=4, random_state=1).fit(clust_data1)\n",
    "NBA['Cluster'] = kmeans_obj1.labels_\n",
    "fig = px.scatter_3d(NBA, x='FG', y='AST', z='TRB', color=kmeans_obj1.labels_,\n",
    "                     title='NBA Players Clustering',\n",
    "                     labels={'FG': 'Field Goals', 'AST': 'Assists', 'TRB': 'Total Rebounds'},\n",
    "                     color_continuous_scale=px.colors.sequential.Viridis)\n",
    "fig.update_traces(marker=dict(size=5, opacity=0.8))\n",
    "fig.show()"
   ]
  },
  {
   "cell_type": "code",
   "execution_count": null,
   "metadata": {},
   "outputs": [
    {
     "name": "stdout",
     "output_type": "stream",
     "text": [
      "Cluster Evaluation:\n",
      "Total Variance Explained: 0.7471107722921323\n",
      "Silhouette Score: 0.4291182269396123\n"
     ]
    },
    {
     "name": "stderr",
     "output_type": "stream",
     "text": [
      "/home/vscode/.local/lib/python3.12/site-packages/numpy/_core/fromnumeric.py:84: FutureWarning:\n",
      "\n",
      "The behavior of DataFrame.sum with axis=None is deprecated, in a future version this will reduce over both axes and return a scalar. To retain the old behavior, pass axis=0 (or do not pass axis)\n",
      "\n"
     ]
    }
   ],
   "source": [
    "#Once again evaluate the quality of the clustering using total variance explained and silhouette scores\n",
    "print(\"Cluster Evaluation:\")\n",
    "# Total Variance Explained and Silhouette Score \n",
    "# Total Variance Explained\n",
    "total_sum_squares = np.sum((clust_data1 - np.mean(clust_data1))**2)\n",
    "total = np.sum(total_sum_squares)\n",
    "between_SSE = (total-kmeans_obj1.inertia_)\n",
    "var_explained = between_SSE/total\n",
    "print(f'Total Variance Explained: {var_explained}')\n",
    "# Silhouette Score\n",
    "silhouette_avg = silhouette_score(clust_data1, kmeans_obj1.labels_)\n",
    "print(f'Silhouette Score: {silhouette_avg}')"
   ]
  },
  {
   "cell_type": "code",
   "execution_count": 98,
   "metadata": {},
   "outputs": [
    {
     "name": "stdout",
     "output_type": "stream",
     "text": [
      "Top 5 Undervalued Players in Cluster 2:\n",
      "             Player      Salary        FG       AST       TRB         Value\n",
      "162      Tyus Jones   2087519.0  0.503751  2.430106 -0.293348  1.264903e-06\n",
      "48   Jalen Williams   4775760.0  1.614801  1.269666  0.248037  6.559172e-07\n",
      "110     Josh Giddey   8352367.0  0.905845  1.725299  1.467467  4.907125e-07\n",
      "15   Paolo Banchero  12160800.0  2.165035  2.045665  1.677714  4.842127e-07\n",
      "37     Franz Wagner   7007092.0  1.572475  0.892345  0.768397  4.614207e-07\n"
     ]
    }
   ],
   "source": [
    "#Use the model to select players for Mr. Rooney to consider\n",
    "\n",
    "# Best Players in Cluster 2 \n",
    "def undervalued_players1(cluster, num_players):\n",
    "    df = NBA[NBA['Cluster'] == cluster].copy()\n",
    "    # Using a performance score \n",
    "    df['Performance'] = df['FG'] + df['AST'] + df['TRB']\n",
    "    # Using performance per salary\n",
    "    df['Value'] = df['Performance'] / df['Salary']\n",
    "    # Select top players by value\n",
    "    players = df.nlargest(num_players, 'Value')\n",
    "    return players[['Player', 'Salary', 'FG', 'AST', 'TRB', 'Value']]\n",
    "players = undervalued_players1(2, 5)\n",
    "print(\"Top 5 Undervalued Players in Cluster 2:\")\n",
    "print(players)"
   ]
  },
  {
   "cell_type": "code",
   "execution_count": 100,
   "metadata": {},
   "outputs": [
    {
     "name": "stdout",
     "output_type": "stream",
     "text": [
      "Top 5 Undervalued Players in Cluster 5:\n",
      "               Player     Salary        FG       AST       TRB         Value\n",
      "53   Alperen ÅengÃ¼n  5424654.0  1.567184  1.198473  1.861679  8.530198e-07\n",
      "148       Jalen Duren  4536840.0  0.625438  0.023795  2.492419  6.924758e-07\n",
      "126     Jalen Johnson  4510905.0  0.678345  0.422474  1.330807  5.390549e-07\n",
      "140     Jeremy Sochan  5570040.0  0.577821  0.749960  1.267733  4.659776e-07\n",
      "209     Jabari Walker  2019699.0  0.017006 -0.517269  1.435930  4.632706e-07\n"
     ]
    }
   ],
   "source": [
    "# Best Players in Cluster 3\n",
    "def undervalued_players2(cluster, num_players):\n",
    "    df = NBA[NBA['Cluster'] == cluster].copy()\n",
    "    # Using a performance score \n",
    "    df['Performance'] = df['FG'] + df['AST'] + df['TRB']\n",
    "    # Using performance per salary\n",
    "    df['Value'] = df['Performance'] / df['Salary']\n",
    "    # Select top players by value\n",
    "    players = df.nlargest(num_players, 'Value')\n",
    "    return players[['Player', 'Salary', 'FG', 'AST', 'TRB', 'Value']]\n",
    "players = undervalued_players2(3, 5)\n",
    "print(\"Top 5 Undervalued Players in Cluster 5:\")\n",
    "print(players)"
   ]
  },
  {
   "cell_type": "code",
   "execution_count": 101,
   "metadata": {},
   "outputs": [
    {
     "name": "stdout",
     "output_type": "stream",
     "text": [
      "Top 5 Overvalued Players:\n",
      "                    Player    Salary        FG       AST       TRB     Value\n",
      "501            Daishen Nix  119972.0 -1.173404 -0.980021 -1.218434 -0.000028\n",
      "434  Javon Freeman-Liberty  100000.0 -0.930032 -0.737966 -0.866270 -0.000025\n",
      "419        Bismack Biyombo  143967.0 -1.183986 -1.008498 -1.139591 -0.000023\n",
      "455            Chuma Okeke  119972.0 -1.009392 -0.880351 -0.813709 -0.000023\n",
      "400         Eugene Omoruyi  119972.0 -0.792473 -0.773562 -0.787428 -0.000020\n"
     ]
    }
   ],
   "source": [
    "# Bad choices players\n",
    "def overvalued_players(cluster, num_players):\n",
    "    df = NBA[NBA['Cluster'] == cluster].copy()\n",
    "    # Using a performance score \n",
    "    df['Performance'] = df['FG'] + df['AST'] + df['TRB']\n",
    "    # Using performance per salary\n",
    "    df['Value'] = df['Performance'] / df['Salary']\n",
    "    # Select bad players by value\n",
    "    players = df.nsmallest(num_players, 'Value')\n",
    "    return players[['Player', 'Salary', 'FG', 'AST', 'TRB', 'Value']]\n",
    "players = overvalued_players(1, 5)\n",
    "print(\"Top 5 Overvalued Players:\")\n",
    "print(players)"
   ]
  },
  {
   "cell_type": "markdown",
   "metadata": {},
   "source": [
    "Answer: \n",
    "* Examples that are not good choices (3 or 4) \n",
    "  * Daishen Nix, Bismack Biyombo, Chuma Okeke\n",
    "* Several options that are good choices (3 or 4)\n",
    "  * Tyus Jones, Jalen Williams, Josh Giddey\n",
    "* Several options that could work, assuming you can't get the players in the good category (3 or 4)\n",
    "  * Alperen Sengun, Jalen Duren, Jalen Johnson, Jeremy Sochan"
   ]
  },
  {
   "cell_type": "code",
   "execution_count": 70,
   "metadata": {},
   "outputs": [],
   "source": [
    "#Write up the results in a separate notebook with supporting visualizations and an overview of how and why\n",
    "#you made the choices you did. This should be at least 500 words and should be written for a non-technical audience.\n",
    "\n",
    "\n"
   ]
  }
 ],
 "metadata": {
  "kernelspec": {
   "display_name": "Python 3",
   "language": "python",
   "name": "python3"
  },
  "language_info": {
   "codemirror_mode": {
    "name": "ipython",
    "version": 3
   },
   "file_extension": ".py",
   "mimetype": "text/x-python",
   "name": "python",
   "nbconvert_exporter": "python",
   "pygments_lexer": "ipython3",
   "version": "3.12.7"
  }
 },
 "nbformat": 4,
 "nbformat_minor": 2
}
