{
 "cells": [
  {
   "cell_type": "markdown",
   "metadata": {},
   "source": [
    "# Clustering Lab"
   ]
  },
  {
   "cell_type": "markdown",
   "metadata": {},
   "source": [
    " \n",
    "Based of the amazing work you did in the Movie Industry you've been recruited to the NBA! You are working as the VP of Analytics that helps support a head scout, Mr. Rooney, for the worst team in the NBA probably the Wizards. Mr. Rooney just heard about Data Science and thinks it can solve all the team's problems!!! He wants you to figure out a way to find players that are high performing but maybe not highly paid that you can steal to get the team to the playoffs! \n",
    "\n",
    "In this document you will work through a similar process that we did in class with the NBA data (NBA_Perf_22 and nba_salaries_22), merging them together.\n",
    "\n",
    "Details: \n",
    "\n",
    "- Determine a way to use clustering to estimate based on performance if \n",
    "players are under or over paid, generally. \n",
    "\n",
    "- Then select players you believe would be best for your team and explain why. Do so in three categories: \n",
    "    * Examples that are not good choices (3 or 4) \n",
    "    * Several options that are good choices (3 or 4)\n",
    "    * Several options that could work, assuming you can't get the players in the good category (3 or 4)\n",
    "\n",
    "- You will decide the cutoffs for each category, so you should be able to explain why you chose them.\n",
    "\n",
    "- Provide a well commented and clean report of your findings in a separate notebook that can be presented to Mr. Rooney, keeping in mind he doesn't understand...anything. Include a rationale for variables you included in the model, details on your approach and a overview of the results with supporting visualizations. \n",
    "\n",
    "\n",
    "Hints:\n",
    "\n",
    "- Salary is the variable you are trying to understand \n",
    "- When interpreting you might want to use graphs that include variables that are the most correlated with Salary\n",
    "- You'll need to scale the variables before performing the clustering\n",
    "- Be specific about why you selected the players that you did, more detail is better\n",
    "- Use good coding practices, comment heavily, indent, don't use for loops unless totally necessary and create modular sections that align with some outcome. If necessary create more than one script,list/load libraries at the top and don't include libraries that aren't used. \n",
    "- Be careful for non-traditional characters in the players names, certain graphs won't work when these characters are included.\n"
   ]
  },
  {
   "cell_type": "code",
   "execution_count": 4,
   "metadata": {},
   "outputs": [],
   "source": [
    "import pandas as pd\n",
    "import numpy as np\n",
    "import plotly.express as px\n",
    "import plotly.graph_objects as go\n",
    "from sklearn.cluster import KMeans\n",
    "from sklearn.model_selection import train_test_split\n",
    "from sklearn.tree import DecisionTreeClassifier\n",
    "from sklearn.metrics import silhouette_score"
   ]
  },
  {
   "cell_type": "code",
   "execution_count": 8,
   "metadata": {},
   "outputs": [],
   "source": [
    "NBA_perf = pd.read_csv('../data/NBA_Perf_22.csv', encoding=\"latin1\")\n",
    "NBA_salary = pd.read_csv('../data/nba_salaries_22.csv', encoding=\"latin1\")"
   ]
  },
  {
   "cell_type": "code",
   "execution_count": 9,
   "metadata": {},
   "outputs": [
    {
     "data": {
      "application/vnd.microsoft.datawrangler.viewer.v0+json": {
       "columns": [
        {
         "name": "index",
         "rawType": "int64",
         "type": "integer"
        },
        {
         "name": "Player",
         "rawType": "object",
         "type": "string"
        },
        {
         "name": "Pos",
         "rawType": "object",
         "type": "string"
        },
        {
         "name": "Age",
         "rawType": "int64",
         "type": "integer"
        },
        {
         "name": "Tm",
         "rawType": "object",
         "type": "string"
        },
        {
         "name": "G",
         "rawType": "int64",
         "type": "integer"
        },
        {
         "name": "GS",
         "rawType": "int64",
         "type": "integer"
        },
        {
         "name": "MP",
         "rawType": "float64",
         "type": "float"
        },
        {
         "name": "FG",
         "rawType": "float64",
         "type": "float"
        },
        {
         "name": "FGA",
         "rawType": "float64",
         "type": "float"
        },
        {
         "name": "FG%",
         "rawType": "float64",
         "type": "float"
        },
        {
         "name": "3P",
         "rawType": "float64",
         "type": "float"
        },
        {
         "name": "3PA",
         "rawType": "float64",
         "type": "float"
        },
        {
         "name": "3P%",
         "rawType": "float64",
         "type": "float"
        },
        {
         "name": "2P",
         "rawType": "float64",
         "type": "float"
        },
        {
         "name": "2PA",
         "rawType": "float64",
         "type": "float"
        },
        {
         "name": "2P%",
         "rawType": "float64",
         "type": "float"
        },
        {
         "name": "eFG%",
         "rawType": "float64",
         "type": "float"
        },
        {
         "name": "FT",
         "rawType": "float64",
         "type": "float"
        },
        {
         "name": "FTA",
         "rawType": "float64",
         "type": "float"
        },
        {
         "name": "FT%",
         "rawType": "float64",
         "type": "float"
        },
        {
         "name": "ORB",
         "rawType": "float64",
         "type": "float"
        },
        {
         "name": "DRB",
         "rawType": "float64",
         "type": "float"
        },
        {
         "name": "TRB",
         "rawType": "float64",
         "type": "float"
        },
        {
         "name": "AST",
         "rawType": "float64",
         "type": "float"
        },
        {
         "name": "STL",
         "rawType": "float64",
         "type": "float"
        },
        {
         "name": "BLK",
         "rawType": "float64",
         "type": "float"
        },
        {
         "name": "TOV",
         "rawType": "float64",
         "type": "float"
        },
        {
         "name": "PF",
         "rawType": "float64",
         "type": "float"
        },
        {
         "name": "PTS",
         "rawType": "float64",
         "type": "float"
        },
        {
         "name": "ï»¿Player",
         "rawType": "object",
         "type": "string"
        },
        {
         "name": "Salary",
         "rawType": "float64",
         "type": "float"
        }
       ],
       "conversionMethod": "pd.DataFrame",
       "ref": "d88fc5b7-f202-4a1e-a1ec-e1ad0b30bf46",
       "rows": [
        [
         "0",
         "Precious Achiuwa",
         "C",
         "22",
         "TOR",
         "73",
         "28",
         "23.6",
         "3.6",
         "8.3",
         "0.439",
         "0.8",
         "2.1",
         "0.359",
         "2.9",
         "6.1",
         "0.468",
         "0.486",
         "1.1",
         "1.8",
         "0.595",
         "2.0",
         "4.5",
         "6.5",
         "1.1",
         "0.5",
         "0.6",
         "1.2",
         "2.1",
         "9.1",
         "Precious Achiuwa",
         "2840160.0"
        ],
        [
         "1",
         "Steven Adams",
         "C",
         "28",
         "MEM",
         "76",
         "75",
         "26.3",
         "2.8",
         "5.1",
         "0.547",
         "0.0",
         "0.0",
         "0.0",
         "2.8",
         "5.0",
         "0.548",
         "0.547",
         "1.4",
         "2.6",
         "0.543",
         "4.6",
         "5.4",
         "10.0",
         "3.4",
         "0.9",
         "0.8",
         "1.5",
         "2.0",
         "6.9",
         "Steven Adams",
         "17926829.0"
        ],
        [
         "2",
         "Bam Adebayo",
         "C",
         "24",
         "MIA",
         "56",
         "56",
         "32.6",
         "7.3",
         "13.0",
         "0.557",
         "0.0",
         "0.1",
         "0.0",
         "7.3",
         "12.9",
         "0.562",
         "0.557",
         "4.6",
         "6.1",
         "0.753",
         "2.4",
         "7.6",
         "10.1",
         "3.4",
         "1.4",
         "0.8",
         "2.6",
         "3.1",
         "19.1",
         "Bam Adebayo",
         "30351780.0"
        ],
        [
         "3",
         "Santi Aldama",
         "PF",
         "21",
         "MEM",
         "32",
         "0",
         "11.3",
         "1.7",
         "4.1",
         "0.402",
         "0.2",
         "1.5",
         "0.125",
         "1.5",
         "2.6",
         "0.56",
         "0.424",
         "0.6",
         "1.0",
         "0.625",
         "1.0",
         "1.7",
         "2.7",
         "0.7",
         "0.2",
         "0.3",
         "0.5",
         "1.1",
         "4.1",
         "Santi Aldama",
         "2094120.0"
        ],
        [
         "4",
         "Nickeil Alexander-Walker",
         "SG",
         "23",
         "TOT",
         "65",
         "21",
         "22.6",
         "3.9",
         "10.5",
         "0.372",
         "1.6",
         "5.2",
         "0.311",
         "2.3",
         "5.3",
         "0.433",
         "0.449",
         "1.2",
         "1.7",
         "0.743",
         "0.6",
         "2.3",
         "2.9",
         "2.4",
         "0.7",
         "0.4",
         "1.4",
         "1.6",
         "10.6",
         "Nickeil Alexander-Walker",
         "5009633.0"
        ]
       ],
       "shape": {
        "columns": 31,
        "rows": 5
       }
      },
      "text/html": [
       "<div>\n",
       "<style scoped>\n",
       "    .dataframe tbody tr th:only-of-type {\n",
       "        vertical-align: middle;\n",
       "    }\n",
       "\n",
       "    .dataframe tbody tr th {\n",
       "        vertical-align: top;\n",
       "    }\n",
       "\n",
       "    .dataframe thead th {\n",
       "        text-align: right;\n",
       "    }\n",
       "</style>\n",
       "<table border=\"1\" class=\"dataframe\">\n",
       "  <thead>\n",
       "    <tr style=\"text-align: right;\">\n",
       "      <th></th>\n",
       "      <th>Player</th>\n",
       "      <th>Pos</th>\n",
       "      <th>Age</th>\n",
       "      <th>Tm</th>\n",
       "      <th>G</th>\n",
       "      <th>GS</th>\n",
       "      <th>MP</th>\n",
       "      <th>FG</th>\n",
       "      <th>FGA</th>\n",
       "      <th>FG%</th>\n",
       "      <th>...</th>\n",
       "      <th>DRB</th>\n",
       "      <th>TRB</th>\n",
       "      <th>AST</th>\n",
       "      <th>STL</th>\n",
       "      <th>BLK</th>\n",
       "      <th>TOV</th>\n",
       "      <th>PF</th>\n",
       "      <th>PTS</th>\n",
       "      <th>ï»¿Player</th>\n",
       "      <th>Salary</th>\n",
       "    </tr>\n",
       "  </thead>\n",
       "  <tbody>\n",
       "    <tr>\n",
       "      <th>0</th>\n",
       "      <td>Precious Achiuwa</td>\n",
       "      <td>C</td>\n",
       "      <td>22</td>\n",
       "      <td>TOR</td>\n",
       "      <td>73</td>\n",
       "      <td>28</td>\n",
       "      <td>23.6</td>\n",
       "      <td>3.6</td>\n",
       "      <td>8.3</td>\n",
       "      <td>0.439</td>\n",
       "      <td>...</td>\n",
       "      <td>4.5</td>\n",
       "      <td>6.5</td>\n",
       "      <td>1.1</td>\n",
       "      <td>0.5</td>\n",
       "      <td>0.6</td>\n",
       "      <td>1.2</td>\n",
       "      <td>2.1</td>\n",
       "      <td>9.1</td>\n",
       "      <td>Precious Achiuwa</td>\n",
       "      <td>2840160.0</td>\n",
       "    </tr>\n",
       "    <tr>\n",
       "      <th>1</th>\n",
       "      <td>Steven Adams</td>\n",
       "      <td>C</td>\n",
       "      <td>28</td>\n",
       "      <td>MEM</td>\n",
       "      <td>76</td>\n",
       "      <td>75</td>\n",
       "      <td>26.3</td>\n",
       "      <td>2.8</td>\n",
       "      <td>5.1</td>\n",
       "      <td>0.547</td>\n",
       "      <td>...</td>\n",
       "      <td>5.4</td>\n",
       "      <td>10.0</td>\n",
       "      <td>3.4</td>\n",
       "      <td>0.9</td>\n",
       "      <td>0.8</td>\n",
       "      <td>1.5</td>\n",
       "      <td>2.0</td>\n",
       "      <td>6.9</td>\n",
       "      <td>Steven Adams</td>\n",
       "      <td>17926829.0</td>\n",
       "    </tr>\n",
       "    <tr>\n",
       "      <th>2</th>\n",
       "      <td>Bam Adebayo</td>\n",
       "      <td>C</td>\n",
       "      <td>24</td>\n",
       "      <td>MIA</td>\n",
       "      <td>56</td>\n",
       "      <td>56</td>\n",
       "      <td>32.6</td>\n",
       "      <td>7.3</td>\n",
       "      <td>13.0</td>\n",
       "      <td>0.557</td>\n",
       "      <td>...</td>\n",
       "      <td>7.6</td>\n",
       "      <td>10.1</td>\n",
       "      <td>3.4</td>\n",
       "      <td>1.4</td>\n",
       "      <td>0.8</td>\n",
       "      <td>2.6</td>\n",
       "      <td>3.1</td>\n",
       "      <td>19.1</td>\n",
       "      <td>Bam Adebayo</td>\n",
       "      <td>30351780.0</td>\n",
       "    </tr>\n",
       "    <tr>\n",
       "      <th>3</th>\n",
       "      <td>Santi Aldama</td>\n",
       "      <td>PF</td>\n",
       "      <td>21</td>\n",
       "      <td>MEM</td>\n",
       "      <td>32</td>\n",
       "      <td>0</td>\n",
       "      <td>11.3</td>\n",
       "      <td>1.7</td>\n",
       "      <td>4.1</td>\n",
       "      <td>0.402</td>\n",
       "      <td>...</td>\n",
       "      <td>1.7</td>\n",
       "      <td>2.7</td>\n",
       "      <td>0.7</td>\n",
       "      <td>0.2</td>\n",
       "      <td>0.3</td>\n",
       "      <td>0.5</td>\n",
       "      <td>1.1</td>\n",
       "      <td>4.1</td>\n",
       "      <td>Santi Aldama</td>\n",
       "      <td>2094120.0</td>\n",
       "    </tr>\n",
       "    <tr>\n",
       "      <th>4</th>\n",
       "      <td>Nickeil Alexander-Walker</td>\n",
       "      <td>SG</td>\n",
       "      <td>23</td>\n",
       "      <td>TOT</td>\n",
       "      <td>65</td>\n",
       "      <td>21</td>\n",
       "      <td>22.6</td>\n",
       "      <td>3.9</td>\n",
       "      <td>10.5</td>\n",
       "      <td>0.372</td>\n",
       "      <td>...</td>\n",
       "      <td>2.3</td>\n",
       "      <td>2.9</td>\n",
       "      <td>2.4</td>\n",
       "      <td>0.7</td>\n",
       "      <td>0.4</td>\n",
       "      <td>1.4</td>\n",
       "      <td>1.6</td>\n",
       "      <td>10.6</td>\n",
       "      <td>Nickeil Alexander-Walker</td>\n",
       "      <td>5009633.0</td>\n",
       "    </tr>\n",
       "  </tbody>\n",
       "</table>\n",
       "<p>5 rows × 31 columns</p>\n",
       "</div>"
      ],
      "text/plain": [
       "                     Player Pos  Age   Tm   G  GS    MP   FG   FGA    FG%  \\\n",
       "0          Precious Achiuwa   C   22  TOR  73  28  23.6  3.6   8.3  0.439   \n",
       "1              Steven Adams   C   28  MEM  76  75  26.3  2.8   5.1  0.547   \n",
       "2               Bam Adebayo   C   24  MIA  56  56  32.6  7.3  13.0  0.557   \n",
       "3              Santi Aldama  PF   21  MEM  32   0  11.3  1.7   4.1  0.402   \n",
       "4  Nickeil Alexander-Walker  SG   23  TOT  65  21  22.6  3.9  10.5  0.372   \n",
       "\n",
       "   ...  DRB   TRB  AST  STL  BLK  TOV   PF   PTS                 ï»¿Player  \\\n",
       "0  ...  4.5   6.5  1.1  0.5  0.6  1.2  2.1   9.1          Precious Achiuwa   \n",
       "1  ...  5.4  10.0  3.4  0.9  0.8  1.5  2.0   6.9              Steven Adams   \n",
       "2  ...  7.6  10.1  3.4  1.4  0.8  2.6  3.1  19.1               Bam Adebayo   \n",
       "3  ...  1.7   2.7  0.7  0.2  0.3  0.5  1.1   4.1              Santi Aldama   \n",
       "4  ...  2.3   2.9  2.4  0.7  0.4  1.4  1.6  10.6  Nickeil Alexander-Walker   \n",
       "\n",
       "       Salary  \n",
       "0   2840160.0  \n",
       "1  17926829.0  \n",
       "2  30351780.0  \n",
       "3   2094120.0  \n",
       "4   5009633.0  \n",
       "\n",
       "[5 rows x 31 columns]"
      ]
     },
     "execution_count": 9,
     "metadata": {},
     "output_type": "execute_result"
    }
   ],
   "source": [
    "# Merging the two datasets\n",
    "NBA = pd.merge(NBA_perf, NBA_salary, how='inner', left_on='Player', right_on='ï»¿Player')\n",
    "NBA['Salary'] = NBA['Salary'].str.replace('$', '').str.replace(',', '').astype(float)\n",
    "NBA.head()"
   ]
  },
  {
   "cell_type": "code",
   "execution_count": 10,
   "metadata": {},
   "outputs": [],
   "source": [
    "#Drop variables that will not be needed or are duplicates\n",
    "def drop_columns(df):\n",
    "     # Dropping all repetitive columns\n",
    "     df = df.drop(columns=['GS', 'FGA', 'FG%', '3PA', '3P%', '2PA', '2P%', 'FTA', 'FT%', 'ORB', 'DRB'])  \n",
    "     df = df.dropna()\n",
    "\n",
    "     # Dropping duplicates\n",
    "     df = df.drop_duplicates(subset = ['Player'], keep = 'last')\n",
    "     return df\n",
    "\n",
    "NBA = drop_columns(NBA)"
   ]
  },
  {
   "cell_type": "code",
   "execution_count": 21,
   "metadata": {},
   "outputs": [],
   "source": [
    "#Run the clustering algo with your best guess for K\n",
    "clust_data1 = NBA[[\"FG\", \"AST\", \"TRB\"]]\n",
    "kmeans_obj1 = KMeans(n_clusters=2, random_state=1).fit(clust_data1)"
   ]
  },
  {
   "cell_type": "code",
   "execution_count": 22,
   "metadata": {},
   "outputs": [
    {
     "name": "stdout",
     "output_type": "stream",
     "text": [
      "Results:\n",
      "[[6.55321101 4.23211009 6.49357798]\n",
      " [2.78718861 1.57188612 3.20640569]]\n",
      "[1 0 0 1 1 1 0 1 1 0 1 0 0 1 1 1 0 1 0 0 0 0 0 1 0 0 0 0 1 1 1 1 0 1 1 0 1\n",
      " 1 1 1 1 1 0 1 1 1 1 1 1 0 0 1 1 0 1 1 0 1 1 1 1 0 1 1 0 1 1 0 1 1 1 1 1 1\n",
      " 1 1 0 1 0 1 1 1 1 0 1 0 0 1 1 0 1 1 1 1 1 1 0 1 0 0 1 0 0 1 1 1 1 1 1 1 0\n",
      " 1 1 1 1 0 1 1 0 1 0 0 1 0 0 1 1 0 1 0 1 1 1 1 1 1 1 1 0 1 1 0 1 1 1 1 0 0\n",
      " 1 1 1 1 1 0 0 0 1 1 1 0 1 0 0 1 1 1 1 1 1 1 1 0 0 1 0 1 0 0 1 1 1 1 1 0 1\n",
      " 1 1 1 1 1 1 1 1 1 1 1 1 1 1 1 1 1 1 1 1 0 1 1 0 1 1 1 0 1 0 1 1 1 1 1 1 0\n",
      " 0 1 1 1 0 1 1 1 1 1 1 0 1 1 0 1 1 1 1 1 1 1 1 1 1 0 1 1 1 0 0 1 1 0 1 1 1\n",
      " 1 1 0 1 1 1 1 1 1 1 1 1 1 1 1 1 1 1 1 1 1 1 1 1 1 1 0 1 1 1 0 0 1 0 0 0 1\n",
      " 0 1 1 1 1 1 1 1 0 1 1 1 1 1 1 1 1 1 0 1 1 1 1 0 0 0 1 0 1 1 1 0 1 0 1 0 1\n",
      " 1 0 1 1 1 0 1 1 0 0 1 1 1 1 1 0 1 1 1 1 1 1 0 1 1 0 0 0 1 1 1 0 1 1 1 1 1\n",
      " 1 0 1 1 1 0 1 1 1 0 1 1 1 0 0 1 1 0 1 0]\n",
      "2911.0647445231634\n"
     ]
    }
   ],
   "source": [
    "#View the results\n",
    "print(\"Results:\")\n",
    "print(kmeans_obj1.cluster_centers_)\n",
    "print(kmeans_obj1.labels_)\n",
    "print(kmeans_obj1.inertia_)"
   ]
  },
  {
   "cell_type": "code",
   "execution_count": 23,
   "metadata": {},
   "outputs": [
    {
     "data": {
      "application/vnd.plotly.v1+json": {
       "config": {
        "plotlyServerURL": "https://plot.ly"
       },
       "data": [
        {
         "hovertemplate": "Field Goals=%{x}<br>Assists=%{y}<br>Total Rebounds=%{z}<br>color=%{marker.color}<extra></extra>",
         "legendgroup": "",
         "marker": {
          "color": [
           1,
           0,
           0,
           1,
           1,
           1,
           0,
           1,
           1,
           0,
           1,
           0,
           0,
           1,
           1,
           1,
           0,
           1,
           0,
           0,
           0,
           0,
           0,
           1,
           0,
           0,
           0,
           0,
           1,
           1,
           1,
           1,
           0,
           1,
           1,
           0,
           1,
           1,
           1,
           1,
           1,
           1,
           0,
           1,
           1,
           1,
           1,
           1,
           1,
           0,
           0,
           1,
           1,
           0,
           1,
           1,
           0,
           1,
           1,
           1,
           1,
           0,
           1,
           1,
           0,
           1,
           1,
           0,
           1,
           1,
           1,
           1,
           1,
           1,
           1,
           1,
           0,
           1,
           0,
           1,
           1,
           1,
           1,
           0,
           1,
           0,
           0,
           1,
           1,
           0,
           1,
           1,
           1,
           1,
           1,
           1,
           0,
           1,
           0,
           0,
           1,
           0,
           0,
           1,
           1,
           1,
           1,
           1,
           1,
           1,
           0,
           1,
           1,
           1,
           1,
           0,
           1,
           1,
           0,
           1,
           0,
           0,
           1,
           0,
           0,
           1,
           1,
           0,
           1,
           0,
           1,
           1,
           1,
           1,
           1,
           1,
           1,
           1,
           0,
           1,
           1,
           0,
           1,
           1,
           1,
           1,
           0,
           0,
           1,
           1,
           1,
           1,
           1,
           0,
           0,
           0,
           1,
           1,
           1,
           0,
           1,
           0,
           0,
           1,
           1,
           1,
           1,
           1,
           1,
           1,
           1,
           0,
           0,
           1,
           0,
           1,
           0,
           0,
           1,
           1,
           1,
           1,
           1,
           0,
           1,
           1,
           1,
           1,
           1,
           1,
           1,
           1,
           1,
           1,
           1,
           1,
           1,
           1,
           1,
           1,
           1,
           1,
           1,
           1,
           1,
           0,
           1,
           1,
           0,
           1,
           1,
           1,
           0,
           1,
           0,
           1,
           1,
           1,
           1,
           1,
           1,
           0,
           0,
           1,
           1,
           1,
           0,
           1,
           1,
           1,
           1,
           1,
           1,
           0,
           1,
           1,
           0,
           1,
           1,
           1,
           1,
           1,
           1,
           1,
           1,
           1,
           1,
           0,
           1,
           1,
           1,
           0,
           0,
           1,
           1,
           0,
           1,
           1,
           1,
           1,
           1,
           0,
           1,
           1,
           1,
           1,
           1,
           1,
           1,
           1,
           1,
           1,
           1,
           1,
           1,
           1,
           1,
           1,
           1,
           1,
           1,
           1,
           1,
           1,
           1,
           0,
           1,
           1,
           1,
           0,
           0,
           1,
           0,
           0,
           0,
           1,
           0,
           1,
           1,
           1,
           1,
           1,
           1,
           1,
           0,
           1,
           1,
           1,
           1,
           1,
           1,
           1,
           1,
           1,
           0,
           1,
           1,
           1,
           1,
           0,
           0,
           0,
           1,
           0,
           1,
           1,
           1,
           0,
           1,
           0,
           1,
           0,
           1,
           1,
           0,
           1,
           1,
           1,
           0,
           1,
           1,
           0,
           0,
           1,
           1,
           1,
           1,
           1,
           0,
           1,
           1,
           1,
           1,
           1,
           1,
           0,
           1,
           1,
           0,
           0,
           0,
           1,
           1,
           1,
           0,
           1,
           1,
           1,
           1,
           1,
           1,
           0,
           1,
           1,
           1,
           0,
           1,
           1,
           1,
           0,
           1,
           1,
           1,
           0,
           0,
           1,
           1,
           0,
           1,
           0
          ],
          "coloraxis": "coloraxis",
          "opacity": 0.8,
          "size": 5,
          "symbol": "circle"
         },
         "mode": "markers",
         "name": "",
         "scene": "scene",
         "showlegend": false,
         "type": "scatter3d",
         "x": [
          3.6,
          2.8,
          7.3,
          1.7,
          1.1,
          3.9,
          6.6,
          2.4,
          3,
          10.3,
          1.5,
          5.5,
          6.4,
          0.6,
          1.9,
          3,
          7.6,
          2.2,
          6.2,
          7.2,
          4.6,
          4.2,
          6.7,
          1.3,
          5.1,
          6.2,
          7,
          5.5,
          1.3,
          2.3,
          3,
          4,
          8.7,
          4.2,
          3.1,
          5.5,
          1.8,
          2.6,
          2.4,
          3.6,
          1.1,
          0.5,
          9.7,
          2.5,
          3.4,
          1.6,
          1.3,
          5.6,
          3.1,
          6.8,
          7.1,
          3.6,
          1.7,
          8.7,
          1.2,
          1.6,
          6.4,
          2.9,
          3,
          3.5,
          1.5,
          7,
          4.7,
          1.6,
          5,
          1.3,
          2,
          5.8,
          2.5,
          0.9,
          1.8,
          3,
          4.5,
          5.9,
          3.8,
          3.1,
          6.3,
          2.7,
          4.8,
          3.5,
          3.5,
          2.7,
          3.2,
          6.7,
          5.5,
          8.4,
          9.3,
          3.8,
          2.4,
          10.2,
          4.5,
          1.2,
          5.3,
          3.2,
          5.7,
          3.6,
          5,
          4.9,
          10.5,
          7.6,
          2.3,
          9.8,
          6.2,
          2.4,
          2.9,
          4.1,
          0.8,
          1.6,
          2.9,
          5,
          8.7,
          4.6,
          2.6,
          4,
          3.9,
          8,
          0.8,
          2.9,
          8.6,
          1.7,
          5.2,
          8.5,
          1.4,
          5.5,
          5.8,
          4.7,
          3.9,
          6.3,
          2,
          2.9,
          6.1,
          2.4,
          2.7,
          3.7,
          1.9,
          2.4,
          2.1,
          4.5,
          6.2,
          2.7,
          5,
          5.5,
          1.8,
          4.4,
          3.9,
          4,
          6.8,
          7.1,
          3.4,
          1.1,
          0.9,
          3.5,
          2.7,
          5.8,
          7.6,
          7,
          0.8,
          2.2,
          2.3,
          7.1,
          2.8,
          4.4,
          3.9,
          3.7,
          2.2,
          4.7,
          4.8,
          3.3,
          2.8,
          1.5,
          2.6,
          8.2,
          10,
          3.2,
          5.5,
          0.8,
          6.4,
          11.4,
          2.6,
          1.1,
          4.2,
          1,
          2.3,
          6.3,
          3.6,
          2.4,
          3.1,
          2.1,
          3.5,
          0.4,
          2.4,
          3.4,
          2,
          2.7,
          4,
          4.1,
          3,
          2.4,
          1.2,
          0.9,
          1.9,
          2.7,
          1,
          2.3,
          3.4,
          6.4,
          1.9,
          1,
          8.4,
          2.7,
          1.9,
          2.4,
          5.3,
          2.5,
          7.7,
          3.5,
          2.2,
          2.5,
          4.7,
          3.1,
          1.7,
          4.4,
          4.4,
          3.6,
          4.1,
          3.9,
          5.1,
          2,
          3.5,
          2.9,
          3.5,
          2.8,
          1.8,
          6.4,
          0.8,
          2,
          9.5,
          3.7,
          3.6,
          2.2,
          4.2,
          3.9,
          1.9,
          1.4,
          3.8,
          1.3,
          3.4,
          6.8,
          4,
          3.1,
          4.7,
          9.2,
          6.1,
          5.1,
          1.5,
          10.2,
          2,
          5.6,
          3.2,
          5,
          1.8,
          8.4,
          2.6,
          1.6,
          3,
          1.4,
          2.9,
          3.2,
          1.1,
          2.3,
          1.3,
          3.2,
          1.5,
          1.8,
          3,
          2.6,
          3.1,
          0.9,
          3.3,
          3.1,
          1.4,
          4.4,
          3.2,
          3.7,
          5.4,
          5.6,
          4.1,
          3,
          0.7,
          2.8,
          6,
          3,
          6.2,
          5.5,
          4.1,
          3.1,
          5.8,
          3.3,
          6.4,
          2,
          2.6,
          2.3,
          1.5,
          3.6,
          7.1,
          2.4,
          1.8,
          1.7,
          1.4,
          3,
          1.2,
          3.9,
          2.2,
          3.7,
          3.6,
          2.7,
          3.7,
          4.7,
          3.5,
          7.1,
          4.4,
          6.2,
          1,
          7.5,
          6.2,
          2.8,
          2.7,
          8.8,
          0.4,
          6.2,
          1,
          4.2,
          2.1,
          4,
          5.1,
          0.5,
          0.3,
          2.5,
          3.5,
          3.7,
          4.1,
          4.7,
          9.3,
          4.1,
          1.9,
          0.5,
          3.2,
          3.3,
          7.7,
          0.7,
          2.3,
          1.8,
          0.6,
          3.5,
          1.6,
          8.7,
          6.4,
          2.9,
          4.8,
          2.9,
          6.8,
          4.6,
          3.1,
          1.9,
          5.8,
          3.1,
          4,
          4.4,
          3.8,
          1.5,
          3,
          7,
          4.6,
          3.6,
          3.1,
          6.5,
          2.7,
          3,
          3.2,
          4.4,
          3.1,
          2.8,
          0.7,
          4.3,
          6.5,
          1.6,
          2.6,
          9.4,
          2.3,
          4.1
         ],
         "y": [
          1.1,
          3.4,
          3.4,
          0.7,
          1.1,
          1.5,
          1.6,
          2.8,
          2.7,
          5.8,
          0.5,
          5.7,
          2.6,
          0.4,
          1.6,
          2,
          1.4,
          0,
          1.1,
          7.6,
          5.1,
          1.2,
          2.7,
          1.5,
          2.4,
          3.5,
          3,
          3.9,
          0.3,
          0.7,
          1.7,
          1.4,
          6.6,
          1.5,
          4.6,
          2.8,
          1,
          1.1,
          0.6,
          4.2,
          0.4,
          0.6,
          4.8,
          1,
          0.3,
          0.8,
          0.5,
          2.3,
          1.1,
          5.9,
          2.8,
          2.1,
          0.7,
          3.5,
          0.7,
          1,
          4.8,
          0.9,
          1.2,
          3,
          1.5,
          5.5,
          1.9,
          3.4,
          1.2,
          0,
          2.5,
          2.8,
          4,
          0.3,
          0.5,
          2,
          1.3,
          2.5,
          0.9,
          1.8,
          1.8,
          2.2,
          5.3,
          1.3,
          1,
          1.2,
          1.9,
          5.6,
          2.6,
          6.3,
          3.1,
          1.3,
          0.7,
          4.9,
          1.3,
          0.8,
          3.9,
          3.6,
          1.7,
          3.3,
          1.4,
          2.1,
          6.4,
          3.8,
          0.6,
          4.2,
          1.6,
          0.6,
          0.3,
          1.9,
          0.6,
          1.6,
          1,
          2.1,
          5.6,
          5.5,
          0.6,
          0.9,
          1.5,
          8.6,
          0.7,
          1,
          5.7,
          0.6,
          6.4,
          5.9,
          0.6,
          1.1,
          2.5,
          2.7,
          4.2,
          2.4,
          1,
          7,
          2.6,
          0.9,
          0.9,
          1.3,
          1.2,
          1.9,
          1,
          1.1,
          9.6,
          2.5,
          2.2,
          10.5,
          0.5,
          2,
          1.8,
          1,
          3.5,
          4.3,
          2.4,
          0.3,
          0.4,
          0.6,
          4.2,
          3.6,
          4,
          4.8,
          0.3,
          2.2,
          3.4,
          6.8,
          1.5,
          1.1,
          3.4,
          2.7,
          1,
          2.7,
          1.3,
          2.8,
          0.7,
          3.7,
          3.5,
          5.6,
          5.8,
          0.3,
          1.1,
          0.3,
          4.8,
          6.2,
          2.3,
          0.6,
          1.5,
          0.1,
          2.1,
          2.1,
          2.9,
          1.7,
          1.2,
          0.6,
          2.1,
          0.2,
          3.4,
          4.4,
          0.5,
          3.6,
          1.4,
          2.1,
          1.1,
          1.2,
          0.6,
          0.4,
          1.5,
          1.9,
          0.7,
          1.9,
          0.9,
          3.5,
          0.8,
          0.5,
          4.5,
          1,
          2.9,
          1.2,
          3.9,
          2,
          7.3,
          1.3,
          1.1,
          2,
          0.5,
          1.5,
          0.6,
          2.2,
          7.5,
          1.3,
          2.6,
          1.5,
          1.3,
          1.1,
          1.1,
          2.5,
          1.3,
          1,
          0.7,
          4.3,
          1,
          1,
          5.8,
          4.9,
          1.1,
          1.1,
          1.3,
          0.6,
          0.9,
          2.9,
          2.7,
          0.7,
          1,
          5.4,
          2.3,
          2.5,
          4.2,
          5.3,
          2.5,
          2.9,
          0.4,
          6.7,
          1,
          2.1,
          1.4,
          4.4,
          0.6,
          9.2,
          0.5,
          0.8,
          0.9,
          0.4,
          3.1,
          1.3,
          1.7,
          0.4,
          0.9,
          2.1,
          1.2,
          0.8,
          1,
          2.5,
          1.7,
          0.5,
          1.1,
          1.8,
          0.7,
          3.5,
          2.8,
          2,
          1.1,
          10.8,
          4.9,
          0.9,
          0.9,
          3.1,
          2.8,
          2.1,
          4,
          6.2,
          1.9,
          1.5,
          1.2,
          1.2,
          2.8,
          1.6,
          1,
          2,
          0.4,
          3.5,
          5.1,
          1.8,
          0.7,
          1.1,
          0.4,
          0.9,
          0.3,
          2.3,
          1.3,
          1.6,
          0.5,
          1,
          1.6,
          4,
          1.8,
          4.5,
          6.6,
          7.1,
          0,
          5.8,
          2.1,
          1.6,
          0.5,
          5.3,
          0,
          3.9,
          0.5,
          5.9,
          3.6,
          5.2,
          0.8,
          0,
          0.2,
          0.7,
          1.2,
          1.4,
          4.4,
          2.8,
          4.4,
          1.2,
          1.3,
          0,
          1,
          1.2,
          2.8,
          0.6,
          1.1,
          1.2,
          0.3,
          1.1,
          1.7,
          3.6,
          2,
          2.1,
          1,
          1.3,
          6.7,
          1.9,
          3.1,
          1,
          2.9,
          1.4,
          3.5,
          2.2,
          2.3,
          0.6,
          1.7,
          7.1,
          2.9,
          3.5,
          1.4,
          2.2,
          1,
          2.2,
          0.9,
          2,
          1,
          1.3,
          0.7,
          2.9,
          2.3,
          2.4,
          1.7,
          9.7,
          0.9,
          1.6
         ],
         "z": [
          6.5,
          10,
          10.1,
          2.7,
          1.5,
          3.4,
          10.8,
          1.9,
          5.3,
          11.6,
          2.1,
          5.4,
          5.5,
          0.8,
          1.3,
          5.2,
          10.2,
          4.2,
          6.8,
          6.7,
          5.4,
          8.1,
          4.4,
          1.9,
          5.6,
          7.5,
          5.8,
          4.8,
          2.7,
          3.9,
          4.3,
          6.3,
          4.7,
          2.9,
          4.1,
          5.4,
          4.3,
          3.5,
          4.6,
          3.4,
          1.4,
          1.2,
          5,
          2.2,
          6.2,
          1.7,
          3.4,
          4.2,
          5.3,
          5.1,
          3.2,
          4.8,
          2.8,
          6.1,
          3,
          3.1,
          3.9,
          4,
          3.5,
          4.9,
          1.1,
          5.9,
          3.4,
          1.8,
          11.9,
          2.3,
          2.2,
          10.5,
          3.6,
          2,
          3,
          2.5,
          5.3,
          3.5,
          5.6,
          2.9,
          7.8,
          5.5,
          3,
          4.2,
          5.1,
          4.3,
          5.3,
          5.5,
          2.6,
          5.2,
          9.9,
          3.1,
          5.8,
          5.2,
          4.8,
          2.8,
          3.1,
          4.4,
          4.2,
          2.8,
          10.3,
          4.1,
          7.4,
          4.8,
          3.6,
          11.7,
          8.5,
          4.7,
          4,
          4.7,
          0.9,
          1.4,
          0.9,
          2.6,
          3.9,
          2.7,
          4.3,
          5.7,
          4.7,
          3.3,
          3.5,
          4.4,
          6.9,
          4.4,
          7.8,
          5,
          1.9,
          14.7,
          5.9,
          2,
          2.3,
          4.1,
          2.5,
          7.3,
          3.4,
          4.2,
          4.2,
          3.1,
          2.4,
          4.1,
          2,
          3.8,
          4.3,
          3,
          3.7,
          7.1,
          2.4,
          4.9,
          2,
          4,
          6.8,
          5.4,
          4.9,
          1.9,
          1.1,
          4.5,
          3.2,
          4.6,
          5,
          5.1,
          1.4,
          2.9,
          2.5,
          4.5,
          2.2,
          7,
          7.7,
          3.2,
          2.7,
          3.4,
          3.3,
          2.7,
          5.3,
          3.2,
          2.9,
          5.8,
          4.4,
          4.1,
          5.8,
          1.2,
          3.6,
          8.2,
          1.6,
          1,
          4.1,
          1.2,
          3.5,
          6.1,
          2.7,
          3.2,
          4.4,
          3.3,
          3.8,
          0.5,
          2.2,
          2.4,
          5.8,
          2.7,
          4.6,
          3.3,
          2.7,
          5.9,
          2.3,
          1.3,
          4.6,
          2.6,
          2.1,
          3.4,
          3.3,
          8.5,
          2.6,
          1,
          4.6,
          3.2,
          2.4,
          4.1,
          3.4,
          1.6,
          4.1,
          5.6,
          3,
          7.3,
          4.1,
          3.5,
          2.1,
          7.2,
          4.5,
          5.6,
          5.2,
          2.9,
          5.7,
          2.6,
          3.8,
          4,
          3.8,
          2.9,
          1.9,
          3.2,
          1.1,
          3,
          4.5,
          3.3,
          4.2,
          3.1,
          2.3,
          6.7,
          2.2,
          1.5,
          4.5,
          1.2,
          5.6,
          5.4,
          1.9,
          2.6,
          2.2,
          4.2,
          8.3,
          3.4,
          1.5,
          5.7,
          4,
          4.4,
          2.6,
          3,
          2.4,
          8.3,
          3,
          1.6,
          4.3,
          1.7,
          1.9,
          2.7,
          1.4,
          3.6,
          5.6,
          2,
          1.4,
          3.3,
          3.6,
          4.8,
          5,
          1.4,
          5.9,
          3,
          2,
          2.9,
          4.4,
          2.2,
          4,
          4.4,
          3,
          3.5,
          1.1,
          7.7,
          9.3,
          5.2,
          3.4,
          4.4,
          6.6,
          5.7,
          9.1,
          4.9,
          2.8,
          2.3,
          2.5,
          1.9,
          1.6,
          3.2,
          9.9,
          3.2,
          1.4,
          2.3,
          2.4,
          3.9,
          1.7,
          2.9,
          1.7,
          2.6,
          8.6,
          5.6,
          4.8,
          3,
          2.6,
          4.3,
          4.1,
          3.3,
          0,
          12.3,
          3.3,
          1.8,
          5,
          8.5,
          1.1,
          2.6,
          4.1,
          3.8,
          2.4,
          3,
          7.6,
          1,
          0,
          2.6,
          8.7,
          3,
          3.6,
          5.4,
          8,
          5.2,
          2.4,
          0,
          4.7,
          2.4,
          3.9,
          1.3,
          2.3,
          3,
          1,
          3.7,
          2.4,
          9.8,
          2.7,
          5.5,
          7.1,
          8.4,
          4.4,
          4.3,
          1.9,
          2.9,
          4.5,
          3.7,
          3,
          2.6,
          5.2,
          2.4,
          4.1,
          7.4,
          3,
          3.4,
          3.6,
          4.5,
          3.6,
          4.5,
          4.1,
          9.6,
          2.1,
          4,
          1.8,
          6.3,
          10.1,
          2.9,
          4.4,
          3.7,
          5.3,
          8.5
         ]
        }
       ],
       "layout": {
        "coloraxis": {
         "colorbar": {
          "title": {
           "text": "color"
          }
         },
         "colorscale": [
          [
           0,
           "#440154"
          ],
          [
           0.1111111111111111,
           "#482878"
          ],
          [
           0.2222222222222222,
           "#3e4989"
          ],
          [
           0.3333333333333333,
           "#31688e"
          ],
          [
           0.4444444444444444,
           "#26828e"
          ],
          [
           0.5555555555555556,
           "#1f9e89"
          ],
          [
           0.6666666666666666,
           "#35b779"
          ],
          [
           0.7777777777777778,
           "#6ece58"
          ],
          [
           0.8888888888888888,
           "#b5de2b"
          ],
          [
           1,
           "#fde725"
          ]
         ]
        },
        "legend": {
         "tracegroupgap": 0
        },
        "scene": {
         "domain": {
          "x": [
           0,
           1
          ],
          "y": [
           0,
           1
          ]
         },
         "xaxis": {
          "title": {
           "text": "Field Goals"
          }
         },
         "yaxis": {
          "title": {
           "text": "Assists"
          }
         },
         "zaxis": {
          "title": {
           "text": "Total Rebounds"
          }
         }
        },
        "template": {
         "data": {
          "bar": [
           {
            "error_x": {
             "color": "#2a3f5f"
            },
            "error_y": {
             "color": "#2a3f5f"
            },
            "marker": {
             "line": {
              "color": "#E5ECF6",
              "width": 0.5
             },
             "pattern": {
              "fillmode": "overlay",
              "size": 10,
              "solidity": 0.2
             }
            },
            "type": "bar"
           }
          ],
          "barpolar": [
           {
            "marker": {
             "line": {
              "color": "#E5ECF6",
              "width": 0.5
             },
             "pattern": {
              "fillmode": "overlay",
              "size": 10,
              "solidity": 0.2
             }
            },
            "type": "barpolar"
           }
          ],
          "carpet": [
           {
            "aaxis": {
             "endlinecolor": "#2a3f5f",
             "gridcolor": "white",
             "linecolor": "white",
             "minorgridcolor": "white",
             "startlinecolor": "#2a3f5f"
            },
            "baxis": {
             "endlinecolor": "#2a3f5f",
             "gridcolor": "white",
             "linecolor": "white",
             "minorgridcolor": "white",
             "startlinecolor": "#2a3f5f"
            },
            "type": "carpet"
           }
          ],
          "choropleth": [
           {
            "colorbar": {
             "outlinewidth": 0,
             "ticks": ""
            },
            "type": "choropleth"
           }
          ],
          "contour": [
           {
            "colorbar": {
             "outlinewidth": 0,
             "ticks": ""
            },
            "colorscale": [
             [
              0,
              "#0d0887"
             ],
             [
              0.1111111111111111,
              "#46039f"
             ],
             [
              0.2222222222222222,
              "#7201a8"
             ],
             [
              0.3333333333333333,
              "#9c179e"
             ],
             [
              0.4444444444444444,
              "#bd3786"
             ],
             [
              0.5555555555555556,
              "#d8576b"
             ],
             [
              0.6666666666666666,
              "#ed7953"
             ],
             [
              0.7777777777777778,
              "#fb9f3a"
             ],
             [
              0.8888888888888888,
              "#fdca26"
             ],
             [
              1,
              "#f0f921"
             ]
            ],
            "type": "contour"
           }
          ],
          "contourcarpet": [
           {
            "colorbar": {
             "outlinewidth": 0,
             "ticks": ""
            },
            "type": "contourcarpet"
           }
          ],
          "heatmap": [
           {
            "colorbar": {
             "outlinewidth": 0,
             "ticks": ""
            },
            "colorscale": [
             [
              0,
              "#0d0887"
             ],
             [
              0.1111111111111111,
              "#46039f"
             ],
             [
              0.2222222222222222,
              "#7201a8"
             ],
             [
              0.3333333333333333,
              "#9c179e"
             ],
             [
              0.4444444444444444,
              "#bd3786"
             ],
             [
              0.5555555555555556,
              "#d8576b"
             ],
             [
              0.6666666666666666,
              "#ed7953"
             ],
             [
              0.7777777777777778,
              "#fb9f3a"
             ],
             [
              0.8888888888888888,
              "#fdca26"
             ],
             [
              1,
              "#f0f921"
             ]
            ],
            "type": "heatmap"
           }
          ],
          "heatmapgl": [
           {
            "colorbar": {
             "outlinewidth": 0,
             "ticks": ""
            },
            "colorscale": [
             [
              0,
              "#0d0887"
             ],
             [
              0.1111111111111111,
              "#46039f"
             ],
             [
              0.2222222222222222,
              "#7201a8"
             ],
             [
              0.3333333333333333,
              "#9c179e"
             ],
             [
              0.4444444444444444,
              "#bd3786"
             ],
             [
              0.5555555555555556,
              "#d8576b"
             ],
             [
              0.6666666666666666,
              "#ed7953"
             ],
             [
              0.7777777777777778,
              "#fb9f3a"
             ],
             [
              0.8888888888888888,
              "#fdca26"
             ],
             [
              1,
              "#f0f921"
             ]
            ],
            "type": "heatmapgl"
           }
          ],
          "histogram": [
           {
            "marker": {
             "pattern": {
              "fillmode": "overlay",
              "size": 10,
              "solidity": 0.2
             }
            },
            "type": "histogram"
           }
          ],
          "histogram2d": [
           {
            "colorbar": {
             "outlinewidth": 0,
             "ticks": ""
            },
            "colorscale": [
             [
              0,
              "#0d0887"
             ],
             [
              0.1111111111111111,
              "#46039f"
             ],
             [
              0.2222222222222222,
              "#7201a8"
             ],
             [
              0.3333333333333333,
              "#9c179e"
             ],
             [
              0.4444444444444444,
              "#bd3786"
             ],
             [
              0.5555555555555556,
              "#d8576b"
             ],
             [
              0.6666666666666666,
              "#ed7953"
             ],
             [
              0.7777777777777778,
              "#fb9f3a"
             ],
             [
              0.8888888888888888,
              "#fdca26"
             ],
             [
              1,
              "#f0f921"
             ]
            ],
            "type": "histogram2d"
           }
          ],
          "histogram2dcontour": [
           {
            "colorbar": {
             "outlinewidth": 0,
             "ticks": ""
            },
            "colorscale": [
             [
              0,
              "#0d0887"
             ],
             [
              0.1111111111111111,
              "#46039f"
             ],
             [
              0.2222222222222222,
              "#7201a8"
             ],
             [
              0.3333333333333333,
              "#9c179e"
             ],
             [
              0.4444444444444444,
              "#bd3786"
             ],
             [
              0.5555555555555556,
              "#d8576b"
             ],
             [
              0.6666666666666666,
              "#ed7953"
             ],
             [
              0.7777777777777778,
              "#fb9f3a"
             ],
             [
              0.8888888888888888,
              "#fdca26"
             ],
             [
              1,
              "#f0f921"
             ]
            ],
            "type": "histogram2dcontour"
           }
          ],
          "mesh3d": [
           {
            "colorbar": {
             "outlinewidth": 0,
             "ticks": ""
            },
            "type": "mesh3d"
           }
          ],
          "parcoords": [
           {
            "line": {
             "colorbar": {
              "outlinewidth": 0,
              "ticks": ""
             }
            },
            "type": "parcoords"
           }
          ],
          "pie": [
           {
            "automargin": true,
            "type": "pie"
           }
          ],
          "scatter": [
           {
            "fillpattern": {
             "fillmode": "overlay",
             "size": 10,
             "solidity": 0.2
            },
            "type": "scatter"
           }
          ],
          "scatter3d": [
           {
            "line": {
             "colorbar": {
              "outlinewidth": 0,
              "ticks": ""
             }
            },
            "marker": {
             "colorbar": {
              "outlinewidth": 0,
              "ticks": ""
             }
            },
            "type": "scatter3d"
           }
          ],
          "scattercarpet": [
           {
            "marker": {
             "colorbar": {
              "outlinewidth": 0,
              "ticks": ""
             }
            },
            "type": "scattercarpet"
           }
          ],
          "scattergeo": [
           {
            "marker": {
             "colorbar": {
              "outlinewidth": 0,
              "ticks": ""
             }
            },
            "type": "scattergeo"
           }
          ],
          "scattergl": [
           {
            "marker": {
             "colorbar": {
              "outlinewidth": 0,
              "ticks": ""
             }
            },
            "type": "scattergl"
           }
          ],
          "scattermapbox": [
           {
            "marker": {
             "colorbar": {
              "outlinewidth": 0,
              "ticks": ""
             }
            },
            "type": "scattermapbox"
           }
          ],
          "scatterpolar": [
           {
            "marker": {
             "colorbar": {
              "outlinewidth": 0,
              "ticks": ""
             }
            },
            "type": "scatterpolar"
           }
          ],
          "scatterpolargl": [
           {
            "marker": {
             "colorbar": {
              "outlinewidth": 0,
              "ticks": ""
             }
            },
            "type": "scatterpolargl"
           }
          ],
          "scatterternary": [
           {
            "marker": {
             "colorbar": {
              "outlinewidth": 0,
              "ticks": ""
             }
            },
            "type": "scatterternary"
           }
          ],
          "surface": [
           {
            "colorbar": {
             "outlinewidth": 0,
             "ticks": ""
            },
            "colorscale": [
             [
              0,
              "#0d0887"
             ],
             [
              0.1111111111111111,
              "#46039f"
             ],
             [
              0.2222222222222222,
              "#7201a8"
             ],
             [
              0.3333333333333333,
              "#9c179e"
             ],
             [
              0.4444444444444444,
              "#bd3786"
             ],
             [
              0.5555555555555556,
              "#d8576b"
             ],
             [
              0.6666666666666666,
              "#ed7953"
             ],
             [
              0.7777777777777778,
              "#fb9f3a"
             ],
             [
              0.8888888888888888,
              "#fdca26"
             ],
             [
              1,
              "#f0f921"
             ]
            ],
            "type": "surface"
           }
          ],
          "table": [
           {
            "cells": {
             "fill": {
              "color": "#EBF0F8"
             },
             "line": {
              "color": "white"
             }
            },
            "header": {
             "fill": {
              "color": "#C8D4E3"
             },
             "line": {
              "color": "white"
             }
            },
            "type": "table"
           }
          ]
         },
         "layout": {
          "annotationdefaults": {
           "arrowcolor": "#2a3f5f",
           "arrowhead": 0,
           "arrowwidth": 1
          },
          "autotypenumbers": "strict",
          "coloraxis": {
           "colorbar": {
            "outlinewidth": 0,
            "ticks": ""
           }
          },
          "colorscale": {
           "diverging": [
            [
             0,
             "#8e0152"
            ],
            [
             0.1,
             "#c51b7d"
            ],
            [
             0.2,
             "#de77ae"
            ],
            [
             0.3,
             "#f1b6da"
            ],
            [
             0.4,
             "#fde0ef"
            ],
            [
             0.5,
             "#f7f7f7"
            ],
            [
             0.6,
             "#e6f5d0"
            ],
            [
             0.7,
             "#b8e186"
            ],
            [
             0.8,
             "#7fbc41"
            ],
            [
             0.9,
             "#4d9221"
            ],
            [
             1,
             "#276419"
            ]
           ],
           "sequential": [
            [
             0,
             "#0d0887"
            ],
            [
             0.1111111111111111,
             "#46039f"
            ],
            [
             0.2222222222222222,
             "#7201a8"
            ],
            [
             0.3333333333333333,
             "#9c179e"
            ],
            [
             0.4444444444444444,
             "#bd3786"
            ],
            [
             0.5555555555555556,
             "#d8576b"
            ],
            [
             0.6666666666666666,
             "#ed7953"
            ],
            [
             0.7777777777777778,
             "#fb9f3a"
            ],
            [
             0.8888888888888888,
             "#fdca26"
            ],
            [
             1,
             "#f0f921"
            ]
           ],
           "sequentialminus": [
            [
             0,
             "#0d0887"
            ],
            [
             0.1111111111111111,
             "#46039f"
            ],
            [
             0.2222222222222222,
             "#7201a8"
            ],
            [
             0.3333333333333333,
             "#9c179e"
            ],
            [
             0.4444444444444444,
             "#bd3786"
            ],
            [
             0.5555555555555556,
             "#d8576b"
            ],
            [
             0.6666666666666666,
             "#ed7953"
            ],
            [
             0.7777777777777778,
             "#fb9f3a"
            ],
            [
             0.8888888888888888,
             "#fdca26"
            ],
            [
             1,
             "#f0f921"
            ]
           ]
          },
          "colorway": [
           "#636efa",
           "#EF553B",
           "#00cc96",
           "#ab63fa",
           "#FFA15A",
           "#19d3f3",
           "#FF6692",
           "#B6E880",
           "#FF97FF",
           "#FECB52"
          ],
          "font": {
           "color": "#2a3f5f"
          },
          "geo": {
           "bgcolor": "white",
           "lakecolor": "white",
           "landcolor": "#E5ECF6",
           "showlakes": true,
           "showland": true,
           "subunitcolor": "white"
          },
          "hoverlabel": {
           "align": "left"
          },
          "hovermode": "closest",
          "mapbox": {
           "style": "light"
          },
          "paper_bgcolor": "white",
          "plot_bgcolor": "#E5ECF6",
          "polar": {
           "angularaxis": {
            "gridcolor": "white",
            "linecolor": "white",
            "ticks": ""
           },
           "bgcolor": "#E5ECF6",
           "radialaxis": {
            "gridcolor": "white",
            "linecolor": "white",
            "ticks": ""
           }
          },
          "scene": {
           "xaxis": {
            "backgroundcolor": "#E5ECF6",
            "gridcolor": "white",
            "gridwidth": 2,
            "linecolor": "white",
            "showbackground": true,
            "ticks": "",
            "zerolinecolor": "white"
           },
           "yaxis": {
            "backgroundcolor": "#E5ECF6",
            "gridcolor": "white",
            "gridwidth": 2,
            "linecolor": "white",
            "showbackground": true,
            "ticks": "",
            "zerolinecolor": "white"
           },
           "zaxis": {
            "backgroundcolor": "#E5ECF6",
            "gridcolor": "white",
            "gridwidth": 2,
            "linecolor": "white",
            "showbackground": true,
            "ticks": "",
            "zerolinecolor": "white"
           }
          },
          "shapedefaults": {
           "line": {
            "color": "#2a3f5f"
           }
          },
          "ternary": {
           "aaxis": {
            "gridcolor": "white",
            "linecolor": "white",
            "ticks": ""
           },
           "baxis": {
            "gridcolor": "white",
            "linecolor": "white",
            "ticks": ""
           },
           "bgcolor": "#E5ECF6",
           "caxis": {
            "gridcolor": "white",
            "linecolor": "white",
            "ticks": ""
           }
          },
          "title": {
           "x": 0.05
          },
          "xaxis": {
           "automargin": true,
           "gridcolor": "white",
           "linecolor": "white",
           "ticks": "",
           "title": {
            "standoff": 15
           },
           "zerolinecolor": "white",
           "zerolinewidth": 2
          },
          "yaxis": {
           "automargin": true,
           "gridcolor": "white",
           "linecolor": "white",
           "ticks": "",
           "title": {
            "standoff": 15
           },
           "zerolinecolor": "white",
           "zerolinewidth": 2
          }
         }
        },
        "title": {
         "text": "NBA Players Clustering"
        }
       }
      },
      "text/html": [
       "<div>                            <div id=\"19ebbd27-a4be-4b55-9677-8619e91fb9c1\" class=\"plotly-graph-div\" style=\"height:525px; width:100%;\"></div>            <script type=\"text/javascript\">                require([\"plotly\"], function(Plotly) {                    window.PLOTLYENV=window.PLOTLYENV || {};                                    if (document.getElementById(\"19ebbd27-a4be-4b55-9677-8619e91fb9c1\")) {                    Plotly.newPlot(                        \"19ebbd27-a4be-4b55-9677-8619e91fb9c1\",                        [{\"hovertemplate\":\"Field Goals=%{x}\\u003cbr\\u003eAssists=%{y}\\u003cbr\\u003eTotal Rebounds=%{z}\\u003cbr\\u003ecolor=%{marker.color}\\u003cextra\\u003e\\u003c\\u002fextra\\u003e\",\"legendgroup\":\"\",\"marker\":{\"color\":[1,0,0,1,1,1,0,1,1,0,1,0,0,1,1,1,0,1,0,0,0,0,0,1,0,0,0,0,1,1,1,1,0,1,1,0,1,1,1,1,1,1,0,1,1,1,1,1,1,0,0,1,1,0,1,1,0,1,1,1,1,0,1,1,0,1,1,0,1,1,1,1,1,1,1,1,0,1,0,1,1,1,1,0,1,0,0,1,1,0,1,1,1,1,1,1,0,1,0,0,1,0,0,1,1,1,1,1,1,1,0,1,1,1,1,0,1,1,0,1,0,0,1,0,0,1,1,0,1,0,1,1,1,1,1,1,1,1,0,1,1,0,1,1,1,1,0,0,1,1,1,1,1,0,0,0,1,1,1,0,1,0,0,1,1,1,1,1,1,1,1,0,0,1,0,1,0,0,1,1,1,1,1,0,1,1,1,1,1,1,1,1,1,1,1,1,1,1,1,1,1,1,1,1,1,0,1,1,0,1,1,1,0,1,0,1,1,1,1,1,1,0,0,1,1,1,0,1,1,1,1,1,1,0,1,1,0,1,1,1,1,1,1,1,1,1,1,0,1,1,1,0,0,1,1,0,1,1,1,1,1,0,1,1,1,1,1,1,1,1,1,1,1,1,1,1,1,1,1,1,1,1,1,1,1,0,1,1,1,0,0,1,0,0,0,1,0,1,1,1,1,1,1,1,0,1,1,1,1,1,1,1,1,1,0,1,1,1,1,0,0,0,1,0,1,1,1,0,1,0,1,0,1,1,0,1,1,1,0,1,1,0,0,1,1,1,1,1,0,1,1,1,1,1,1,0,1,1,0,0,0,1,1,1,0,1,1,1,1,1,1,0,1,1,1,0,1,1,1,0,1,1,1,0,0,1,1,0,1,0],\"coloraxis\":\"coloraxis\",\"symbol\":\"circle\",\"opacity\":0.8,\"size\":5},\"mode\":\"markers\",\"name\":\"\",\"scene\":\"scene\",\"showlegend\":false,\"x\":[3.6,2.8,7.3,1.7,1.1,3.9,6.6,2.4,3.0,10.3,1.5,5.5,6.4,0.6,1.9,3.0,7.6,2.2,6.2,7.2,4.6,4.2,6.7,1.3,5.1,6.2,7.0,5.5,1.3,2.3,3.0,4.0,8.7,4.2,3.1,5.5,1.8,2.6,2.4,3.6,1.1,0.5,9.7,2.5,3.4,1.6,1.3,5.6,3.1,6.8,7.1,3.6,1.7,8.7,1.2,1.6,6.4,2.9,3.0,3.5,1.5,7.0,4.7,1.6,5.0,1.3,2.0,5.8,2.5,0.9,1.8,3.0,4.5,5.9,3.8,3.1,6.3,2.7,4.8,3.5,3.5,2.7,3.2,6.7,5.5,8.4,9.3,3.8,2.4,10.2,4.5,1.2,5.3,3.2,5.7,3.6,5.0,4.9,10.5,7.6,2.3,9.8,6.2,2.4,2.9,4.1,0.8,1.6,2.9,5.0,8.7,4.6,2.6,4.0,3.9,8.0,0.8,2.9,8.6,1.7,5.2,8.5,1.4,5.5,5.8,4.7,3.9,6.3,2.0,2.9,6.1,2.4,2.7,3.7,1.9,2.4,2.1,4.5,6.2,2.7,5.0,5.5,1.8,4.4,3.9,4.0,6.8,7.1,3.4,1.1,0.9,3.5,2.7,5.8,7.6,7.0,0.8,2.2,2.3,7.1,2.8,4.4,3.9,3.7,2.2,4.7,4.8,3.3,2.8,1.5,2.6,8.2,10.0,3.2,5.5,0.8,6.4,11.4,2.6,1.1,4.2,1.0,2.3,6.3,3.6,2.4,3.1,2.1,3.5,0.4,2.4,3.4,2.0,2.7,4.0,4.1,3.0,2.4,1.2,0.9,1.9,2.7,1.0,2.3,3.4,6.4,1.9,1.0,8.4,2.7,1.9,2.4,5.3,2.5,7.7,3.5,2.2,2.5,4.7,3.1,1.7,4.4,4.4,3.6,4.1,3.9,5.1,2.0,3.5,2.9,3.5,2.8,1.8,6.4,0.8,2.0,9.5,3.7,3.6,2.2,4.2,3.9,1.9,1.4,3.8,1.3,3.4,6.8,4.0,3.1,4.7,9.2,6.1,5.1,1.5,10.2,2.0,5.6,3.2,5.0,1.8,8.4,2.6,1.6,3.0,1.4,2.9,3.2,1.1,2.3,1.3,3.2,1.5,1.8,3.0,2.6,3.1,0.9,3.3,3.1,1.4,4.4,3.2,3.7,5.4,5.6,4.1,3.0,0.7,2.8,6.0,3.0,6.2,5.5,4.1,3.1,5.8,3.3,6.4,2.0,2.6,2.3,1.5,3.6,7.1,2.4,1.8,1.7,1.4,3.0,1.2,3.9,2.2,3.7,3.6,2.7,3.7,4.7,3.5,7.1,4.4,6.2,1.0,7.5,6.2,2.8,2.7,8.8,0.4,6.2,1.0,4.2,2.1,4.0,5.1,0.5,0.3,2.5,3.5,3.7,4.1,4.7,9.3,4.1,1.9,0.5,3.2,3.3,7.7,0.7,2.3,1.8,0.6,3.5,1.6,8.7,6.4,2.9,4.8,2.9,6.8,4.6,3.1,1.9,5.8,3.1,4.0,4.4,3.8,1.5,3.0,7.0,4.6,3.6,3.1,6.5,2.7,3.0,3.2,4.4,3.1,2.8,0.7,4.3,6.5,1.6,2.6,9.4,2.3,4.1],\"y\":[1.1,3.4,3.4,0.7,1.1,1.5,1.6,2.8,2.7,5.8,0.5,5.7,2.6,0.4,1.6,2.0,1.4,0.0,1.1,7.6,5.1,1.2,2.7,1.5,2.4,3.5,3.0,3.9,0.3,0.7,1.7,1.4,6.6,1.5,4.6,2.8,1.0,1.1,0.6,4.2,0.4,0.6,4.8,1.0,0.3,0.8,0.5,2.3,1.1,5.9,2.8,2.1,0.7,3.5,0.7,1.0,4.8,0.9,1.2,3.0,1.5,5.5,1.9,3.4,1.2,0.0,2.5,2.8,4.0,0.3,0.5,2.0,1.3,2.5,0.9,1.8,1.8,2.2,5.3,1.3,1.0,1.2,1.9,5.6,2.6,6.3,3.1,1.3,0.7,4.9,1.3,0.8,3.9,3.6,1.7,3.3,1.4,2.1,6.4,3.8,0.6,4.2,1.6,0.6,0.3,1.9,0.6,1.6,1.0,2.1,5.6,5.5,0.6,0.9,1.5,8.6,0.7,1.0,5.7,0.6,6.4,5.9,0.6,1.1,2.5,2.7,4.2,2.4,1.0,7.0,2.6,0.9,0.9,1.3,1.2,1.9,1.0,1.1,9.6,2.5,2.2,10.5,0.5,2.0,1.8,1.0,3.5,4.3,2.4,0.3,0.4,0.6,4.2,3.6,4.0,4.8,0.3,2.2,3.4,6.8,1.5,1.1,3.4,2.7,1.0,2.7,1.3,2.8,0.7,3.7,3.5,5.6,5.8,0.3,1.1,0.3,4.8,6.2,2.3,0.6,1.5,0.1,2.1,2.1,2.9,1.7,1.2,0.6,2.1,0.2,3.4,4.4,0.5,3.6,1.4,2.1,1.1,1.2,0.6,0.4,1.5,1.9,0.7,1.9,0.9,3.5,0.8,0.5,4.5,1.0,2.9,1.2,3.9,2.0,7.3,1.3,1.1,2.0,0.5,1.5,0.6,2.2,7.5,1.3,2.6,1.5,1.3,1.1,1.1,2.5,1.3,1.0,0.7,4.3,1.0,1.0,5.8,4.9,1.1,1.1,1.3,0.6,0.9,2.9,2.7,0.7,1.0,5.4,2.3,2.5,4.2,5.3,2.5,2.9,0.4,6.7,1.0,2.1,1.4,4.4,0.6,9.2,0.5,0.8,0.9,0.4,3.1,1.3,1.7,0.4,0.9,2.1,1.2,0.8,1.0,2.5,1.7,0.5,1.1,1.8,0.7,3.5,2.8,2.0,1.1,10.8,4.9,0.9,0.9,3.1,2.8,2.1,4.0,6.2,1.9,1.5,1.2,1.2,2.8,1.6,1.0,2.0,0.4,3.5,5.1,1.8,0.7,1.1,0.4,0.9,0.3,2.3,1.3,1.6,0.5,1.0,1.6,4.0,1.8,4.5,6.6,7.1,0.0,5.8,2.1,1.6,0.5,5.3,0.0,3.9,0.5,5.9,3.6,5.2,0.8,0.0,0.2,0.7,1.2,1.4,4.4,2.8,4.4,1.2,1.3,0.0,1.0,1.2,2.8,0.6,1.1,1.2,0.3,1.1,1.7,3.6,2.0,2.1,1.0,1.3,6.7,1.9,3.1,1.0,2.9,1.4,3.5,2.2,2.3,0.6,1.7,7.1,2.9,3.5,1.4,2.2,1.0,2.2,0.9,2.0,1.0,1.3,0.7,2.9,2.3,2.4,1.7,9.7,0.9,1.6],\"z\":[6.5,10.0,10.1,2.7,1.5,3.4,10.8,1.9,5.3,11.6,2.1,5.4,5.5,0.8,1.3,5.2,10.2,4.2,6.8,6.7,5.4,8.1,4.4,1.9,5.6,7.5,5.8,4.8,2.7,3.9,4.3,6.3,4.7,2.9,4.1,5.4,4.3,3.5,4.6,3.4,1.4,1.2,5.0,2.2,6.2,1.7,3.4,4.2,5.3,5.1,3.2,4.8,2.8,6.1,3.0,3.1,3.9,4.0,3.5,4.9,1.1,5.9,3.4,1.8,11.9,2.3,2.2,10.5,3.6,2.0,3.0,2.5,5.3,3.5,5.6,2.9,7.8,5.5,3.0,4.2,5.1,4.3,5.3,5.5,2.6,5.2,9.9,3.1,5.8,5.2,4.8,2.8,3.1,4.4,4.2,2.8,10.3,4.1,7.4,4.8,3.6,11.7,8.5,4.7,4.0,4.7,0.9,1.4,0.9,2.6,3.9,2.7,4.3,5.7,4.7,3.3,3.5,4.4,6.9,4.4,7.8,5.0,1.9,14.7,5.9,2.0,2.3,4.1,2.5,7.3,3.4,4.2,4.2,3.1,2.4,4.1,2.0,3.8,4.3,3.0,3.7,7.1,2.4,4.9,2.0,4.0,6.8,5.4,4.9,1.9,1.1,4.5,3.2,4.6,5.0,5.1,1.4,2.9,2.5,4.5,2.2,7.0,7.7,3.2,2.7,3.4,3.3,2.7,5.3,3.2,2.9,5.8,4.4,4.1,5.8,1.2,3.6,8.2,1.6,1.0,4.1,1.2,3.5,6.1,2.7,3.2,4.4,3.3,3.8,0.5,2.2,2.4,5.8,2.7,4.6,3.3,2.7,5.9,2.3,1.3,4.6,2.6,2.1,3.4,3.3,8.5,2.6,1.0,4.6,3.2,2.4,4.1,3.4,1.6,4.1,5.6,3.0,7.3,4.1,3.5,2.1,7.2,4.5,5.6,5.2,2.9,5.7,2.6,3.8,4.0,3.8,2.9,1.9,3.2,1.1,3.0,4.5,3.3,4.2,3.1,2.3,6.7,2.2,1.5,4.5,1.2,5.6,5.4,1.9,2.6,2.2,4.2,8.3,3.4,1.5,5.7,4.0,4.4,2.6,3.0,2.4,8.3,3.0,1.6,4.3,1.7,1.9,2.7,1.4,3.6,5.6,2.0,1.4,3.3,3.6,4.8,5.0,1.4,5.9,3.0,2.0,2.9,4.4,2.2,4.0,4.4,3.0,3.5,1.1,7.7,9.3,5.2,3.4,4.4,6.6,5.7,9.1,4.9,2.8,2.3,2.5,1.9,1.6,3.2,9.9,3.2,1.4,2.3,2.4,3.9,1.7,2.9,1.7,2.6,8.6,5.6,4.8,3.0,2.6,4.3,4.1,3.3,0.0,12.3,3.3,1.8,5.0,8.5,1.1,2.6,4.1,3.8,2.4,3.0,7.6,1.0,0.0,2.6,8.7,3.0,3.6,5.4,8.0,5.2,2.4,0.0,4.7,2.4,3.9,1.3,2.3,3.0,1.0,3.7,2.4,9.8,2.7,5.5,7.1,8.4,4.4,4.3,1.9,2.9,4.5,3.7,3.0,2.6,5.2,2.4,4.1,7.4,3.0,3.4,3.6,4.5,3.6,4.5,4.1,9.6,2.1,4.0,1.8,6.3,10.1,2.9,4.4,3.7,5.3,8.5],\"type\":\"scatter3d\"}],                        {\"template\":{\"data\":{\"histogram2dcontour\":[{\"type\":\"histogram2dcontour\",\"colorbar\":{\"outlinewidth\":0,\"ticks\":\"\"},\"colorscale\":[[0.0,\"#0d0887\"],[0.1111111111111111,\"#46039f\"],[0.2222222222222222,\"#7201a8\"],[0.3333333333333333,\"#9c179e\"],[0.4444444444444444,\"#bd3786\"],[0.5555555555555556,\"#d8576b\"],[0.6666666666666666,\"#ed7953\"],[0.7777777777777778,\"#fb9f3a\"],[0.8888888888888888,\"#fdca26\"],[1.0,\"#f0f921\"]]}],\"choropleth\":[{\"type\":\"choropleth\",\"colorbar\":{\"outlinewidth\":0,\"ticks\":\"\"}}],\"histogram2d\":[{\"type\":\"histogram2d\",\"colorbar\":{\"outlinewidth\":0,\"ticks\":\"\"},\"colorscale\":[[0.0,\"#0d0887\"],[0.1111111111111111,\"#46039f\"],[0.2222222222222222,\"#7201a8\"],[0.3333333333333333,\"#9c179e\"],[0.4444444444444444,\"#bd3786\"],[0.5555555555555556,\"#d8576b\"],[0.6666666666666666,\"#ed7953\"],[0.7777777777777778,\"#fb9f3a\"],[0.8888888888888888,\"#fdca26\"],[1.0,\"#f0f921\"]]}],\"heatmap\":[{\"type\":\"heatmap\",\"colorbar\":{\"outlinewidth\":0,\"ticks\":\"\"},\"colorscale\":[[0.0,\"#0d0887\"],[0.1111111111111111,\"#46039f\"],[0.2222222222222222,\"#7201a8\"],[0.3333333333333333,\"#9c179e\"],[0.4444444444444444,\"#bd3786\"],[0.5555555555555556,\"#d8576b\"],[0.6666666666666666,\"#ed7953\"],[0.7777777777777778,\"#fb9f3a\"],[0.8888888888888888,\"#fdca26\"],[1.0,\"#f0f921\"]]}],\"heatmapgl\":[{\"type\":\"heatmapgl\",\"colorbar\":{\"outlinewidth\":0,\"ticks\":\"\"},\"colorscale\":[[0.0,\"#0d0887\"],[0.1111111111111111,\"#46039f\"],[0.2222222222222222,\"#7201a8\"],[0.3333333333333333,\"#9c179e\"],[0.4444444444444444,\"#bd3786\"],[0.5555555555555556,\"#d8576b\"],[0.6666666666666666,\"#ed7953\"],[0.7777777777777778,\"#fb9f3a\"],[0.8888888888888888,\"#fdca26\"],[1.0,\"#f0f921\"]]}],\"contourcarpet\":[{\"type\":\"contourcarpet\",\"colorbar\":{\"outlinewidth\":0,\"ticks\":\"\"}}],\"contour\":[{\"type\":\"contour\",\"colorbar\":{\"outlinewidth\":0,\"ticks\":\"\"},\"colorscale\":[[0.0,\"#0d0887\"],[0.1111111111111111,\"#46039f\"],[0.2222222222222222,\"#7201a8\"],[0.3333333333333333,\"#9c179e\"],[0.4444444444444444,\"#bd3786\"],[0.5555555555555556,\"#d8576b\"],[0.6666666666666666,\"#ed7953\"],[0.7777777777777778,\"#fb9f3a\"],[0.8888888888888888,\"#fdca26\"],[1.0,\"#f0f921\"]]}],\"surface\":[{\"type\":\"surface\",\"colorbar\":{\"outlinewidth\":0,\"ticks\":\"\"},\"colorscale\":[[0.0,\"#0d0887\"],[0.1111111111111111,\"#46039f\"],[0.2222222222222222,\"#7201a8\"],[0.3333333333333333,\"#9c179e\"],[0.4444444444444444,\"#bd3786\"],[0.5555555555555556,\"#d8576b\"],[0.6666666666666666,\"#ed7953\"],[0.7777777777777778,\"#fb9f3a\"],[0.8888888888888888,\"#fdca26\"],[1.0,\"#f0f921\"]]}],\"mesh3d\":[{\"type\":\"mesh3d\",\"colorbar\":{\"outlinewidth\":0,\"ticks\":\"\"}}],\"scatter\":[{\"fillpattern\":{\"fillmode\":\"overlay\",\"size\":10,\"solidity\":0.2},\"type\":\"scatter\"}],\"parcoords\":[{\"type\":\"parcoords\",\"line\":{\"colorbar\":{\"outlinewidth\":0,\"ticks\":\"\"}}}],\"scatterpolargl\":[{\"type\":\"scatterpolargl\",\"marker\":{\"colorbar\":{\"outlinewidth\":0,\"ticks\":\"\"}}}],\"bar\":[{\"error_x\":{\"color\":\"#2a3f5f\"},\"error_y\":{\"color\":\"#2a3f5f\"},\"marker\":{\"line\":{\"color\":\"#E5ECF6\",\"width\":0.5},\"pattern\":{\"fillmode\":\"overlay\",\"size\":10,\"solidity\":0.2}},\"type\":\"bar\"}],\"scattergeo\":[{\"type\":\"scattergeo\",\"marker\":{\"colorbar\":{\"outlinewidth\":0,\"ticks\":\"\"}}}],\"scatterpolar\":[{\"type\":\"scatterpolar\",\"marker\":{\"colorbar\":{\"outlinewidth\":0,\"ticks\":\"\"}}}],\"histogram\":[{\"marker\":{\"pattern\":{\"fillmode\":\"overlay\",\"size\":10,\"solidity\":0.2}},\"type\":\"histogram\"}],\"scattergl\":[{\"type\":\"scattergl\",\"marker\":{\"colorbar\":{\"outlinewidth\":0,\"ticks\":\"\"}}}],\"scatter3d\":[{\"type\":\"scatter3d\",\"line\":{\"colorbar\":{\"outlinewidth\":0,\"ticks\":\"\"}},\"marker\":{\"colorbar\":{\"outlinewidth\":0,\"ticks\":\"\"}}}],\"scattermapbox\":[{\"type\":\"scattermapbox\",\"marker\":{\"colorbar\":{\"outlinewidth\":0,\"ticks\":\"\"}}}],\"scatterternary\":[{\"type\":\"scatterternary\",\"marker\":{\"colorbar\":{\"outlinewidth\":0,\"ticks\":\"\"}}}],\"scattercarpet\":[{\"type\":\"scattercarpet\",\"marker\":{\"colorbar\":{\"outlinewidth\":0,\"ticks\":\"\"}}}],\"carpet\":[{\"aaxis\":{\"endlinecolor\":\"#2a3f5f\",\"gridcolor\":\"white\",\"linecolor\":\"white\",\"minorgridcolor\":\"white\",\"startlinecolor\":\"#2a3f5f\"},\"baxis\":{\"endlinecolor\":\"#2a3f5f\",\"gridcolor\":\"white\",\"linecolor\":\"white\",\"minorgridcolor\":\"white\",\"startlinecolor\":\"#2a3f5f\"},\"type\":\"carpet\"}],\"table\":[{\"cells\":{\"fill\":{\"color\":\"#EBF0F8\"},\"line\":{\"color\":\"white\"}},\"header\":{\"fill\":{\"color\":\"#C8D4E3\"},\"line\":{\"color\":\"white\"}},\"type\":\"table\"}],\"barpolar\":[{\"marker\":{\"line\":{\"color\":\"#E5ECF6\",\"width\":0.5},\"pattern\":{\"fillmode\":\"overlay\",\"size\":10,\"solidity\":0.2}},\"type\":\"barpolar\"}],\"pie\":[{\"automargin\":true,\"type\":\"pie\"}]},\"layout\":{\"autotypenumbers\":\"strict\",\"colorway\":[\"#636efa\",\"#EF553B\",\"#00cc96\",\"#ab63fa\",\"#FFA15A\",\"#19d3f3\",\"#FF6692\",\"#B6E880\",\"#FF97FF\",\"#FECB52\"],\"font\":{\"color\":\"#2a3f5f\"},\"hovermode\":\"closest\",\"hoverlabel\":{\"align\":\"left\"},\"paper_bgcolor\":\"white\",\"plot_bgcolor\":\"#E5ECF6\",\"polar\":{\"bgcolor\":\"#E5ECF6\",\"angularaxis\":{\"gridcolor\":\"white\",\"linecolor\":\"white\",\"ticks\":\"\"},\"radialaxis\":{\"gridcolor\":\"white\",\"linecolor\":\"white\",\"ticks\":\"\"}},\"ternary\":{\"bgcolor\":\"#E5ECF6\",\"aaxis\":{\"gridcolor\":\"white\",\"linecolor\":\"white\",\"ticks\":\"\"},\"baxis\":{\"gridcolor\":\"white\",\"linecolor\":\"white\",\"ticks\":\"\"},\"caxis\":{\"gridcolor\":\"white\",\"linecolor\":\"white\",\"ticks\":\"\"}},\"coloraxis\":{\"colorbar\":{\"outlinewidth\":0,\"ticks\":\"\"}},\"colorscale\":{\"sequential\":[[0.0,\"#0d0887\"],[0.1111111111111111,\"#46039f\"],[0.2222222222222222,\"#7201a8\"],[0.3333333333333333,\"#9c179e\"],[0.4444444444444444,\"#bd3786\"],[0.5555555555555556,\"#d8576b\"],[0.6666666666666666,\"#ed7953\"],[0.7777777777777778,\"#fb9f3a\"],[0.8888888888888888,\"#fdca26\"],[1.0,\"#f0f921\"]],\"sequentialminus\":[[0.0,\"#0d0887\"],[0.1111111111111111,\"#46039f\"],[0.2222222222222222,\"#7201a8\"],[0.3333333333333333,\"#9c179e\"],[0.4444444444444444,\"#bd3786\"],[0.5555555555555556,\"#d8576b\"],[0.6666666666666666,\"#ed7953\"],[0.7777777777777778,\"#fb9f3a\"],[0.8888888888888888,\"#fdca26\"],[1.0,\"#f0f921\"]],\"diverging\":[[0,\"#8e0152\"],[0.1,\"#c51b7d\"],[0.2,\"#de77ae\"],[0.3,\"#f1b6da\"],[0.4,\"#fde0ef\"],[0.5,\"#f7f7f7\"],[0.6,\"#e6f5d0\"],[0.7,\"#b8e186\"],[0.8,\"#7fbc41\"],[0.9,\"#4d9221\"],[1,\"#276419\"]]},\"xaxis\":{\"gridcolor\":\"white\",\"linecolor\":\"white\",\"ticks\":\"\",\"title\":{\"standoff\":15},\"zerolinecolor\":\"white\",\"automargin\":true,\"zerolinewidth\":2},\"yaxis\":{\"gridcolor\":\"white\",\"linecolor\":\"white\",\"ticks\":\"\",\"title\":{\"standoff\":15},\"zerolinecolor\":\"white\",\"automargin\":true,\"zerolinewidth\":2},\"scene\":{\"xaxis\":{\"backgroundcolor\":\"#E5ECF6\",\"gridcolor\":\"white\",\"linecolor\":\"white\",\"showbackground\":true,\"ticks\":\"\",\"zerolinecolor\":\"white\",\"gridwidth\":2},\"yaxis\":{\"backgroundcolor\":\"#E5ECF6\",\"gridcolor\":\"white\",\"linecolor\":\"white\",\"showbackground\":true,\"ticks\":\"\",\"zerolinecolor\":\"white\",\"gridwidth\":2},\"zaxis\":{\"backgroundcolor\":\"#E5ECF6\",\"gridcolor\":\"white\",\"linecolor\":\"white\",\"showbackground\":true,\"ticks\":\"\",\"zerolinecolor\":\"white\",\"gridwidth\":2}},\"shapedefaults\":{\"line\":{\"color\":\"#2a3f5f\"}},\"annotationdefaults\":{\"arrowcolor\":\"#2a3f5f\",\"arrowhead\":0,\"arrowwidth\":1},\"geo\":{\"bgcolor\":\"white\",\"landcolor\":\"#E5ECF6\",\"subunitcolor\":\"white\",\"showland\":true,\"showlakes\":true,\"lakecolor\":\"white\"},\"title\":{\"x\":0.05},\"mapbox\":{\"style\":\"light\"}}},\"scene\":{\"domain\":{\"x\":[0.0,1.0],\"y\":[0.0,1.0]},\"xaxis\":{\"title\":{\"text\":\"Field Goals\"}},\"yaxis\":{\"title\":{\"text\":\"Assists\"}},\"zaxis\":{\"title\":{\"text\":\"Total Rebounds\"}}},\"coloraxis\":{\"colorbar\":{\"title\":{\"text\":\"color\"}},\"colorscale\":[[0.0,\"#440154\"],[0.1111111111111111,\"#482878\"],[0.2222222222222222,\"#3e4989\"],[0.3333333333333333,\"#31688e\"],[0.4444444444444444,\"#26828e\"],[0.5555555555555556,\"#1f9e89\"],[0.6666666666666666,\"#35b779\"],[0.7777777777777778,\"#6ece58\"],[0.8888888888888888,\"#b5de2b\"],[1.0,\"#fde725\"]]},\"legend\":{\"tracegroupgap\":0},\"title\":{\"text\":\"NBA Players Clustering\"}},                        {\"responsive\": true}                    ).then(function(){\n",
       "                            \n",
       "var gd = document.getElementById('19ebbd27-a4be-4b55-9677-8619e91fb9c1');\n",
       "var x = new MutationObserver(function (mutations, observer) {{\n",
       "        var display = window.getComputedStyle(gd).display;\n",
       "        if (!display || display === 'none') {{\n",
       "            console.log([gd, 'removed!']);\n",
       "            Plotly.purge(gd);\n",
       "            observer.disconnect();\n",
       "        }}\n",
       "}});\n",
       "\n",
       "// Listen for the removal of the full notebook cells\n",
       "var notebookContainer = gd.closest('#notebook-container');\n",
       "if (notebookContainer) {{\n",
       "    x.observe(notebookContainer, {childList: true});\n",
       "}}\n",
       "\n",
       "// Listen for the clearing of the current output cell\n",
       "var outputEl = gd.closest('.output');\n",
       "if (outputEl) {{\n",
       "    x.observe(outputEl, {childList: true});\n",
       "}}\n",
       "\n",
       "                        })                };                });            </script>        </div>"
      ]
     },
     "metadata": {},
     "output_type": "display_data"
    }
   ],
   "source": [
    "#Create a visualization of the results with 2 or 3 variables that you think will best\n",
    "#differentiate the clusters\n",
    "\n",
    "fig = px.scatter_3d(NBA, x='FG', y='AST', z='TRB', color=kmeans_obj1.labels_,\n",
    "                     title='NBA Players Clustering',\n",
    "                     labels={'FG': 'Field Goals', 'AST': 'Assists', 'TRB': 'Total Rebounds'},\n",
    "                     color_continuous_scale=px.colors.sequential.Viridis)\n",
    "fig.update_traces(marker=dict(size=5, opacity=0.8))\n",
    "fig.show()"
   ]
  },
  {
   "cell_type": "code",
   "execution_count": 24,
   "metadata": {},
   "outputs": [
    {
     "name": "stdout",
     "output_type": "stream",
     "text": [
      "Cluster Evaluation:\n",
      "Total Variance Explained: 0.5280200964134357\n",
      "Silhouette Score: 0.4722577731786692\n"
     ]
    },
    {
     "name": "stderr",
     "output_type": "stream",
     "text": [
      "/home/vscode/.local/lib/python3.12/site-packages/numpy/_core/fromnumeric.py:84: FutureWarning:\n",
      "\n",
      "The behavior of DataFrame.sum with axis=None is deprecated, in a future version this will reduce over both axes and return a scalar. To retain the old behavior, pass axis=0 (or do not pass axis)\n",
      "\n"
     ]
    }
   ],
   "source": [
    "#Evaluate the quality of the clustering using total variance explained and silhouette scores\n",
    "print(\"Cluster Evaluation:\")\n",
    "# Total Variance Explained and Silhouette Score for the Center, Point Forward, and Shooting Forward\n",
    "# Total Variance Explained\n",
    "total_sum_squares = np.sum((clust_data1 - np.mean(clust_data1))**2)\n",
    "total = np.sum(total_sum_squares)\n",
    "between_SSE = (total-kmeans_obj1.inertia_)\n",
    "var_explained = between_SSE/total\n",
    "print(f'Total Variance Explained: {var_explained}')\n",
    "# Silhouette Score\n",
    "silhouette_avg = silhouette_score(clust_data1, kmeans_obj1.labels_)\n",
    "print(f'Silhouette Score: {silhouette_avg}')"
   ]
  },
  {
   "cell_type": "code",
   "execution_count": 25,
   "metadata": {},
   "outputs": [
    {
     "data": {
      "image/png": "[encoded data removed]",
      "text/plain": [
       "<Figure size 1000x600 with 1 Axes>"
      ]
     },
     "metadata": {},
     "output_type": "display_data"
    }
   ],
   "source": [
    "#Determine the ideal number of clusters using the elbow method and the silhouette coefficient\n",
    "\n",
    "# Silhouette Coefficient\n",
    "silhouette_scores = []\n",
    "for k in range(2, 11):\n",
    "    kmeans_obj = KMeans(n_clusters=k, random_state=1).fit(clust_data1)\n",
    "    silhouette_avg = silhouette_score(clust_data1, kmeans_obj.labels_)\n",
    "    silhouette_scores.append(silhouette_avg)\n",
    "# Plotting the silhouette scores\n",
    "import matplotlib.pyplot as plt\n",
    "plt.figure(figsize=(10, 6))\n",
    "plt.plot(range(2, 11), silhouette_scores, marker='o')\n",
    "plt.title('Silhouette Scores for Different Number of Clusters')\n",
    "plt.xlabel('Number of Clusters')\n",
    "plt.ylabel('Silhouette Score')\n",
    "plt.xticks(range(2, 11))\n",
    "plt.grid()\n",
    "plt.show()"
   ]
  },
  {
   "cell_type": "code",
   "execution_count": 26,
   "metadata": {},
   "outputs": [
    {
     "data": {
      "application/vnd.plotly.v1+json": {
       "config": {
        "plotlyServerURL": "https://plot.ly"
       },
       "data": [
        {
         "hovertemplate": "Number of Clusters=%{x}<br>Total Sum of Squares=%{y}<extra></extra>",
         "legendgroup": "",
         "line": {
          "color": "#636efa",
          "dash": "solid"
         },
         "marker": {
          "symbol": "circle"
         },
         "mode": "lines",
         "name": "",
         "orientation": "v",
         "showlegend": false,
         "type": "scatter",
         "x": [
          2,
          3,
          4,
          5,
          6,
          7,
          8,
          9,
          10
         ],
         "xaxis": "x",
         "y": [
          2911.064744523164,
          2215.6798445636873,
          1658.1299603383131,
          1471.3715458890583,
          1241.5910886833833,
          1092.479834904529,
          985.6335691999105,
          916.4410778788407,
          893.4792186890597
         ],
         "yaxis": "y"
        }
       ],
       "layout": {
        "legend": {
         "tracegroupgap": 0
        },
        "template": {
         "data": {
          "bar": [
           {
            "error_x": {
             "color": "#2a3f5f"
            },
            "error_y": {
             "color": "#2a3f5f"
            },
            "marker": {
             "line": {
              "color": "#E5ECF6",
              "width": 0.5
             },
             "pattern": {
              "fillmode": "overlay",
              "size": 10,
              "solidity": 0.2
             }
            },
            "type": "bar"
           }
          ],
          "barpolar": [
           {
            "marker": {
             "line": {
              "color": "#E5ECF6",
              "width": 0.5
             },
             "pattern": {
              "fillmode": "overlay",
              "size": 10,
              "solidity": 0.2
             }
            },
            "type": "barpolar"
           }
          ],
          "carpet": [
           {
            "aaxis": {
             "endlinecolor": "#2a3f5f",
             "gridcolor": "white",
             "linecolor": "white",
             "minorgridcolor": "white",
             "startlinecolor": "#2a3f5f"
            },
            "baxis": {
             "endlinecolor": "#2a3f5f",
             "gridcolor": "white",
             "linecolor": "white",
             "minorgridcolor": "white",
             "startlinecolor": "#2a3f5f"
            },
            "type": "carpet"
           }
          ],
          "choropleth": [
           {
            "colorbar": {
             "outlinewidth": 0,
             "ticks": ""
            },
            "type": "choropleth"
           }
          ],
          "contour": [
           {
            "colorbar": {
             "outlinewidth": 0,
             "ticks": ""
            },
            "colorscale": [
             [
              0,
              "#0d0887"
             ],
             [
              0.1111111111111111,
              "#46039f"
             ],
             [
              0.2222222222222222,
              "#7201a8"
             ],
             [
              0.3333333333333333,
              "#9c179e"
             ],
             [
              0.4444444444444444,
              "#bd3786"
             ],
             [
              0.5555555555555556,
              "#d8576b"
             ],
             [
              0.6666666666666666,
              "#ed7953"
             ],
             [
              0.7777777777777778,
              "#fb9f3a"
             ],
             [
              0.8888888888888888,
              "#fdca26"
             ],
             [
              1,
              "#f0f921"
             ]
            ],
            "type": "contour"
           }
          ],
          "contourcarpet": [
           {
            "colorbar": {
             "outlinewidth": 0,
             "ticks": ""
            },
            "type": "contourcarpet"
           }
          ],
          "heatmap": [
           {
            "colorbar": {
             "outlinewidth": 0,
             "ticks": ""
            },
            "colorscale": [
             [
              0,
              "#0d0887"
             ],
             [
              0.1111111111111111,
              "#46039f"
             ],
             [
              0.2222222222222222,
              "#7201a8"
             ],
             [
              0.3333333333333333,
              "#9c179e"
             ],
             [
              0.4444444444444444,
              "#bd3786"
             ],
             [
              0.5555555555555556,
              "#d8576b"
             ],
             [
              0.6666666666666666,
              "#ed7953"
             ],
             [
              0.7777777777777778,
              "#fb9f3a"
             ],
             [
              0.8888888888888888,
              "#fdca26"
             ],
             [
              1,
              "#f0f921"
             ]
            ],
            "type": "heatmap"
           }
          ],
          "heatmapgl": [
           {
            "colorbar": {
             "outlinewidth": 0,
             "ticks": ""
            },
            "colorscale": [
             [
              0,
              "#0d0887"
             ],
             [
              0.1111111111111111,
              "#46039f"
             ],
             [
              0.2222222222222222,
              "#7201a8"
             ],
             [
              0.3333333333333333,
              "#9c179e"
             ],
             [
              0.4444444444444444,
              "#bd3786"
             ],
             [
              0.5555555555555556,
              "#d8576b"
             ],
             [
              0.6666666666666666,
              "#ed7953"
             ],
             [
              0.7777777777777778,
              "#fb9f3a"
             ],
             [
              0.8888888888888888,
              "#fdca26"
             ],
             [
              1,
              "#f0f921"
             ]
            ],
            "type": "heatmapgl"
           }
          ],
          "histogram": [
           {
            "marker": {
             "pattern": {
              "fillmode": "overlay",
              "size": 10,
              "solidity": 0.2
             }
            },
            "type": "histogram"
           }
          ],
          "histogram2d": [
           {
            "colorbar": {
             "outlinewidth": 0,
             "ticks": ""
            },
            "colorscale": [
             [
              0,
              "#0d0887"
             ],
             [
              0.1111111111111111,
              "#46039f"
             ],
             [
              0.2222222222222222,
              "#7201a8"
             ],
             [
              0.3333333333333333,
              "#9c179e"
             ],
             [
              0.4444444444444444,
              "#bd3786"
             ],
             [
              0.5555555555555556,
              "#d8576b"
             ],
             [
              0.6666666666666666,
              "#ed7953"
             ],
             [
              0.7777777777777778,
              "#fb9f3a"
             ],
             [
              0.8888888888888888,
              "#fdca26"
             ],
             [
              1,
              "#f0f921"
             ]
            ],
            "type": "histogram2d"
           }
          ],
          "histogram2dcontour": [
           {
            "colorbar": {
             "outlinewidth": 0,
             "ticks": ""
            },
            "colorscale": [
             [
              0,
              "#0d0887"
             ],
             [
              0.1111111111111111,
              "#46039f"
             ],
             [
              0.2222222222222222,
              "#7201a8"
             ],
             [
              0.3333333333333333,
              "#9c179e"
             ],
             [
              0.4444444444444444,
              "#bd3786"
             ],
             [
              0.5555555555555556,
              "#d8576b"
             ],
             [
              0.6666666666666666,
              "#ed7953"
             ],
             [
              0.7777777777777778,
              "#fb9f3a"
             ],
             [
              0.8888888888888888,
              "#fdca26"
             ],
             [
              1,
              "#f0f921"
             ]
            ],
            "type": "histogram2dcontour"
           }
          ],
          "mesh3d": [
           {
            "colorbar": {
             "outlinewidth": 0,
             "ticks": ""
            },
            "type": "mesh3d"
           }
          ],
          "parcoords": [
           {
            "line": {
             "colorbar": {
              "outlinewidth": 0,
              "ticks": ""
             }
            },
            "type": "parcoords"
           }
          ],
          "pie": [
           {
            "automargin": true,
            "type": "pie"
           }
          ],
          "scatter": [
           {
            "fillpattern": {
             "fillmode": "overlay",
             "size": 10,
             "solidity": 0.2
            },
            "type": "scatter"
           }
          ],
          "scatter3d": [
           {
            "line": {
             "colorbar": {
              "outlinewidth": 0,
              "ticks": ""
             }
            },
            "marker": {
             "colorbar": {
              "outlinewidth": 0,
              "ticks": ""
             }
            },
            "type": "scatter3d"
           }
          ],
          "scattercarpet": [
           {
            "marker": {
             "colorbar": {
              "outlinewidth": 0,
              "ticks": ""
             }
            },
            "type": "scattercarpet"
           }
          ],
          "scattergeo": [
           {
            "marker": {
             "colorbar": {
              "outlinewidth": 0,
              "ticks": ""
             }
            },
            "type": "scattergeo"
           }
          ],
          "scattergl": [
           {
            "marker": {
             "colorbar": {
              "outlinewidth": 0,
              "ticks": ""
             }
            },
            "type": "scattergl"
           }
          ],
          "scattermapbox": [
           {
            "marker": {
             "colorbar": {
              "outlinewidth": 0,
              "ticks": ""
             }
            },
            "type": "scattermapbox"
           }
          ],
          "scatterpolar": [
           {
            "marker": {
             "colorbar": {
              "outlinewidth": 0,
              "ticks": ""
             }
            },
            "type": "scatterpolar"
           }
          ],
          "scatterpolargl": [
           {
            "marker": {
             "colorbar": {
              "outlinewidth": 0,
              "ticks": ""
             }
            },
            "type": "scatterpolargl"
           }
          ],
          "scatterternary": [
           {
            "marker": {
             "colorbar": {
              "outlinewidth": 0,
              "ticks": ""
             }
            },
            "type": "scatterternary"
           }
          ],
          "surface": [
           {
            "colorbar": {
             "outlinewidth": 0,
             "ticks": ""
            },
            "colorscale": [
             [
              0,
              "#0d0887"
             ],
             [
              0.1111111111111111,
              "#46039f"
             ],
             [
              0.2222222222222222,
              "#7201a8"
             ],
             [
              0.3333333333333333,
              "#9c179e"
             ],
             [
              0.4444444444444444,
              "#bd3786"
             ],
             [
              0.5555555555555556,
              "#d8576b"
             ],
             [
              0.6666666666666666,
              "#ed7953"
             ],
             [
              0.7777777777777778,
              "#fb9f3a"
             ],
             [
              0.8888888888888888,
              "#fdca26"
             ],
             [
              1,
              "#f0f921"
             ]
            ],
            "type": "surface"
           }
          ],
          "table": [
           {
            "cells": {
             "fill": {
              "color": "#EBF0F8"
             },
             "line": {
              "color": "white"
             }
            },
            "header": {
             "fill": {
              "color": "#C8D4E3"
             },
             "line": {
              "color": "white"
             }
            },
            "type": "table"
           }
          ]
         },
         "layout": {
          "annotationdefaults": {
           "arrowcolor": "#2a3f5f",
           "arrowhead": 0,
           "arrowwidth": 1
          },
          "autotypenumbers": "strict",
          "coloraxis": {
           "colorbar": {
            "outlinewidth": 0,
            "ticks": ""
           }
          },
          "colorscale": {
           "diverging": [
            [
             0,
             "#8e0152"
            ],
            [
             0.1,
             "#c51b7d"
            ],
            [
             0.2,
             "#de77ae"
            ],
            [
             0.3,
             "#f1b6da"
            ],
            [
             0.4,
             "#fde0ef"
            ],
            [
             0.5,
             "#f7f7f7"
            ],
            [
             0.6,
             "#e6f5d0"
            ],
            [
             0.7,
             "#b8e186"
            ],
            [
             0.8,
             "#7fbc41"
            ],
            [
             0.9,
             "#4d9221"
            ],
            [
             1,
             "#276419"
            ]
           ],
           "sequential": [
            [
             0,
             "#0d0887"
            ],
            [
             0.1111111111111111,
             "#46039f"
            ],
            [
             0.2222222222222222,
             "#7201a8"
            ],
            [
             0.3333333333333333,
             "#9c179e"
            ],
            [
             0.4444444444444444,
             "#bd3786"
            ],
            [
             0.5555555555555556,
             "#d8576b"
            ],
            [
             0.6666666666666666,
             "#ed7953"
            ],
            [
             0.7777777777777778,
             "#fb9f3a"
            ],
            [
             0.8888888888888888,
             "#fdca26"
            ],
            [
             1,
             "#f0f921"
            ]
           ],
           "sequentialminus": [
            [
             0,
             "#0d0887"
            ],
            [
             0.1111111111111111,
             "#46039f"
            ],
            [
             0.2222222222222222,
             "#7201a8"
            ],
            [
             0.3333333333333333,
             "#9c179e"
            ],
            [
             0.4444444444444444,
             "#bd3786"
            ],
            [
             0.5555555555555556,
             "#d8576b"
            ],
            [
             0.6666666666666666,
             "#ed7953"
            ],
            [
             0.7777777777777778,
             "#fb9f3a"
            ],
            [
             0.8888888888888888,
             "#fdca26"
            ],
            [
             1,
             "#f0f921"
            ]
           ]
          },
          "colorway": [
           "#636efa",
           "#EF553B",
           "#00cc96",
           "#ab63fa",
           "#FFA15A",
           "#19d3f3",
           "#FF6692",
           "#B6E880",
           "#FF97FF",
           "#FECB52"
          ],
          "font": {
           "color": "#2a3f5f"
          },
          "geo": {
           "bgcolor": "white",
           "lakecolor": "white",
           "landcolor": "#E5ECF6",
           "showlakes": true,
           "showland": true,
           "subunitcolor": "white"
          },
          "hoverlabel": {
           "align": "left"
          },
          "hovermode": "closest",
          "mapbox": {
           "style": "light"
          },
          "paper_bgcolor": "white",
          "plot_bgcolor": "#E5ECF6",
          "polar": {
           "angularaxis": {
            "gridcolor": "white",
            "linecolor": "white",
            "ticks": ""
           },
           "bgcolor": "#E5ECF6",
           "radialaxis": {
            "gridcolor": "white",
            "linecolor": "white",
            "ticks": ""
           }
          },
          "scene": {
           "xaxis": {
            "backgroundcolor": "#E5ECF6",
            "gridcolor": "white",
            "gridwidth": 2,
            "linecolor": "white",
            "showbackground": true,
            "ticks": "",
            "zerolinecolor": "white"
           },
           "yaxis": {
            "backgroundcolor": "#E5ECF6",
            "gridcolor": "white",
            "gridwidth": 2,
            "linecolor": "white",
            "showbackground": true,
            "ticks": "",
            "zerolinecolor": "white"
           },
           "zaxis": {
            "backgroundcolor": "#E5ECF6",
            "gridcolor": "white",
            "gridwidth": 2,
            "linecolor": "white",
            "showbackground": true,
            "ticks": "",
            "zerolinecolor": "white"
           }
          },
          "shapedefaults": {
           "line": {
            "color": "#2a3f5f"
           }
          },
          "ternary": {
           "aaxis": {
            "gridcolor": "white",
            "linecolor": "white",
            "ticks": ""
           },
           "baxis": {
            "gridcolor": "white",
            "linecolor": "white",
            "ticks": ""
           },
           "bgcolor": "#E5ECF6",
           "caxis": {
            "gridcolor": "white",
            "linecolor": "white",
            "ticks": ""
           }
          },
          "title": {
           "x": 0.05
          },
          "xaxis": {
           "automargin": true,
           "gridcolor": "white",
           "linecolor": "white",
           "ticks": "",
           "title": {
            "standoff": 15
           },
           "zerolinecolor": "white",
           "zerolinewidth": 2
          },
          "yaxis": {
           "automargin": true,
           "gridcolor": "white",
           "linecolor": "white",
           "ticks": "",
           "title": {
            "standoff": 15
           },
           "zerolinecolor": "white",
           "zerolinewidth": 2
          }
         }
        },
        "title": {
         "text": "Elbow Method for Optimal Clusters"
        },
        "xaxis": {
         "anchor": "y",
         "domain": [
          0,
          1
         ],
         "title": {
          "text": "Number of Clusters"
         }
        },
        "yaxis": {
         "anchor": "x",
         "domain": [
          0,
          1
         ],
         "title": {
          "text": "Total Sum of Squares"
         }
        }
       }
      },
      "text/html": [
       "<div>                            <div id=\"480dcfa6-711c-4550-9e15-9a2d6af94731\" class=\"plotly-graph-div\" style=\"height:525px; width:100%;\"></div>            <script type=\"text/javascript\">                require([\"plotly\"], function(Plotly) {                    window.PLOTLYENV=window.PLOTLYENV || {};                                    if (document.getElementById(\"480dcfa6-711c-4550-9e15-9a2d6af94731\")) {                    Plotly.newPlot(                        \"480dcfa6-711c-4550-9e15-9a2d6af94731\",                        [{\"hovertemplate\":\"Number of Clusters=%{x}\\u003cbr\\u003eTotal Sum of Squares=%{y}\\u003cextra\\u003e\\u003c\\u002fextra\\u003e\",\"legendgroup\":\"\",\"line\":{\"color\":\"#636efa\",\"dash\":\"solid\"},\"marker\":{\"symbol\":\"circle\"},\"mode\":\"lines\",\"name\":\"\",\"orientation\":\"v\",\"showlegend\":false,\"x\":[2,3,4,5,6,7,8,9,10],\"xaxis\":\"x\",\"y\":[2911.064744523164,2215.6798445636873,1658.1299603383131,1471.3715458890583,1241.5910886833833,1092.479834904529,985.6335691999105,916.4410778788407,893.4792186890597],\"yaxis\":\"y\",\"type\":\"scatter\"}],                        {\"template\":{\"data\":{\"histogram2dcontour\":[{\"type\":\"histogram2dcontour\",\"colorbar\":{\"outlinewidth\":0,\"ticks\":\"\"},\"colorscale\":[[0.0,\"#0d0887\"],[0.1111111111111111,\"#46039f\"],[0.2222222222222222,\"#7201a8\"],[0.3333333333333333,\"#9c179e\"],[0.4444444444444444,\"#bd3786\"],[0.5555555555555556,\"#d8576b\"],[0.6666666666666666,\"#ed7953\"],[0.7777777777777778,\"#fb9f3a\"],[0.8888888888888888,\"#fdca26\"],[1.0,\"#f0f921\"]]}],\"choropleth\":[{\"type\":\"choropleth\",\"colorbar\":{\"outlinewidth\":0,\"ticks\":\"\"}}],\"histogram2d\":[{\"type\":\"histogram2d\",\"colorbar\":{\"outlinewidth\":0,\"ticks\":\"\"},\"colorscale\":[[0.0,\"#0d0887\"],[0.1111111111111111,\"#46039f\"],[0.2222222222222222,\"#7201a8\"],[0.3333333333333333,\"#9c179e\"],[0.4444444444444444,\"#bd3786\"],[0.5555555555555556,\"#d8576b\"],[0.6666666666666666,\"#ed7953\"],[0.7777777777777778,\"#fb9f3a\"],[0.8888888888888888,\"#fdca26\"],[1.0,\"#f0f921\"]]}],\"heatmap\":[{\"type\":\"heatmap\",\"colorbar\":{\"outlinewidth\":0,\"ticks\":\"\"},\"colorscale\":[[0.0,\"#0d0887\"],[0.1111111111111111,\"#46039f\"],[0.2222222222222222,\"#7201a8\"],[0.3333333333333333,\"#9c179e\"],[0.4444444444444444,\"#bd3786\"],[0.5555555555555556,\"#d8576b\"],[0.6666666666666666,\"#ed7953\"],[0.7777777777777778,\"#fb9f3a\"],[0.8888888888888888,\"#fdca26\"],[1.0,\"#f0f921\"]]}],\"heatmapgl\":[{\"type\":\"heatmapgl\",\"colorbar\":{\"outlinewidth\":0,\"ticks\":\"\"},\"colorscale\":[[0.0,\"#0d0887\"],[0.1111111111111111,\"#46039f\"],[0.2222222222222222,\"#7201a8\"],[0.3333333333333333,\"#9c179e\"],[0.4444444444444444,\"#bd3786\"],[0.5555555555555556,\"#d8576b\"],[0.6666666666666666,\"#ed7953\"],[0.7777777777777778,\"#fb9f3a\"],[0.8888888888888888,\"#fdca26\"],[1.0,\"#f0f921\"]]}],\"contourcarpet\":[{\"type\":\"contourcarpet\",\"colorbar\":{\"outlinewidth\":0,\"ticks\":\"\"}}],\"contour\":[{\"type\":\"contour\",\"colorbar\":{\"outlinewidth\":0,\"ticks\":\"\"},\"colorscale\":[[0.0,\"#0d0887\"],[0.1111111111111111,\"#46039f\"],[0.2222222222222222,\"#7201a8\"],[0.3333333333333333,\"#9c179e\"],[0.4444444444444444,\"#bd3786\"],[0.5555555555555556,\"#d8576b\"],[0.6666666666666666,\"#ed7953\"],[0.7777777777777778,\"#fb9f3a\"],[0.8888888888888888,\"#fdca26\"],[1.0,\"#f0f921\"]]}],\"surface\":[{\"type\":\"surface\",\"colorbar\":{\"outlinewidth\":0,\"ticks\":\"\"},\"colorscale\":[[0.0,\"#0d0887\"],[0.1111111111111111,\"#46039f\"],[0.2222222222222222,\"#7201a8\"],[0.3333333333333333,\"#9c179e\"],[0.4444444444444444,\"#bd3786\"],[0.5555555555555556,\"#d8576b\"],[0.6666666666666666,\"#ed7953\"],[0.7777777777777778,\"#fb9f3a\"],[0.8888888888888888,\"#fdca26\"],[1.0,\"#f0f921\"]]}],\"mesh3d\":[{\"type\":\"mesh3d\",\"colorbar\":{\"outlinewidth\":0,\"ticks\":\"\"}}],\"scatter\":[{\"fillpattern\":{\"fillmode\":\"overlay\",\"size\":10,\"solidity\":0.2},\"type\":\"scatter\"}],\"parcoords\":[{\"type\":\"parcoords\",\"line\":{\"colorbar\":{\"outlinewidth\":0,\"ticks\":\"\"}}}],\"scatterpolargl\":[{\"type\":\"scatterpolargl\",\"marker\":{\"colorbar\":{\"outlinewidth\":0,\"ticks\":\"\"}}}],\"bar\":[{\"error_x\":{\"color\":\"#2a3f5f\"},\"error_y\":{\"color\":\"#2a3f5f\"},\"marker\":{\"line\":{\"color\":\"#E5ECF6\",\"width\":0.5},\"pattern\":{\"fillmode\":\"overlay\",\"size\":10,\"solidity\":0.2}},\"type\":\"bar\"}],\"scattergeo\":[{\"type\":\"scattergeo\",\"marker\":{\"colorbar\":{\"outlinewidth\":0,\"ticks\":\"\"}}}],\"scatterpolar\":[{\"type\":\"scatterpolar\",\"marker\":{\"colorbar\":{\"outlinewidth\":0,\"ticks\":\"\"}}}],\"histogram\":[{\"marker\":{\"pattern\":{\"fillmode\":\"overlay\",\"size\":10,\"solidity\":0.2}},\"type\":\"histogram\"}],\"scattergl\":[{\"type\":\"scattergl\",\"marker\":{\"colorbar\":{\"outlinewidth\":0,\"ticks\":\"\"}}}],\"scatter3d\":[{\"type\":\"scatter3d\",\"line\":{\"colorbar\":{\"outlinewidth\":0,\"ticks\":\"\"}},\"marker\":{\"colorbar\":{\"outlinewidth\":0,\"ticks\":\"\"}}}],\"scattermapbox\":[{\"type\":\"scattermapbox\",\"marker\":{\"colorbar\":{\"outlinewidth\":0,\"ticks\":\"\"}}}],\"scatterternary\":[{\"type\":\"scatterternary\",\"marker\":{\"colorbar\":{\"outlinewidth\":0,\"ticks\":\"\"}}}],\"scattercarpet\":[{\"type\":\"scattercarpet\",\"marker\":{\"colorbar\":{\"outlinewidth\":0,\"ticks\":\"\"}}}],\"carpet\":[{\"aaxis\":{\"endlinecolor\":\"#2a3f5f\",\"gridcolor\":\"white\",\"linecolor\":\"white\",\"minorgridcolor\":\"white\",\"startlinecolor\":\"#2a3f5f\"},\"baxis\":{\"endlinecolor\":\"#2a3f5f\",\"gridcolor\":\"white\",\"linecolor\":\"white\",\"minorgridcolor\":\"white\",\"startlinecolor\":\"#2a3f5f\"},\"type\":\"carpet\"}],\"table\":[{\"cells\":{\"fill\":{\"color\":\"#EBF0F8\"},\"line\":{\"color\":\"white\"}},\"header\":{\"fill\":{\"color\":\"#C8D4E3\"},\"line\":{\"color\":\"white\"}},\"type\":\"table\"}],\"barpolar\":[{\"marker\":{\"line\":{\"color\":\"#E5ECF6\",\"width\":0.5},\"pattern\":{\"fillmode\":\"overlay\",\"size\":10,\"solidity\":0.2}},\"type\":\"barpolar\"}],\"pie\":[{\"automargin\":true,\"type\":\"pie\"}]},\"layout\":{\"autotypenumbers\":\"strict\",\"colorway\":[\"#636efa\",\"#EF553B\",\"#00cc96\",\"#ab63fa\",\"#FFA15A\",\"#19d3f3\",\"#FF6692\",\"#B6E880\",\"#FF97FF\",\"#FECB52\"],\"font\":{\"color\":\"#2a3f5f\"},\"hovermode\":\"closest\",\"hoverlabel\":{\"align\":\"left\"},\"paper_bgcolor\":\"white\",\"plot_bgcolor\":\"#E5ECF6\",\"polar\":{\"bgcolor\":\"#E5ECF6\",\"angularaxis\":{\"gridcolor\":\"white\",\"linecolor\":\"white\",\"ticks\":\"\"},\"radialaxis\":{\"gridcolor\":\"white\",\"linecolor\":\"white\",\"ticks\":\"\"}},\"ternary\":{\"bgcolor\":\"#E5ECF6\",\"aaxis\":{\"gridcolor\":\"white\",\"linecolor\":\"white\",\"ticks\":\"\"},\"baxis\":{\"gridcolor\":\"white\",\"linecolor\":\"white\",\"ticks\":\"\"},\"caxis\":{\"gridcolor\":\"white\",\"linecolor\":\"white\",\"ticks\":\"\"}},\"coloraxis\":{\"colorbar\":{\"outlinewidth\":0,\"ticks\":\"\"}},\"colorscale\":{\"sequential\":[[0.0,\"#0d0887\"],[0.1111111111111111,\"#46039f\"],[0.2222222222222222,\"#7201a8\"],[0.3333333333333333,\"#9c179e\"],[0.4444444444444444,\"#bd3786\"],[0.5555555555555556,\"#d8576b\"],[0.6666666666666666,\"#ed7953\"],[0.7777777777777778,\"#fb9f3a\"],[0.8888888888888888,\"#fdca26\"],[1.0,\"#f0f921\"]],\"sequentialminus\":[[0.0,\"#0d0887\"],[0.1111111111111111,\"#46039f\"],[0.2222222222222222,\"#7201a8\"],[0.3333333333333333,\"#9c179e\"],[0.4444444444444444,\"#bd3786\"],[0.5555555555555556,\"#d8576b\"],[0.6666666666666666,\"#ed7953\"],[0.7777777777777778,\"#fb9f3a\"],[0.8888888888888888,\"#fdca26\"],[1.0,\"#f0f921\"]],\"diverging\":[[0,\"#8e0152\"],[0.1,\"#c51b7d\"],[0.2,\"#de77ae\"],[0.3,\"#f1b6da\"],[0.4,\"#fde0ef\"],[0.5,\"#f7f7f7\"],[0.6,\"#e6f5d0\"],[0.7,\"#b8e186\"],[0.8,\"#7fbc41\"],[0.9,\"#4d9221\"],[1,\"#276419\"]]},\"xaxis\":{\"gridcolor\":\"white\",\"linecolor\":\"white\",\"ticks\":\"\",\"title\":{\"standoff\":15},\"zerolinecolor\":\"white\",\"automargin\":true,\"zerolinewidth\":2},\"yaxis\":{\"gridcolor\":\"white\",\"linecolor\":\"white\",\"ticks\":\"\",\"title\":{\"standoff\":15},\"zerolinecolor\":\"white\",\"automargin\":true,\"zerolinewidth\":2},\"scene\":{\"xaxis\":{\"backgroundcolor\":\"#E5ECF6\",\"gridcolor\":\"white\",\"linecolor\":\"white\",\"showbackground\":true,\"ticks\":\"\",\"zerolinecolor\":\"white\",\"gridwidth\":2},\"yaxis\":{\"backgroundcolor\":\"#E5ECF6\",\"gridcolor\":\"white\",\"linecolor\":\"white\",\"showbackground\":true,\"ticks\":\"\",\"zerolinecolor\":\"white\",\"gridwidth\":2},\"zaxis\":{\"backgroundcolor\":\"#E5ECF6\",\"gridcolor\":\"white\",\"linecolor\":\"white\",\"showbackground\":true,\"ticks\":\"\",\"zerolinecolor\":\"white\",\"gridwidth\":2}},\"shapedefaults\":{\"line\":{\"color\":\"#2a3f5f\"}},\"annotationdefaults\":{\"arrowcolor\":\"#2a3f5f\",\"arrowhead\":0,\"arrowwidth\":1},\"geo\":{\"bgcolor\":\"white\",\"landcolor\":\"#E5ECF6\",\"subunitcolor\":\"white\",\"showland\":true,\"showlakes\":true,\"lakecolor\":\"white\"},\"title\":{\"x\":0.05},\"mapbox\":{\"style\":\"light\"}}},\"xaxis\":{\"anchor\":\"y\",\"domain\":[0.0,1.0],\"title\":{\"text\":\"Number of Clusters\"}},\"yaxis\":{\"anchor\":\"x\",\"domain\":[0.0,1.0],\"title\":{\"text\":\"Total Sum of Squares\"}},\"legend\":{\"tracegroupgap\":0},\"title\":{\"text\":\"Elbow Method for Optimal Clusters\"}},                        {\"responsive\": true}                    ).then(function(){\n",
       "                            \n",
       "var gd = document.getElementById('480dcfa6-711c-4550-9e15-9a2d6af94731');\n",
       "var x = new MutationObserver(function (mutations, observer) {{\n",
       "        var display = window.getComputedStyle(gd).display;\n",
       "        if (!display || display === 'none') {{\n",
       "            console.log([gd, 'removed!']);\n",
       "            Plotly.purge(gd);\n",
       "            observer.disconnect();\n",
       "        }}\n",
       "}});\n",
       "\n",
       "// Listen for the removal of the full notebook cells\n",
       "var notebookContainer = gd.closest('#notebook-container');\n",
       "if (notebookContainer) {{\n",
       "    x.observe(notebookContainer, {childList: true});\n",
       "}}\n",
       "\n",
       "// Listen for the clearing of the current output cell\n",
       "var outputEl = gd.closest('.output');\n",
       "if (outputEl) {{\n",
       "    x.observe(outputEl, {childList: true});\n",
       "}}\n",
       "\n",
       "                        })                };                });            </script>        </div>"
      ]
     },
     "metadata": {},
     "output_type": "display_data"
    }
   ],
   "source": [
    "#Visualize the results of the elbow method\n",
    "\n",
    "# Elbow Method for Center, Point Forward, and Shooting Forward\n",
    "css = []\n",
    "for i in range(2, 11):\n",
    "    kmeans = KMeans(n_clusters=i, random_state=1)\n",
    "    kmeans.fit(clust_data1)\n",
    "    css.append(kmeans.inertia_)\n",
    "               \n",
    "elbow_data = pd.DataFrame({'Clusters': range(2, 11), 'CSS': css})\n",
    "fig = px.line(elbow_data, x='Clusters', y='CSS', title='Elbow Method for Optimal Clusters',\n",
    "                 labels={'Clusters': 'Number of Clusters', 'CSS': 'Total Sum of Squares'})\n",
    "fig.show()"
   ]
  },
  {
   "cell_type": "code",
   "execution_count": 29,
   "metadata": {},
   "outputs": [
    {
     "data": {
      "application/vnd.plotly.v1+json": {
       "config": {
        "plotlyServerURL": "https://plot.ly"
       },
       "data": [
        {
         "hovertemplate": "Field Goals=%{x}<br>Assists=%{y}<br>Total Rebounds=%{z}<br>color=%{marker.color}<extra></extra>",
         "legendgroup": "",
         "marker": {
          "color": [
           1,
           0,
           0,
           2,
           2,
           1,
           0,
           2,
           1,
           0,
           2,
           3,
           1,
           2,
           2,
           1,
           0,
           2,
           0,
           3,
           3,
           0,
           1,
           2,
           1,
           0,
           3,
           1,
           2,
           2,
           1,
           1,
           3,
           1,
           1,
           1,
           2,
           2,
           1,
           1,
           2,
           2,
           3,
           2,
           1,
           2,
           2,
           1,
           1,
           3,
           1,
           1,
           2,
           3,
           2,
           2,
           3,
           1,
           1,
           1,
           2,
           3,
           1,
           2,
           0,
           2,
           2,
           0,
           1,
           2,
           2,
           2,
           1,
           1,
           1,
           1,
           0,
           1,
           3,
           1,
           1,
           1,
           1,
           3,
           1,
           3,
           0,
           1,
           1,
           3,
           1,
           2,
           1,
           1,
           1,
           1,
           0,
           1,
           3,
           3,
           2,
           0,
           0,
           1,
           1,
           1,
           2,
           2,
           2,
           1,
           3,
           3,
           1,
           1,
           1,
           3,
           2,
           1,
           3,
           2,
           3,
           3,
           2,
           0,
           1,
           1,
           1,
           1,
           2,
           3,
           1,
           1,
           1,
           1,
           2,
           1,
           2,
           1,
           3,
           1,
           1,
           3,
           2,
           1,
           1,
           1,
           0,
           3,
           1,
           2,
           2,
           1,
           1,
           1,
           3,
           3,
           2,
           2,
           2,
           3,
           2,
           0,
           0,
           1,
           2,
           1,
           1,
           1,
           1,
           2,
           1,
           3,
           3,
           1,
           1,
           2,
           3,
           3,
           2,
           2,
           1,
           2,
           1,
           1,
           1,
           2,
           1,
           2,
           1,
           2,
           2,
           1,
           1,
           1,
           1,
           1,
           2,
           1,
           2,
           2,
           1,
           2,
           2,
           2,
           1,
           0,
           2,
           2,
           3,
           2,
           2,
           1,
           1,
           2,
           3,
           1,
           2,
           1,
           1,
           1,
           2,
           0,
           3,
           1,
           1,
           1,
           1,
           2,
           1,
           1,
           1,
           2,
           2,
           3,
           2,
           2,
           3,
           1,
           1,
           2,
           1,
           1,
           2,
           2,
           1,
           2,
           1,
           3,
           1,
           1,
           1,
           3,
           0,
           1,
           2,
           3,
           2,
           1,
           2,
           1,
           2,
           3,
           2,
           2,
           1,
           2,
           2,
           2,
           2,
           2,
           1,
           2,
           2,
           2,
           1,
           1,
           1,
           2,
           1,
           1,
           2,
           1,
           1,
           1,
           1,
           3,
           1,
           1,
           2,
           0,
           0,
           1,
           3,
           3,
           1,
           1,
           0,
           1,
           1,
           2,
           2,
           2,
           2,
           1,
           0,
           2,
           2,
           2,
           2,
           1,
           2,
           1,
           2,
           1,
           0,
           1,
           1,
           1,
           1,
           3,
           3,
           3,
           2,
           0,
           1,
           2,
           1,
           3,
           2,
           1,
           2,
           3,
           2,
           1,
           0,
           2,
           2,
           2,
           0,
           1,
           1,
           1,
           3,
           1,
           2,
           2,
           1,
           2,
           3,
           2,
           2,
           2,
           2,
           1,
           2,
           0,
           1,
           1,
           0,
           0,
           3,
           1,
           2,
           2,
           1,
           1,
           1,
           1,
           1,
           2,
           1,
           3,
           1,
           1,
           1,
           1,
           1,
           1,
           1,
           0,
           2,
           1,
           2,
           1,
           0,
           2,
           1,
           3,
           1,
           0
          ],
          "coloraxis": "coloraxis",
          "opacity": 0.8,
          "size": 5,
          "symbol": "circle"
         },
         "mode": "markers",
         "name": "",
         "scene": "scene",
         "showlegend": false,
         "type": "scatter3d",
         "x": [
          3.6,
          2.8,
          7.3,
          1.7,
          1.1,
          3.9,
          6.6,
          2.4,
          3,
          10.3,
          1.5,
          5.5,
          6.4,
          0.6,
          1.9,
          3,
          7.6,
          2.2,
          6.2,
          7.2,
          4.6,
          4.2,
          6.7,
          1.3,
          5.1,
          6.2,
          7,
          5.5,
          1.3,
          2.3,
          3,
          4,
          8.7,
          4.2,
          3.1,
          5.5,
          1.8,
          2.6,
          2.4,
          3.6,
          1.1,
          0.5,
          9.7,
          2.5,
          3.4,
          1.6,
          1.3,
          5.6,
          3.1,
          6.8,
          7.1,
          3.6,
          1.7,
          8.7,
          1.2,
          1.6,
          6.4,
          2.9,
          3,
          3.5,
          1.5,
          7,
          4.7,
          1.6,
          5,
          1.3,
          2,
          5.8,
          2.5,
          0.9,
          1.8,
          3,
          4.5,
          5.9,
          3.8,
          3.1,
          6.3,
          2.7,
          4.8,
          3.5,
          3.5,
          2.7,
          3.2,
          6.7,
          5.5,
          8.4,
          9.3,
          3.8,
          2.4,
          10.2,
          4.5,
          1.2,
          5.3,
          3.2,
          5.7,
          3.6,
          5,
          4.9,
          10.5,
          7.6,
          2.3,
          9.8,
          6.2,
          2.4,
          2.9,
          4.1,
          0.8,
          1.6,
          2.9,
          5,
          8.7,
          4.6,
          2.6,
          4,
          3.9,
          8,
          0.8,
          2.9,
          8.6,
          1.7,
          5.2,
          8.5,
          1.4,
          5.5,
          5.8,
          4.7,
          3.9,
          6.3,
          2,
          2.9,
          6.1,
          2.4,
          2.7,
          3.7,
          1.9,
          2.4,
          2.1,
          4.5,
          6.2,
          2.7,
          5,
          5.5,
          1.8,
          4.4,
          3.9,
          4,
          6.8,
          7.1,
          3.4,
          1.1,
          0.9,
          3.5,
          2.7,
          5.8,
          7.6,
          7,
          0.8,
          2.2,
          2.3,
          7.1,
          2.8,
          4.4,
          3.9,
          3.7,
          2.2,
          4.7,
          4.8,
          3.3,
          2.8,
          1.5,
          2.6,
          8.2,
          10,
          3.2,
          5.5,
          0.8,
          6.4,
          11.4,
          2.6,
          1.1,
          4.2,
          1,
          2.3,
          6.3,
          3.6,
          2.4,
          3.1,
          2.1,
          3.5,
          0.4,
          2.4,
          3.4,
          2,
          2.7,
          4,
          4.1,
          3,
          2.4,
          1.2,
          0.9,
          1.9,
          2.7,
          1,
          2.3,
          3.4,
          6.4,
          1.9,
          1,
          8.4,
          2.7,
          1.9,
          2.4,
          5.3,
          2.5,
          7.7,
          3.5,
          2.2,
          2.5,
          4.7,
          3.1,
          1.7,
          4.4,
          4.4,
          3.6,
          4.1,
          3.9,
          5.1,
          2,
          3.5,
          2.9,
          3.5,
          2.8,
          1.8,
          6.4,
          0.8,
          2,
          9.5,
          3.7,
          3.6,
          2.2,
          4.2,
          3.9,
          1.9,
          1.4,
          3.8,
          1.3,
          3.4,
          6.8,
          4,
          3.1,
          4.7,
          9.2,
          6.1,
          5.1,
          1.5,
          10.2,
          2,
          5.6,
          3.2,
          5,
          1.8,
          8.4,
          2.6,
          1.6,
          3,
          1.4,
          2.9,
          3.2,
          1.1,
          2.3,
          1.3,
          3.2,
          1.5,
          1.8,
          3,
          2.6,
          3.1,
          0.9,
          3.3,
          3.1,
          1.4,
          4.4,
          3.2,
          3.7,
          5.4,
          5.6,
          4.1,
          3,
          0.7,
          2.8,
          6,
          3,
          6.2,
          5.5,
          4.1,
          3.1,
          5.8,
          3.3,
          6.4,
          2,
          2.6,
          2.3,
          1.5,
          3.6,
          7.1,
          2.4,
          1.8,
          1.7,
          1.4,
          3,
          1.2,
          3.9,
          2.2,
          3.7,
          3.6,
          2.7,
          3.7,
          4.7,
          3.5,
          7.1,
          4.4,
          6.2,
          1,
          7.5,
          6.2,
          2.8,
          2.7,
          8.8,
          0.4,
          6.2,
          1,
          4.2,
          2.1,
          4,
          5.1,
          0.5,
          0.3,
          2.5,
          3.5,
          3.7,
          4.1,
          4.7,
          9.3,
          4.1,
          1.9,
          0.5,
          3.2,
          3.3,
          7.7,
          0.7,
          2.3,
          1.8,
          0.6,
          3.5,
          1.6,
          8.7,
          6.4,
          2.9,
          4.8,
          2.9,
          6.8,
          4.6,
          3.1,
          1.9,
          5.8,
          3.1,
          4,
          4.4,
          3.8,
          1.5,
          3,
          7,
          4.6,
          3.6,
          3.1,
          6.5,
          2.7,
          3,
          3.2,
          4.4,
          3.1,
          2.8,
          0.7,
          4.3,
          6.5,
          1.6,
          2.6,
          9.4,
          2.3,
          4.1
         ],
         "y": [
          1.1,
          3.4,
          3.4,
          0.7,
          1.1,
          1.5,
          1.6,
          2.8,
          2.7,
          5.8,
          0.5,
          5.7,
          2.6,
          0.4,
          1.6,
          2,
          1.4,
          0,
          1.1,
          7.6,
          5.1,
          1.2,
          2.7,
          1.5,
          2.4,
          3.5,
          3,
          3.9,
          0.3,
          0.7,
          1.7,
          1.4,
          6.6,
          1.5,
          4.6,
          2.8,
          1,
          1.1,
          0.6,
          4.2,
          0.4,
          0.6,
          4.8,
          1,
          0.3,
          0.8,
          0.5,
          2.3,
          1.1,
          5.9,
          2.8,
          2.1,
          0.7,
          3.5,
          0.7,
          1,
          4.8,
          0.9,
          1.2,
          3,
          1.5,
          5.5,
          1.9,
          3.4,
          1.2,
          0,
          2.5,
          2.8,
          4,
          0.3,
          0.5,
          2,
          1.3,
          2.5,
          0.9,
          1.8,
          1.8,
          2.2,
          5.3,
          1.3,
          1,
          1.2,
          1.9,
          5.6,
          2.6,
          6.3,
          3.1,
          1.3,
          0.7,
          4.9,
          1.3,
          0.8,
          3.9,
          3.6,
          1.7,
          3.3,
          1.4,
          2.1,
          6.4,
          3.8,
          0.6,
          4.2,
          1.6,
          0.6,
          0.3,
          1.9,
          0.6,
          1.6,
          1,
          2.1,
          5.6,
          5.5,
          0.6,
          0.9,
          1.5,
          8.6,
          0.7,
          1,
          5.7,
          0.6,
          6.4,
          5.9,
          0.6,
          1.1,
          2.5,
          2.7,
          4.2,
          2.4,
          1,
          7,
          2.6,
          0.9,
          0.9,
          1.3,
          1.2,
          1.9,
          1,
          1.1,
          9.6,
          2.5,
          2.2,
          10.5,
          0.5,
          2,
          1.8,
          1,
          3.5,
          4.3,
          2.4,
          0.3,
          0.4,
          0.6,
          4.2,
          3.6,
          4,
          4.8,
          0.3,
          2.2,
          3.4,
          6.8,
          1.5,
          1.1,
          3.4,
          2.7,
          1,
          2.7,
          1.3,
          2.8,
          0.7,
          3.7,
          3.5,
          5.6,
          5.8,
          0.3,
          1.1,
          0.3,
          4.8,
          6.2,
          2.3,
          0.6,
          1.5,
          0.1,
          2.1,
          2.1,
          2.9,
          1.7,
          1.2,
          0.6,
          2.1,
          0.2,
          3.4,
          4.4,
          0.5,
          3.6,
          1.4,
          2.1,
          1.1,
          1.2,
          0.6,
          0.4,
          1.5,
          1.9,
          0.7,
          1.9,
          0.9,
          3.5,
          0.8,
          0.5,
          4.5,
          1,
          2.9,
          1.2,
          3.9,
          2,
          7.3,
          1.3,
          1.1,
          2,
          0.5,
          1.5,
          0.6,
          2.2,
          7.5,
          1.3,
          2.6,
          1.5,
          1.3,
          1.1,
          1.1,
          2.5,
          1.3,
          1,
          0.7,
          4.3,
          1,
          1,
          5.8,
          4.9,
          1.1,
          1.1,
          1.3,
          0.6,
          0.9,
          2.9,
          2.7,
          0.7,
          1,
          5.4,
          2.3,
          2.5,
          4.2,
          5.3,
          2.5,
          2.9,
          0.4,
          6.7,
          1,
          2.1,
          1.4,
          4.4,
          0.6,
          9.2,
          0.5,
          0.8,
          0.9,
          0.4,
          3.1,
          1.3,
          1.7,
          0.4,
          0.9,
          2.1,
          1.2,
          0.8,
          1,
          2.5,
          1.7,
          0.5,
          1.1,
          1.8,
          0.7,
          3.5,
          2.8,
          2,
          1.1,
          10.8,
          4.9,
          0.9,
          0.9,
          3.1,
          2.8,
          2.1,
          4,
          6.2,
          1.9,
          1.5,
          1.2,
          1.2,
          2.8,
          1.6,
          1,
          2,
          0.4,
          3.5,
          5.1,
          1.8,
          0.7,
          1.1,
          0.4,
          0.9,
          0.3,
          2.3,
          1.3,
          1.6,
          0.5,
          1,
          1.6,
          4,
          1.8,
          4.5,
          6.6,
          7.1,
          0,
          5.8,
          2.1,
          1.6,
          0.5,
          5.3,
          0,
          3.9,
          0.5,
          5.9,
          3.6,
          5.2,
          0.8,
          0,
          0.2,
          0.7,
          1.2,
          1.4,
          4.4,
          2.8,
          4.4,
          1.2,
          1.3,
          0,
          1,
          1.2,
          2.8,
          0.6,
          1.1,
          1.2,
          0.3,
          1.1,
          1.7,
          3.6,
          2,
          2.1,
          1,
          1.3,
          6.7,
          1.9,
          3.1,
          1,
          2.9,
          1.4,
          3.5,
          2.2,
          2.3,
          0.6,
          1.7,
          7.1,
          2.9,
          3.5,
          1.4,
          2.2,
          1,
          2.2,
          0.9,
          2,
          1,
          1.3,
          0.7,
          2.9,
          2.3,
          2.4,
          1.7,
          9.7,
          0.9,
          1.6
         ],
         "z": [
          6.5,
          10,
          10.1,
          2.7,
          1.5,
          3.4,
          10.8,
          1.9,
          5.3,
          11.6,
          2.1,
          5.4,
          5.5,
          0.8,
          1.3,
          5.2,
          10.2,
          4.2,
          6.8,
          6.7,
          5.4,
          8.1,
          4.4,
          1.9,
          5.6,
          7.5,
          5.8,
          4.8,
          2.7,
          3.9,
          4.3,
          6.3,
          4.7,
          2.9,
          4.1,
          5.4,
          4.3,
          3.5,
          4.6,
          3.4,
          1.4,
          1.2,
          5,
          2.2,
          6.2,
          1.7,
          3.4,
          4.2,
          5.3,
          5.1,
          3.2,
          4.8,
          2.8,
          6.1,
          3,
          3.1,
          3.9,
          4,
          3.5,
          4.9,
          1.1,
          5.9,
          3.4,
          1.8,
          11.9,
          2.3,
          2.2,
          10.5,
          3.6,
          2,
          3,
          2.5,
          5.3,
          3.5,
          5.6,
          2.9,
          7.8,
          5.5,
          3,
          4.2,
          5.1,
          4.3,
          5.3,
          5.5,
          2.6,
          5.2,
          9.9,
          3.1,
          5.8,
          5.2,
          4.8,
          2.8,
          3.1,
          4.4,
          4.2,
          2.8,
          10.3,
          4.1,
          7.4,
          4.8,
          3.6,
          11.7,
          8.5,
          4.7,
          4,
          4.7,
          0.9,
          1.4,
          0.9,
          2.6,
          3.9,
          2.7,
          4.3,
          5.7,
          4.7,
          3.3,
          3.5,
          4.4,
          6.9,
          4.4,
          7.8,
          5,
          1.9,
          14.7,
          5.9,
          2,
          2.3,
          4.1,
          2.5,
          7.3,
          3.4,
          4.2,
          4.2,
          3.1,
          2.4,
          4.1,
          2,
          3.8,
          4.3,
          3,
          3.7,
          7.1,
          2.4,
          4.9,
          2,
          4,
          6.8,
          5.4,
          4.9,
          1.9,
          1.1,
          4.5,
          3.2,
          4.6,
          5,
          5.1,
          1.4,
          2.9,
          2.5,
          4.5,
          2.2,
          7,
          7.7,
          3.2,
          2.7,
          3.4,
          3.3,
          2.7,
          5.3,
          3.2,
          2.9,
          5.8,
          4.4,
          4.1,
          5.8,
          1.2,
          3.6,
          8.2,
          1.6,
          1,
          4.1,
          1.2,
          3.5,
          6.1,
          2.7,
          3.2,
          4.4,
          3.3,
          3.8,
          0.5,
          2.2,
          2.4,
          5.8,
          2.7,
          4.6,
          3.3,
          2.7,
          5.9,
          2.3,
          1.3,
          4.6,
          2.6,
          2.1,
          3.4,
          3.3,
          8.5,
          2.6,
          1,
          4.6,
          3.2,
          2.4,
          4.1,
          3.4,
          1.6,
          4.1,
          5.6,
          3,
          7.3,
          4.1,
          3.5,
          2.1,
          7.2,
          4.5,
          5.6,
          5.2,
          2.9,
          5.7,
          2.6,
          3.8,
          4,
          3.8,
          2.9,
          1.9,
          3.2,
          1.1,
          3,
          4.5,
          3.3,
          4.2,
          3.1,
          2.3,
          6.7,
          2.2,
          1.5,
          4.5,
          1.2,
          5.6,
          5.4,
          1.9,
          2.6,
          2.2,
          4.2,
          8.3,
          3.4,
          1.5,
          5.7,
          4,
          4.4,
          2.6,
          3,
          2.4,
          8.3,
          3,
          1.6,
          4.3,
          1.7,
          1.9,
          2.7,
          1.4,
          3.6,
          5.6,
          2,
          1.4,
          3.3,
          3.6,
          4.8,
          5,
          1.4,
          5.9,
          3,
          2,
          2.9,
          4.4,
          2.2,
          4,
          4.4,
          3,
          3.5,
          1.1,
          7.7,
          9.3,
          5.2,
          3.4,
          4.4,
          6.6,
          5.7,
          9.1,
          4.9,
          2.8,
          2.3,
          2.5,
          1.9,
          1.6,
          3.2,
          9.9,
          3.2,
          1.4,
          2.3,
          2.4,
          3.9,
          1.7,
          2.9,
          1.7,
          2.6,
          8.6,
          5.6,
          4.8,
          3,
          2.6,
          4.3,
          4.1,
          3.3,
          0,
          12.3,
          3.3,
          1.8,
          5,
          8.5,
          1.1,
          2.6,
          4.1,
          3.8,
          2.4,
          3,
          7.6,
          1,
          0,
          2.6,
          8.7,
          3,
          3.6,
          5.4,
          8,
          5.2,
          2.4,
          0,
          4.7,
          2.4,
          3.9,
          1.3,
          2.3,
          3,
          1,
          3.7,
          2.4,
          9.8,
          2.7,
          5.5,
          7.1,
          8.4,
          4.4,
          4.3,
          1.9,
          2.9,
          4.5,
          3.7,
          3,
          2.6,
          5.2,
          2.4,
          4.1,
          7.4,
          3,
          3.4,
          3.6,
          4.5,
          3.6,
          4.5,
          4.1,
          9.6,
          2.1,
          4,
          1.8,
          6.3,
          10.1,
          2.9,
          4.4,
          3.7,
          5.3,
          8.5
         ]
        }
       ],
       "layout": {
        "coloraxis": {
         "colorbar": {
          "title": {
           "text": "color"
          }
         },
         "colorscale": [
          [
           0,
           "#440154"
          ],
          [
           0.1111111111111111,
           "#482878"
          ],
          [
           0.2222222222222222,
           "#3e4989"
          ],
          [
           0.3333333333333333,
           "#31688e"
          ],
          [
           0.4444444444444444,
           "#26828e"
          ],
          [
           0.5555555555555556,
           "#1f9e89"
          ],
          [
           0.6666666666666666,
           "#35b779"
          ],
          [
           0.7777777777777778,
           "#6ece58"
          ],
          [
           0.8888888888888888,
           "#b5de2b"
          ],
          [
           1,
           "#fde725"
          ]
         ]
        },
        "legend": {
         "tracegroupgap": 0
        },
        "scene": {
         "domain": {
          "x": [
           0,
           1
          ],
          "y": [
           0,
           1
          ]
         },
         "xaxis": {
          "title": {
           "text": "Field Goals"
          }
         },
         "yaxis": {
          "title": {
           "text": "Assists"
          }
         },
         "zaxis": {
          "title": {
           "text": "Total Rebounds"
          }
         }
        },
        "template": {
         "data": {
          "bar": [
           {
            "error_x": {
             "color": "#2a3f5f"
            },
            "error_y": {
             "color": "#2a3f5f"
            },
            "marker": {
             "line": {
              "color": "#E5ECF6",
              "width": 0.5
             },
             "pattern": {
              "fillmode": "overlay",
              "size": 10,
              "solidity": 0.2
             }
            },
            "type": "bar"
           }
          ],
          "barpolar": [
           {
            "marker": {
             "line": {
              "color": "#E5ECF6",
              "width": 0.5
             },
             "pattern": {
              "fillmode": "overlay",
              "size": 10,
              "solidity": 0.2
             }
            },
            "type": "barpolar"
           }
          ],
          "carpet": [
           {
            "aaxis": {
             "endlinecolor": "#2a3f5f",
             "gridcolor": "white",
             "linecolor": "white",
             "minorgridcolor": "white",
             "startlinecolor": "#2a3f5f"
            },
            "baxis": {
             "endlinecolor": "#2a3f5f",
             "gridcolor": "white",
             "linecolor": "white",
             "minorgridcolor": "white",
             "startlinecolor": "#2a3f5f"
            },
            "type": "carpet"
           }
          ],
          "choropleth": [
           {
            "colorbar": {
             "outlinewidth": 0,
             "ticks": ""
            },
            "type": "choropleth"
           }
          ],
          "contour": [
           {
            "colorbar": {
             "outlinewidth": 0,
             "ticks": ""
            },
            "colorscale": [
             [
              0,
              "#0d0887"
             ],
             [
              0.1111111111111111,
              "#46039f"
             ],
             [
              0.2222222222222222,
              "#7201a8"
             ],
             [
              0.3333333333333333,
              "#9c179e"
             ],
             [
              0.4444444444444444,
              "#bd3786"
             ],
             [
              0.5555555555555556,
              "#d8576b"
             ],
             [
              0.6666666666666666,
              "#ed7953"
             ],
             [
              0.7777777777777778,
              "#fb9f3a"
             ],
             [
              0.8888888888888888,
              "#fdca26"
             ],
             [
              1,
              "#f0f921"
             ]
            ],
            "type": "contour"
           }
          ],
          "contourcarpet": [
           {
            "colorbar": {
             "outlinewidth": 0,
             "ticks": ""
            },
            "type": "contourcarpet"
           }
          ],
          "heatmap": [
           {
            "colorbar": {
             "outlinewidth": 0,
             "ticks": ""
            },
            "colorscale": [
             [
              0,
              "#0d0887"
             ],
             [
              0.1111111111111111,
              "#46039f"
             ],
             [
              0.2222222222222222,
              "#7201a8"
             ],
             [
              0.3333333333333333,
              "#9c179e"
             ],
             [
              0.4444444444444444,
              "#bd3786"
             ],
             [
              0.5555555555555556,
              "#d8576b"
             ],
             [
              0.6666666666666666,
              "#ed7953"
             ],
             [
              0.7777777777777778,
              "#fb9f3a"
             ],
             [
              0.8888888888888888,
              "#fdca26"
             ],
             [
              1,
              "#f0f921"
             ]
            ],
            "type": "heatmap"
           }
          ],
          "heatmapgl": [
           {
            "colorbar": {
             "outlinewidth": 0,
             "ticks": ""
            },
            "colorscale": [
             [
              0,
              "#0d0887"
             ],
             [
              0.1111111111111111,
              "#46039f"
             ],
             [
              0.2222222222222222,
              "#7201a8"
             ],
             [
              0.3333333333333333,
              "#9c179e"
             ],
             [
              0.4444444444444444,
              "#bd3786"
             ],
             [
              0.5555555555555556,
              "#d8576b"
             ],
             [
              0.6666666666666666,
              "#ed7953"
             ],
             [
              0.7777777777777778,
              "#fb9f3a"
             ],
             [
              0.8888888888888888,
              "#fdca26"
             ],
             [
              1,
              "#f0f921"
             ]
            ],
            "type": "heatmapgl"
           }
          ],
          "histogram": [
           {
            "marker": {
             "pattern": {
              "fillmode": "overlay",
              "size": 10,
              "solidity": 0.2
             }
            },
            "type": "histogram"
           }
          ],
          "histogram2d": [
           {
            "colorbar": {
             "outlinewidth": 0,
             "ticks": ""
            },
            "colorscale": [
             [
              0,
              "#0d0887"
             ],
             [
              0.1111111111111111,
              "#46039f"
             ],
             [
              0.2222222222222222,
              "#7201a8"
             ],
             [
              0.3333333333333333,
              "#9c179e"
             ],
             [
              0.4444444444444444,
              "#bd3786"
             ],
             [
              0.5555555555555556,
              "#d8576b"
             ],
             [
              0.6666666666666666,
              "#ed7953"
             ],
             [
              0.7777777777777778,
              "#fb9f3a"
             ],
             [
              0.8888888888888888,
              "#fdca26"
             ],
             [
              1,
              "#f0f921"
             ]
            ],
            "type": "histogram2d"
           }
          ],
          "histogram2dcontour": [
           {
            "colorbar": {
             "outlinewidth": 0,
             "ticks": ""
            },
            "colorscale": [
             [
              0,
              "#0d0887"
             ],
             [
              0.1111111111111111,
              "#46039f"
             ],
             [
              0.2222222222222222,
              "#7201a8"
             ],
             [
              0.3333333333333333,
              "#9c179e"
             ],
             [
              0.4444444444444444,
              "#bd3786"
             ],
             [
              0.5555555555555556,
              "#d8576b"
             ],
             [
              0.6666666666666666,
              "#ed7953"
             ],
             [
              0.7777777777777778,
              "#fb9f3a"
             ],
             [
              0.8888888888888888,
              "#fdca26"
             ],
             [
              1,
              "#f0f921"
             ]
            ],
            "type": "histogram2dcontour"
           }
          ],
          "mesh3d": [
           {
            "colorbar": {
             "outlinewidth": 0,
             "ticks": ""
            },
            "type": "mesh3d"
           }
          ],
          "parcoords": [
           {
            "line": {
             "colorbar": {
              "outlinewidth": 0,
              "ticks": ""
             }
            },
            "type": "parcoords"
           }
          ],
          "pie": [
           {
            "automargin": true,
            "type": "pie"
           }
          ],
          "scatter": [
           {
            "fillpattern": {
             "fillmode": "overlay",
             "size": 10,
             "solidity": 0.2
            },
            "type": "scatter"
           }
          ],
          "scatter3d": [
           {
            "line": {
             "colorbar": {
              "outlinewidth": 0,
              "ticks": ""
             }
            },
            "marker": {
             "colorbar": {
              "outlinewidth": 0,
              "ticks": ""
             }
            },
            "type": "scatter3d"
           }
          ],
          "scattercarpet": [
           {
            "marker": {
             "colorbar": {
              "outlinewidth": 0,
              "ticks": ""
             }
            },
            "type": "scattercarpet"
           }
          ],
          "scattergeo": [
           {
            "marker": {
             "colorbar": {
              "outlinewidth": 0,
              "ticks": ""
             }
            },
            "type": "scattergeo"
           }
          ],
          "scattergl": [
           {
            "marker": {
             "colorbar": {
              "outlinewidth": 0,
              "ticks": ""
             }
            },
            "type": "scattergl"
           }
          ],
          "scattermapbox": [
           {
            "marker": {
             "colorbar": {
              "outlinewidth": 0,
              "ticks": ""
             }
            },
            "type": "scattermapbox"
           }
          ],
          "scatterpolar": [
           {
            "marker": {
             "colorbar": {
              "outlinewidth": 0,
              "ticks": ""
             }
            },
            "type": "scatterpolar"
           }
          ],
          "scatterpolargl": [
           {
            "marker": {
             "colorbar": {
              "outlinewidth": 0,
              "ticks": ""
             }
            },
            "type": "scatterpolargl"
           }
          ],
          "scatterternary": [
           {
            "marker": {
             "colorbar": {
              "outlinewidth": 0,
              "ticks": ""
             }
            },
            "type": "scatterternary"
           }
          ],
          "surface": [
           {
            "colorbar": {
             "outlinewidth": 0,
             "ticks": ""
            },
            "colorscale": [
             [
              0,
              "#0d0887"
             ],
             [
              0.1111111111111111,
              "#46039f"
             ],
             [
              0.2222222222222222,
              "#7201a8"
             ],
             [
              0.3333333333333333,
              "#9c179e"
             ],
             [
              0.4444444444444444,
              "#bd3786"
             ],
             [
              0.5555555555555556,
              "#d8576b"
             ],
             [
              0.6666666666666666,
              "#ed7953"
             ],
             [
              0.7777777777777778,
              "#fb9f3a"
             ],
             [
              0.8888888888888888,
              "#fdca26"
             ],
             [
              1,
              "#f0f921"
             ]
            ],
            "type": "surface"
           }
          ],
          "table": [
           {
            "cells": {
             "fill": {
              "color": "#EBF0F8"
             },
             "line": {
              "color": "white"
             }
            },
            "header": {
             "fill": {
              "color": "#C8D4E3"
             },
             "line": {
              "color": "white"
             }
            },
            "type": "table"
           }
          ]
         },
         "layout": {
          "annotationdefaults": {
           "arrowcolor": "#2a3f5f",
           "arrowhead": 0,
           "arrowwidth": 1
          },
          "autotypenumbers": "strict",
          "coloraxis": {
           "colorbar": {
            "outlinewidth": 0,
            "ticks": ""
           }
          },
          "colorscale": {
           "diverging": [
            [
             0,
             "#8e0152"
            ],
            [
             0.1,
             "#c51b7d"
            ],
            [
             0.2,
             "#de77ae"
            ],
            [
             0.3,
             "#f1b6da"
            ],
            [
             0.4,
             "#fde0ef"
            ],
            [
             0.5,
             "#f7f7f7"
            ],
            [
             0.6,
             "#e6f5d0"
            ],
            [
             0.7,
             "#b8e186"
            ],
            [
             0.8,
             "#7fbc41"
            ],
            [
             0.9,
             "#4d9221"
            ],
            [
             1,
             "#276419"
            ]
           ],
           "sequential": [
            [
             0,
             "#0d0887"
            ],
            [
             0.1111111111111111,
             "#46039f"
            ],
            [
             0.2222222222222222,
             "#7201a8"
            ],
            [
             0.3333333333333333,
             "#9c179e"
            ],
            [
             0.4444444444444444,
             "#bd3786"
            ],
            [
             0.5555555555555556,
             "#d8576b"
            ],
            [
             0.6666666666666666,
             "#ed7953"
            ],
            [
             0.7777777777777778,
             "#fb9f3a"
            ],
            [
             0.8888888888888888,
             "#fdca26"
            ],
            [
             1,
             "#f0f921"
            ]
           ],
           "sequentialminus": [
            [
             0,
             "#0d0887"
            ],
            [
             0.1111111111111111,
             "#46039f"
            ],
            [
             0.2222222222222222,
             "#7201a8"
            ],
            [
             0.3333333333333333,
             "#9c179e"
            ],
            [
             0.4444444444444444,
             "#bd3786"
            ],
            [
             0.5555555555555556,
             "#d8576b"
            ],
            [
             0.6666666666666666,
             "#ed7953"
            ],
            [
             0.7777777777777778,
             "#fb9f3a"
            ],
            [
             0.8888888888888888,
             "#fdca26"
            ],
            [
             1,
             "#f0f921"
            ]
           ]
          },
          "colorway": [
           "#636efa",
           "#EF553B",
           "#00cc96",
           "#ab63fa",
           "#FFA15A",
           "#19d3f3",
           "#FF6692",
           "#B6E880",
           "#FF97FF",
           "#FECB52"
          ],
          "font": {
           "color": "#2a3f5f"
          },
          "geo": {
           "bgcolor": "white",
           "lakecolor": "white",
           "landcolor": "#E5ECF6",
           "showlakes": true,
           "showland": true,
           "subunitcolor": "white"
          },
          "hoverlabel": {
           "align": "left"
          },
          "hovermode": "closest",
          "mapbox": {
           "style": "light"
          },
          "paper_bgcolor": "white",
          "plot_bgcolor": "#E5ECF6",
          "polar": {
           "angularaxis": {
            "gridcolor": "white",
            "linecolor": "white",
            "ticks": ""
           },
           "bgcolor": "#E5ECF6",
           "radialaxis": {
            "gridcolor": "white",
            "linecolor": "white",
            "ticks": ""
           }
          },
          "scene": {
           "xaxis": {
            "backgroundcolor": "#E5ECF6",
            "gridcolor": "white",
            "gridwidth": 2,
            "linecolor": "white",
            "showbackground": true,
            "ticks": "",
            "zerolinecolor": "white"
           },
           "yaxis": {
            "backgroundcolor": "#E5ECF6",
            "gridcolor": "white",
            "gridwidth": 2,
            "linecolor": "white",
            "showbackground": true,
            "ticks": "",
            "zerolinecolor": "white"
           },
           "zaxis": {
            "backgroundcolor": "#E5ECF6",
            "gridcolor": "white",
            "gridwidth": 2,
            "linecolor": "white",
            "showbackground": true,
            "ticks": "",
            "zerolinecolor": "white"
           }
          },
          "shapedefaults": {
           "line": {
            "color": "#2a3f5f"
           }
          },
          "ternary": {
           "aaxis": {
            "gridcolor": "white",
            "linecolor": "white",
            "ticks": ""
           },
           "baxis": {
            "gridcolor": "white",
            "linecolor": "white",
            "ticks": ""
           },
           "bgcolor": "#E5ECF6",
           "caxis": {
            "gridcolor": "white",
            "linecolor": "white",
            "ticks": ""
           }
          },
          "title": {
           "x": 0.05
          },
          "xaxis": {
           "automargin": true,
           "gridcolor": "white",
           "linecolor": "white",
           "ticks": "",
           "title": {
            "standoff": 15
           },
           "zerolinecolor": "white",
           "zerolinewidth": 2
          },
          "yaxis": {
           "automargin": true,
           "gridcolor": "white",
           "linecolor": "white",
           "ticks": "",
           "title": {
            "standoff": 15
           },
           "zerolinecolor": "white",
           "zerolinewidth": 2
          }
         }
        },
        "title": {
         "text": "NBA Players Clustering"
        }
       }
      },
      "text/html": [
       "<div>                            <div id=\"6611aad6-bef0-49e4-96dc-057656eadb2f\" class=\"plotly-graph-div\" style=\"height:525px; width:100%;\"></div>            <script type=\"text/javascript\">                require([\"plotly\"], function(Plotly) {                    window.PLOTLYENV=window.PLOTLYENV || {};                                    if (document.getElementById(\"6611aad6-bef0-49e4-96dc-057656eadb2f\")) {                    Plotly.newPlot(                        \"6611aad6-bef0-49e4-96dc-057656eadb2f\",                        [{\"hovertemplate\":\"Field Goals=%{x}\\u003cbr\\u003eAssists=%{y}\\u003cbr\\u003eTotal Rebounds=%{z}\\u003cbr\\u003ecolor=%{marker.color}\\u003cextra\\u003e\\u003c\\u002fextra\\u003e\",\"legendgroup\":\"\",\"marker\":{\"color\":[1,0,0,2,2,1,0,2,1,0,2,3,1,2,2,1,0,2,0,3,3,0,1,2,1,0,3,1,2,2,1,1,3,1,1,1,2,2,1,1,2,2,3,2,1,2,2,1,1,3,1,1,2,3,2,2,3,1,1,1,2,3,1,2,0,2,2,0,1,2,2,2,1,1,1,1,0,1,3,1,1,1,1,3,1,3,0,1,1,3,1,2,1,1,1,1,0,1,3,3,2,0,0,1,1,1,2,2,2,1,3,3,1,1,1,3,2,1,3,2,3,3,2,0,1,1,1,1,2,3,1,1,1,1,2,1,2,1,3,1,1,3,2,1,1,1,0,3,1,2,2,1,1,1,3,3,2,2,2,3,2,0,0,1,2,1,1,1,1,2,1,3,3,1,1,2,3,3,2,2,1,2,1,1,1,2,1,2,1,2,2,1,1,1,1,1,2,1,2,2,1,2,2,2,1,0,2,2,3,2,2,1,1,2,3,1,2,1,1,1,2,0,3,1,1,1,1,2,1,1,1,2,2,3,2,2,3,1,1,2,1,1,2,2,1,2,1,3,1,1,1,3,0,1,2,3,2,1,2,1,2,3,2,2,1,2,2,2,2,2,1,2,2,2,1,1,1,2,1,1,2,1,1,1,1,3,1,1,2,0,0,1,3,3,1,1,0,1,1,2,2,2,2,1,0,2,2,2,2,1,2,1,2,1,0,1,1,1,1,3,3,3,2,0,1,2,1,3,2,1,2,3,2,1,0,2,2,2,0,1,1,1,3,1,2,2,1,2,3,2,2,2,2,1,2,0,1,1,0,0,3,1,2,2,1,1,1,1,1,2,1,3,1,1,1,1,1,1,1,0,2,1,2,1,0,2,1,3,1,0],\"coloraxis\":\"coloraxis\",\"symbol\":\"circle\",\"opacity\":0.8,\"size\":5},\"mode\":\"markers\",\"name\":\"\",\"scene\":\"scene\",\"showlegend\":false,\"x\":[3.6,2.8,7.3,1.7,1.1,3.9,6.6,2.4,3.0,10.3,1.5,5.5,6.4,0.6,1.9,3.0,7.6,2.2,6.2,7.2,4.6,4.2,6.7,1.3,5.1,6.2,7.0,5.5,1.3,2.3,3.0,4.0,8.7,4.2,3.1,5.5,1.8,2.6,2.4,3.6,1.1,0.5,9.7,2.5,3.4,1.6,1.3,5.6,3.1,6.8,7.1,3.6,1.7,8.7,1.2,1.6,6.4,2.9,3.0,3.5,1.5,7.0,4.7,1.6,5.0,1.3,2.0,5.8,2.5,0.9,1.8,3.0,4.5,5.9,3.8,3.1,6.3,2.7,4.8,3.5,3.5,2.7,3.2,6.7,5.5,8.4,9.3,3.8,2.4,10.2,4.5,1.2,5.3,3.2,5.7,3.6,5.0,4.9,10.5,7.6,2.3,9.8,6.2,2.4,2.9,4.1,0.8,1.6,2.9,5.0,8.7,4.6,2.6,4.0,3.9,8.0,0.8,2.9,8.6,1.7,5.2,8.5,1.4,5.5,5.8,4.7,3.9,6.3,2.0,2.9,6.1,2.4,2.7,3.7,1.9,2.4,2.1,4.5,6.2,2.7,5.0,5.5,1.8,4.4,3.9,4.0,6.8,7.1,3.4,1.1,0.9,3.5,2.7,5.8,7.6,7.0,0.8,2.2,2.3,7.1,2.8,4.4,3.9,3.7,2.2,4.7,4.8,3.3,2.8,1.5,2.6,8.2,10.0,3.2,5.5,0.8,6.4,11.4,2.6,1.1,4.2,1.0,2.3,6.3,3.6,2.4,3.1,2.1,3.5,0.4,2.4,3.4,2.0,2.7,4.0,4.1,3.0,2.4,1.2,0.9,1.9,2.7,1.0,2.3,3.4,6.4,1.9,1.0,8.4,2.7,1.9,2.4,5.3,2.5,7.7,3.5,2.2,2.5,4.7,3.1,1.7,4.4,4.4,3.6,4.1,3.9,5.1,2.0,3.5,2.9,3.5,2.8,1.8,6.4,0.8,2.0,9.5,3.7,3.6,2.2,4.2,3.9,1.9,1.4,3.8,1.3,3.4,6.8,4.0,3.1,4.7,9.2,6.1,5.1,1.5,10.2,2.0,5.6,3.2,5.0,1.8,8.4,2.6,1.6,3.0,1.4,2.9,3.2,1.1,2.3,1.3,3.2,1.5,1.8,3.0,2.6,3.1,0.9,3.3,3.1,1.4,4.4,3.2,3.7,5.4,5.6,4.1,3.0,0.7,2.8,6.0,3.0,6.2,5.5,4.1,3.1,5.8,3.3,6.4,2.0,2.6,2.3,1.5,3.6,7.1,2.4,1.8,1.7,1.4,3.0,1.2,3.9,2.2,3.7,3.6,2.7,3.7,4.7,3.5,7.1,4.4,6.2,1.0,7.5,6.2,2.8,2.7,8.8,0.4,6.2,1.0,4.2,2.1,4.0,5.1,0.5,0.3,2.5,3.5,3.7,4.1,4.7,9.3,4.1,1.9,0.5,3.2,3.3,7.7,0.7,2.3,1.8,0.6,3.5,1.6,8.7,6.4,2.9,4.8,2.9,6.8,4.6,3.1,1.9,5.8,3.1,4.0,4.4,3.8,1.5,3.0,7.0,4.6,3.6,3.1,6.5,2.7,3.0,3.2,4.4,3.1,2.8,0.7,4.3,6.5,1.6,2.6,9.4,2.3,4.1],\"y\":[1.1,3.4,3.4,0.7,1.1,1.5,1.6,2.8,2.7,5.8,0.5,5.7,2.6,0.4,1.6,2.0,1.4,0.0,1.1,7.6,5.1,1.2,2.7,1.5,2.4,3.5,3.0,3.9,0.3,0.7,1.7,1.4,6.6,1.5,4.6,2.8,1.0,1.1,0.6,4.2,0.4,0.6,4.8,1.0,0.3,0.8,0.5,2.3,1.1,5.9,2.8,2.1,0.7,3.5,0.7,1.0,4.8,0.9,1.2,3.0,1.5,5.5,1.9,3.4,1.2,0.0,2.5,2.8,4.0,0.3,0.5,2.0,1.3,2.5,0.9,1.8,1.8,2.2,5.3,1.3,1.0,1.2,1.9,5.6,2.6,6.3,3.1,1.3,0.7,4.9,1.3,0.8,3.9,3.6,1.7,3.3,1.4,2.1,6.4,3.8,0.6,4.2,1.6,0.6,0.3,1.9,0.6,1.6,1.0,2.1,5.6,5.5,0.6,0.9,1.5,8.6,0.7,1.0,5.7,0.6,6.4,5.9,0.6,1.1,2.5,2.7,4.2,2.4,1.0,7.0,2.6,0.9,0.9,1.3,1.2,1.9,1.0,1.1,9.6,2.5,2.2,10.5,0.5,2.0,1.8,1.0,3.5,4.3,2.4,0.3,0.4,0.6,4.2,3.6,4.0,4.8,0.3,2.2,3.4,6.8,1.5,1.1,3.4,2.7,1.0,2.7,1.3,2.8,0.7,3.7,3.5,5.6,5.8,0.3,1.1,0.3,4.8,6.2,2.3,0.6,1.5,0.1,2.1,2.1,2.9,1.7,1.2,0.6,2.1,0.2,3.4,4.4,0.5,3.6,1.4,2.1,1.1,1.2,0.6,0.4,1.5,1.9,0.7,1.9,0.9,3.5,0.8,0.5,4.5,1.0,2.9,1.2,3.9,2.0,7.3,1.3,1.1,2.0,0.5,1.5,0.6,2.2,7.5,1.3,2.6,1.5,1.3,1.1,1.1,2.5,1.3,1.0,0.7,4.3,1.0,1.0,5.8,4.9,1.1,1.1,1.3,0.6,0.9,2.9,2.7,0.7,1.0,5.4,2.3,2.5,4.2,5.3,2.5,2.9,0.4,6.7,1.0,2.1,1.4,4.4,0.6,9.2,0.5,0.8,0.9,0.4,3.1,1.3,1.7,0.4,0.9,2.1,1.2,0.8,1.0,2.5,1.7,0.5,1.1,1.8,0.7,3.5,2.8,2.0,1.1,10.8,4.9,0.9,0.9,3.1,2.8,2.1,4.0,6.2,1.9,1.5,1.2,1.2,2.8,1.6,1.0,2.0,0.4,3.5,5.1,1.8,0.7,1.1,0.4,0.9,0.3,2.3,1.3,1.6,0.5,1.0,1.6,4.0,1.8,4.5,6.6,7.1,0.0,5.8,2.1,1.6,0.5,5.3,0.0,3.9,0.5,5.9,3.6,5.2,0.8,0.0,0.2,0.7,1.2,1.4,4.4,2.8,4.4,1.2,1.3,0.0,1.0,1.2,2.8,0.6,1.1,1.2,0.3,1.1,1.7,3.6,2.0,2.1,1.0,1.3,6.7,1.9,3.1,1.0,2.9,1.4,3.5,2.2,2.3,0.6,1.7,7.1,2.9,3.5,1.4,2.2,1.0,2.2,0.9,2.0,1.0,1.3,0.7,2.9,2.3,2.4,1.7,9.7,0.9,1.6],\"z\":[6.5,10.0,10.1,2.7,1.5,3.4,10.8,1.9,5.3,11.6,2.1,5.4,5.5,0.8,1.3,5.2,10.2,4.2,6.8,6.7,5.4,8.1,4.4,1.9,5.6,7.5,5.8,4.8,2.7,3.9,4.3,6.3,4.7,2.9,4.1,5.4,4.3,3.5,4.6,3.4,1.4,1.2,5.0,2.2,6.2,1.7,3.4,4.2,5.3,5.1,3.2,4.8,2.8,6.1,3.0,3.1,3.9,4.0,3.5,4.9,1.1,5.9,3.4,1.8,11.9,2.3,2.2,10.5,3.6,2.0,3.0,2.5,5.3,3.5,5.6,2.9,7.8,5.5,3.0,4.2,5.1,4.3,5.3,5.5,2.6,5.2,9.9,3.1,5.8,5.2,4.8,2.8,3.1,4.4,4.2,2.8,10.3,4.1,7.4,4.8,3.6,11.7,8.5,4.7,4.0,4.7,0.9,1.4,0.9,2.6,3.9,2.7,4.3,5.7,4.7,3.3,3.5,4.4,6.9,4.4,7.8,5.0,1.9,14.7,5.9,2.0,2.3,4.1,2.5,7.3,3.4,4.2,4.2,3.1,2.4,4.1,2.0,3.8,4.3,3.0,3.7,7.1,2.4,4.9,2.0,4.0,6.8,5.4,4.9,1.9,1.1,4.5,3.2,4.6,5.0,5.1,1.4,2.9,2.5,4.5,2.2,7.0,7.7,3.2,2.7,3.4,3.3,2.7,5.3,3.2,2.9,5.8,4.4,4.1,5.8,1.2,3.6,8.2,1.6,1.0,4.1,1.2,3.5,6.1,2.7,3.2,4.4,3.3,3.8,0.5,2.2,2.4,5.8,2.7,4.6,3.3,2.7,5.9,2.3,1.3,4.6,2.6,2.1,3.4,3.3,8.5,2.6,1.0,4.6,3.2,2.4,4.1,3.4,1.6,4.1,5.6,3.0,7.3,4.1,3.5,2.1,7.2,4.5,5.6,5.2,2.9,5.7,2.6,3.8,4.0,3.8,2.9,1.9,3.2,1.1,3.0,4.5,3.3,4.2,3.1,2.3,6.7,2.2,1.5,4.5,1.2,5.6,5.4,1.9,2.6,2.2,4.2,8.3,3.4,1.5,5.7,4.0,4.4,2.6,3.0,2.4,8.3,3.0,1.6,4.3,1.7,1.9,2.7,1.4,3.6,5.6,2.0,1.4,3.3,3.6,4.8,5.0,1.4,5.9,3.0,2.0,2.9,4.4,2.2,4.0,4.4,3.0,3.5,1.1,7.7,9.3,5.2,3.4,4.4,6.6,5.7,9.1,4.9,2.8,2.3,2.5,1.9,1.6,3.2,9.9,3.2,1.4,2.3,2.4,3.9,1.7,2.9,1.7,2.6,8.6,5.6,4.8,3.0,2.6,4.3,4.1,3.3,0.0,12.3,3.3,1.8,5.0,8.5,1.1,2.6,4.1,3.8,2.4,3.0,7.6,1.0,0.0,2.6,8.7,3.0,3.6,5.4,8.0,5.2,2.4,0.0,4.7,2.4,3.9,1.3,2.3,3.0,1.0,3.7,2.4,9.8,2.7,5.5,7.1,8.4,4.4,4.3,1.9,2.9,4.5,3.7,3.0,2.6,5.2,2.4,4.1,7.4,3.0,3.4,3.6,4.5,3.6,4.5,4.1,9.6,2.1,4.0,1.8,6.3,10.1,2.9,4.4,3.7,5.3,8.5],\"type\":\"scatter3d\"}],                        {\"template\":{\"data\":{\"histogram2dcontour\":[{\"type\":\"histogram2dcontour\",\"colorbar\":{\"outlinewidth\":0,\"ticks\":\"\"},\"colorscale\":[[0.0,\"#0d0887\"],[0.1111111111111111,\"#46039f\"],[0.2222222222222222,\"#7201a8\"],[0.3333333333333333,\"#9c179e\"],[0.4444444444444444,\"#bd3786\"],[0.5555555555555556,\"#d8576b\"],[0.6666666666666666,\"#ed7953\"],[0.7777777777777778,\"#fb9f3a\"],[0.8888888888888888,\"#fdca26\"],[1.0,\"#f0f921\"]]}],\"choropleth\":[{\"type\":\"choropleth\",\"colorbar\":{\"outlinewidth\":0,\"ticks\":\"\"}}],\"histogram2d\":[{\"type\":\"histogram2d\",\"colorbar\":{\"outlinewidth\":0,\"ticks\":\"\"},\"colorscale\":[[0.0,\"#0d0887\"],[0.1111111111111111,\"#46039f\"],[0.2222222222222222,\"#7201a8\"],[0.3333333333333333,\"#9c179e\"],[0.4444444444444444,\"#bd3786\"],[0.5555555555555556,\"#d8576b\"],[0.6666666666666666,\"#ed7953\"],[0.7777777777777778,\"#fb9f3a\"],[0.8888888888888888,\"#fdca26\"],[1.0,\"#f0f921\"]]}],\"heatmap\":[{\"type\":\"heatmap\",\"colorbar\":{\"outlinewidth\":0,\"ticks\":\"\"},\"colorscale\":[[0.0,\"#0d0887\"],[0.1111111111111111,\"#46039f\"],[0.2222222222222222,\"#7201a8\"],[0.3333333333333333,\"#9c179e\"],[0.4444444444444444,\"#bd3786\"],[0.5555555555555556,\"#d8576b\"],[0.6666666666666666,\"#ed7953\"],[0.7777777777777778,\"#fb9f3a\"],[0.8888888888888888,\"#fdca26\"],[1.0,\"#f0f921\"]]}],\"heatmapgl\":[{\"type\":\"heatmapgl\",\"colorbar\":{\"outlinewidth\":0,\"ticks\":\"\"},\"colorscale\":[[0.0,\"#0d0887\"],[0.1111111111111111,\"#46039f\"],[0.2222222222222222,\"#7201a8\"],[0.3333333333333333,\"#9c179e\"],[0.4444444444444444,\"#bd3786\"],[0.5555555555555556,\"#d8576b\"],[0.6666666666666666,\"#ed7953\"],[0.7777777777777778,\"#fb9f3a\"],[0.8888888888888888,\"#fdca26\"],[1.0,\"#f0f921\"]]}],\"contourcarpet\":[{\"type\":\"contourcarpet\",\"colorbar\":{\"outlinewidth\":0,\"ticks\":\"\"}}],\"contour\":[{\"type\":\"contour\",\"colorbar\":{\"outlinewidth\":0,\"ticks\":\"\"},\"colorscale\":[[0.0,\"#0d0887\"],[0.1111111111111111,\"#46039f\"],[0.2222222222222222,\"#7201a8\"],[0.3333333333333333,\"#9c179e\"],[0.4444444444444444,\"#bd3786\"],[0.5555555555555556,\"#d8576b\"],[0.6666666666666666,\"#ed7953\"],[0.7777777777777778,\"#fb9f3a\"],[0.8888888888888888,\"#fdca26\"],[1.0,\"#f0f921\"]]}],\"surface\":[{\"type\":\"surface\",\"colorbar\":{\"outlinewidth\":0,\"ticks\":\"\"},\"colorscale\":[[0.0,\"#0d0887\"],[0.1111111111111111,\"#46039f\"],[0.2222222222222222,\"#7201a8\"],[0.3333333333333333,\"#9c179e\"],[0.4444444444444444,\"#bd3786\"],[0.5555555555555556,\"#d8576b\"],[0.6666666666666666,\"#ed7953\"],[0.7777777777777778,\"#fb9f3a\"],[0.8888888888888888,\"#fdca26\"],[1.0,\"#f0f921\"]]}],\"mesh3d\":[{\"type\":\"mesh3d\",\"colorbar\":{\"outlinewidth\":0,\"ticks\":\"\"}}],\"scatter\":[{\"fillpattern\":{\"fillmode\":\"overlay\",\"size\":10,\"solidity\":0.2},\"type\":\"scatter\"}],\"parcoords\":[{\"type\":\"parcoords\",\"line\":{\"colorbar\":{\"outlinewidth\":0,\"ticks\":\"\"}}}],\"scatterpolargl\":[{\"type\":\"scatterpolargl\",\"marker\":{\"colorbar\":{\"outlinewidth\":0,\"ticks\":\"\"}}}],\"bar\":[{\"error_x\":{\"color\":\"#2a3f5f\"},\"error_y\":{\"color\":\"#2a3f5f\"},\"marker\":{\"line\":{\"color\":\"#E5ECF6\",\"width\":0.5},\"pattern\":{\"fillmode\":\"overlay\",\"size\":10,\"solidity\":0.2}},\"type\":\"bar\"}],\"scattergeo\":[{\"type\":\"scattergeo\",\"marker\":{\"colorbar\":{\"outlinewidth\":0,\"ticks\":\"\"}}}],\"scatterpolar\":[{\"type\":\"scatterpolar\",\"marker\":{\"colorbar\":{\"outlinewidth\":0,\"ticks\":\"\"}}}],\"histogram\":[{\"marker\":{\"pattern\":{\"fillmode\":\"overlay\",\"size\":10,\"solidity\":0.2}},\"type\":\"histogram\"}],\"scattergl\":[{\"type\":\"scattergl\",\"marker\":{\"colorbar\":{\"outlinewidth\":0,\"ticks\":\"\"}}}],\"scatter3d\":[{\"type\":\"scatter3d\",\"line\":{\"colorbar\":{\"outlinewidth\":0,\"ticks\":\"\"}},\"marker\":{\"colorbar\":{\"outlinewidth\":0,\"ticks\":\"\"}}}],\"scattermapbox\":[{\"type\":\"scattermapbox\",\"marker\":{\"colorbar\":{\"outlinewidth\":0,\"ticks\":\"\"}}}],\"scatterternary\":[{\"type\":\"scatterternary\",\"marker\":{\"colorbar\":{\"outlinewidth\":0,\"ticks\":\"\"}}}],\"scattercarpet\":[{\"type\":\"scattercarpet\",\"marker\":{\"colorbar\":{\"outlinewidth\":0,\"ticks\":\"\"}}}],\"carpet\":[{\"aaxis\":{\"endlinecolor\":\"#2a3f5f\",\"gridcolor\":\"white\",\"linecolor\":\"white\",\"minorgridcolor\":\"white\",\"startlinecolor\":\"#2a3f5f\"},\"baxis\":{\"endlinecolor\":\"#2a3f5f\",\"gridcolor\":\"white\",\"linecolor\":\"white\",\"minorgridcolor\":\"white\",\"startlinecolor\":\"#2a3f5f\"},\"type\":\"carpet\"}],\"table\":[{\"cells\":{\"fill\":{\"color\":\"#EBF0F8\"},\"line\":{\"color\":\"white\"}},\"header\":{\"fill\":{\"color\":\"#C8D4E3\"},\"line\":{\"color\":\"white\"}},\"type\":\"table\"}],\"barpolar\":[{\"marker\":{\"line\":{\"color\":\"#E5ECF6\",\"width\":0.5},\"pattern\":{\"fillmode\":\"overlay\",\"size\":10,\"solidity\":0.2}},\"type\":\"barpolar\"}],\"pie\":[{\"automargin\":true,\"type\":\"pie\"}]},\"layout\":{\"autotypenumbers\":\"strict\",\"colorway\":[\"#636efa\",\"#EF553B\",\"#00cc96\",\"#ab63fa\",\"#FFA15A\",\"#19d3f3\",\"#FF6692\",\"#B6E880\",\"#FF97FF\",\"#FECB52\"],\"font\":{\"color\":\"#2a3f5f\"},\"hovermode\":\"closest\",\"hoverlabel\":{\"align\":\"left\"},\"paper_bgcolor\":\"white\",\"plot_bgcolor\":\"#E5ECF6\",\"polar\":{\"bgcolor\":\"#E5ECF6\",\"angularaxis\":{\"gridcolor\":\"white\",\"linecolor\":\"white\",\"ticks\":\"\"},\"radialaxis\":{\"gridcolor\":\"white\",\"linecolor\":\"white\",\"ticks\":\"\"}},\"ternary\":{\"bgcolor\":\"#E5ECF6\",\"aaxis\":{\"gridcolor\":\"white\",\"linecolor\":\"white\",\"ticks\":\"\"},\"baxis\":{\"gridcolor\":\"white\",\"linecolor\":\"white\",\"ticks\":\"\"},\"caxis\":{\"gridcolor\":\"white\",\"linecolor\":\"white\",\"ticks\":\"\"}},\"coloraxis\":{\"colorbar\":{\"outlinewidth\":0,\"ticks\":\"\"}},\"colorscale\":{\"sequential\":[[0.0,\"#0d0887\"],[0.1111111111111111,\"#46039f\"],[0.2222222222222222,\"#7201a8\"],[0.3333333333333333,\"#9c179e\"],[0.4444444444444444,\"#bd3786\"],[0.5555555555555556,\"#d8576b\"],[0.6666666666666666,\"#ed7953\"],[0.7777777777777778,\"#fb9f3a\"],[0.8888888888888888,\"#fdca26\"],[1.0,\"#f0f921\"]],\"sequentialminus\":[[0.0,\"#0d0887\"],[0.1111111111111111,\"#46039f\"],[0.2222222222222222,\"#7201a8\"],[0.3333333333333333,\"#9c179e\"],[0.4444444444444444,\"#bd3786\"],[0.5555555555555556,\"#d8576b\"],[0.6666666666666666,\"#ed7953\"],[0.7777777777777778,\"#fb9f3a\"],[0.8888888888888888,\"#fdca26\"],[1.0,\"#f0f921\"]],\"diverging\":[[0,\"#8e0152\"],[0.1,\"#c51b7d\"],[0.2,\"#de77ae\"],[0.3,\"#f1b6da\"],[0.4,\"#fde0ef\"],[0.5,\"#f7f7f7\"],[0.6,\"#e6f5d0\"],[0.7,\"#b8e186\"],[0.8,\"#7fbc41\"],[0.9,\"#4d9221\"],[1,\"#276419\"]]},\"xaxis\":{\"gridcolor\":\"white\",\"linecolor\":\"white\",\"ticks\":\"\",\"title\":{\"standoff\":15},\"zerolinecolor\":\"white\",\"automargin\":true,\"zerolinewidth\":2},\"yaxis\":{\"gridcolor\":\"white\",\"linecolor\":\"white\",\"ticks\":\"\",\"title\":{\"standoff\":15},\"zerolinecolor\":\"white\",\"automargin\":true,\"zerolinewidth\":2},\"scene\":{\"xaxis\":{\"backgroundcolor\":\"#E5ECF6\",\"gridcolor\":\"white\",\"linecolor\":\"white\",\"showbackground\":true,\"ticks\":\"\",\"zerolinecolor\":\"white\",\"gridwidth\":2},\"yaxis\":{\"backgroundcolor\":\"#E5ECF6\",\"gridcolor\":\"white\",\"linecolor\":\"white\",\"showbackground\":true,\"ticks\":\"\",\"zerolinecolor\":\"white\",\"gridwidth\":2},\"zaxis\":{\"backgroundcolor\":\"#E5ECF6\",\"gridcolor\":\"white\",\"linecolor\":\"white\",\"showbackground\":true,\"ticks\":\"\",\"zerolinecolor\":\"white\",\"gridwidth\":2}},\"shapedefaults\":{\"line\":{\"color\":\"#2a3f5f\"}},\"annotationdefaults\":{\"arrowcolor\":\"#2a3f5f\",\"arrowhead\":0,\"arrowwidth\":1},\"geo\":{\"bgcolor\":\"white\",\"landcolor\":\"#E5ECF6\",\"subunitcolor\":\"white\",\"showland\":true,\"showlakes\":true,\"lakecolor\":\"white\"},\"title\":{\"x\":0.05},\"mapbox\":{\"style\":\"light\"}}},\"scene\":{\"domain\":{\"x\":[0.0,1.0],\"y\":[0.0,1.0]},\"xaxis\":{\"title\":{\"text\":\"Field Goals\"}},\"yaxis\":{\"title\":{\"text\":\"Assists\"}},\"zaxis\":{\"title\":{\"text\":\"Total Rebounds\"}}},\"coloraxis\":{\"colorbar\":{\"title\":{\"text\":\"color\"}},\"colorscale\":[[0.0,\"#440154\"],[0.1111111111111111,\"#482878\"],[0.2222222222222222,\"#3e4989\"],[0.3333333333333333,\"#31688e\"],[0.4444444444444444,\"#26828e\"],[0.5555555555555556,\"#1f9e89\"],[0.6666666666666666,\"#35b779\"],[0.7777777777777778,\"#6ece58\"],[0.8888888888888888,\"#b5de2b\"],[1.0,\"#fde725\"]]},\"legend\":{\"tracegroupgap\":0},\"title\":{\"text\":\"NBA Players Clustering\"}},                        {\"responsive\": true}                    ).then(function(){\n",
       "                            \n",
       "var gd = document.getElementById('6611aad6-bef0-49e4-96dc-057656eadb2f');\n",
       "var x = new MutationObserver(function (mutations, observer) {{\n",
       "        var display = window.getComputedStyle(gd).display;\n",
       "        if (!display || display === 'none') {{\n",
       "            console.log([gd, 'removed!']);\n",
       "            Plotly.purge(gd);\n",
       "            observer.disconnect();\n",
       "        }}\n",
       "}});\n",
       "\n",
       "// Listen for the removal of the full notebook cells\n",
       "var notebookContainer = gd.closest('#notebook-container');\n",
       "if (notebookContainer) {{\n",
       "    x.observe(notebookContainer, {childList: true});\n",
       "}}\n",
       "\n",
       "// Listen for the clearing of the current output cell\n",
       "var outputEl = gd.closest('.output');\n",
       "if (outputEl) {{\n",
       "    x.observe(outputEl, {childList: true});\n",
       "}}\n",
       "\n",
       "                        })                };                });            </script>        </div>"
      ]
     },
     "metadata": {},
     "output_type": "display_data"
    }
   ],
   "source": [
    "#Use the recommended number of cluster (assuming it's different) to retrain your model and visualize the results\n",
    "\n",
    "# Assuming the recommended number of clusters is 3 for the Center, Point Forward, and Shooting Forward\n",
    "kmeans_obj1 = KMeans(n_clusters=4, random_state=1).fit(clust_data1)\n",
    "NBA['Cluster'] = kmeans_obj1.labels_\n",
    "fig = px.scatter_3d(NBA, x='FG', y='AST', z='TRB', color=kmeans_obj1.labels_,\n",
    "                     title='NBA Players Clustering',\n",
    "                     labels={'FG': 'Field Goals', 'AST': 'Assists', 'TRB': 'Total Rebounds'},\n",
    "                     color_continuous_scale=px.colors.sequential.Viridis)\n",
    "fig.update_traces(marker=dict(size=5, opacity=0.8))\n",
    "fig.show()"
   ]
  },
  {
   "cell_type": "code",
   "execution_count": 30,
   "metadata": {},
   "outputs": [
    {
     "name": "stdout",
     "output_type": "stream",
     "text": [
      "Cluster Evaluation:\n",
      "Total Variance Explained: 0.7311622765220694\n",
      "Silhouette Score: 0.33689040253226216\n"
     ]
    },
    {
     "name": "stderr",
     "output_type": "stream",
     "text": [
      "/home/vscode/.local/lib/python3.12/site-packages/numpy/_core/fromnumeric.py:84: FutureWarning:\n",
      "\n",
      "The behavior of DataFrame.sum with axis=None is deprecated, in a future version this will reduce over both axes and return a scalar. To retain the old behavior, pass axis=0 (or do not pass axis)\n",
      "\n"
     ]
    }
   ],
   "source": [
    "#Once again evaluate the quality of the clustering using total variance explained and silhouette scores\n",
    "print(\"Cluster Evaluation:\")\n",
    "# Total Variance Explained and Silhouette Score for  Center, Point Forward, and Shooting Forward\n",
    "# Total Variance Explained\n",
    "total_sum_squares = np.sum((clust_data1 - np.mean(clust_data1))**2)\n",
    "total = np.sum(total_sum_squares)\n",
    "between_SSE = (total-kmeans_obj1.inertia_)\n",
    "var_explained = between_SSE/total\n",
    "print(f'Total Variance Explained: {var_explained}')\n",
    "# Silhouette Score\n",
    "silhouette_avg = silhouette_score(clust_data1, kmeans_obj1.labels_)\n",
    "print(f'Silhouette Score: {silhouette_avg}')"
   ]
  },
  {
   "cell_type": "code",
   "execution_count": 34,
   "metadata": {},
   "outputs": [
    {
     "data": {
      "application/vnd.microsoft.datawrangler.viewer.v0+json": {
       "columns": [
        {
         "name": "index",
         "rawType": "int64",
         "type": "integer"
        },
        {
         "name": "Player",
         "rawType": "object",
         "type": "string"
        },
        {
         "name": "Pos",
         "rawType": "object",
         "type": "string"
        },
        {
         "name": "Age",
         "rawType": "int64",
         "type": "integer"
        },
        {
         "name": "Tm",
         "rawType": "object",
         "type": "string"
        },
        {
         "name": "G",
         "rawType": "int64",
         "type": "integer"
        },
        {
         "name": "MP",
         "rawType": "float64",
         "type": "float"
        },
        {
         "name": "FG",
         "rawType": "float64",
         "type": "float"
        },
        {
         "name": "3P",
         "rawType": "float64",
         "type": "float"
        },
        {
         "name": "2P",
         "rawType": "float64",
         "type": "float"
        },
        {
         "name": "eFG%",
         "rawType": "float64",
         "type": "float"
        },
        {
         "name": "FT",
         "rawType": "float64",
         "type": "float"
        },
        {
         "name": "TRB",
         "rawType": "float64",
         "type": "float"
        },
        {
         "name": "AST",
         "rawType": "float64",
         "type": "float"
        },
        {
         "name": "STL",
         "rawType": "float64",
         "type": "float"
        },
        {
         "name": "BLK",
         "rawType": "float64",
         "type": "float"
        },
        {
         "name": "TOV",
         "rawType": "float64",
         "type": "float"
        },
        {
         "name": "PF",
         "rawType": "float64",
         "type": "float"
        },
        {
         "name": "PTS",
         "rawType": "float64",
         "type": "float"
        },
        {
         "name": "ï»¿Player",
         "rawType": "object",
         "type": "string"
        },
        {
         "name": "Salary",
         "rawType": "float64",
         "type": "float"
        },
        {
         "name": "Cluster",
         "rawType": "int32",
         "type": "integer"
        }
       ],
       "conversionMethod": "pd.DataFrame",
       "ref": "07079401-1fc2-4205-bbd0-0003dc0507bb",
       "rows": [
        [
         "0",
         "Precious Achiuwa",
         "C",
         "22",
         "TOR",
         "73",
         "23.6",
         "3.6",
         "0.8",
         "2.9",
         "0.486",
         "1.1",
         "6.5",
         "1.1",
         "0.5",
         "0.6",
         "1.2",
         "2.1",
         "9.1",
         "Precious Achiuwa",
         "2840160.0",
         "1"
        ],
        [
         "1",
         "Steven Adams",
         "C",
         "28",
         "MEM",
         "76",
         "26.3",
         "2.8",
         "0.0",
         "2.8",
         "0.547",
         "1.4",
         "10.0",
         "3.4",
         "0.9",
         "0.8",
         "1.5",
         "2.0",
         "6.9",
         "Steven Adams",
         "17926829.0",
         "0"
        ],
        [
         "2",
         "Bam Adebayo",
         "C",
         "24",
         "MIA",
         "56",
         "32.6",
         "7.3",
         "0.0",
         "7.3",
         "0.557",
         "4.6",
         "10.1",
         "3.4",
         "1.4",
         "0.8",
         "2.6",
         "3.1",
         "19.1",
         "Bam Adebayo",
         "30351780.0",
         "0"
        ],
        [
         "3",
         "Santi Aldama",
         "PF",
         "21",
         "MEM",
         "32",
         "11.3",
         "1.7",
         "0.2",
         "1.5",
         "0.424",
         "0.6",
         "2.7",
         "0.7",
         "0.2",
         "0.3",
         "0.5",
         "1.1",
         "4.1",
         "Santi Aldama",
         "2094120.0",
         "2"
        ],
        [
         "6",
         "Nickeil Alexander-Walker",
         "SG",
         "23",
         "UTA",
         "15",
         "9.9",
         "1.1",
         "0.7",
         "0.4",
         "0.438",
         "0.7",
         "1.5",
         "1.1",
         "0.3",
         "0.3",
         "0.5",
         "1.0",
         "3.5",
         "Nickeil Alexander-Walker",
         "5009633.0",
         "2"
        ]
       ],
       "shape": {
        "columns": 21,
        "rows": 5
       }
      },
      "text/html": [
       "<div>\n",
       "<style scoped>\n",
       "    .dataframe tbody tr th:only-of-type {\n",
       "        vertical-align: middle;\n",
       "    }\n",
       "\n",
       "    .dataframe tbody tr th {\n",
       "        vertical-align: top;\n",
       "    }\n",
       "\n",
       "    .dataframe thead th {\n",
       "        text-align: right;\n",
       "    }\n",
       "</style>\n",
       "<table border=\"1\" class=\"dataframe\">\n",
       "  <thead>\n",
       "    <tr style=\"text-align: right;\">\n",
       "      <th></th>\n",
       "      <th>Player</th>\n",
       "      <th>Pos</th>\n",
       "      <th>Age</th>\n",
       "      <th>Tm</th>\n",
       "      <th>G</th>\n",
       "      <th>MP</th>\n",
       "      <th>FG</th>\n",
       "      <th>3P</th>\n",
       "      <th>2P</th>\n",
       "      <th>eFG%</th>\n",
       "      <th>...</th>\n",
       "      <th>TRB</th>\n",
       "      <th>AST</th>\n",
       "      <th>STL</th>\n",
       "      <th>BLK</th>\n",
       "      <th>TOV</th>\n",
       "      <th>PF</th>\n",
       "      <th>PTS</th>\n",
       "      <th>ï»¿Player</th>\n",
       "      <th>Salary</th>\n",
       "      <th>Cluster</th>\n",
       "    </tr>\n",
       "  </thead>\n",
       "  <tbody>\n",
       "    <tr>\n",
       "      <th>0</th>\n",
       "      <td>Precious Achiuwa</td>\n",
       "      <td>C</td>\n",
       "      <td>22</td>\n",
       "      <td>TOR</td>\n",
       "      <td>73</td>\n",
       "      <td>23.6</td>\n",
       "      <td>3.6</td>\n",
       "      <td>0.8</td>\n",
       "      <td>2.9</td>\n",
       "      <td>0.486</td>\n",
       "      <td>...</td>\n",
       "      <td>6.5</td>\n",
       "      <td>1.1</td>\n",
       "      <td>0.5</td>\n",
       "      <td>0.6</td>\n",
       "      <td>1.2</td>\n",
       "      <td>2.1</td>\n",
       "      <td>9.1</td>\n",
       "      <td>Precious Achiuwa</td>\n",
       "      <td>2840160.0</td>\n",
       "      <td>1</td>\n",
       "    </tr>\n",
       "    <tr>\n",
       "      <th>1</th>\n",
       "      <td>Steven Adams</td>\n",
       "      <td>C</td>\n",
       "      <td>28</td>\n",
       "      <td>MEM</td>\n",
       "      <td>76</td>\n",
       "      <td>26.3</td>\n",
       "      <td>2.8</td>\n",
       "      <td>0.0</td>\n",
       "      <td>2.8</td>\n",
       "      <td>0.547</td>\n",
       "      <td>...</td>\n",
       "      <td>10.0</td>\n",
       "      <td>3.4</td>\n",
       "      <td>0.9</td>\n",
       "      <td>0.8</td>\n",
       "      <td>1.5</td>\n",
       "      <td>2.0</td>\n",
       "      <td>6.9</td>\n",
       "      <td>Steven Adams</td>\n",
       "      <td>17926829.0</td>\n",
       "      <td>0</td>\n",
       "    </tr>\n",
       "    <tr>\n",
       "      <th>2</th>\n",
       "      <td>Bam Adebayo</td>\n",
       "      <td>C</td>\n",
       "      <td>24</td>\n",
       "      <td>MIA</td>\n",
       "      <td>56</td>\n",
       "      <td>32.6</td>\n",
       "      <td>7.3</td>\n",
       "      <td>0.0</td>\n",
       "      <td>7.3</td>\n",
       "      <td>0.557</td>\n",
       "      <td>...</td>\n",
       "      <td>10.1</td>\n",
       "      <td>3.4</td>\n",
       "      <td>1.4</td>\n",
       "      <td>0.8</td>\n",
       "      <td>2.6</td>\n",
       "      <td>3.1</td>\n",
       "      <td>19.1</td>\n",
       "      <td>Bam Adebayo</td>\n",
       "      <td>30351780.0</td>\n",
       "      <td>0</td>\n",
       "    </tr>\n",
       "    <tr>\n",
       "      <th>3</th>\n",
       "      <td>Santi Aldama</td>\n",
       "      <td>PF</td>\n",
       "      <td>21</td>\n",
       "      <td>MEM</td>\n",
       "      <td>32</td>\n",
       "      <td>11.3</td>\n",
       "      <td>1.7</td>\n",
       "      <td>0.2</td>\n",
       "      <td>1.5</td>\n",
       "      <td>0.424</td>\n",
       "      <td>...</td>\n",
       "      <td>2.7</td>\n",
       "      <td>0.7</td>\n",
       "      <td>0.2</td>\n",
       "      <td>0.3</td>\n",
       "      <td>0.5</td>\n",
       "      <td>1.1</td>\n",
       "      <td>4.1</td>\n",
       "      <td>Santi Aldama</td>\n",
       "      <td>2094120.0</td>\n",
       "      <td>2</td>\n",
       "    </tr>\n",
       "    <tr>\n",
       "      <th>6</th>\n",
       "      <td>Nickeil Alexander-Walker</td>\n",
       "      <td>SG</td>\n",
       "      <td>23</td>\n",
       "      <td>UTA</td>\n",
       "      <td>15</td>\n",
       "      <td>9.9</td>\n",
       "      <td>1.1</td>\n",
       "      <td>0.7</td>\n",
       "      <td>0.4</td>\n",
       "      <td>0.438</td>\n",
       "      <td>...</td>\n",
       "      <td>1.5</td>\n",
       "      <td>1.1</td>\n",
       "      <td>0.3</td>\n",
       "      <td>0.3</td>\n",
       "      <td>0.5</td>\n",
       "      <td>1.0</td>\n",
       "      <td>3.5</td>\n",
       "      <td>Nickeil Alexander-Walker</td>\n",
       "      <td>5009633.0</td>\n",
       "      <td>2</td>\n",
       "    </tr>\n",
       "  </tbody>\n",
       "</table>\n",
       "<p>5 rows × 21 columns</p>\n",
       "</div>"
      ],
      "text/plain": [
       "                     Player Pos  Age   Tm   G    MP   FG   3P   2P   eFG%  \\\n",
       "0          Precious Achiuwa   C   22  TOR  73  23.6  3.6  0.8  2.9  0.486   \n",
       "1              Steven Adams   C   28  MEM  76  26.3  2.8  0.0  2.8  0.547   \n",
       "2               Bam Adebayo   C   24  MIA  56  32.6  7.3  0.0  7.3  0.557   \n",
       "3              Santi Aldama  PF   21  MEM  32  11.3  1.7  0.2  1.5  0.424   \n",
       "6  Nickeil Alexander-Walker  SG   23  UTA  15   9.9  1.1  0.7  0.4  0.438   \n",
       "\n",
       "   ...   TRB  AST  STL  BLK  TOV   PF   PTS                 ï»¿Player  \\\n",
       "0  ...   6.5  1.1  0.5  0.6  1.2  2.1   9.1          Precious Achiuwa   \n",
       "1  ...  10.0  3.4  0.9  0.8  1.5  2.0   6.9              Steven Adams   \n",
       "2  ...  10.1  3.4  1.4  0.8  2.6  3.1  19.1               Bam Adebayo   \n",
       "3  ...   2.7  0.7  0.2  0.3  0.5  1.1   4.1              Santi Aldama   \n",
       "6  ...   1.5  1.1  0.3  0.3  0.5  1.0   3.5  Nickeil Alexander-Walker   \n",
       "\n",
       "       Salary  Cluster  \n",
       "0   2840160.0        1  \n",
       "1  17926829.0        0  \n",
       "2  30351780.0        0  \n",
       "3   2094120.0        2  \n",
       "6   5009633.0        2  \n",
       "\n",
       "[5 rows x 21 columns]"
      ]
     },
     "execution_count": 34,
     "metadata": {},
     "output_type": "execute_result"
    }
   ],
   "source": [
    "NBA.head()"
   ]
  },
  {
   "cell_type": "code",
   "execution_count": 37,
   "metadata": {},
   "outputs": [
    {
     "name": "stdout",
     "output_type": "stream",
     "text": [
      "Top 5 Undervalued Players:\n",
      "                Player      Salary   FG  AST   TRB     Value\n",
      "131       Drew Eubanks   1836090.0  6.2  1.6   8.5  0.000009\n",
      "123     Andre Drummond   3200000.0  5.0  1.4  10.3  0.000005\n",
      "442     Isaiah Stewart   3433320.0  3.5  1.2   8.7  0.000004\n",
      "436        Jalen Smith   4670160.0  5.1  0.8   7.6  0.000003\n",
      "465  Jarred Vanderbilt   4374000.0  2.9  1.3   8.4  0.000003\n",
      "31      Scottie Barnes   7644600.0  6.2  3.5   7.5  0.000002\n",
      "337        Evan Mobley   8478720.0  6.1  2.5   8.3  0.000002\n",
      "380       Jakob Poeltl   9398148.0  6.0  2.8   9.3  0.000002\n",
      "379      Mason Plumlee   9080417.0  2.8  3.1   7.7  0.000001\n",
      "386       Bobby Portis  10843350.0  5.8  1.2   9.1  0.000001\n"
     ]
    }
   ],
   "source": [
    "#Use the model to select players for Mr. Rooney to consider\n",
    "def undervalued_players(cluster, num_players):\n",
    "    df = NBA[NBA['Cluster'] == cluster].copy()\n",
    "    # Using a performance score \n",
    "    df['Performance'] = df['FG'] + df['AST'] + df['TRB']\n",
    "    # Using performance per salary\n",
    "    df['Value'] = df['Performance'] / df['Salary']\n",
    "    # Select top players by value\n",
    "    players = df.nlargest(num_players, 'Value')\n",
    "    return players[['Player', 'Salary', 'FG', 'AST', 'TRB', 'Value']]\n",
    "players = undervalued_players(0, 10)\n",
    "print(\"Top 5 Undervalued Players:\")\n",
    "print(players)"
   ]
  },
  {
   "cell_type": "code",
   "execution_count": 36,
   "metadata": {},
   "outputs": [
    {
     "name": "stdout",
     "output_type": "stream",
     "text": [
      "Top 5 Overvalued Players:\n",
      "              Player     Salary   FG  TRB  AST         Value\n",
      "252        Kai Jones  2909040.0  0.4  0.5  0.2  2.062536e-07\n",
      "437   Jaden Springer  2125200.0  0.5  1.0  0.0  2.352720e-07\n",
      "449     Tyrell Terry  1782621.0  0.5  0.0  0.0  2.804859e-07\n",
      "282   Romeo Langford  5634257.0  1.0  1.0  0.5  3.194742e-07\n",
      "426  Marko Simonovic  1563518.0  0.4  1.1  0.0  3.197916e-07\n"
     ]
    }
   ],
   "source": [
    "# Bad choices players\n",
    "def overvalued_players(cluster, num_players):\n",
    "    df = NBA[NBA['Cluster'] == cluster].copy()\n",
    "    # Using a performance score \n",
    "    df['Performance'] = df['FG'] + df['AST'] + df['STL']\n",
    "    # Using performance per salary\n",
    "    df['Value'] = df['Performance'] / df['Salary']\n",
    "    # Select bad players by value\n",
    "    players = df.nsmallest(num_players, 'Value')\n",
    "    return players[['Player', 'Salary', 'FG', 'TRB', 'AST', 'Value']]\n",
    "players = overvalued_players(2, 5)\n",
    "print(\"Top 5 Overvalued Players:\")\n",
    "print(players)"
   ]
  },
  {
   "cell_type": "markdown",
   "metadata": {},
   "source": [
    "Answer: \n",
    "* Examples that are not good choices (3 or 4) \n",
    "  * Kai Jones, Romeo Langford, Jaden Springer\n",
    "* Several options that are good choices (3 or 4)\n",
    "  * Drew Eubanks, Jalen Smith, Scottie Barnes\n",
    "* Several options that could work, assuming you can't get the players in the good category (3 or 4)\n",
    "  * Andre Drumond, Isiah Stewart, Jarred Vanderbilt"
   ]
  },
  {
   "cell_type": "code",
   "execution_count": 70,
   "metadata": {},
   "outputs": [],
   "source": [
    "#Write up the results in a separate notebook with supporting visualizations and an overview of how and why\n",
    "#you made the choices you did. This should be at least 500 words and should be written for a non-technical audience.\n",
    "\n",
    "\n"
   ]
  }
 ],
 "metadata": {
  "kernelspec": {
   "display_name": "Python 3",
   "language": "python",
   "name": "python3"
  },
  "language_info": {
   "codemirror_mode": {
    "name": "ipython",
    "version": 3
   },
   "file_extension": ".py",
   "mimetype": "text/x-python",
   "name": "python",
   "nbconvert_exporter": "python",
   "pygments_lexer": "ipython3",
   "version": "3.12.7"
  }
 },
 "nbformat": 4,
 "nbformat_minor": 2
}
