{
 "cells": [
  {
   "cell_type": "markdown",
   "metadata": {},
   "source": [
    "# Metrics Evaluation Lab"
   ]
  },
  {
   "cell_type": "markdown",
   "metadata": {},
   "source": [
    "## Part 1"
   ]
  },
  {
   "cell_type": "markdown",
   "metadata": {},
   "source": [
    "### Importing Dataset"
   ]
  },
  {
   "cell_type": "code",
   "execution_count": 5,
   "metadata": {},
   "outputs": [
    {
     "data": {
      "application/vnd.microsoft.datawrangler.viewer.v0+json": {
       "columns": [
        {
         "name": "index",
         "rawType": "int64",
         "type": "integer"
        },
        {
         "name": "class",
         "rawType": "object",
         "type": "string"
        },
        {
         "name": "cap-diameter",
         "rawType": "float64",
         "type": "float"
        },
        {
         "name": "cap-shape",
         "rawType": "object",
         "type": "string"
        },
        {
         "name": "cap-surface",
         "rawType": "object",
         "type": "string"
        },
        {
         "name": "cap-color",
         "rawType": "object",
         "type": "string"
        },
        {
         "name": "does-bruise-or-bleed",
         "rawType": "object",
         "type": "string"
        },
        {
         "name": "gill-attachment",
         "rawType": "object",
         "type": "string"
        },
        {
         "name": "gill-spacing",
         "rawType": "object",
         "type": "unknown"
        },
        {
         "name": "gill-color",
         "rawType": "object",
         "type": "string"
        },
        {
         "name": "stem-height",
         "rawType": "float64",
         "type": "float"
        },
        {
         "name": "stem-width",
         "rawType": "float64",
         "type": "float"
        },
        {
         "name": "stem-root",
         "rawType": "object",
         "type": "string"
        },
        {
         "name": "stem-surface",
         "rawType": "object",
         "type": "string"
        },
        {
         "name": "stem-color",
         "rawType": "object",
         "type": "string"
        },
        {
         "name": "veil-type",
         "rawType": "object",
         "type": "string"
        },
        {
         "name": "veil-color",
         "rawType": "object",
         "type": "string"
        },
        {
         "name": "has-ring",
         "rawType": "object",
         "type": "string"
        },
        {
         "name": "ring-type",
         "rawType": "object",
         "type": "string"
        },
        {
         "name": "spore-print-color",
         "rawType": "object",
         "type": "unknown"
        },
        {
         "name": "habitat",
         "rawType": "object",
         "type": "string"
        },
        {
         "name": "season",
         "rawType": "object",
         "type": "string"
        }
       ],
       "conversionMethod": "pd.DataFrame",
       "ref": "2e0b3cf8-175a-430e-9715-0da509d727c4",
       "rows": [
        [
         "0",
         "p",
         "15.26",
         "x",
         "g",
         "o",
         "f",
         "e",
         null,
         "w",
         "16.95",
         "17.09",
         "s",
         "y",
         "w",
         "u",
         "w",
         "t",
         "g",
         null,
         "d",
         "w"
        ],
        [
         "1",
         "p",
         "16.6",
         "x",
         "g",
         "o",
         "f",
         "e",
         null,
         "w",
         "17.99",
         "18.19",
         "s",
         "y",
         "w",
         "u",
         "w",
         "t",
         "g",
         null,
         "d",
         "u"
        ],
        [
         "2",
         "p",
         "14.07",
         "x",
         "g",
         "o",
         "f",
         "e",
         null,
         "w",
         "17.8",
         "17.74",
         "s",
         "y",
         "w",
         "u",
         "w",
         "t",
         "g",
         null,
         "d",
         "w"
        ],
        [
         "3",
         "p",
         "14.17",
         "f",
         "h",
         "e",
         "f",
         "e",
         null,
         "w",
         "15.77",
         "15.98",
         "s",
         "y",
         "w",
         "u",
         "w",
         "t",
         "p",
         null,
         "d",
         "w"
        ],
        [
         "4",
         "p",
         "14.64",
         "x",
         "h",
         "o",
         "f",
         "e",
         null,
         "w",
         "16.53",
         "17.2",
         "s",
         "y",
         "w",
         "u",
         "w",
         "t",
         "p",
         null,
         "d",
         "w"
        ]
       ],
       "shape": {
        "columns": 21,
        "rows": 5
       }
      },
      "text/html": [
       "<div>\n",
       "<style scoped>\n",
       "    .dataframe tbody tr th:only-of-type {\n",
       "        vertical-align: middle;\n",
       "    }\n",
       "\n",
       "    .dataframe tbody tr th {\n",
       "        vertical-align: top;\n",
       "    }\n",
       "\n",
       "    .dataframe thead th {\n",
       "        text-align: right;\n",
       "    }\n",
       "</style>\n",
       "<table border=\"1\" class=\"dataframe\">\n",
       "  <thead>\n",
       "    <tr style=\"text-align: right;\">\n",
       "      <th></th>\n",
       "      <th>class</th>\n",
       "      <th>cap-diameter</th>\n",
       "      <th>cap-shape</th>\n",
       "      <th>cap-surface</th>\n",
       "      <th>cap-color</th>\n",
       "      <th>does-bruise-or-bleed</th>\n",
       "      <th>gill-attachment</th>\n",
       "      <th>gill-spacing</th>\n",
       "      <th>gill-color</th>\n",
       "      <th>stem-height</th>\n",
       "      <th>...</th>\n",
       "      <th>stem-root</th>\n",
       "      <th>stem-surface</th>\n",
       "      <th>stem-color</th>\n",
       "      <th>veil-type</th>\n",
       "      <th>veil-color</th>\n",
       "      <th>has-ring</th>\n",
       "      <th>ring-type</th>\n",
       "      <th>spore-print-color</th>\n",
       "      <th>habitat</th>\n",
       "      <th>season</th>\n",
       "    </tr>\n",
       "  </thead>\n",
       "  <tbody>\n",
       "    <tr>\n",
       "      <th>0</th>\n",
       "      <td>p</td>\n",
       "      <td>15.26</td>\n",
       "      <td>x</td>\n",
       "      <td>g</td>\n",
       "      <td>o</td>\n",
       "      <td>f</td>\n",
       "      <td>e</td>\n",
       "      <td>NaN</td>\n",
       "      <td>w</td>\n",
       "      <td>16.95</td>\n",
       "      <td>...</td>\n",
       "      <td>s</td>\n",
       "      <td>y</td>\n",
       "      <td>w</td>\n",
       "      <td>u</td>\n",
       "      <td>w</td>\n",
       "      <td>t</td>\n",
       "      <td>g</td>\n",
       "      <td>NaN</td>\n",
       "      <td>d</td>\n",
       "      <td>w</td>\n",
       "    </tr>\n",
       "    <tr>\n",
       "      <th>1</th>\n",
       "      <td>p</td>\n",
       "      <td>16.60</td>\n",
       "      <td>x</td>\n",
       "      <td>g</td>\n",
       "      <td>o</td>\n",
       "      <td>f</td>\n",
       "      <td>e</td>\n",
       "      <td>NaN</td>\n",
       "      <td>w</td>\n",
       "      <td>17.99</td>\n",
       "      <td>...</td>\n",
       "      <td>s</td>\n",
       "      <td>y</td>\n",
       "      <td>w</td>\n",
       "      <td>u</td>\n",
       "      <td>w</td>\n",
       "      <td>t</td>\n",
       "      <td>g</td>\n",
       "      <td>NaN</td>\n",
       "      <td>d</td>\n",
       "      <td>u</td>\n",
       "    </tr>\n",
       "    <tr>\n",
       "      <th>2</th>\n",
       "      <td>p</td>\n",
       "      <td>14.07</td>\n",
       "      <td>x</td>\n",
       "      <td>g</td>\n",
       "      <td>o</td>\n",
       "      <td>f</td>\n",
       "      <td>e</td>\n",
       "      <td>NaN</td>\n",
       "      <td>w</td>\n",
       "      <td>17.80</td>\n",
       "      <td>...</td>\n",
       "      <td>s</td>\n",
       "      <td>y</td>\n",
       "      <td>w</td>\n",
       "      <td>u</td>\n",
       "      <td>w</td>\n",
       "      <td>t</td>\n",
       "      <td>g</td>\n",
       "      <td>NaN</td>\n",
       "      <td>d</td>\n",
       "      <td>w</td>\n",
       "    </tr>\n",
       "    <tr>\n",
       "      <th>3</th>\n",
       "      <td>p</td>\n",
       "      <td>14.17</td>\n",
       "      <td>f</td>\n",
       "      <td>h</td>\n",
       "      <td>e</td>\n",
       "      <td>f</td>\n",
       "      <td>e</td>\n",
       "      <td>NaN</td>\n",
       "      <td>w</td>\n",
       "      <td>15.77</td>\n",
       "      <td>...</td>\n",
       "      <td>s</td>\n",
       "      <td>y</td>\n",
       "      <td>w</td>\n",
       "      <td>u</td>\n",
       "      <td>w</td>\n",
       "      <td>t</td>\n",
       "      <td>p</td>\n",
       "      <td>NaN</td>\n",
       "      <td>d</td>\n",
       "      <td>w</td>\n",
       "    </tr>\n",
       "    <tr>\n",
       "      <th>4</th>\n",
       "      <td>p</td>\n",
       "      <td>14.64</td>\n",
       "      <td>x</td>\n",
       "      <td>h</td>\n",
       "      <td>o</td>\n",
       "      <td>f</td>\n",
       "      <td>e</td>\n",
       "      <td>NaN</td>\n",
       "      <td>w</td>\n",
       "      <td>16.53</td>\n",
       "      <td>...</td>\n",
       "      <td>s</td>\n",
       "      <td>y</td>\n",
       "      <td>w</td>\n",
       "      <td>u</td>\n",
       "      <td>w</td>\n",
       "      <td>t</td>\n",
       "      <td>p</td>\n",
       "      <td>NaN</td>\n",
       "      <td>d</td>\n",
       "      <td>w</td>\n",
       "    </tr>\n",
       "  </tbody>\n",
       "</table>\n",
       "<p>5 rows × 21 columns</p>\n",
       "</div>"
      ],
      "text/plain": [
       "  class  cap-diameter cap-shape cap-surface cap-color does-bruise-or-bleed  \\\n",
       "0     p         15.26         x           g         o                    f   \n",
       "1     p         16.60         x           g         o                    f   \n",
       "2     p         14.07         x           g         o                    f   \n",
       "3     p         14.17         f           h         e                    f   \n",
       "4     p         14.64         x           h         o                    f   \n",
       "\n",
       "  gill-attachment gill-spacing gill-color  stem-height  ...  stem-root  \\\n",
       "0               e          NaN          w        16.95  ...          s   \n",
       "1               e          NaN          w        17.99  ...          s   \n",
       "2               e          NaN          w        17.80  ...          s   \n",
       "3               e          NaN          w        15.77  ...          s   \n",
       "4               e          NaN          w        16.53  ...          s   \n",
       "\n",
       "  stem-surface stem-color veil-type veil-color has-ring ring-type  \\\n",
       "0            y          w         u          w        t         g   \n",
       "1            y          w         u          w        t         g   \n",
       "2            y          w         u          w        t         g   \n",
       "3            y          w         u          w        t         p   \n",
       "4            y          w         u          w        t         p   \n",
       "\n",
       "  spore-print-color habitat season  \n",
       "0               NaN       d      w  \n",
       "1               NaN       d      u  \n",
       "2               NaN       d      w  \n",
       "3               NaN       d      w  \n",
       "4               NaN       d      w  \n",
       "\n",
       "[5 rows x 21 columns]"
      ]
     },
     "execution_count": 5,
     "metadata": {},
     "output_type": "execute_result"
    }
   ],
   "source": [
    "import pandas as pd\n",
    "mushroom = pd.read_csv('../data/secondary_data_mushrooms.csv', sep=';')\n",
    "mushroom.head()"
   ]
  },
  {
   "cell_type": "markdown",
   "metadata": {},
   "source": [
    "### Question: How does a KNN model predict if a mushroom is from winter season? "
   ]
  },
  {
   "cell_type": "markdown",
   "metadata": {},
   "source": [
    "## Part 2"
   ]
  },
  {
   "cell_type": "markdown",
   "metadata": {},
   "source": [
    "### Missing Values"
   ]
  },
  {
   "cell_type": "code",
   "execution_count": 6,
   "metadata": {},
   "outputs": [
    {
     "data": {
      "text/plain": [
       "<seaborn.axisgrid.FacetGrid at 0x7fcb1302a510>"
      ]
     },
     "execution_count": 6,
     "metadata": {},
     "output_type": "execute_result"
    },
    {
     "data": {
      "image/png": "[encoded data removed]",
      "text/plain": [
       "<Figure size 709.875x500 with 1 Axes>"
      ]
     },
     "metadata": {},
     "output_type": "display_data"
    }
   ],
   "source": [
    "import seaborn as sns\n",
    "\n",
    "sns.displot(\n",
    "    data=mushroom.isna().melt(value_name=\"missing\"),\n",
    "    y=\"variable\",\n",
    "    hue=\"missing\",\n",
    "    multiple=\"fill\",\n",
    "    aspect=1.25\n",
    ")"
   ]
  },
  {
   "cell_type": "markdown",
   "metadata": {},
   "source": [
    "### Dropping Values "
   ]
  },
  {
   "cell_type": "code",
   "execution_count": 7,
   "metadata": {},
   "outputs": [],
   "source": [
    "mushroom2 = mushroom.drop(columns=['stem-root', 'stem-surface','veil-type','veil-color','spore-print-color', 'gill-spacing']) # drop object \n",
    "mushroom2.dropna(axis = 0, how = 'any', inplace = True)"
   ]
  },
  {
   "cell_type": "markdown",
   "metadata": {},
   "source": [
    "### Normalize Numeric Values"
   ]
  },
  {
   "cell_type": "code",
   "execution_count": 8,
   "metadata": {},
   "outputs": [
    {
     "data": {
      "application/vnd.microsoft.datawrangler.viewer.v0+json": {
       "columns": [
        {
         "name": "index",
         "rawType": "object",
         "type": "string"
        },
        {
         "name": "cap-diameter",
         "rawType": "float64",
         "type": "float"
        },
        {
         "name": "stem-height",
         "rawType": "float64",
         "type": "float"
        },
        {
         "name": "stem-width",
         "rawType": "float64",
         "type": "float"
        }
       ],
       "conversionMethod": "pd.DataFrame",
       "ref": "1a338c7b-759a-43f6-9b05-bf3460c83a6d",
       "rows": [
        [
         "count",
         "24357.0",
         "24357.0",
         "24357.0"
        ],
        [
         "mean",
         "0.1219083035744062",
         "0.24488057617505732",
         "0.1344538887901573"
        ],
        [
         "std",
         "0.11036843909050348",
         "0.12004400581891488",
         "0.10820156514257656"
        ],
        [
         "min",
         "0.003883495145631067",
         "0.04308797127468582",
         "0.010586084111250121"
        ],
        [
         "25%",
         "0.056310679611650476",
         "0.17378815080789947",
         "0.064863824463478"
        ],
        [
         "50%",
         "0.10097087378640776",
         "0.22010771992818673",
         "0.11125012029641036"
        ],
        [
         "75%",
         "0.14805825242718443",
         "0.2757630161579892",
         "0.16649023193147916"
        ],
        [
         "max",
         "1.0",
         "1.0",
         "1.0"
        ]
       ],
       "shape": {
        "columns": 3,
        "rows": 8
       }
      },
      "text/html": [
       "<div>\n",
       "<style scoped>\n",
       "    .dataframe tbody tr th:only-of-type {\n",
       "        vertical-align: middle;\n",
       "    }\n",
       "\n",
       "    .dataframe tbody tr th {\n",
       "        vertical-align: top;\n",
       "    }\n",
       "\n",
       "    .dataframe thead th {\n",
       "        text-align: right;\n",
       "    }\n",
       "</style>\n",
       "<table border=\"1\" class=\"dataframe\">\n",
       "  <thead>\n",
       "    <tr style=\"text-align: right;\">\n",
       "      <th></th>\n",
       "      <th>cap-diameter</th>\n",
       "      <th>stem-height</th>\n",
       "      <th>stem-width</th>\n",
       "    </tr>\n",
       "  </thead>\n",
       "  <tbody>\n",
       "    <tr>\n",
       "      <th>count</th>\n",
       "      <td>24357.000000</td>\n",
       "      <td>24357.000000</td>\n",
       "      <td>24357.000000</td>\n",
       "    </tr>\n",
       "    <tr>\n",
       "      <th>mean</th>\n",
       "      <td>0.121908</td>\n",
       "      <td>0.244881</td>\n",
       "      <td>0.134454</td>\n",
       "    </tr>\n",
       "    <tr>\n",
       "      <th>std</th>\n",
       "      <td>0.110368</td>\n",
       "      <td>0.120044</td>\n",
       "      <td>0.108202</td>\n",
       "    </tr>\n",
       "    <tr>\n",
       "      <th>min</th>\n",
       "      <td>0.003883</td>\n",
       "      <td>0.043088</td>\n",
       "      <td>0.010586</td>\n",
       "    </tr>\n",
       "    <tr>\n",
       "      <th>25%</th>\n",
       "      <td>0.056311</td>\n",
       "      <td>0.173788</td>\n",
       "      <td>0.064864</td>\n",
       "    </tr>\n",
       "    <tr>\n",
       "      <th>50%</th>\n",
       "      <td>0.100971</td>\n",
       "      <td>0.220108</td>\n",
       "      <td>0.111250</td>\n",
       "    </tr>\n",
       "    <tr>\n",
       "      <th>75%</th>\n",
       "      <td>0.148058</td>\n",
       "      <td>0.275763</td>\n",
       "      <td>0.166490</td>\n",
       "    </tr>\n",
       "    <tr>\n",
       "      <th>max</th>\n",
       "      <td>1.000000</td>\n",
       "      <td>1.000000</td>\n",
       "      <td>1.000000</td>\n",
       "    </tr>\n",
       "  </tbody>\n",
       "</table>\n",
       "</div>"
      ],
      "text/plain": [
       "       cap-diameter   stem-height    stem-width\n",
       "count  24357.000000  24357.000000  24357.000000\n",
       "mean       0.121908      0.244881      0.134454\n",
       "std        0.110368      0.120044      0.108202\n",
       "min        0.003883      0.043088      0.010586\n",
       "25%        0.056311      0.173788      0.064864\n",
       "50%        0.100971      0.220108      0.111250\n",
       "75%        0.148058      0.275763      0.166490\n",
       "max        1.000000      1.000000      1.000000"
      ]
     },
     "execution_count": 8,
     "metadata": {},
     "output_type": "execute_result"
    }
   ],
   "source": [
    "from sklearn import preprocessing\n",
    "\n",
    "numeric_cols = mushroom2.select_dtypes(include=['int64', 'float64']).columns\n",
    "\n",
    "scaler = preprocessing.MinMaxScaler()\n",
    "d = scaler.fit_transform(mushroom2[numeric_cols])   # conduct data transformation\n",
    "scaled_df = pd.DataFrame(d, columns=numeric_cols)  \n",
    "mushroom2[numeric_cols] = scaled_df  \n",
    "mushroom2.describe()"
   ]
  },
  {
   "cell_type": "markdown",
   "metadata": {},
   "source": [
    "### Onehot Encode "
   ]
  },
  {
   "cell_type": "code",
   "execution_count": 13,
   "metadata": {},
   "outputs": [
    {
     "data": {
      "application/vnd.microsoft.datawrangler.viewer.v0+json": {
       "columns": [
        {
         "name": "index",
         "rawType": "int64",
         "type": "integer"
        },
        {
         "name": "class_e",
         "rawType": "bool",
         "type": "boolean"
        },
        {
         "name": "class_p",
         "rawType": "bool",
         "type": "boolean"
        },
        {
         "name": "cap-shape_b",
         "rawType": "bool",
         "type": "boolean"
        },
        {
         "name": "cap-shape_c",
         "rawType": "bool",
         "type": "boolean"
        },
        {
         "name": "cap-shape_f",
         "rawType": "bool",
         "type": "boolean"
        },
        {
         "name": "cap-shape_o",
         "rawType": "bool",
         "type": "boolean"
        },
        {
         "name": "cap-shape_p",
         "rawType": "bool",
         "type": "boolean"
        },
        {
         "name": "cap-shape_s",
         "rawType": "bool",
         "type": "boolean"
        },
        {
         "name": "cap-shape_x",
         "rawType": "bool",
         "type": "boolean"
        },
        {
         "name": "cap-surface_d",
         "rawType": "bool",
         "type": "boolean"
        },
        {
         "name": "cap-surface_e",
         "rawType": "bool",
         "type": "boolean"
        },
        {
         "name": "cap-surface_g",
         "rawType": "bool",
         "type": "boolean"
        },
        {
         "name": "cap-surface_h",
         "rawType": "bool",
         "type": "boolean"
        },
        {
         "name": "cap-surface_i",
         "rawType": "bool",
         "type": "boolean"
        },
        {
         "name": "cap-surface_k",
         "rawType": "bool",
         "type": "boolean"
        },
        {
         "name": "cap-surface_l",
         "rawType": "bool",
         "type": "boolean"
        },
        {
         "name": "cap-surface_s",
         "rawType": "bool",
         "type": "boolean"
        },
        {
         "name": "cap-surface_t",
         "rawType": "bool",
         "type": "boolean"
        },
        {
         "name": "cap-surface_w",
         "rawType": "bool",
         "type": "boolean"
        },
        {
         "name": "cap-surface_y",
         "rawType": "bool",
         "type": "boolean"
        },
        {
         "name": "cap-color_b",
         "rawType": "bool",
         "type": "boolean"
        },
        {
         "name": "cap-color_e",
         "rawType": "bool",
         "type": "boolean"
        },
        {
         "name": "cap-color_g",
         "rawType": "bool",
         "type": "boolean"
        },
        {
         "name": "cap-color_k",
         "rawType": "bool",
         "type": "boolean"
        },
        {
         "name": "cap-color_l",
         "rawType": "bool",
         "type": "boolean"
        },
        {
         "name": "cap-color_n",
         "rawType": "bool",
         "type": "boolean"
        },
        {
         "name": "cap-color_o",
         "rawType": "bool",
         "type": "boolean"
        },
        {
         "name": "cap-color_p",
         "rawType": "bool",
         "type": "boolean"
        },
        {
         "name": "cap-color_r",
         "rawType": "bool",
         "type": "boolean"
        },
        {
         "name": "cap-color_u",
         "rawType": "bool",
         "type": "boolean"
        },
        {
         "name": "cap-color_w",
         "rawType": "bool",
         "type": "boolean"
        },
        {
         "name": "cap-color_y",
         "rawType": "bool",
         "type": "boolean"
        },
        {
         "name": "does-bruise-or-bleed_f",
         "rawType": "bool",
         "type": "boolean"
        },
        {
         "name": "does-bruise-or-bleed_t",
         "rawType": "bool",
         "type": "boolean"
        },
        {
         "name": "gill-attachment_a",
         "rawType": "bool",
         "type": "boolean"
        },
        {
         "name": "gill-attachment_d",
         "rawType": "bool",
         "type": "boolean"
        },
        {
         "name": "gill-attachment_e",
         "rawType": "bool",
         "type": "boolean"
        },
        {
         "name": "gill-attachment_f",
         "rawType": "bool",
         "type": "boolean"
        },
        {
         "name": "gill-attachment_p",
         "rawType": "bool",
         "type": "boolean"
        },
        {
         "name": "gill-attachment_s",
         "rawType": "bool",
         "type": "boolean"
        },
        {
         "name": "gill-attachment_x",
         "rawType": "bool",
         "type": "boolean"
        },
        {
         "name": "gill-color_b",
         "rawType": "bool",
         "type": "boolean"
        },
        {
         "name": "gill-color_e",
         "rawType": "bool",
         "type": "boolean"
        },
        {
         "name": "gill-color_f",
         "rawType": "bool",
         "type": "boolean"
        },
        {
         "name": "gill-color_g",
         "rawType": "bool",
         "type": "boolean"
        },
        {
         "name": "gill-color_k",
         "rawType": "bool",
         "type": "boolean"
        },
        {
         "name": "gill-color_n",
         "rawType": "bool",
         "type": "boolean"
        },
        {
         "name": "gill-color_o",
         "rawType": "bool",
         "type": "boolean"
        },
        {
         "name": "gill-color_p",
         "rawType": "bool",
         "type": "boolean"
        },
        {
         "name": "gill-color_r",
         "rawType": "bool",
         "type": "boolean"
        },
        {
         "name": "gill-color_u",
         "rawType": "bool",
         "type": "boolean"
        },
        {
         "name": "gill-color_w",
         "rawType": "bool",
         "type": "boolean"
        },
        {
         "name": "gill-color_y",
         "rawType": "bool",
         "type": "boolean"
        },
        {
         "name": "stem-color_e",
         "rawType": "bool",
         "type": "boolean"
        },
        {
         "name": "stem-color_f",
         "rawType": "bool",
         "type": "boolean"
        },
        {
         "name": "stem-color_g",
         "rawType": "bool",
         "type": "boolean"
        },
        {
         "name": "stem-color_k",
         "rawType": "bool",
         "type": "boolean"
        },
        {
         "name": "stem-color_l",
         "rawType": "bool",
         "type": "boolean"
        },
        {
         "name": "stem-color_n",
         "rawType": "bool",
         "type": "boolean"
        },
        {
         "name": "stem-color_o",
         "rawType": "bool",
         "type": "boolean"
        },
        {
         "name": "stem-color_p",
         "rawType": "bool",
         "type": "boolean"
        },
        {
         "name": "stem-color_r",
         "rawType": "bool",
         "type": "boolean"
        },
        {
         "name": "stem-color_u",
         "rawType": "bool",
         "type": "boolean"
        },
        {
         "name": "stem-color_w",
         "rawType": "bool",
         "type": "boolean"
        },
        {
         "name": "stem-color_y",
         "rawType": "bool",
         "type": "boolean"
        },
        {
         "name": "has-ring_f",
         "rawType": "bool",
         "type": "boolean"
        },
        {
         "name": "has-ring_t",
         "rawType": "bool",
         "type": "boolean"
        },
        {
         "name": "ring-type_e",
         "rawType": "bool",
         "type": "boolean"
        },
        {
         "name": "ring-type_f",
         "rawType": "bool",
         "type": "boolean"
        },
        {
         "name": "ring-type_g",
         "rawType": "bool",
         "type": "boolean"
        },
        {
         "name": "ring-type_l",
         "rawType": "bool",
         "type": "boolean"
        },
        {
         "name": "ring-type_p",
         "rawType": "bool",
         "type": "boolean"
        },
        {
         "name": "ring-type_r",
         "rawType": "bool",
         "type": "boolean"
        },
        {
         "name": "ring-type_z",
         "rawType": "bool",
         "type": "boolean"
        },
        {
         "name": "habitat_d",
         "rawType": "bool",
         "type": "boolean"
        },
        {
         "name": "habitat_g",
         "rawType": "bool",
         "type": "boolean"
        },
        {
         "name": "habitat_h",
         "rawType": "bool",
         "type": "boolean"
        },
        {
         "name": "habitat_l",
         "rawType": "bool",
         "type": "boolean"
        },
        {
         "name": "habitat_m",
         "rawType": "bool",
         "type": "boolean"
        },
        {
         "name": "habitat_u",
         "rawType": "bool",
         "type": "boolean"
        },
        {
         "name": "habitat_w",
         "rawType": "bool",
         "type": "boolean"
        },
        {
         "name": "season_a",
         "rawType": "bool",
         "type": "boolean"
        },
        {
         "name": "season_s",
         "rawType": "bool",
         "type": "boolean"
        },
        {
         "name": "season_u",
         "rawType": "bool",
         "type": "boolean"
        },
        {
         "name": "season_w",
         "rawType": "bool",
         "type": "boolean"
        }
       ],
       "conversionMethod": "pd.DataFrame",
       "ref": "27468cb0-6767-4cbb-9081-15225b624857",
       "rows": [
        [
         "0",
         "False",
         "True",
         "False",
         "False",
         "False",
         "False",
         "False",
         "False",
         "True",
         "False",
         "False",
         "True",
         "False",
         "False",
         "False",
         "False",
         "False",
         "False",
         "False",
         "False",
         "False",
         "False",
         "False",
         "False",
         "False",
         "False",
         "True",
         "False",
         "False",
         "False",
         "False",
         "False",
         "True",
         "False",
         "False",
         "False",
         "True",
         "False",
         "False",
         "False",
         "False",
         "False",
         "False",
         "False",
         "False",
         "False",
         "False",
         "False",
         "False",
         "False",
         "False",
         "True",
         "False",
         "False",
         "False",
         "False",
         "False",
         "False",
         "False",
         "False",
         "False",
         "False",
         "False",
         "True",
         "False",
         "False",
         "True",
         "False",
         "False",
         "True",
         "False",
         "False",
         "False",
         "False",
         "True",
         "False",
         "False",
         "False",
         "False",
         "False",
         "False",
         "False",
         "False",
         "False",
         "True"
        ],
        [
         "1",
         "False",
         "True",
         "False",
         "False",
         "False",
         "False",
         "False",
         "False",
         "True",
         "False",
         "False",
         "True",
         "False",
         "False",
         "False",
         "False",
         "False",
         "False",
         "False",
         "False",
         "False",
         "False",
         "False",
         "False",
         "False",
         "False",
         "True",
         "False",
         "False",
         "False",
         "False",
         "False",
         "True",
         "False",
         "False",
         "False",
         "True",
         "False",
         "False",
         "False",
         "False",
         "False",
         "False",
         "False",
         "False",
         "False",
         "False",
         "False",
         "False",
         "False",
         "False",
         "True",
         "False",
         "False",
         "False",
         "False",
         "False",
         "False",
         "False",
         "False",
         "False",
         "False",
         "False",
         "True",
         "False",
         "False",
         "True",
         "False",
         "False",
         "True",
         "False",
         "False",
         "False",
         "False",
         "True",
         "False",
         "False",
         "False",
         "False",
         "False",
         "False",
         "False",
         "False",
         "True",
         "False"
        ],
        [
         "2",
         "False",
         "True",
         "False",
         "False",
         "False",
         "False",
         "False",
         "False",
         "True",
         "False",
         "False",
         "True",
         "False",
         "False",
         "False",
         "False",
         "False",
         "False",
         "False",
         "False",
         "False",
         "False",
         "False",
         "False",
         "False",
         "False",
         "True",
         "False",
         "False",
         "False",
         "False",
         "False",
         "True",
         "False",
         "False",
         "False",
         "True",
         "False",
         "False",
         "False",
         "False",
         "False",
         "False",
         "False",
         "False",
         "False",
         "False",
         "False",
         "False",
         "False",
         "False",
         "True",
         "False",
         "False",
         "False",
         "False",
         "False",
         "False",
         "False",
         "False",
         "False",
         "False",
         "False",
         "True",
         "False",
         "False",
         "True",
         "False",
         "False",
         "True",
         "False",
         "False",
         "False",
         "False",
         "True",
         "False",
         "False",
         "False",
         "False",
         "False",
         "False",
         "False",
         "False",
         "False",
         "True"
        ],
        [
         "3",
         "False",
         "True",
         "False",
         "False",
         "True",
         "False",
         "False",
         "False",
         "False",
         "False",
         "False",
         "False",
         "True",
         "False",
         "False",
         "False",
         "False",
         "False",
         "False",
         "False",
         "False",
         "True",
         "False",
         "False",
         "False",
         "False",
         "False",
         "False",
         "False",
         "False",
         "False",
         "False",
         "True",
         "False",
         "False",
         "False",
         "True",
         "False",
         "False",
         "False",
         "False",
         "False",
         "False",
         "False",
         "False",
         "False",
         "False",
         "False",
         "False",
         "False",
         "False",
         "True",
         "False",
         "False",
         "False",
         "False",
         "False",
         "False",
         "False",
         "False",
         "False",
         "False",
         "False",
         "True",
         "False",
         "False",
         "True",
         "False",
         "False",
         "False",
         "False",
         "True",
         "False",
         "False",
         "True",
         "False",
         "False",
         "False",
         "False",
         "False",
         "False",
         "False",
         "False",
         "False",
         "True"
        ],
        [
         "4",
         "False",
         "True",
         "False",
         "False",
         "False",
         "False",
         "False",
         "False",
         "True",
         "False",
         "False",
         "False",
         "True",
         "False",
         "False",
         "False",
         "False",
         "False",
         "False",
         "False",
         "False",
         "False",
         "False",
         "False",
         "False",
         "False",
         "True",
         "False",
         "False",
         "False",
         "False",
         "False",
         "True",
         "False",
         "False",
         "False",
         "True",
         "False",
         "False",
         "False",
         "False",
         "False",
         "False",
         "False",
         "False",
         "False",
         "False",
         "False",
         "False",
         "False",
         "False",
         "True",
         "False",
         "False",
         "False",
         "False",
         "False",
         "False",
         "False",
         "False",
         "False",
         "False",
         "False",
         "True",
         "False",
         "False",
         "True",
         "False",
         "False",
         "False",
         "False",
         "True",
         "False",
         "False",
         "True",
         "False",
         "False",
         "False",
         "False",
         "False",
         "False",
         "False",
         "False",
         "False",
         "True"
        ]
       ],
       "shape": {
        "columns": 85,
        "rows": 5
       }
      },
      "text/html": [
       "<div>\n",
       "<style scoped>\n",
       "    .dataframe tbody tr th:only-of-type {\n",
       "        vertical-align: middle;\n",
       "    }\n",
       "\n",
       "    .dataframe tbody tr th {\n",
       "        vertical-align: top;\n",
       "    }\n",
       "\n",
       "    .dataframe thead th {\n",
       "        text-align: right;\n",
       "    }\n",
       "</style>\n",
       "<table border=\"1\" class=\"dataframe\">\n",
       "  <thead>\n",
       "    <tr style=\"text-align: right;\">\n",
       "      <th></th>\n",
       "      <th>class_e</th>\n",
       "      <th>class_p</th>\n",
       "      <th>cap-shape_b</th>\n",
       "      <th>cap-shape_c</th>\n",
       "      <th>cap-shape_f</th>\n",
       "      <th>cap-shape_o</th>\n",
       "      <th>cap-shape_p</th>\n",
       "      <th>cap-shape_s</th>\n",
       "      <th>cap-shape_x</th>\n",
       "      <th>cap-surface_d</th>\n",
       "      <th>...</th>\n",
       "      <th>habitat_g</th>\n",
       "      <th>habitat_h</th>\n",
       "      <th>habitat_l</th>\n",
       "      <th>habitat_m</th>\n",
       "      <th>habitat_u</th>\n",
       "      <th>habitat_w</th>\n",
       "      <th>season_a</th>\n",
       "      <th>season_s</th>\n",
       "      <th>season_u</th>\n",
       "      <th>season_w</th>\n",
       "    </tr>\n",
       "  </thead>\n",
       "  <tbody>\n",
       "    <tr>\n",
       "      <th>0</th>\n",
       "      <td>False</td>\n",
       "      <td>True</td>\n",
       "      <td>False</td>\n",
       "      <td>False</td>\n",
       "      <td>False</td>\n",
       "      <td>False</td>\n",
       "      <td>False</td>\n",
       "      <td>False</td>\n",
       "      <td>True</td>\n",
       "      <td>False</td>\n",
       "      <td>...</td>\n",
       "      <td>False</td>\n",
       "      <td>False</td>\n",
       "      <td>False</td>\n",
       "      <td>False</td>\n",
       "      <td>False</td>\n",
       "      <td>False</td>\n",
       "      <td>False</td>\n",
       "      <td>False</td>\n",
       "      <td>False</td>\n",
       "      <td>True</td>\n",
       "    </tr>\n",
       "    <tr>\n",
       "      <th>1</th>\n",
       "      <td>False</td>\n",
       "      <td>True</td>\n",
       "      <td>False</td>\n",
       "      <td>False</td>\n",
       "      <td>False</td>\n",
       "      <td>False</td>\n",
       "      <td>False</td>\n",
       "      <td>False</td>\n",
       "      <td>True</td>\n",
       "      <td>False</td>\n",
       "      <td>...</td>\n",
       "      <td>False</td>\n",
       "      <td>False</td>\n",
       "      <td>False</td>\n",
       "      <td>False</td>\n",
       "      <td>False</td>\n",
       "      <td>False</td>\n",
       "      <td>False</td>\n",
       "      <td>False</td>\n",
       "      <td>True</td>\n",
       "      <td>False</td>\n",
       "    </tr>\n",
       "    <tr>\n",
       "      <th>2</th>\n",
       "      <td>False</td>\n",
       "      <td>True</td>\n",
       "      <td>False</td>\n",
       "      <td>False</td>\n",
       "      <td>False</td>\n",
       "      <td>False</td>\n",
       "      <td>False</td>\n",
       "      <td>False</td>\n",
       "      <td>True</td>\n",
       "      <td>False</td>\n",
       "      <td>...</td>\n",
       "      <td>False</td>\n",
       "      <td>False</td>\n",
       "      <td>False</td>\n",
       "      <td>False</td>\n",
       "      <td>False</td>\n",
       "      <td>False</td>\n",
       "      <td>False</td>\n",
       "      <td>False</td>\n",
       "      <td>False</td>\n",
       "      <td>True</td>\n",
       "    </tr>\n",
       "    <tr>\n",
       "      <th>3</th>\n",
       "      <td>False</td>\n",
       "      <td>True</td>\n",
       "      <td>False</td>\n",
       "      <td>False</td>\n",
       "      <td>True</td>\n",
       "      <td>False</td>\n",
       "      <td>False</td>\n",
       "      <td>False</td>\n",
       "      <td>False</td>\n",
       "      <td>False</td>\n",
       "      <td>...</td>\n",
       "      <td>False</td>\n",
       "      <td>False</td>\n",
       "      <td>False</td>\n",
       "      <td>False</td>\n",
       "      <td>False</td>\n",
       "      <td>False</td>\n",
       "      <td>False</td>\n",
       "      <td>False</td>\n",
       "      <td>False</td>\n",
       "      <td>True</td>\n",
       "    </tr>\n",
       "    <tr>\n",
       "      <th>4</th>\n",
       "      <td>False</td>\n",
       "      <td>True</td>\n",
       "      <td>False</td>\n",
       "      <td>False</td>\n",
       "      <td>False</td>\n",
       "      <td>False</td>\n",
       "      <td>False</td>\n",
       "      <td>False</td>\n",
       "      <td>True</td>\n",
       "      <td>False</td>\n",
       "      <td>...</td>\n",
       "      <td>False</td>\n",
       "      <td>False</td>\n",
       "      <td>False</td>\n",
       "      <td>False</td>\n",
       "      <td>False</td>\n",
       "      <td>False</td>\n",
       "      <td>False</td>\n",
       "      <td>False</td>\n",
       "      <td>False</td>\n",
       "      <td>True</td>\n",
       "    </tr>\n",
       "  </tbody>\n",
       "</table>\n",
       "<p>5 rows × 85 columns</p>\n",
       "</div>"
      ],
      "text/plain": [
       "   class_e  class_p  cap-shape_b  cap-shape_c  cap-shape_f  cap-shape_o  \\\n",
       "0    False     True        False        False        False        False   \n",
       "1    False     True        False        False        False        False   \n",
       "2    False     True        False        False        False        False   \n",
       "3    False     True        False        False         True        False   \n",
       "4    False     True        False        False        False        False   \n",
       "\n",
       "   cap-shape_p  cap-shape_s  cap-shape_x  cap-surface_d  ...  habitat_g  \\\n",
       "0        False        False         True          False  ...      False   \n",
       "1        False        False         True          False  ...      False   \n",
       "2        False        False         True          False  ...      False   \n",
       "3        False        False        False          False  ...      False   \n",
       "4        False        False         True          False  ...      False   \n",
       "\n",
       "   habitat_h  habitat_l  habitat_m  habitat_u  habitat_w  season_a  season_s  \\\n",
       "0      False      False      False      False      False     False     False   \n",
       "1      False      False      False      False      False     False     False   \n",
       "2      False      False      False      False      False     False     False   \n",
       "3      False      False      False      False      False     False     False   \n",
       "4      False      False      False      False      False     False     False   \n",
       "\n",
       "   season_u  season_w  \n",
       "0     False      True  \n",
       "1      True     False  \n",
       "2     False      True  \n",
       "3     False      True  \n",
       "4     False      True  \n",
       "\n",
       "[5 rows x 85 columns]"
      ]
     },
     "execution_count": 13,
     "metadata": {},
     "output_type": "execute_result"
    }
   ],
   "source": [
    "mushroom2 = mushroom2.astype({col: 'category' for col in mushroom2.select_dtypes(include='object').columns})\n",
    "cat_cols = mushroom2.select_dtypes(include='category').columns\n",
    "\n",
    "encoded = pd.get_dummies(mushroom2[cat_cols])\n",
    "encoded.head()  "
   ]
  },
  {
   "cell_type": "code",
   "execution_count": 14,
   "metadata": {},
   "outputs": [],
   "source": [
    "mushroom2 = mushroom2.drop(cat_cols, axis=1)\n",
    "mushroom2 = mushroom2.join(encoded)"
   ]
  },
  {
   "cell_type": "code",
   "execution_count": 15,
   "metadata": {},
   "outputs": [
    {
     "name": "stdout",
     "output_type": "stream",
     "text": [
      "<class 'pandas.core.frame.DataFrame'>\n",
      "Index: 24357 entries, 0 to 37064\n",
      "Data columns (total 88 columns):\n",
      " #   Column                  Non-Null Count  Dtype  \n",
      "---  ------                  --------------  -----  \n",
      " 0   cap-diameter            24357 non-null  float64\n",
      " 1   stem-height             24357 non-null  float64\n",
      " 2   stem-width              24357 non-null  float64\n",
      " 3   class_e                 24357 non-null  bool   \n",
      " 4   class_p                 24357 non-null  bool   \n",
      " 5   cap-shape_b             24357 non-null  bool   \n",
      " 6   cap-shape_c             24357 non-null  bool   \n",
      " 7   cap-shape_f             24357 non-null  bool   \n",
      " 8   cap-shape_o             24357 non-null  bool   \n",
      " 9   cap-shape_p             24357 non-null  bool   \n",
      " 10  cap-shape_s             24357 non-null  bool   \n",
      " 11  cap-shape_x             24357 non-null  bool   \n",
      " 12  cap-surface_d           24357 non-null  bool   \n",
      " 13  cap-surface_e           24357 non-null  bool   \n",
      " 14  cap-surface_g           24357 non-null  bool   \n",
      " 15  cap-surface_h           24357 non-null  bool   \n",
      " 16  cap-surface_i           24357 non-null  bool   \n",
      " 17  cap-surface_k           24357 non-null  bool   \n",
      " 18  cap-surface_l           24357 non-null  bool   \n",
      " 19  cap-surface_s           24357 non-null  bool   \n",
      " 20  cap-surface_t           24357 non-null  bool   \n",
      " 21  cap-surface_w           24357 non-null  bool   \n",
      " 22  cap-surface_y           24357 non-null  bool   \n",
      " 23  cap-color_b             24357 non-null  bool   \n",
      " 24  cap-color_e             24357 non-null  bool   \n",
      " 25  cap-color_g             24357 non-null  bool   \n",
      " 26  cap-color_k             24357 non-null  bool   \n",
      " 27  cap-color_l             24357 non-null  bool   \n",
      " 28  cap-color_n             24357 non-null  bool   \n",
      " 29  cap-color_o             24357 non-null  bool   \n",
      " 30  cap-color_p             24357 non-null  bool   \n",
      " 31  cap-color_r             24357 non-null  bool   \n",
      " 32  cap-color_u             24357 non-null  bool   \n",
      " 33  cap-color_w             24357 non-null  bool   \n",
      " 34  cap-color_y             24357 non-null  bool   \n",
      " 35  does-bruise-or-bleed_f  24357 non-null  bool   \n",
      " 36  does-bruise-or-bleed_t  24357 non-null  bool   \n",
      " 37  gill-attachment_a       24357 non-null  bool   \n",
      " 38  gill-attachment_d       24357 non-null  bool   \n",
      " 39  gill-attachment_e       24357 non-null  bool   \n",
      " 40  gill-attachment_f       24357 non-null  bool   \n",
      " 41  gill-attachment_p       24357 non-null  bool   \n",
      " 42  gill-attachment_s       24357 non-null  bool   \n",
      " 43  gill-attachment_x       24357 non-null  bool   \n",
      " 44  gill-color_b            24357 non-null  bool   \n",
      " 45  gill-color_e            24357 non-null  bool   \n",
      " 46  gill-color_f            24357 non-null  bool   \n",
      " 47  gill-color_g            24357 non-null  bool   \n",
      " 48  gill-color_k            24357 non-null  bool   \n",
      " 49  gill-color_n            24357 non-null  bool   \n",
      " 50  gill-color_o            24357 non-null  bool   \n",
      " 51  gill-color_p            24357 non-null  bool   \n",
      " 52  gill-color_r            24357 non-null  bool   \n",
      " 53  gill-color_u            24357 non-null  bool   \n",
      " 54  gill-color_w            24357 non-null  bool   \n",
      " 55  gill-color_y            24357 non-null  bool   \n",
      " 56  stem-color_e            24357 non-null  bool   \n",
      " 57  stem-color_f            24357 non-null  bool   \n",
      " 58  stem-color_g            24357 non-null  bool   \n",
      " 59  stem-color_k            24357 non-null  bool   \n",
      " 60  stem-color_l            24357 non-null  bool   \n",
      " 61  stem-color_n            24357 non-null  bool   \n",
      " 62  stem-color_o            24357 non-null  bool   \n",
      " 63  stem-color_p            24357 non-null  bool   \n",
      " 64  stem-color_r            24357 non-null  bool   \n",
      " 65  stem-color_u            24357 non-null  bool   \n",
      " 66  stem-color_w            24357 non-null  bool   \n",
      " 67  stem-color_y            24357 non-null  bool   \n",
      " 68  has-ring_f              24357 non-null  bool   \n",
      " 69  has-ring_t              24357 non-null  bool   \n",
      " 70  ring-type_e             24357 non-null  bool   \n",
      " 71  ring-type_f             24357 non-null  bool   \n",
      " 72  ring-type_g             24357 non-null  bool   \n",
      " 73  ring-type_l             24357 non-null  bool   \n",
      " 74  ring-type_p             24357 non-null  bool   \n",
      " 75  ring-type_r             24357 non-null  bool   \n",
      " 76  ring-type_z             24357 non-null  bool   \n",
      " 77  habitat_d               24357 non-null  bool   \n",
      " 78  habitat_g               24357 non-null  bool   \n",
      " 79  habitat_h               24357 non-null  bool   \n",
      " 80  habitat_l               24357 non-null  bool   \n",
      " 81  habitat_m               24357 non-null  bool   \n",
      " 82  habitat_u               24357 non-null  bool   \n",
      " 83  habitat_w               24357 non-null  bool   \n",
      " 84  season_a                24357 non-null  bool   \n",
      " 85  season_s                24357 non-null  bool   \n",
      " 86  season_u                24357 non-null  bool   \n",
      " 87  season_w                24357 non-null  bool   \n",
      "dtypes: bool(85), float64(3)\n",
      "memory usage: 2.7 MB\n",
      "None\n"
     ]
    }
   ],
   "source": [
    "mushroom2.dropna(axis = 0, how = 'any', inplace = True)\n",
    "print(mushroom2.info())"
   ]
  },
  {
   "cell_type": "markdown",
   "metadata": {},
   "source": [
    "### Prevalence of Winter Season"
   ]
  },
  {
   "cell_type": "code",
   "execution_count": 45,
   "metadata": {},
   "outputs": [
    {
     "name": "stdout",
     "output_type": "stream",
     "text": [
      "0.09820585457979225\n"
     ]
    },
    {
     "name": "stderr",
     "output_type": "stream",
     "text": [
      "/tmp/ipykernel_3213/1921006264.py:1: FutureWarning: Series.__getitem__ treating keys as positions is deprecated. In a future version, integer keys will always be treated as labels (consistent with DataFrame behavior). To access a value by position, use `ser.iloc[pos]`\n",
      "  print(mushroom2['season_w'].value_counts()[1] / mushroom2['season_w'].count())\n"
     ]
    }
   ],
   "source": [
    "print(mushroom2['season_w'].value_counts()[1] / mushroom2['season_w'].count())"
   ]
  },
  {
   "cell_type": "markdown",
   "metadata": {},
   "source": [
    "### Train/Test Split"
   ]
  },
  {
   "cell_type": "code",
   "execution_count": 46,
   "metadata": {},
   "outputs": [],
   "source": [
    "from sklearn.model_selection import train_test_split\n",
    "\n",
    "train, test = train_test_split(mushroom2, test_size=0.4, stratify=mushroom2['season_w'], random_state=99)"
   ]
  },
  {
   "cell_type": "markdown",
   "metadata": {},
   "source": [
    "### Training Classifier"
   ]
  },
  {
   "cell_type": "code",
   "execution_count": 47,
   "metadata": {},
   "outputs": [
    {
     "data": {
      "text/html": [
       "<style>#sk-container-id-8 {\n",
       "  /* Definition of color scheme common for light and dark mode */\n",
       "  --sklearn-color-text: #000;\n",
       "  --sklearn-color-text-muted: #666;\n",
       "  --sklearn-color-line: gray;\n",
       "  /* Definition of color scheme for unfitted estimators */\n",
       "  --sklearn-color-unfitted-level-0: #fff5e6;\n",
       "  --sklearn-color-unfitted-level-1: #f6e4d2;\n",
       "  --sklearn-color-unfitted-level-2: #ffe0b3;\n",
       "  --sklearn-color-unfitted-level-3: chocolate;\n",
       "  /* Definition of color scheme for fitted estimators */\n",
       "  --sklearn-color-fitted-level-0: #f0f8ff;\n",
       "  --sklearn-color-fitted-level-1: #d4ebff;\n",
       "  --sklearn-color-fitted-level-2: #b3dbfd;\n",
       "  --sklearn-color-fitted-level-3: cornflowerblue;\n",
       "\n",
       "  /* Specific color for light theme */\n",
       "  --sklearn-color-text-on-default-background: var(--sg-text-color, var(--theme-code-foreground, var(--jp-content-font-color1, black)));\n",
       "  --sklearn-color-background: var(--sg-background-color, var(--theme-background, var(--jp-layout-color0, white)));\n",
       "  --sklearn-color-border-box: var(--sg-text-color, var(--theme-code-foreground, var(--jp-content-font-color1, black)));\n",
       "  --sklearn-color-icon: #696969;\n",
       "\n",
       "  @media (prefers-color-scheme: dark) {\n",
       "    /* Redefinition of color scheme for dark theme */\n",
       "    --sklearn-color-text-on-default-background: var(--sg-text-color, var(--theme-code-foreground, var(--jp-content-font-color1, white)));\n",
       "    --sklearn-color-background: var(--sg-background-color, var(--theme-background, var(--jp-layout-color0, #111)));\n",
       "    --sklearn-color-border-box: var(--sg-text-color, var(--theme-code-foreground, var(--jp-content-font-color1, white)));\n",
       "    --sklearn-color-icon: #878787;\n",
       "  }\n",
       "}\n",
       "\n",
       "#sk-container-id-8 {\n",
       "  color: var(--sklearn-color-text);\n",
       "}\n",
       "\n",
       "#sk-container-id-8 pre {\n",
       "  padding: 0;\n",
       "}\n",
       "\n",
       "#sk-container-id-8 input.sk-hidden--visually {\n",
       "  border: 0;\n",
       "  clip: rect(1px 1px 1px 1px);\n",
       "  clip: rect(1px, 1px, 1px, 1px);\n",
       "  height: 1px;\n",
       "  margin: -1px;\n",
       "  overflow: hidden;\n",
       "  padding: 0;\n",
       "  position: absolute;\n",
       "  width: 1px;\n",
       "}\n",
       "\n",
       "#sk-container-id-8 div.sk-dashed-wrapped {\n",
       "  border: 1px dashed var(--sklearn-color-line);\n",
       "  margin: 0 0.4em 0.5em 0.4em;\n",
       "  box-sizing: border-box;\n",
       "  padding-bottom: 0.4em;\n",
       "  background-color: var(--sklearn-color-background);\n",
       "}\n",
       "\n",
       "#sk-container-id-8 div.sk-container {\n",
       "  /* jupyter's `normalize.less` sets `[hidden] { display: none; }`\n",
       "     but bootstrap.min.css set `[hidden] { display: none !important; }`\n",
       "     so we also need the `!important` here to be able to override the\n",
       "     default hidden behavior on the sphinx rendered scikit-learn.org.\n",
       "     See: https://github.com/scikit-learn/scikit-learn/issues/21755 */\n",
       "  display: inline-block !important;\n",
       "  position: relative;\n",
       "}\n",
       "\n",
       "#sk-container-id-8 div.sk-text-repr-fallback {\n",
       "  display: none;\n",
       "}\n",
       "\n",
       "div.sk-parallel-item,\n",
       "div.sk-serial,\n",
       "div.sk-item {\n",
       "  /* draw centered vertical line to link estimators */\n",
       "  background-image: linear-gradient(var(--sklearn-color-text-on-default-background), var(--sklearn-color-text-on-default-background));\n",
       "  background-size: 2px 100%;\n",
       "  background-repeat: no-repeat;\n",
       "  background-position: center center;\n",
       "}\n",
       "\n",
       "/* Parallel-specific style estimator block */\n",
       "\n",
       "#sk-container-id-8 div.sk-parallel-item::after {\n",
       "  content: \"\";\n",
       "  width: 100%;\n",
       "  border-bottom: 2px solid var(--sklearn-color-text-on-default-background);\n",
       "  flex-grow: 1;\n",
       "}\n",
       "\n",
       "#sk-container-id-8 div.sk-parallel {\n",
       "  display: flex;\n",
       "  align-items: stretch;\n",
       "  justify-content: center;\n",
       "  background-color: var(--sklearn-color-background);\n",
       "  position: relative;\n",
       "}\n",
       "\n",
       "#sk-container-id-8 div.sk-parallel-item {\n",
       "  display: flex;\n",
       "  flex-direction: column;\n",
       "}\n",
       "\n",
       "#sk-container-id-8 div.sk-parallel-item:first-child::after {\n",
       "  align-self: flex-end;\n",
       "  width: 50%;\n",
       "}\n",
       "\n",
       "#sk-container-id-8 div.sk-parallel-item:last-child::after {\n",
       "  align-self: flex-start;\n",
       "  width: 50%;\n",
       "}\n",
       "\n",
       "#sk-container-id-8 div.sk-parallel-item:only-child::after {\n",
       "  width: 0;\n",
       "}\n",
       "\n",
       "/* Serial-specific style estimator block */\n",
       "\n",
       "#sk-container-id-8 div.sk-serial {\n",
       "  display: flex;\n",
       "  flex-direction: column;\n",
       "  align-items: center;\n",
       "  background-color: var(--sklearn-color-background);\n",
       "  padding-right: 1em;\n",
       "  padding-left: 1em;\n",
       "}\n",
       "\n",
       "\n",
       "/* Toggleable style: style used for estimator/Pipeline/ColumnTransformer box that is\n",
       "clickable and can be expanded/collapsed.\n",
       "- Pipeline and ColumnTransformer use this feature and define the default style\n",
       "- Estimators will overwrite some part of the style using the `sk-estimator` class\n",
       "*/\n",
       "\n",
       "/* Pipeline and ColumnTransformer style (default) */\n",
       "\n",
       "#sk-container-id-8 div.sk-toggleable {\n",
       "  /* Default theme specific background. It is overwritten whether we have a\n",
       "  specific estimator or a Pipeline/ColumnTransformer */\n",
       "  background-color: var(--sklearn-color-background);\n",
       "}\n",
       "\n",
       "/* Toggleable label */\n",
       "#sk-container-id-8 label.sk-toggleable__label {\n",
       "  cursor: pointer;\n",
       "  display: flex;\n",
       "  width: 100%;\n",
       "  margin-bottom: 0;\n",
       "  padding: 0.5em;\n",
       "  box-sizing: border-box;\n",
       "  text-align: center;\n",
       "  align-items: start;\n",
       "  justify-content: space-between;\n",
       "  gap: 0.5em;\n",
       "}\n",
       "\n",
       "#sk-container-id-8 label.sk-toggleable__label .caption {\n",
       "  font-size: 0.6rem;\n",
       "  font-weight: lighter;\n",
       "  color: var(--sklearn-color-text-muted);\n",
       "}\n",
       "\n",
       "#sk-container-id-8 label.sk-toggleable__label-arrow:before {\n",
       "  /* Arrow on the left of the label */\n",
       "  content: \"▸\";\n",
       "  float: left;\n",
       "  margin-right: 0.25em;\n",
       "  color: var(--sklearn-color-icon);\n",
       "}\n",
       "\n",
       "#sk-container-id-8 label.sk-toggleable__label-arrow:hover:before {\n",
       "  color: var(--sklearn-color-text);\n",
       "}\n",
       "\n",
       "/* Toggleable content - dropdown */\n",
       "\n",
       "#sk-container-id-8 div.sk-toggleable__content {\n",
       "  max-height: 0;\n",
       "  max-width: 0;\n",
       "  overflow: hidden;\n",
       "  text-align: left;\n",
       "  /* unfitted */\n",
       "  background-color: var(--sklearn-color-unfitted-level-0);\n",
       "}\n",
       "\n",
       "#sk-container-id-8 div.sk-toggleable__content.fitted {\n",
       "  /* fitted */\n",
       "  background-color: var(--sklearn-color-fitted-level-0);\n",
       "}\n",
       "\n",
       "#sk-container-id-8 div.sk-toggleable__content pre {\n",
       "  margin: 0.2em;\n",
       "  border-radius: 0.25em;\n",
       "  color: var(--sklearn-color-text);\n",
       "  /* unfitted */\n",
       "  background-color: var(--sklearn-color-unfitted-level-0);\n",
       "}\n",
       "\n",
       "#sk-container-id-8 div.sk-toggleable__content.fitted pre {\n",
       "  /* unfitted */\n",
       "  background-color: var(--sklearn-color-fitted-level-0);\n",
       "}\n",
       "\n",
       "#sk-container-id-8 input.sk-toggleable__control:checked~div.sk-toggleable__content {\n",
       "  /* Expand drop-down */\n",
       "  max-height: 200px;\n",
       "  max-width: 100%;\n",
       "  overflow: auto;\n",
       "}\n",
       "\n",
       "#sk-container-id-8 input.sk-toggleable__control:checked~label.sk-toggleable__label-arrow:before {\n",
       "  content: \"▾\";\n",
       "}\n",
       "\n",
       "/* Pipeline/ColumnTransformer-specific style */\n",
       "\n",
       "#sk-container-id-8 div.sk-label input.sk-toggleable__control:checked~label.sk-toggleable__label {\n",
       "  color: var(--sklearn-color-text);\n",
       "  background-color: var(--sklearn-color-unfitted-level-2);\n",
       "}\n",
       "\n",
       "#sk-container-id-8 div.sk-label.fitted input.sk-toggleable__control:checked~label.sk-toggleable__label {\n",
       "  background-color: var(--sklearn-color-fitted-level-2);\n",
       "}\n",
       "\n",
       "/* Estimator-specific style */\n",
       "\n",
       "/* Colorize estimator box */\n",
       "#sk-container-id-8 div.sk-estimator input.sk-toggleable__control:checked~label.sk-toggleable__label {\n",
       "  /* unfitted */\n",
       "  background-color: var(--sklearn-color-unfitted-level-2);\n",
       "}\n",
       "\n",
       "#sk-container-id-8 div.sk-estimator.fitted input.sk-toggleable__control:checked~label.sk-toggleable__label {\n",
       "  /* fitted */\n",
       "  background-color: var(--sklearn-color-fitted-level-2);\n",
       "}\n",
       "\n",
       "#sk-container-id-8 div.sk-label label.sk-toggleable__label,\n",
       "#sk-container-id-8 div.sk-label label {\n",
       "  /* The background is the default theme color */\n",
       "  color: var(--sklearn-color-text-on-default-background);\n",
       "}\n",
       "\n",
       "/* On hover, darken the color of the background */\n",
       "#sk-container-id-8 div.sk-label:hover label.sk-toggleable__label {\n",
       "  color: var(--sklearn-color-text);\n",
       "  background-color: var(--sklearn-color-unfitted-level-2);\n",
       "}\n",
       "\n",
       "/* Label box, darken color on hover, fitted */\n",
       "#sk-container-id-8 div.sk-label.fitted:hover label.sk-toggleable__label.fitted {\n",
       "  color: var(--sklearn-color-text);\n",
       "  background-color: var(--sklearn-color-fitted-level-2);\n",
       "}\n",
       "\n",
       "/* Estimator label */\n",
       "\n",
       "#sk-container-id-8 div.sk-label label {\n",
       "  font-family: monospace;\n",
       "  font-weight: bold;\n",
       "  display: inline-block;\n",
       "  line-height: 1.2em;\n",
       "}\n",
       "\n",
       "#sk-container-id-8 div.sk-label-container {\n",
       "  text-align: center;\n",
       "}\n",
       "\n",
       "/* Estimator-specific */\n",
       "#sk-container-id-8 div.sk-estimator {\n",
       "  font-family: monospace;\n",
       "  border: 1px dotted var(--sklearn-color-border-box);\n",
       "  border-radius: 0.25em;\n",
       "  box-sizing: border-box;\n",
       "  margin-bottom: 0.5em;\n",
       "  /* unfitted */\n",
       "  background-color: var(--sklearn-color-unfitted-level-0);\n",
       "}\n",
       "\n",
       "#sk-container-id-8 div.sk-estimator.fitted {\n",
       "  /* fitted */\n",
       "  background-color: var(--sklearn-color-fitted-level-0);\n",
       "}\n",
       "\n",
       "/* on hover */\n",
       "#sk-container-id-8 div.sk-estimator:hover {\n",
       "  /* unfitted */\n",
       "  background-color: var(--sklearn-color-unfitted-level-2);\n",
       "}\n",
       "\n",
       "#sk-container-id-8 div.sk-estimator.fitted:hover {\n",
       "  /* fitted */\n",
       "  background-color: var(--sklearn-color-fitted-level-2);\n",
       "}\n",
       "\n",
       "/* Specification for estimator info (e.g. \"i\" and \"?\") */\n",
       "\n",
       "/* Common style for \"i\" and \"?\" */\n",
       "\n",
       ".sk-estimator-doc-link,\n",
       "a:link.sk-estimator-doc-link,\n",
       "a:visited.sk-estimator-doc-link {\n",
       "  float: right;\n",
       "  font-size: smaller;\n",
       "  line-height: 1em;\n",
       "  font-family: monospace;\n",
       "  background-color: var(--sklearn-color-background);\n",
       "  border-radius: 1em;\n",
       "  height: 1em;\n",
       "  width: 1em;\n",
       "  text-decoration: none !important;\n",
       "  margin-left: 0.5em;\n",
       "  text-align: center;\n",
       "  /* unfitted */\n",
       "  border: var(--sklearn-color-unfitted-level-1) 1pt solid;\n",
       "  color: var(--sklearn-color-unfitted-level-1);\n",
       "}\n",
       "\n",
       ".sk-estimator-doc-link.fitted,\n",
       "a:link.sk-estimator-doc-link.fitted,\n",
       "a:visited.sk-estimator-doc-link.fitted {\n",
       "  /* fitted */\n",
       "  border: var(--sklearn-color-fitted-level-1) 1pt solid;\n",
       "  color: var(--sklearn-color-fitted-level-1);\n",
       "}\n",
       "\n",
       "/* On hover */\n",
       "div.sk-estimator:hover .sk-estimator-doc-link:hover,\n",
       ".sk-estimator-doc-link:hover,\n",
       "div.sk-label-container:hover .sk-estimator-doc-link:hover,\n",
       ".sk-estimator-doc-link:hover {\n",
       "  /* unfitted */\n",
       "  background-color: var(--sklearn-color-unfitted-level-3);\n",
       "  color: var(--sklearn-color-background);\n",
       "  text-decoration: none;\n",
       "}\n",
       "\n",
       "div.sk-estimator.fitted:hover .sk-estimator-doc-link.fitted:hover,\n",
       ".sk-estimator-doc-link.fitted:hover,\n",
       "div.sk-label-container:hover .sk-estimator-doc-link.fitted:hover,\n",
       ".sk-estimator-doc-link.fitted:hover {\n",
       "  /* fitted */\n",
       "  background-color: var(--sklearn-color-fitted-level-3);\n",
       "  color: var(--sklearn-color-background);\n",
       "  text-decoration: none;\n",
       "}\n",
       "\n",
       "/* Span, style for the box shown on hovering the info icon */\n",
       ".sk-estimator-doc-link span {\n",
       "  display: none;\n",
       "  z-index: 9999;\n",
       "  position: relative;\n",
       "  font-weight: normal;\n",
       "  right: .2ex;\n",
       "  padding: .5ex;\n",
       "  margin: .5ex;\n",
       "  width: min-content;\n",
       "  min-width: 20ex;\n",
       "  max-width: 50ex;\n",
       "  color: var(--sklearn-color-text);\n",
       "  box-shadow: 2pt 2pt 4pt #999;\n",
       "  /* unfitted */\n",
       "  background: var(--sklearn-color-unfitted-level-0);\n",
       "  border: .5pt solid var(--sklearn-color-unfitted-level-3);\n",
       "}\n",
       "\n",
       ".sk-estimator-doc-link.fitted span {\n",
       "  /* fitted */\n",
       "  background: var(--sklearn-color-fitted-level-0);\n",
       "  border: var(--sklearn-color-fitted-level-3);\n",
       "}\n",
       "\n",
       ".sk-estimator-doc-link:hover span {\n",
       "  display: block;\n",
       "}\n",
       "\n",
       "/* \"?\"-specific style due to the `<a>` HTML tag */\n",
       "\n",
       "#sk-container-id-8 a.estimator_doc_link {\n",
       "  float: right;\n",
       "  font-size: 1rem;\n",
       "  line-height: 1em;\n",
       "  font-family: monospace;\n",
       "  background-color: var(--sklearn-color-background);\n",
       "  border-radius: 1rem;\n",
       "  height: 1rem;\n",
       "  width: 1rem;\n",
       "  text-decoration: none;\n",
       "  /* unfitted */\n",
       "  color: var(--sklearn-color-unfitted-level-1);\n",
       "  border: var(--sklearn-color-unfitted-level-1) 1pt solid;\n",
       "}\n",
       "\n",
       "#sk-container-id-8 a.estimator_doc_link.fitted {\n",
       "  /* fitted */\n",
       "  border: var(--sklearn-color-fitted-level-1) 1pt solid;\n",
       "  color: var(--sklearn-color-fitted-level-1);\n",
       "}\n",
       "\n",
       "/* On hover */\n",
       "#sk-container-id-8 a.estimator_doc_link:hover {\n",
       "  /* unfitted */\n",
       "  background-color: var(--sklearn-color-unfitted-level-3);\n",
       "  color: var(--sklearn-color-background);\n",
       "  text-decoration: none;\n",
       "}\n",
       "\n",
       "#sk-container-id-8 a.estimator_doc_link.fitted:hover {\n",
       "  /* fitted */\n",
       "  background-color: var(--sklearn-color-fitted-level-3);\n",
       "}\n",
       "</style><div id=\"sk-container-id-8\" class=\"sk-top-container\"><div class=\"sk-text-repr-fallback\"><pre>KNeighborsClassifier(n_neighbors=17)</pre><b>In a Jupyter environment, please rerun this cell to show the HTML representation or trust the notebook. <br />On GitHub, the HTML representation is unable to render, please try loading this page with nbviewer.org.</b></div><div class=\"sk-container\" hidden><div class=\"sk-item\"><div class=\"sk-estimator fitted sk-toggleable\"><input class=\"sk-toggleable__control sk-hidden--visually\" id=\"sk-estimator-id-8\" type=\"checkbox\" checked><label for=\"sk-estimator-id-8\" class=\"sk-toggleable__label fitted sk-toggleable__label-arrow\"><div><div>KNeighborsClassifier</div></div><div><a class=\"sk-estimator-doc-link fitted\" rel=\"noreferrer\" target=\"_blank\" href=\"https://scikit-learn.org/1.6/modules/generated/sklearn.neighbors.KNeighborsClassifier.html\">?<span>Documentation for KNeighborsClassifier</span></a><span class=\"sk-estimator-doc-link fitted\">i<span>Fitted</span></span></div></label><div class=\"sk-toggleable__content fitted\"><pre>KNeighborsClassifier(n_neighbors=17)</pre></div> </div></div></div></div>"
      ],
      "text/plain": [
       "KNeighborsClassifier(n_neighbors=17)"
      ]
     },
     "execution_count": 47,
     "metadata": {},
     "output_type": "execute_result"
    }
   ],
   "source": [
    "import random\n",
    "from sklearn.neighbors import KNeighborsClassifier\n",
    "random.seed(99)  \n",
    "\n",
    "X_train = train.drop(['season_w'], axis=1).values\n",
    "y_train = train['season_w'].values\n",
    "\n",
    "neigh = KNeighborsClassifier(n_neighbors=17)\n",
    "neigh.fit(X_train, y_train)"
   ]
  },
  {
   "cell_type": "markdown",
   "metadata": {},
   "source": [
    "### Accuracy Score"
   ]
  },
  {
   "cell_type": "code",
   "execution_count": 48,
   "metadata": {},
   "outputs": [
    {
     "name": "stdout",
     "output_type": "stream",
     "text": [
      "0.9624345684080878\n"
     ]
    }
   ],
   "source": [
    "X_test = test.drop(['season_w'], axis=1).values\n",
    "y_test = test['season_w'].values\n",
    "\n",
    "print(neigh.score(X_test, y_test))"
   ]
  },
  {
   "cell_type": "markdown",
   "metadata": {},
   "source": [
    "### Confusion Matrix"
   ]
  },
  {
   "cell_type": "code",
   "execution_count": 49,
   "metadata": {},
   "outputs": [
    {
     "data": {
      "application/vnd.microsoft.datawrangler.viewer.v0+json": {
       "columns": [
        {
         "name": "index",
         "rawType": "int64",
         "type": "integer"
        },
        {
         "name": "actual_class",
         "rawType": "bool",
         "type": "boolean"
        },
        {
         "name": "pred_class",
         "rawType": "bool",
         "type": "boolean"
        },
        {
         "name": "pred_prob",
         "rawType": "float64",
         "type": "float"
        }
       ],
       "conversionMethod": "pd.DataFrame",
       "ref": "b8596ff4-1d50-4d7a-87cb-1f5157c4b74f",
       "rows": [
        [
         "0",
         "False",
         "False",
         "0.0"
        ],
        [
         "1",
         "False",
         "False",
         "0.0"
        ],
        [
         "2",
         "False",
         "False",
         "0.0"
        ],
        [
         "3",
         "False",
         "False",
         "0.0"
        ],
        [
         "4",
         "False",
         "False",
         "0.0"
        ]
       ],
       "shape": {
        "columns": 3,
        "rows": 5
       }
      },
      "text/html": [
       "<div>\n",
       "<style scoped>\n",
       "    .dataframe tbody tr th:only-of-type {\n",
       "        vertical-align: middle;\n",
       "    }\n",
       "\n",
       "    .dataframe tbody tr th {\n",
       "        vertical-align: top;\n",
       "    }\n",
       "\n",
       "    .dataframe thead th {\n",
       "        text-align: right;\n",
       "    }\n",
       "</style>\n",
       "<table border=\"1\" class=\"dataframe\">\n",
       "  <thead>\n",
       "    <tr style=\"text-align: right;\">\n",
       "      <th></th>\n",
       "      <th>actual_class</th>\n",
       "      <th>pred_class</th>\n",
       "      <th>pred_prob</th>\n",
       "    </tr>\n",
       "  </thead>\n",
       "  <tbody>\n",
       "    <tr>\n",
       "      <th>0</th>\n",
       "      <td>False</td>\n",
       "      <td>False</td>\n",
       "      <td>0.0</td>\n",
       "    </tr>\n",
       "    <tr>\n",
       "      <th>1</th>\n",
       "      <td>False</td>\n",
       "      <td>False</td>\n",
       "      <td>0.0</td>\n",
       "    </tr>\n",
       "    <tr>\n",
       "      <th>2</th>\n",
       "      <td>False</td>\n",
       "      <td>False</td>\n",
       "      <td>0.0</td>\n",
       "    </tr>\n",
       "    <tr>\n",
       "      <th>3</th>\n",
       "      <td>False</td>\n",
       "      <td>False</td>\n",
       "      <td>0.0</td>\n",
       "    </tr>\n",
       "    <tr>\n",
       "      <th>4</th>\n",
       "      <td>False</td>\n",
       "      <td>False</td>\n",
       "      <td>0.0</td>\n",
       "    </tr>\n",
       "  </tbody>\n",
       "</table>\n",
       "</div>"
      ],
      "text/plain": [
       "   actual_class  pred_class  pred_prob\n",
       "0         False       False        0.0\n",
       "1         False       False        0.0\n",
       "2         False       False        0.0\n",
       "3         False       False        0.0\n",
       "4         False       False        0.0"
      ]
     },
     "execution_count": 49,
     "metadata": {},
     "output_type": "execute_result"
    }
   ],
   "source": [
    "from sklearn.metrics import accuracy_score\n",
    "\n",
    "test_probs = neigh.predict_proba(X_test)\n",
    "test_preds = neigh.predict(X_test)\n",
    "test_probabilities = pd.DataFrame(test_probs, columns = ['has-ring_f','has-ring_t'])\n",
    "final_model = pd.DataFrame({'actual_class': y_test.tolist(),\n",
    "                           'pred_class': test_preds.tolist(),\n",
    "                           'pred_prob': test_probabilities['has-ring_t']})\n",
    "final_model.head()"
   ]
  },
  {
   "cell_type": "code",
   "execution_count": 55,
   "metadata": {},
   "outputs": [
    {
     "data": {
      "text/plain": [
       "<sklearn.metrics._plot.confusion_matrix.ConfusionMatrixDisplay at 0x7fcb0ea181a0>"
      ]
     },
     "execution_count": 55,
     "metadata": {},
     "output_type": "execute_result"
    },
    {
     "data": {
      "image/png": "[encoded data removed]",
      "text/plain": [
       "<Figure size 640x480 with 2 Axes>"
      ]
     },
     "metadata": {},
     "output_type": "display_data"
    }
   ],
   "source": [
    "from sklearn.metrics import confusion_matrix, ConfusionMatrixDisplay, log_loss\n",
    "\n",
    "final_model.actual_class = final_model.actual_class.astype('category')\n",
    "final_model.pred_class = final_model.pred_class.astype('category')\n",
    "\n",
    "cm = confusion_matrix(final_model.actual_class, final_model.pred_class) \n",
    "disp=ConfusionMatrixDisplay(confusion_matrix=cm, display_labels=neigh.classes_)  \n",
    "disp.plot()"
   ]
  },
  {
   "cell_type": "markdown",
   "metadata": {},
   "source": [
    "### TPR"
   ]
  },
  {
   "cell_type": "code",
   "execution_count": 53,
   "metadata": {},
   "outputs": [
    {
     "name": "stdout",
     "output_type": "stream",
     "text": [
      "0.7732497387669801\n"
     ]
    }
   ],
   "source": [
    "tpr = 740 / (740 + 217)\n",
    "print(tpr)"
   ]
  },
  {
   "cell_type": "markdown",
   "metadata": {},
   "source": [
    "### FDR"
   ]
  },
  {
   "cell_type": "code",
   "execution_count": 54,
   "metadata": {},
   "outputs": [
    {
     "name": "stdout",
     "output_type": "stream",
     "text": [
      "0.01695879808786706\n"
     ]
    }
   ],
   "source": [
    "fdr = 149 / (149 + 8637)\n",
    "print(fdr)"
   ]
  },
  {
   "cell_type": "markdown",
   "metadata": {},
   "source": [
    "### Cross Entropy "
   ]
  },
  {
   "cell_type": "code",
   "execution_count": 59,
   "metadata": {},
   "outputs": [
    {
     "name": "stdout",
     "output_type": "stream",
     "text": [
      "0.08379838261794634\n"
     ]
    }
   ],
   "source": [
    "from sklearn import metrics\n",
    "\n",
    "mush_prob1 = neigh.predict_proba(X_test) \n",
    "mush_pred1 = neigh.predict(X_test)\n",
    "final_model= pd.DataFrame({'neg_prob':mush_prob1[:, 0], 'pred':mush_pred1,'target':y_test, 'pos_prob':mush_prob1[:, 1]})\n",
    "print(metrics.log_loss(final_model.target, final_model.pos_prob))"
   ]
  },
  {
   "cell_type": "markdown",
   "metadata": {},
   "source": [
    "### ROC/AUC"
   ]
  },
  {
   "cell_type": "code",
   "execution_count": 60,
   "metadata": {},
   "outputs": [
    {
     "name": "stdout",
     "output_type": "stream",
     "text": [
      "0.9884835664033762\n"
     ]
    }
   ],
   "source": [
    "print(metrics.roc_auc_score(final_model.target, final_model.pos_prob))"
   ]
  },
  {
   "cell_type": "code",
   "execution_count": 63,
   "metadata": {},
   "outputs": [
    {
     "name": "stdout",
     "output_type": "stream",
     "text": [
      "<sklearn.metrics._plot.roc_curve.RocCurveDisplay object at 0x7fcb0c76c440>\n"
     ]
    },
    {
     "data": {
      "text/plain": [
       "Text(0.5, 0, 'False Positive Rate')"
      ]
     },
     "execution_count": 63,
     "metadata": {},
     "output_type": "execute_result"
    },
    {
     "data": {
      "image/png": "[encoded data removed]",
      "text/plain": [
       "<Figure size 640x480 with 1 Axes>"
      ]
     },
     "metadata": {},
     "output_type": "display_data"
    }
   ],
   "source": [
    "import matplotlib.pyplot as plt\n",
    "print(metrics.RocCurveDisplay.from_predictions(final_model.target, final_model.pos_prob))\n",
    "#Set labels and midline...\n",
    "plt.plot([0, 1], [0, 1],'r--')\n",
    "plt.ylabel('True Positive Rate')\n",
    "plt.xlabel('False Positive Rate')"
   ]
  },
  {
   "cell_type": "markdown",
   "metadata": {},
   "source": [
    "All of these metrics show that the model is fairly accurate. From the accuracy score, a score of 0.96 is close to 1.0. The TPR is 0.77 and FDR is 0.017, meaning the model identifies most of the actual positives and cery few of the predicted positives are false. A cross entropy of 0.083 is fairly low, so the model's predicted possibilities are very close to the actual labels. Finally, a AUC of 0.98 means most of the area under the curve is covered, which again supports the model's accuracy. "
   ]
  },
  {
   "cell_type": "markdown",
   "metadata": {},
   "source": [
    "## Part 4"
   ]
  },
  {
   "cell_type": "markdown",
   "metadata": {},
   "source": []
  }
 ],
 "metadata": {
  "kernelspec": {
   "display_name": "Python 3",
   "language": "python",
   "name": "python3"
  },
  "language_info": {
   "codemirror_mode": {
    "name": "ipython",
    "version": 3
   },
   "file_extension": ".py",
   "mimetype": "text/x-python",
   "name": "python",
   "nbconvert_exporter": "python",
   "pygments_lexer": "ipython3",
   "version": "3.12.7"
  }
 },
 "nbformat": 4,
 "nbformat_minor": 2
}
